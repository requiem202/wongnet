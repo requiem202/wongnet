{
 "cells": [
  {
   "cell_type": "code",
   "execution_count": null,
   "metadata": {},
   "outputs": [],
   "source": [
    "!pip install tqdm"
   ]
  },
  {
   "cell_type": "markdown",
   "metadata": {},
   "source": [
    "## Download Datasets"
   ]
  },
  {
   "cell_type": "code",
   "execution_count": 1,
   "metadata": {},
   "outputs": [
    {
     "name": "stdout",
     "output_type": "stream",
     "text": [
      "  % Total    % Received % Xferd  Average Speed   Time    Time     Time  Current\n",
      "                                 Dload  Upload   Total   Spent    Left  Speed\n",
      "100 50.8M  100 50.8M    0     0   9.7M      0  0:00:05  0:00:05 --:--:-- 11.4M\n",
      "  % Total    % Received % Xferd  Average Speed   Time    Time     Time  Current\n",
      "                                 Dload  Upload   Total   Spent    Left  Speed\n",
      "100  380M  100  380M    0     0  6553k      0  0:00:59  0:00:59 --:--:-- 6792k0  6878k      0  0:00:56  0:00:26  0:00:30 6540k:48  0:00:35  0:00:13 13.0M\n"
     ]
    }
   ],
   "source": [
    "!curl https://storage.googleapis.com/recipe-box/recipes_raw.zip --output recipe_box_recipes_raw.zip\n",
    "!curl http://data.csail.mit.edu/im2recipe/recipe1M_layers.tar.gz --output recipe1M_layers.tar.gz"
   ]
  },
  {
   "cell_type": "code",
   "execution_count": 15,
   "metadata": {},
   "outputs": [],
   "source": [
    "# manually download from kaggle https://www.kaggle.com/hugodarwood/epirecipes\n",
    "# save as epicurious-recipes-with-rating-and-nutrition.zip\n",
    "\n",
    "# manually download from kaggle https://www.kaggle.com/kaggle/recipe-ingredients-dataset\n",
    "# save as recipe-ingredients-dataset.zip\n",
    "\n",
    "# manually download from kaggle https://www.kaggle.com/datafiniti/food-ingredient-lists/downloads/food-ingredient-lists.zip/1\n",
    "# save as food-ingredient-lists.zip"
   ]
  },
  {
   "cell_type": "code",
   "execution_count": 2,
   "metadata": {},
   "outputs": [
    {
     "name": "stdout",
     "output_type": "stream",
     "text": [
      "Archive:  epicurious-recipes-with-rating-and-nutrition.zip\n",
      "  inflating: epicurious/epi_r.csv    \n",
      "  inflating: epicurious/full_format_recipes.json  \n",
      "  inflating: epicurious/recipe.py    \n",
      "  inflating: epicurious/utils.py     \n",
      "Archive:  recipe_box_recipes_raw.zip\n",
      "  inflating: recipe-box/recipes_raw_nosource_ar.json  \n",
      "  inflating: recipe-box/recipes_raw_nosource_epi.json  \n",
      "  inflating: recipe-box/recipes_raw_nosource_fn.json  \n",
      "  inflating: recipe-box/LICENSE      \n",
      "Archive:  recipe-ingredients-dataset.zip\n",
      "  inflating: recipe-ingr/test.json   \n",
      "  inflating: recipe-ingr/train.json  \n",
      "layer1.json\n",
      "layer2.json\n"
     ]
    }
   ],
   "source": [
    "!unzip epicurious-recipes-with-rating-and-nutrition.zip -d epicurious/\n",
    "!rm epicurious-recipes-with-rating-and-nutrition.zip\n",
    "!unzip recipe_box_recipes_raw.zip -d recipe-box/\n",
    "!rm recipe_box_recipes_raw.zip\n",
    "!unzip recipe-ingredients-dataset.zip -d recipe-ingr/\n",
    "!rm recipe-ingredients-dataset.zip\n",
    "!mkdir recipe1M/\n",
    "!tar -xzvf recipe1M_layers.tar.gz -C recipe1M/\n",
    "!rm recipe1M_layers.tar.gz\n",
    "!unzip food-ingredient-lists.zip -d food-ingredient-lists/\n",
    "!rm food-ingredient-lists.zip"
   ]
  },
  {
   "cell_type": "markdown",
   "metadata": {},
   "source": [
    "## Load Datasets"
   ]
  },
  {
   "cell_type": "code",
   "execution_count": 1,
   "metadata": {},
   "outputs": [],
   "source": [
    "import json\n",
    "from pprint import pprint\n",
    "from string import ascii_lowercase\n",
    "import random\n",
    "from tqdm import tqdm"
   ]
  },
  {
   "cell_type": "code",
   "execution_count": 2,
   "metadata": {},
   "outputs": [],
   "source": [
    "clean_ingredients = set()\n",
    "all_recipes = set()"
   ]
  },
  {
   "cell_type": "markdown",
   "metadata": {},
   "source": [
    "### recipe-ingredients-dataset"
   ]
  },
  {
   "cell_type": "code",
   "execution_count": 3,
   "metadata": {
    "scrolled": true
   },
   "outputs": [
    {
     "name": "stdout",
     "output_type": "stream",
     "text": [
      "{'cuisine': 'greek',\n",
      " 'id': 10259,\n",
      " 'ingredients': ['romaine lettuce',\n",
      "                 'black olives',\n",
      "                 'grape tomatoes',\n",
      "                 'garlic',\n",
      "                 'pepper',\n",
      "                 'purple onion',\n",
      "                 'seasoning',\n",
      "                 'garbanzo beans',\n",
      "                 'feta cheese crumbles']}\n"
     ]
    }
   ],
   "source": [
    "with open('recipe-ingr/train.json', 'rb') as f:\n",
    "    recipe_ingr_train = json.loads(f.read().decode(\"utf-8\"))\n",
    "with open('recipe-ingr/test.json', 'rb') as f:\n",
    "    recipe_ingr_test = json.loads(f.read().decode(\"utf-8\"))\n",
    "\n",
    "recipe_ingr = recipe_ingr_train + recipe_ingr_test\n",
    "pprint(recipe_ingr[0])"
   ]
  },
  {
   "cell_type": "code",
   "execution_count": 4,
   "metadata": {},
   "outputs": [],
   "source": [
    "for r in recipe_ingr:\n",
    "    clean_ingredients.update(r['ingredients'])\n",
    "recipe_ingr_recipes = {tuple(sorted([x.lower() for x in r['ingredients']])) for r in recipe_ingr}"
   ]
  },
  {
   "cell_type": "markdown",
   "metadata": {},
   "source": [
    "### epicurious"
   ]
  },
  {
   "cell_type": "code",
   "execution_count": 5,
   "metadata": {},
   "outputs": [
    {
     "name": "stdout",
     "output_type": "stream",
     "text": [
      "['1 fennel bulb (sometimes called anise), stalks discarded, bulb cut\\xa0into '\n",
      " '1/2-inch dice, and feathery leaves reserved for garnish',\n",
      " '1 onion, diced',\n",
      " '2 tablespoons unsalted butter',\n",
      " '2 medium russet (baking) potatoes',\n",
      " '2 cups chicken broth',\n",
      " '1 1/2 cups milk']\n"
     ]
    }
   ],
   "source": [
    "with open('epicurious/full_format_recipes.json', 'r') as f:\n",
    "    epicurious = json.loads(f.read())\n",
    "pprint(epicurious[2]['ingredients'])\n",
    "\n",
    "epicurious_recipes = {tuple(sorted([x.lower() for x in r['ingredients']])) for r in epicurious if len(r)}"
   ]
  },
  {
   "cell_type": "markdown",
   "metadata": {},
   "source": [
    "### recipe-box"
   ]
  },
  {
   "cell_type": "code",
   "execution_count": 6,
   "metadata": {},
   "outputs": [
    {
     "name": "stdout",
     "output_type": "stream",
     "text": [
      "[('',\n",
      "  '1 cup chocolate-hazelnut spread (such as nutella®)',\n",
      "  '1 cup graham cracker crumbs',\n",
      "  '1 egg',\n",
      "  '1 pinch salt',\n",
      "  '1/2 teaspoon baking soda',\n",
      "  '1/2 teaspoon vanilla extract')]\n"
     ]
    }
   ],
   "source": [
    "files = ['recipes_raw_nosource_epi.json', 'recipes_raw_nosource_ar.json', 'recipes_raw_nosource_fn.json']\n",
    "# epicurious, allrecipes, foodnetwork\n",
    "recipe_box_recipes = set()\n",
    "for filename in files:\n",
    "    with open('recipe-box/' + filename, 'r') as f:\n",
    "        rb_data_part = json.loads(f.read())\n",
    "        for r in rb_data_part.values():\n",
    "            if len(r):\n",
    "                recipe_box_recipes.add(tuple(sorted([x.lower().replace('advertisement', '').strip() for x in r['ingredients']])))\n",
    "pprint(random.sample(recipe_box_recipes, 1))"
   ]
  },
  {
   "cell_type": "markdown",
   "metadata": {},
   "source": [
    "### recipe1M"
   ]
  },
  {
   "cell_type": "code",
   "execution_count": 7,
   "metadata": {},
   "outputs": [
    {
     "name": "stdout",
     "output_type": "stream",
     "text": [
      "layer1.json  layer2.json\r\n"
     ]
    }
   ],
   "source": [
    "ls recipe1M/"
   ]
  },
  {
   "cell_type": "code",
   "execution_count": 8,
   "metadata": {},
   "outputs": [],
   "source": [
    "with open('recipe1M/layer1.json', 'r') as f:\n",
    "    recipe1M_data = json.loads(f.read())"
   ]
  },
  {
   "cell_type": "code",
   "execution_count": 9,
   "metadata": {},
   "outputs": [],
   "source": [
    "recipe1M_recipes = set()\n",
    "for r in recipe1M_data:\n",
    "    recipe1M_recipes.add(tuple(sorted([x['text'].lower() for x in r['ingredients']])))"
   ]
  },
  {
   "cell_type": "code",
   "execution_count": 10,
   "metadata": {},
   "outputs": [
    {
     "data": {
      "text/plain": [
       "[{'text': '6 ounces penne'},\n",
       " {'text': '2 cups Beechers Flagship Cheese Sauce (recipe follows)'},\n",
       " {'text': '1 ounce Cheddar, grated (1/4 cup)'},\n",
       " {'text': '1 ounce Gruyere cheese, grated (1/4 cup)'},\n",
       " {'text': '1/4 to 1/2 teaspoon chipotle chili powder (see Note)'},\n",
       " {'text': '1/4 cup (1/2 stick) unsalted butter'},\n",
       " {'text': '1/3 cup all-purpose flour'},\n",
       " {'text': '3 cups milk'},\n",
       " {'text': '14 ounces semihard cheese (page 23), grated (about 3 1/2 cups)'},\n",
       " {'text': '2 ounces semisoft cheese (page 23), grated (1/2 cup)'},\n",
       " {'text': '1/2 teaspoon kosher salt'},\n",
       " {'text': '1/4 to 1/2 teaspoon chipotle chili powder'},\n",
       " {'text': '1/8 teaspoon garlic powder'},\n",
       " {'text': '(makes about 4 cups)'}]"
      ]
     },
     "execution_count": 10,
     "metadata": {},
     "output_type": "execute_result"
    }
   ],
   "source": [
    "recipe1M_data[0]['ingredients']"
   ]
  },
  {
   "cell_type": "markdown",
   "metadata": {},
   "source": [
    "### cleanup"
   ]
  },
  {
   "cell_type": "code",
   "execution_count": 11,
   "metadata": {},
   "outputs": [],
   "source": [
    "def replace_units(s):\n",
    "    original_string = s\n",
    "    \n",
    "    tokens = s.replace('to taste', '').split()\n",
    "    units = ['ounce', 'ounces', 'cups', 'cup', 'teaspoon', 'tablespoon', 'tablespoons', 'teaspoons', 'c', 'g', 'v', 'tbsp', 'x', 'ml', 'lb', 'tbs', 'oz', 'pkg', 'large', 'small', 'tsp', 'inch', 'grams', 'quarts', 'lbs', 'can', 'cube', 'whole', 'or', 'pieces', 'piece', 'chopped', 'shredded', 'diced', 'fresh', 'crushed']\n",
    "    tokens_new = []\n",
    "    for t in tokens:\n",
    "        if t.strip() not in units:\n",
    "            tokens_new.append(t)\n",
    "            \n",
    "    #if original_string != ' '.join(tokens_new):\n",
    "    #    print(original_string, '--->', ' '.join(tokens_new))\n",
    "    \n",
    "    return ' '.join(tokens_new)\n",
    "    \n",
    "def cleanup_ingredient_list(l, remove_whitespace_variants):\n",
    "    l = {replace_units(''.join([char for char in x.lower().strip() if char in ascii_lowercase + ' ']).strip()) for x in l}\n",
    "    if not remove_whitespace_variants:\n",
    "        return l\n",
    "    \n",
    "    removal_mapping = dict()\n",
    "    remove_ingr = set()\n",
    "    for i in l:\n",
    "        without_whitespace = ''.join([char for char in i if char in ascii_lowercase])\n",
    "        if without_whitespace in l and i != without_whitespace:\n",
    "            remove_ingr.add(without_whitespace)\n",
    "            removal_mapping[without_whitespace] = i\n",
    "    l -= remove_ingr\n",
    "    #print('removed: ' + str(remove_ingr))\n",
    "    return l, removal_mapping"
   ]
  },
  {
   "cell_type": "code",
   "execution_count": 12,
   "metadata": {},
   "outputs": [],
   "source": [
    "messy_recipes = epicurious_recipes | recipe_box_recipes | recipe1M_recipes\n",
    "clean_recipes = recipe_ingr_recipes"
   ]
  },
  {
   "cell_type": "code",
   "execution_count": 13,
   "metadata": {},
   "outputs": [
    {
     "name": "stderr",
     "output_type": "stream",
     "text": [
      "100%|██████████| 1088280/1088280 [01:05<00:00, 16708.17it/s]\n"
     ]
    }
   ],
   "source": [
    "clean_ingredients, whitespace_mapping = cleanup_ingredient_list(clean_ingredients, remove_whitespace_variants=True)\n",
    "\n",
    "new_messy_recipes = set()\n",
    "for r in tqdm(messy_recipes):\n",
    "    new_messy_recipes.add(tuple(cleanup_ingredient_list(r, remove_whitespace_variants=False)))\n",
    "messy_recipes = new_messy_recipes"
   ]
  },
  {
   "cell_type": "code",
   "execution_count": 14,
   "metadata": {},
   "outputs": [
    {
     "data": {
      "text/plain": [
       "{'crabmeat': 'crab meat',\n",
       " 'cornbread': 'corn bread',\n",
       " 'lemongrass': 'lemon grass',\n",
       " 'rosewater': 'rose water',\n",
       " 'dillweed': 'dill weed',\n",
       " 'shiromiso': 'shiro miso',\n",
       " 'cornflakes': 'corn flakes',\n",
       " 'peapods': 'pea pods',\n",
       " 'poppyseeds': 'poppy seeds',\n",
       " 'ladyfingers': 'lady fingers',\n",
       " 'gingerroot': 'ginger root',\n",
       " 'cornflour': 'corn flour',\n",
       " 'piecrust': 'pie crust',\n",
       " 'codfish': 'cod fish',\n",
       " 'blackpepper': 'black pepper',\n",
       " 'cuminseed': 'cumin seed',\n",
       " 'sugarcane': 'sugar cane',\n",
       " 'poundcake': 'pound cake',\n",
       " 'mahimahi': 'mahi mahi',\n",
       " 'tatsoi': 'tat soi',\n",
       " 'arrowroot': 'arrow root',\n",
       " 'wheatberries': 'wheat berries'}"
      ]
     },
     "execution_count": 14,
     "metadata": {},
     "output_type": "execute_result"
    }
   ],
   "source": [
    "whitespace_mapping"
   ]
  },
  {
   "cell_type": "code",
   "execution_count": 15,
   "metadata": {},
   "outputs": [],
   "source": [
    "new_messy_recipes = set()\n",
    "for r in messy_recipes:\n",
    "    r_new = set()\n",
    "    for i in r:\n",
    "        if i in whitespace_mapping:\n",
    "            r_new.add(whitespace_mapping[i])\n",
    "        else:\n",
    "            r_new.add(i)\n",
    "    new_messy_recipes.add(tuple(r_new))\n",
    "messy_recipes = new_messy_recipes\n",
    "\n",
    "new_clean_recipes = set()\n",
    "for r in clean_recipes:\n",
    "    r_new = set()\n",
    "    for i in r:\n",
    "        if i in whitespace_mapping:\n",
    "            r_new.add(whitespace_mapping[i])\n",
    "        else:\n",
    "            r_new.add(i)\n",
    "    new_clean_recipes.add(tuple(r_new))\n",
    "clean_recipes = new_clean_recipes"
   ]
  },
  {
   "cell_type": "code",
   "execution_count": 16,
   "metadata": {},
   "outputs": [
    {
     "name": "stdout",
     "output_type": "stream",
     "text": [
      "6872 48876 1079095\n"
     ]
    }
   ],
   "source": [
    "print(len(clean_ingredients), len(clean_recipes), len(messy_recipes))"
   ]
  },
  {
   "cell_type": "code",
   "execution_count": 17,
   "metadata": {},
   "outputs": [
    {
     "data": {
      "text/plain": [
       "('salt',\n",
       " 'oregano',\n",
       " 'jalapenos seeded finely',\n",
       " 'olive oil',\n",
       " 'onion',\n",
       " 'cayenne',\n",
       " 'boneless skinless chicken breasts',\n",
       " 'sour cream',\n",
       " 'chicken broth',\n",
       " 'cans cannellini beans drained and rinsed other white beans',\n",
       " 'garlic cloves',\n",
       " 'cumin')"
      ]
     },
     "execution_count": 17,
     "metadata": {},
     "output_type": "execute_result"
    }
   ],
   "source": [
    "e, *_ = messy_recipes\n",
    "e"
   ]
  },
  {
   "cell_type": "code",
   "execution_count": 18,
   "metadata": {},
   "outputs": [
    {
     "data": {
      "text/plain": [
       "('balsamic vinegar',\n",
       " 'fresh basil',\n",
       " 'purple onion',\n",
       " 'cooking spray',\n",
       " 'olive oil',\n",
       " 'baby spinach leaves',\n",
       " 'crushed red pepper',\n",
       " 'large eggs',\n",
       " 'black pepper',\n",
       " 'plum tomatoes',\n",
       " 'mushrooms',\n",
       " 'garlic cloves',\n",
       " 'large egg whites',\n",
       " 'salt',\n",
       " 'nonfat ricotta cheese')"
      ]
     },
     "execution_count": 18,
     "metadata": {},
     "output_type": "execute_result"
    }
   ],
   "source": [
    "e, *_ = clean_recipes\n",
    "e"
   ]
  },
  {
   "cell_type": "markdown",
   "metadata": {},
   "source": [
    "## save"
   ]
  },
  {
   "cell_type": "code",
   "execution_count": 19,
   "metadata": {},
   "outputs": [],
   "source": [
    "import pickle\n",
    "with open('data.pickle', 'wb+') as f:\n",
    "    pickle.dump({'clean_recipes': clean_recipes, 'messy_recipes': messy_recipes}, f)"
   ]
  }
 ],
 "metadata": {
  "kernelspec": {
   "display_name": "Python 3",
   "language": "python",
   "name": "python3"
  },
  "language_info": {
   "codemirror_mode": {
    "name": "ipython",
    "version": 3
   },
   "file_extension": ".py",
   "mimetype": "text/x-python",
   "name": "python",
   "nbconvert_exporter": "python",
   "pygments_lexer": "ipython3",
   "version": "3.7.0"
  }
 },
 "nbformat": 4,
 "nbformat_minor": 2
}
