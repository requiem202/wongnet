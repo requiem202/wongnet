{
 "cells": [
  {
   "cell_type": "code",
   "execution_count": 1,
   "metadata": {
    "pycharm": {
     "is_executing": false
    }
   },
   "outputs": [],
   "source": [
    "import os\n",
    "import json\n",
    "import pandas as pd"
   ]
  },
  {
   "cell_type": "code",
   "execution_count": 43,
   "outputs": [],
   "source": [
    "data_dir = './data'\n",
    "first_dirs = [x for x in os.listdir(data_dir) if os.path.isdir(os.path.join(data_dir, x)) and not x.startswith('.')]\n",
    "second_dirs = [os.listdir(os.path.join(data_dir, x)) for x in first_dirs]"
   ],
   "metadata": {
    "collapsed": false,
    "pycharm": {
     "name": "#%%\n",
     "is_executing": false
    }
   }
  },
  {
   "cell_type": "code",
   "execution_count": 44,
   "metadata": {
    "pycharm": {
     "is_executing": false
    }
   },
   "outputs": [],
   "source": [
    "allfiles = [[os.path.join(data_dir, x, y) for y in ys] for x, ys in zip(first_dirs, second_dirs)]\n",
    "del first_dirs\n",
    "del second_dirs"
   ]
  },
  {
   "cell_type": "code",
   "execution_count": 45,
   "metadata": {
    "pycharm": {
     "is_executing": false
    }
   },
   "outputs": [
    {
     "data": {
      "text/plain": "['./data\\\\122e9f06ed90411aab11ab162fea8770\\\\1.json',\n './data\\\\122e9f06ed90411aab11ab162fea8770\\\\10.json',\n './data\\\\122e9f06ed90411aab11ab162fea8770\\\\11.json',\n './data\\\\122e9f06ed90411aab11ab162fea8770\\\\12.json',\n './data\\\\122e9f06ed90411aab11ab162fea8770\\\\13.json',\n './data\\\\122e9f06ed90411aab11ab162fea8770\\\\14.json',\n './data\\\\122e9f06ed90411aab11ab162fea8770\\\\2.json',\n './data\\\\122e9f06ed90411aab11ab162fea8770\\\\3.json',\n './data\\\\122e9f06ed90411aab11ab162fea8770\\\\4.json',\n './data\\\\122e9f06ed90411aab11ab162fea8770\\\\5.json',\n './data\\\\122e9f06ed90411aab11ab162fea8770\\\\6.json',\n './data\\\\122e9f06ed90411aab11ab162fea8770\\\\7.json',\n './data\\\\122e9f06ed90411aab11ab162fea8770\\\\8.json',\n './data\\\\122e9f06ed90411aab11ab162fea8770\\\\9.json',\n './data\\\\1316533204d047bdb1349ba9a055bc3f\\\\1.json',\n './data\\\\1316533204d047bdb1349ba9a055bc3f\\\\10.json',\n './data\\\\1316533204d047bdb1349ba9a055bc3f\\\\11.json',\n './data\\\\1316533204d047bdb1349ba9a055bc3f\\\\12.json',\n './data\\\\1316533204d047bdb1349ba9a055bc3f\\\\13.json',\n './data\\\\1316533204d047bdb1349ba9a055bc3f\\\\14.json',\n './data\\\\1316533204d047bdb1349ba9a055bc3f\\\\15.json',\n './data\\\\1316533204d047bdb1349ba9a055bc3f\\\\16.json',\n './data\\\\1316533204d047bdb1349ba9a055bc3f\\\\2.json',\n './data\\\\1316533204d047bdb1349ba9a055bc3f\\\\3.json',\n './data\\\\1316533204d047bdb1349ba9a055bc3f\\\\4.json',\n './data\\\\1316533204d047bdb1349ba9a055bc3f\\\\5.json',\n './data\\\\1316533204d047bdb1349ba9a055bc3f\\\\6.json',\n './data\\\\1316533204d047bdb1349ba9a055bc3f\\\\7.json',\n './data\\\\1316533204d047bdb1349ba9a055bc3f\\\\8.json',\n './data\\\\1316533204d047bdb1349ba9a055bc3f\\\\9.json',\n './data\\\\1a8b5780df0f435986f2de806c20a433\\\\1.json',\n './data\\\\1a8b5780df0f435986f2de806c20a433\\\\10.json',\n './data\\\\1a8b5780df0f435986f2de806c20a433\\\\11.json',\n './data\\\\1a8b5780df0f435986f2de806c20a433\\\\12.json',\n './data\\\\1a8b5780df0f435986f2de806c20a433\\\\13.json',\n './data\\\\1a8b5780df0f435986f2de806c20a433\\\\14.json',\n './data\\\\1a8b5780df0f435986f2de806c20a433\\\\15.json',\n './data\\\\1a8b5780df0f435986f2de806c20a433\\\\16.json',\n './data\\\\1a8b5780df0f435986f2de806c20a433\\\\17.json',\n './data\\\\1a8b5780df0f435986f2de806c20a433\\\\18.json',\n './data\\\\1a8b5780df0f435986f2de806c20a433\\\\19.json',\n './data\\\\1a8b5780df0f435986f2de806c20a433\\\\2.json',\n './data\\\\1a8b5780df0f435986f2de806c20a433\\\\20.json',\n './data\\\\1a8b5780df0f435986f2de806c20a433\\\\21.json',\n './data\\\\1a8b5780df0f435986f2de806c20a433\\\\22.json',\n './data\\\\1a8b5780df0f435986f2de806c20a433\\\\23.json',\n './data\\\\1a8b5780df0f435986f2de806c20a433\\\\24.json',\n './data\\\\1a8b5780df0f435986f2de806c20a433\\\\25.json',\n './data\\\\1a8b5780df0f435986f2de806c20a433\\\\26.json',\n './data\\\\1a8b5780df0f435986f2de806c20a433\\\\27.json',\n './data\\\\1a8b5780df0f435986f2de806c20a433\\\\28.json',\n './data\\\\1a8b5780df0f435986f2de806c20a433\\\\29.json',\n './data\\\\1a8b5780df0f435986f2de806c20a433\\\\3.json',\n './data\\\\1a8b5780df0f435986f2de806c20a433\\\\30.json',\n './data\\\\1a8b5780df0f435986f2de806c20a433\\\\31.json',\n './data\\\\1a8b5780df0f435986f2de806c20a433\\\\32.json',\n './data\\\\1a8b5780df0f435986f2de806c20a433\\\\4.json',\n './data\\\\1a8b5780df0f435986f2de806c20a433\\\\5.json',\n './data\\\\1a8b5780df0f435986f2de806c20a433\\\\6.json',\n './data\\\\1a8b5780df0f435986f2de806c20a433\\\\7.json',\n './data\\\\1a8b5780df0f435986f2de806c20a433\\\\8.json',\n './data\\\\1a8b5780df0f435986f2de806c20a433\\\\9.json',\n './data\\\\67b512978fae41d89834c87be3313dde\\\\1.json',\n './data\\\\67b512978fae41d89834c87be3313dde\\\\10.json',\n './data\\\\67b512978fae41d89834c87be3313dde\\\\11.json',\n './data\\\\67b512978fae41d89834c87be3313dde\\\\2.json',\n './data\\\\67b512978fae41d89834c87be3313dde\\\\3.json',\n './data\\\\67b512978fae41d89834c87be3313dde\\\\4.json',\n './data\\\\67b512978fae41d89834c87be3313dde\\\\5.json',\n './data\\\\67b512978fae41d89834c87be3313dde\\\\6.json',\n './data\\\\67b512978fae41d89834c87be3313dde\\\\7.json',\n './data\\\\67b512978fae41d89834c87be3313dde\\\\8.json',\n './data\\\\67b512978fae41d89834c87be3313dde\\\\9.json',\n './data\\\\6a60cdb6bdeb4044a2dcee10359ba96b\\\\1.json',\n './data\\\\6a60cdb6bdeb4044a2dcee10359ba96b\\\\10.json',\n './data\\\\6a60cdb6bdeb4044a2dcee10359ba96b\\\\11.json',\n './data\\\\6a60cdb6bdeb4044a2dcee10359ba96b\\\\12.json',\n './data\\\\6a60cdb6bdeb4044a2dcee10359ba96b\\\\13.json',\n './data\\\\6a60cdb6bdeb4044a2dcee10359ba96b\\\\14.json',\n './data\\\\6a60cdb6bdeb4044a2dcee10359ba96b\\\\15.json',\n './data\\\\6a60cdb6bdeb4044a2dcee10359ba96b\\\\16.json',\n './data\\\\6a60cdb6bdeb4044a2dcee10359ba96b\\\\17.json',\n './data\\\\6a60cdb6bdeb4044a2dcee10359ba96b\\\\18.json',\n './data\\\\6a60cdb6bdeb4044a2dcee10359ba96b\\\\19.json',\n './data\\\\6a60cdb6bdeb4044a2dcee10359ba96b\\\\2.json',\n './data\\\\6a60cdb6bdeb4044a2dcee10359ba96b\\\\20.json',\n './data\\\\6a60cdb6bdeb4044a2dcee10359ba96b\\\\21.json',\n './data\\\\6a60cdb6bdeb4044a2dcee10359ba96b\\\\22.json',\n './data\\\\6a60cdb6bdeb4044a2dcee10359ba96b\\\\23.json',\n './data\\\\6a60cdb6bdeb4044a2dcee10359ba96b\\\\24.json',\n './data\\\\6a60cdb6bdeb4044a2dcee10359ba96b\\\\25.json',\n './data\\\\6a60cdb6bdeb4044a2dcee10359ba96b\\\\26.json',\n './data\\\\6a60cdb6bdeb4044a2dcee10359ba96b\\\\27.json',\n './data\\\\6a60cdb6bdeb4044a2dcee10359ba96b\\\\28.json',\n './data\\\\6a60cdb6bdeb4044a2dcee10359ba96b\\\\29.json',\n './data\\\\6a60cdb6bdeb4044a2dcee10359ba96b\\\\3.json',\n './data\\\\6a60cdb6bdeb4044a2dcee10359ba96b\\\\30.json',\n './data\\\\6a60cdb6bdeb4044a2dcee10359ba96b\\\\31.json',\n './data\\\\6a60cdb6bdeb4044a2dcee10359ba96b\\\\32.json',\n './data\\\\6a60cdb6bdeb4044a2dcee10359ba96b\\\\33.json',\n './data\\\\6a60cdb6bdeb4044a2dcee10359ba96b\\\\34.json',\n './data\\\\6a60cdb6bdeb4044a2dcee10359ba96b\\\\35.json',\n './data\\\\6a60cdb6bdeb4044a2dcee10359ba96b\\\\36.json',\n './data\\\\6a60cdb6bdeb4044a2dcee10359ba96b\\\\37.json',\n './data\\\\6a60cdb6bdeb4044a2dcee10359ba96b\\\\38.json',\n './data\\\\6a60cdb6bdeb4044a2dcee10359ba96b\\\\39.json',\n './data\\\\6a60cdb6bdeb4044a2dcee10359ba96b\\\\4.json',\n './data\\\\6a60cdb6bdeb4044a2dcee10359ba96b\\\\40.json',\n './data\\\\6a60cdb6bdeb4044a2dcee10359ba96b\\\\41.json',\n './data\\\\6a60cdb6bdeb4044a2dcee10359ba96b\\\\42.json',\n './data\\\\6a60cdb6bdeb4044a2dcee10359ba96b\\\\5.json',\n './data\\\\6a60cdb6bdeb4044a2dcee10359ba96b\\\\6.json',\n './data\\\\6a60cdb6bdeb4044a2dcee10359ba96b\\\\7.json',\n './data\\\\6a60cdb6bdeb4044a2dcee10359ba96b\\\\8.json',\n './data\\\\6a60cdb6bdeb4044a2dcee10359ba96b\\\\9.json',\n './data\\\\7161413c6e1b433caadf42dff016795d\\\\1.json',\n './data\\\\7161413c6e1b433caadf42dff016795d\\\\10.json',\n './data\\\\7161413c6e1b433caadf42dff016795d\\\\11.json',\n './data\\\\7161413c6e1b433caadf42dff016795d\\\\12.json',\n './data\\\\7161413c6e1b433caadf42dff016795d\\\\13.json',\n './data\\\\7161413c6e1b433caadf42dff016795d\\\\14.json',\n './data\\\\7161413c6e1b433caadf42dff016795d\\\\15.json',\n './data\\\\7161413c6e1b433caadf42dff016795d\\\\2.json',\n './data\\\\7161413c6e1b433caadf42dff016795d\\\\3.json',\n './data\\\\7161413c6e1b433caadf42dff016795d\\\\4.json',\n './data\\\\7161413c6e1b433caadf42dff016795d\\\\5.json',\n './data\\\\7161413c6e1b433caadf42dff016795d\\\\6.json',\n './data\\\\7161413c6e1b433caadf42dff016795d\\\\7.json',\n './data\\\\7161413c6e1b433caadf42dff016795d\\\\8.json',\n './data\\\\7161413c6e1b433caadf42dff016795d\\\\9.json',\n './data\\\\7fe163224fa048019a316137d0b907c0\\\\1.json',\n './data\\\\7fe163224fa048019a316137d0b907c0\\\\10.json',\n './data\\\\7fe163224fa048019a316137d0b907c0\\\\2.json',\n './data\\\\7fe163224fa048019a316137d0b907c0\\\\3.json',\n './data\\\\7fe163224fa048019a316137d0b907c0\\\\4.json',\n './data\\\\7fe163224fa048019a316137d0b907c0\\\\5.json',\n './data\\\\7fe163224fa048019a316137d0b907c0\\\\6.json',\n './data\\\\7fe163224fa048019a316137d0b907c0\\\\7.json',\n './data\\\\7fe163224fa048019a316137d0b907c0\\\\8.json',\n './data\\\\7fe163224fa048019a316137d0b907c0\\\\9.json',\n './data\\\\807225c7b31043ab900b0bebfab1351e\\\\1.json',\n './data\\\\807225c7b31043ab900b0bebfab1351e\\\\10.json',\n './data\\\\807225c7b31043ab900b0bebfab1351e\\\\11.json',\n './data\\\\807225c7b31043ab900b0bebfab1351e\\\\12.json',\n './data\\\\807225c7b31043ab900b0bebfab1351e\\\\2.json',\n './data\\\\807225c7b31043ab900b0bebfab1351e\\\\3.json',\n './data\\\\807225c7b31043ab900b0bebfab1351e\\\\4.json',\n './data\\\\807225c7b31043ab900b0bebfab1351e\\\\5.json',\n './data\\\\807225c7b31043ab900b0bebfab1351e\\\\6.json',\n './data\\\\807225c7b31043ab900b0bebfab1351e\\\\7.json',\n './data\\\\807225c7b31043ab900b0bebfab1351e\\\\8.json',\n './data\\\\807225c7b31043ab900b0bebfab1351e\\\\9.json',\n './data\\\\843ba61728b2419ea598fb4501b595ee\\\\1.json',\n './data\\\\843ba61728b2419ea598fb4501b595ee\\\\10.json',\n './data\\\\843ba61728b2419ea598fb4501b595ee\\\\11.json',\n './data\\\\843ba61728b2419ea598fb4501b595ee\\\\12.json',\n './data\\\\843ba61728b2419ea598fb4501b595ee\\\\13.json',\n './data\\\\843ba61728b2419ea598fb4501b595ee\\\\14.json',\n './data\\\\843ba61728b2419ea598fb4501b595ee\\\\15.json',\n './data\\\\843ba61728b2419ea598fb4501b595ee\\\\16.json',\n './data\\\\843ba61728b2419ea598fb4501b595ee\\\\17.json',\n './data\\\\843ba61728b2419ea598fb4501b595ee\\\\18.json',\n './data\\\\843ba61728b2419ea598fb4501b595ee\\\\2.json',\n './data\\\\843ba61728b2419ea598fb4501b595ee\\\\3.json',\n './data\\\\843ba61728b2419ea598fb4501b595ee\\\\4.json',\n './data\\\\843ba61728b2419ea598fb4501b595ee\\\\5.json',\n './data\\\\843ba61728b2419ea598fb4501b595ee\\\\6.json',\n './data\\\\843ba61728b2419ea598fb4501b595ee\\\\7.json',\n './data\\\\843ba61728b2419ea598fb4501b595ee\\\\8.json',\n './data\\\\843ba61728b2419ea598fb4501b595ee\\\\9.json',\n './data\\\\8815b42cc69241218c7548d4e29dfe2f\\\\1.json',\n './data\\\\8815b42cc69241218c7548d4e29dfe2f\\\\10.json',\n './data\\\\8815b42cc69241218c7548d4e29dfe2f\\\\11.json',\n './data\\\\8815b42cc69241218c7548d4e29dfe2f\\\\12.json',\n './data\\\\8815b42cc69241218c7548d4e29dfe2f\\\\13.json',\n './data\\\\8815b42cc69241218c7548d4e29dfe2f\\\\14.json',\n './data\\\\8815b42cc69241218c7548d4e29dfe2f\\\\15.json',\n './data\\\\8815b42cc69241218c7548d4e29dfe2f\\\\16.json',\n './data\\\\8815b42cc69241218c7548d4e29dfe2f\\\\2.json',\n './data\\\\8815b42cc69241218c7548d4e29dfe2f\\\\3.json',\n './data\\\\8815b42cc69241218c7548d4e29dfe2f\\\\4.json',\n './data\\\\8815b42cc69241218c7548d4e29dfe2f\\\\5.json',\n './data\\\\8815b42cc69241218c7548d4e29dfe2f\\\\6.json',\n './data\\\\8815b42cc69241218c7548d4e29dfe2f\\\\7.json',\n './data\\\\8815b42cc69241218c7548d4e29dfe2f\\\\8.json',\n './data\\\\8815b42cc69241218c7548d4e29dfe2f\\\\9.json',\n './data\\\\884d545496ea4c42acbb0486571c1f8a\\\\1.json',\n './data\\\\884d545496ea4c42acbb0486571c1f8a\\\\10.json',\n './data\\\\884d545496ea4c42acbb0486571c1f8a\\\\11.json',\n './data\\\\884d545496ea4c42acbb0486571c1f8a\\\\12.json',\n './data\\\\884d545496ea4c42acbb0486571c1f8a\\\\13.json',\n './data\\\\884d545496ea4c42acbb0486571c1f8a\\\\14.json',\n './data\\\\884d545496ea4c42acbb0486571c1f8a\\\\15.json',\n './data\\\\884d545496ea4c42acbb0486571c1f8a\\\\16.json',\n './data\\\\884d545496ea4c42acbb0486571c1f8a\\\\17.json',\n './data\\\\884d545496ea4c42acbb0486571c1f8a\\\\18.json',\n './data\\\\884d545496ea4c42acbb0486571c1f8a\\\\19.json',\n './data\\\\884d545496ea4c42acbb0486571c1f8a\\\\2.json',\n './data\\\\884d545496ea4c42acbb0486571c1f8a\\\\20.json',\n './data\\\\884d545496ea4c42acbb0486571c1f8a\\\\21.json',\n './data\\\\884d545496ea4c42acbb0486571c1f8a\\\\22.json',\n './data\\\\884d545496ea4c42acbb0486571c1f8a\\\\23.json',\n './data\\\\884d545496ea4c42acbb0486571c1f8a\\\\24.json',\n './data\\\\884d545496ea4c42acbb0486571c1f8a\\\\25.json',\n './data\\\\884d545496ea4c42acbb0486571c1f8a\\\\26.json',\n './data\\\\884d545496ea4c42acbb0486571c1f8a\\\\27.json',\n './data\\\\884d545496ea4c42acbb0486571c1f8a\\\\28.json',\n './data\\\\884d545496ea4c42acbb0486571c1f8a\\\\29.json',\n './data\\\\884d545496ea4c42acbb0486571c1f8a\\\\3.json',\n './data\\\\884d545496ea4c42acbb0486571c1f8a\\\\30.json',\n './data\\\\884d545496ea4c42acbb0486571c1f8a\\\\31.json',\n './data\\\\884d545496ea4c42acbb0486571c1f8a\\\\32.json',\n './data\\\\884d545496ea4c42acbb0486571c1f8a\\\\33.json',\n './data\\\\884d545496ea4c42acbb0486571c1f8a\\\\34.json',\n './data\\\\884d545496ea4c42acbb0486571c1f8a\\\\35.json',\n './data\\\\884d545496ea4c42acbb0486571c1f8a\\\\36.json',\n './data\\\\884d545496ea4c42acbb0486571c1f8a\\\\37.json',\n './data\\\\884d545496ea4c42acbb0486571c1f8a\\\\38.json',\n './data\\\\884d545496ea4c42acbb0486571c1f8a\\\\4.json',\n './data\\\\884d545496ea4c42acbb0486571c1f8a\\\\5.json',\n './data\\\\884d545496ea4c42acbb0486571c1f8a\\\\6.json',\n './data\\\\884d545496ea4c42acbb0486571c1f8a\\\\7.json',\n './data\\\\884d545496ea4c42acbb0486571c1f8a\\\\8.json',\n './data\\\\884d545496ea4c42acbb0486571c1f8a\\\\9.json',\n './data\\\\aomammtalongin\\\\1.json',\n './data\\\\aomammtalongin\\\\10.json',\n './data\\\\aomammtalongin\\\\11.json',\n './data\\\\aomammtalongin\\\\12.json',\n './data\\\\aomammtalongin\\\\13.json',\n './data\\\\aomammtalongin\\\\14.json',\n './data\\\\aomammtalongin\\\\2.json',\n './data\\\\aomammtalongin\\\\3.json',\n './data\\\\aomammtalongin\\\\4.json',\n './data\\\\aomammtalongin\\\\5.json',\n './data\\\\aomammtalongin\\\\6.json',\n './data\\\\aomammtalongin\\\\7.json',\n './data\\\\aomammtalongin\\\\8.json',\n './data\\\\aomammtalongin\\\\9.json',\n './data\\\\b94eca2498f0453c9b6ed8a0b7071440\\\\1.json',\n './data\\\\b94eca2498f0453c9b6ed8a0b7071440\\\\10.json',\n './data\\\\b94eca2498f0453c9b6ed8a0b7071440\\\\11.json',\n './data\\\\b94eca2498f0453c9b6ed8a0b7071440\\\\12.json',\n './data\\\\b94eca2498f0453c9b6ed8a0b7071440\\\\13.json',\n './data\\\\b94eca2498f0453c9b6ed8a0b7071440\\\\14.json',\n './data\\\\b94eca2498f0453c9b6ed8a0b7071440\\\\2.json',\n './data\\\\b94eca2498f0453c9b6ed8a0b7071440\\\\3.json',\n './data\\\\b94eca2498f0453c9b6ed8a0b7071440\\\\4.json',\n './data\\\\b94eca2498f0453c9b6ed8a0b7071440\\\\5.json',\n './data\\\\b94eca2498f0453c9b6ed8a0b7071440\\\\6.json',\n './data\\\\b94eca2498f0453c9b6ed8a0b7071440\\\\7.json',\n './data\\\\b94eca2498f0453c9b6ed8a0b7071440\\\\8.json',\n './data\\\\b94eca2498f0453c9b6ed8a0b7071440\\\\9.json',\n './data\\\\c664d41e6e0048ae8c521f83638458b7\\\\1.json',\n './data\\\\c664d41e6e0048ae8c521f83638458b7\\\\10.json',\n './data\\\\c664d41e6e0048ae8c521f83638458b7\\\\11.json',\n './data\\\\c664d41e6e0048ae8c521f83638458b7\\\\12.json',\n './data\\\\c664d41e6e0048ae8c521f83638458b7\\\\13.json',\n './data\\\\c664d41e6e0048ae8c521f83638458b7\\\\14.json',\n './data\\\\c664d41e6e0048ae8c521f83638458b7\\\\15.json',\n './data\\\\c664d41e6e0048ae8c521f83638458b7\\\\16.json',\n './data\\\\c664d41e6e0048ae8c521f83638458b7\\\\17.json',\n './data\\\\c664d41e6e0048ae8c521f83638458b7\\\\18.json',\n './data\\\\c664d41e6e0048ae8c521f83638458b7\\\\19.json',\n './data\\\\c664d41e6e0048ae8c521f83638458b7\\\\2.json',\n './data\\\\c664d41e6e0048ae8c521f83638458b7\\\\20.json',\n './data\\\\c664d41e6e0048ae8c521f83638458b7\\\\3.json',\n './data\\\\c664d41e6e0048ae8c521f83638458b7\\\\4.json',\n './data\\\\c664d41e6e0048ae8c521f83638458b7\\\\5.json',\n './data\\\\c664d41e6e0048ae8c521f83638458b7\\\\6.json',\n './data\\\\c664d41e6e0048ae8c521f83638458b7\\\\7.json',\n './data\\\\c664d41e6e0048ae8c521f83638458b7\\\\8.json',\n './data\\\\c664d41e6e0048ae8c521f83638458b7\\\\9.json',\n './data\\\\d127684ac4c64100b89d62248d62d3ab\\\\1.json',\n './data\\\\d127684ac4c64100b89d62248d62d3ab\\\\10.json',\n './data\\\\d127684ac4c64100b89d62248d62d3ab\\\\2.json',\n './data\\\\d127684ac4c64100b89d62248d62d3ab\\\\3.json',\n './data\\\\d127684ac4c64100b89d62248d62d3ab\\\\4.json',\n './data\\\\d127684ac4c64100b89d62248d62d3ab\\\\5.json',\n './data\\\\d127684ac4c64100b89d62248d62d3ab\\\\6.json',\n './data\\\\d127684ac4c64100b89d62248d62d3ab\\\\7.json',\n './data\\\\d127684ac4c64100b89d62248d62d3ab\\\\8.json',\n './data\\\\d127684ac4c64100b89d62248d62d3ab\\\\9.json',\n './data\\\\da526be3d09d4cc1bcab4a5b9e23e446\\\\1.json',\n './data\\\\da526be3d09d4cc1bcab4a5b9e23e446\\\\10.json',\n './data\\\\da526be3d09d4cc1bcab4a5b9e23e446\\\\11.json',\n './data\\\\da526be3d09d4cc1bcab4a5b9e23e446\\\\12.json',\n './data\\\\da526be3d09d4cc1bcab4a5b9e23e446\\\\2.json',\n './data\\\\da526be3d09d4cc1bcab4a5b9e23e446\\\\3.json',\n './data\\\\da526be3d09d4cc1bcab4a5b9e23e446\\\\4.json',\n './data\\\\da526be3d09d4cc1bcab4a5b9e23e446\\\\5.json',\n './data\\\\da526be3d09d4cc1bcab4a5b9e23e446\\\\6.json',\n './data\\\\da526be3d09d4cc1bcab4a5b9e23e446\\\\7.json',\n './data\\\\da526be3d09d4cc1bcab4a5b9e23e446\\\\8.json',\n './data\\\\da526be3d09d4cc1bcab4a5b9e23e446\\\\9.json',\n './data\\\\dac012fdb7bf429896df800e0f46499a\\\\1.json',\n './data\\\\dac012fdb7bf429896df800e0f46499a\\\\10.json',\n './data\\\\dac012fdb7bf429896df800e0f46499a\\\\11.json',\n './data\\\\dac012fdb7bf429896df800e0f46499a\\\\12.json',\n './data\\\\dac012fdb7bf429896df800e0f46499a\\\\13.json',\n './data\\\\dac012fdb7bf429896df800e0f46499a\\\\14.json',\n './data\\\\dac012fdb7bf429896df800e0f46499a\\\\15.json',\n './data\\\\dac012fdb7bf429896df800e0f46499a\\\\16.json',\n './data\\\\dac012fdb7bf429896df800e0f46499a\\\\17.json',\n './data\\\\dac012fdb7bf429896df800e0f46499a\\\\18.json',\n './data\\\\dac012fdb7bf429896df800e0f46499a\\\\19.json',\n './data\\\\dac012fdb7bf429896df800e0f46499a\\\\2.json',\n './data\\\\dac012fdb7bf429896df800e0f46499a\\\\20.json',\n './data\\\\dac012fdb7bf429896df800e0f46499a\\\\3.json',\n './data\\\\dac012fdb7bf429896df800e0f46499a\\\\4.json',\n './data\\\\dac012fdb7bf429896df800e0f46499a\\\\5.json',\n './data\\\\dac012fdb7bf429896df800e0f46499a\\\\6.json',\n './data\\\\dac012fdb7bf429896df800e0f46499a\\\\7.json',\n './data\\\\dac012fdb7bf429896df800e0f46499a\\\\8.json',\n './data\\\\dac012fdb7bf429896df800e0f46499a\\\\9.json',\n './data\\\\e36b3db03b584af389a7ebb612a91a3e\\\\1.json',\n './data\\\\e36b3db03b584af389a7ebb612a91a3e\\\\10.json',\n './data\\\\e36b3db03b584af389a7ebb612a91a3e\\\\11.json',\n './data\\\\e36b3db03b584af389a7ebb612a91a3e\\\\12.json',\n './data\\\\e36b3db03b584af389a7ebb612a91a3e\\\\13.json',\n './data\\\\e36b3db03b584af389a7ebb612a91a3e\\\\14.json',\n './data\\\\e36b3db03b584af389a7ebb612a91a3e\\\\15.json',\n './data\\\\e36b3db03b584af389a7ebb612a91a3e\\\\16.json',\n './data\\\\e36b3db03b584af389a7ebb612a91a3e\\\\17.json',\n './data\\\\e36b3db03b584af389a7ebb612a91a3e\\\\18.json',\n './data\\\\e36b3db03b584af389a7ebb612a91a3e\\\\19.json',\n './data\\\\e36b3db03b584af389a7ebb612a91a3e\\\\2.json',\n './data\\\\e36b3db03b584af389a7ebb612a91a3e\\\\20.json',\n './data\\\\e36b3db03b584af389a7ebb612a91a3e\\\\21.json',\n './data\\\\e36b3db03b584af389a7ebb612a91a3e\\\\22.json',\n './data\\\\e36b3db03b584af389a7ebb612a91a3e\\\\23.json',\n './data\\\\e36b3db03b584af389a7ebb612a91a3e\\\\24.json',\n './data\\\\e36b3db03b584af389a7ebb612a91a3e\\\\25.json',\n './data\\\\e36b3db03b584af389a7ebb612a91a3e\\\\26.json',\n './data\\\\e36b3db03b584af389a7ebb612a91a3e\\\\27.json',\n './data\\\\e36b3db03b584af389a7ebb612a91a3e\\\\28.json',\n './data\\\\e36b3db03b584af389a7ebb612a91a3e\\\\29.json',\n './data\\\\e36b3db03b584af389a7ebb612a91a3e\\\\3.json',\n './data\\\\e36b3db03b584af389a7ebb612a91a3e\\\\30.json',\n './data\\\\e36b3db03b584af389a7ebb612a91a3e\\\\31.json',\n './data\\\\e36b3db03b584af389a7ebb612a91a3e\\\\32.json',\n './data\\\\e36b3db03b584af389a7ebb612a91a3e\\\\33.json',\n './data\\\\e36b3db03b584af389a7ebb612a91a3e\\\\34.json',\n './data\\\\e36b3db03b584af389a7ebb612a91a3e\\\\35.json',\n './data\\\\e36b3db03b584af389a7ebb612a91a3e\\\\36.json',\n './data\\\\e36b3db03b584af389a7ebb612a91a3e\\\\37.json',\n './data\\\\e36b3db03b584af389a7ebb612a91a3e\\\\38.json',\n './data\\\\e36b3db03b584af389a7ebb612a91a3e\\\\39.json',\n './data\\\\e36b3db03b584af389a7ebb612a91a3e\\\\4.json',\n './data\\\\e36b3db03b584af389a7ebb612a91a3e\\\\5.json',\n './data\\\\e36b3db03b584af389a7ebb612a91a3e\\\\6.json',\n './data\\\\e36b3db03b584af389a7ebb612a91a3e\\\\7.json',\n './data\\\\e36b3db03b584af389a7ebb612a91a3e\\\\8.json',\n './data\\\\e36b3db03b584af389a7ebb612a91a3e\\\\9.json',\n './data\\\\ff80808136cbd87f0136cffbdfaf48f3\\\\1.json',\n './data\\\\ff80808136cbd87f0136cffbdfaf48f3\\\\10.json',\n './data\\\\ff80808136cbd87f0136cffbdfaf48f3\\\\2.json',\n './data\\\\ff80808136cbd87f0136cffbdfaf48f3\\\\3.json',\n './data\\\\ff80808136cbd87f0136cffbdfaf48f3\\\\4.json',\n './data\\\\ff80808136cbd87f0136cffbdfaf48f3\\\\5.json',\n './data\\\\ff80808136cbd87f0136cffbdfaf48f3\\\\6.json',\n './data\\\\ff80808136cbd87f0136cffbdfaf48f3\\\\7.json',\n './data\\\\ff80808136cbd87f0136cffbdfaf48f3\\\\8.json',\n './data\\\\ff80808136cbd87f0136cffbdfaf48f3\\\\9.json',\n './data\\\\phingko08\\\\1.json',\n './data\\\\phingko08\\\\10.json',\n './data\\\\phingko08\\\\11.json',\n './data\\\\phingko08\\\\12.json',\n './data\\\\phingko08\\\\2.json',\n './data\\\\phingko08\\\\3.json',\n './data\\\\phingko08\\\\4.json',\n './data\\\\phingko08\\\\5.json',\n './data\\\\phingko08\\\\6.json',\n './data\\\\phingko08\\\\7.json',\n './data\\\\phingko08\\\\8.json',\n './data\\\\phingko08\\\\9.json']"
     },
     "metadata": {},
     "output_type": "execute_result",
     "execution_count": 45
    }
   ],
   "source": [
    "allfiles_flat = [val for sublist in allfiles for val in sublist]\n",
    "del allfiles\n",
    "allfiles_flat\n",
    "   "
   ]
  },
  {
   "cell_type": "code",
   "execution_count": null,
   "outputs": [],
   "source": [
    "# for thf in allfiles_flat:\n",
    "#     with open(thf, encoding='utf-8') as json_file:\n",
    "#         entities = json.load(json_file).get('data').get('page').get('entities')\n",
    "#         for entity in entities:\n",
    "#             df = df.append(entity, ignore_index=True)"
   ],
   "metadata": {
    "collapsed": false,
    "pycharm": {
     "name": "#%%\n"
    }
   }
  },
  {
   "cell_type": "code",
   "execution_count": 47,
   "metadata": {
    "pycharm": {
     "is_executing": false
    }
   },
   "outputs": [],
   "source": [
    "def to_dataframe(file_list):\n",
    "    df = pd.DataFrame()\n",
    "    for thf in file_list:\n",
    "        with open(thf, encoding='utf-8') as json_file:\n",
    "            data = json.load(json_file).get('data').get('page').get('entities')\n",
    "            for x in data:\n",
    "                df = df.append(x, ignore_index=True)\n",
    "                # print(df['id'])\n",
    "    return df"
   ]
  },
  {
   "cell_type": "code",
   "execution_count": 48,
   "metadata": {
    "pycharm": {
     "is_executing": false
    }
   },
   "outputs": [],
   "source": [
    "my_df = to_dataframe(allfiles_flat)\n"
   ]
  },
  {
   "cell_type": "code",
   "execution_count": 49,
   "metadata": {
    "pycharm": {
     "is_executing": false
    }
   },
   "outputs": [
    {
     "data": {
      "text/plain": "                                   ad  allTimeScore  cookTimeH  cookTimeM  \\\nid                                                                          \n7980ed28ce35467482b9858b86a5650d  0.0          94.0        0.0       10.0   \n1968c8c9d6a64509a8ea0893d3482d04  0.0          23.0        1.0        0.0   \n3e874deac09a45aaac02116f09e2e40a  0.0          39.0        1.0       30.0   \nf0d38b95f6c742c7b450c748e4c1dee7  0.0          63.0        0.0       15.0   \n11a0d22d351e4f169244b15506862a5a  0.0          32.0        0.0       10.0   \n...                               ...           ...        ...        ...   \n67c2629d1f264aff8070d5bb64afd5b9  0.0         312.0        1.0        0.0   \n2359f3e9a62947afab513369f9c48223  0.0         369.0        0.0       20.0   \nf95e5625d5c84751ad74aa0199f1514d  0.0         269.0        0.0       10.0   \n56d306911b32433d9498580e692429b8  0.0         225.0        0.0        3.0   \nd994ca7deeb04eda9194710c68b08b09  0.0         399.0        1.0       30.0   \n\n                                                createdTime  \\\nid                                                            \n7980ed28ce35467482b9858b86a5650d  2019-11-16T10:39:10+07:00   \n1968c8c9d6a64509a8ea0893d3482d04  2019-11-15T12:53:42+07:00   \n3e874deac09a45aaac02116f09e2e40a  2019-11-13T18:08:34+07:00   \nf0d38b95f6c742c7b450c748e4c1dee7  2019-11-10T14:10:03+07:00   \n11a0d22d351e4f169244b15506862a5a  2019-11-10T14:13:46+07:00   \n...                                                     ...   \n67c2629d1f264aff8070d5bb64afd5b9  2019-06-15T11:19:28+07:00   \n2359f3e9a62947afab513369f9c48223  2019-06-14T12:01:46+07:00   \nf95e5625d5c84751ad74aa0199f1514d  2019-06-09T11:42:54+07:00   \n56d306911b32433d9498580e692429b8  2019-05-10T15:31:01+07:00   \nd994ca7deeb04eda9194710c68b08b09  2019-05-31T20:22:18+07:00   \n\n                                                                        description  \\\nid                                                                                    \n7980ed28ce35467482b9858b86a5650d    เมนูนี้ทำหม่ำเปล่าๆ รสชาติอร่อย เปรี้ยว ไม่เค็ม   \n1968c8c9d6a64509a8ea0893d3482d04  ข้าวสีนิลมีประโยชน์ช่วยบำรุงเลือด เลยต้องชอบหม...   \n3e874deac09a45aaac02116f09e2e40a  สูตรนี้ใช้เวลาต้มทั้งหมด1ชม.ครึ่ง หมูนุ่มอร่อย...   \nf0d38b95f6c742c7b450c748e4c1dee7  สูตรนี้ใช้แป้งโรตีห่อ ปรุงรสชาติง่ายๆด้วยคนอร์...   \n11a0d22d351e4f169244b15506862a5a  น้ำจิ้มบ๊วยรสชาติเปรี้ยวๆ ทำใส่กระปุ๊กไว้จิ้มก...   \n...                                                                             ...   \n67c2629d1f264aff8070d5bb64afd5b9  เมนูน้ำดื่มสมุนไพร​ ช่วยลดไขมันในเส้นเลือด​ ลด...   \n2359f3e9a62947afab513369f9c48223  เมนูยามว่าง​ กิจกรรมในครอบครัว​  ทานได้ทุกช่วง...   \nf95e5625d5c84751ad74aa0199f1514d  ทานได้ทุกวันทุกมื้ออาหาร​ ทำทานง่าย​ มีโปรตีน​...   \n56d306911b32433d9498580e692429b8                           เมนูทำทานง่าย​ ทำขายรวย​   \nd994ca7deeb04eda9194710c68b08b09     เมนูล้างสารพิษ​ เหมาะสำหรับผู้ต้องการลดน้ำหนัก   \n\n                                 eid  \\\nid                                     \n7980ed28ce35467482b9858b86a5650d       \n1968c8c9d6a64509a8ea0893d3482d04       \n3e874deac09a45aaac02116f09e2e40a       \nf0d38b95f6c742c7b450c748e4c1dee7       \n11a0d22d351e4f169244b15506862a5a       \n...                               ..   \n67c2629d1f264aff8070d5bb64afd5b9       \n2359f3e9a62947afab513369f9c48223       \nf95e5625d5c84751ad74aa0199f1514d       \n56d306911b32433d9498580e692429b8       \nd994ca7deeb04eda9194710c68b08b09       \n\n                                                                 ingredientKeywords  \\\nid                                                                                    \n7980ed28ce35467482b9858b86a5650d  ผักคะน้า, หมูบด, คนอร์ซอสปรุงรสหมู, น้ำมะนาว, ...   \n1968c8c9d6a64509a8ea0893d3482d04  ข้าวสีนิล, น้ำสะอาด, หมูบด, คนอร์ซอสข้นปรุงรสห...   \n3e874deac09a45aaac02116f09e2e40a  ขาหมูเผา, คนอร์ซอสข้นปรุงรสหมู, ผงคนอร์รสลาบ, ...   \nf0d38b95f6c742c7b450c748e4c1dee7  แป้งโรตี, หมูบด, ไข่ไก่, ซอสข้นคนอร์รสหมู, แป้...   \n11a0d22d351e4f169244b15506862a5a                   น้ำบ๊วยพร้อมเนื้อ, น้ำตาล, เกลือ   \n...                                                                             ...   \n67c2629d1f264aff8070d5bb64afd5b9  กระเจี๊ยบ​สด, มะตูม, พุทธา​จีนแห้ง, น้ำสะอาด, ...   \n2359f3e9a62947afab513369f9c48223  เส้นจันทน์, กระดูกสันหลังหมู, น้ำตาลกรวด, กระเ...   \nf95e5625d5c84751ad74aa0199f1514d  เนื้อหมู​ สันคอหมู, รากผักชี, ผักชี, เต้าหู้ไข...   \n56d306911b32433d9498580e692429b8  ใบกระเพราแดง, พริกจินดา, กระเทียมโทน, น้ำมันถั...   \nd994ca7deeb04eda9194710c68b08b09  กะหล่ำปลี​, รากผักชี, สี่อิ๋วขาวสูตร1, ซอสเห็ด...   \n\n                                            lastUpdatedTime  \\\nid                                                            \n7980ed28ce35467482b9858b86a5650d  2019-11-17T12:17:39+07:00   \n1968c8c9d6a64509a8ea0893d3482d04  2019-11-15T13:18:05+07:00   \n3e874deac09a45aaac02116f09e2e40a  2019-11-13T18:46:03+07:00   \nf0d38b95f6c742c7b450c748e4c1dee7  2019-11-10T20:11:53+07:00   \n11a0d22d351e4f169244b15506862a5a  2019-11-10T14:20:12+07:00   \n...                                                     ...   \n67c2629d1f264aff8070d5bb64afd5b9  2019-06-15T11:36:34+07:00   \n2359f3e9a62947afab513369f9c48223  2019-06-14T12:25:42+07:00   \nf95e5625d5c84751ad74aa0199f1514d  2019-07-30T12:05:38+07:00   \n56d306911b32433d9498580e692429b8  2019-09-17T19:39:13+07:00   \nd994ca7deeb04eda9194710c68b08b09  2019-06-06T08:38:26+07:00   \n\n                                                                              owner  \\\nid                                                                                    \n7980ed28ce35467482b9858b86a5650d  {'id': '122e9f06ed90411aab11ab162fea8770', 'gi...   \n1968c8c9d6a64509a8ea0893d3482d04  {'id': '122e9f06ed90411aab11ab162fea8770', 'gi...   \n3e874deac09a45aaac02116f09e2e40a  {'id': '122e9f06ed90411aab11ab162fea8770', 'gi...   \nf0d38b95f6c742c7b450c748e4c1dee7  {'id': '122e9f06ed90411aab11ab162fea8770', 'gi...   \n11a0d22d351e4f169244b15506862a5a  {'id': '122e9f06ed90411aab11ab162fea8770', 'gi...   \n...                                                                             ...   \n67c2629d1f264aff8070d5bb64afd5b9  {'id': 'phingko08', 'gid': '09XiPSrgJPRRIufz0r...   \n2359f3e9a62947afab513369f9c48223  {'id': 'phingko08', 'gid': '09XiPSrgJPRRIufz0r...   \nf95e5625d5c84751ad74aa0199f1514d  {'id': 'phingko08', 'gid': '09XiPSrgJPRRIufz0r...   \n56d306911b32433d9498580e692429b8  {'id': 'phingko08', 'gid': '09XiPSrgJPRRIufz0r...   \nd994ca7deeb04eda9194710c68b08b09  {'id': 'phingko08', 'gid': '09XiPSrgJPRRIufz0r...   \n\n                                  ...      state  \\\nid                                ...              \n7980ed28ce35467482b9858b86a5650d  ...  Published   \n1968c8c9d6a64509a8ea0893d3482d04  ...  Published   \n3e874deac09a45aaac02116f09e2e40a  ...  Published   \nf0d38b95f6c742c7b450c748e4c1dee7  ...  Published   \n11a0d22d351e4f169244b15506862a5a  ...  Published   \n...                               ...        ...   \n67c2629d1f264aff8070d5bb64afd5b9  ...  Published   \n2359f3e9a62947afab513369f9c48223  ...  Published   \nf95e5625d5c84751ad74aa0199f1514d  ...  Published   \n56d306911b32433d9498580e692429b8  ...  Published   \nd994ca7deeb04eda9194710c68b08b09  ...  Published   \n\n                                                                     thumbnailPhoto  \\\nid                                                                                    \n7980ed28ce35467482b9858b86a5650d  https://img.wongnai.com/p/400x0/2019/11/16/7ef...   \n1968c8c9d6a64509a8ea0893d3482d04  https://img.wongnai.com/p/400x0/2019/11/15/3fb...   \n3e874deac09a45aaac02116f09e2e40a  https://img.wongnai.com/p/400x0/2019/11/13/146...   \nf0d38b95f6c742c7b450c748e4c1dee7  https://img.wongnai.com/p/400x0/2019/11/10/737...   \n11a0d22d351e4f169244b15506862a5a  https://img.wongnai.com/p/400x0/2019/11/10/dfe...   \n...                                                                             ...   \n67c2629d1f264aff8070d5bb64afd5b9  https://img.wongnai.com/p/400x0/2019/06/15/eb6...   \n2359f3e9a62947afab513369f9c48223  https://img.wongnai.com/p/400x0/2019/06/14/f4f...   \nf95e5625d5c84751ad74aa0199f1514d  https://img.wongnai.com/p/400x0/2019/06/09/1ae...   \n56d306911b32433d9498580e692429b8  https://img.wongnai.com/p/400x0/2019/06/07/be5...   \nd994ca7deeb04eda9194710c68b08b09  https://img.wongnai.com/p/400x0/2019/06/06/b1e...   \n\n                                                        title totalComment  \\\nid                                                                           \n7980ed28ce35467482b9858b86a5650d                ยำคะน้าหมูสับ          0.0   \n1968c8c9d6a64509a8ea0893d3482d04           ข้าวต้มสีนิลหมูสับ          0.0   \n3e874deac09a45aaac02116f09e2e40a                  ต้มแซบขาหมู          0.0   \nf0d38b95f6c742c7b450c748e4c1dee7                 หมูกระเบื้อง          0.0   \n11a0d22d351e4f169244b15506862a5a                  น้ำจิ้มบ๊วย          0.0   \n...                                                       ...          ...   \n67c2629d1f264aff8070d5bb64afd5b9   สมุนไพรน้ำสามเกลอล้างไขมัน          2.0   \n2359f3e9a62947afab513369f9c48223        ก๋วยเตี๋ยว​ลูกชิ้นหมู          4.0   \nf95e5625d5c84751ad74aa0199f1514d  แกงจืดวุ้นเส้นเต้าหู้หมูสับ          2.0   \n56d306911b32433d9498580e692429b8                ผัดกระเพราหมู          2.0   \nd994ca7deeb04eda9194710c68b08b09               กะหล่ำปลี​ตุ๋น          2.0   \n\n                                 totalHomework totalLike type  \\\nid                                                              \n7980ed28ce35467482b9858b86a5650d           0.0       0.0  UGC   \n1968c8c9d6a64509a8ea0893d3482d04           0.0       0.0  UGC   \n3e874deac09a45aaac02116f09e2e40a           0.0       0.0  UGC   \nf0d38b95f6c742c7b450c748e4c1dee7           0.0       1.0  UGC   \n11a0d22d351e4f169244b15506862a5a           0.0       0.0  UGC   \n...                                        ...       ...  ...   \n67c2629d1f264aff8070d5bb64afd5b9           0.0       3.0  UGC   \n2359f3e9a62947afab513369f9c48223           0.0       6.0  UGC   \nf95e5625d5c84751ad74aa0199f1514d           0.0       3.0  UGC   \n56d306911b32433d9498580e692429b8           0.0       3.0  UGC   \nd994ca7deeb04eda9194710c68b08b09           0.0       4.0  UGC   \n\n                                                                           url  \\\nid                                                                               \n7980ed28ce35467482b9858b86a5650d  recipes/ugc/7980ed28ce35467482b9858b86a5650d   \n1968c8c9d6a64509a8ea0893d3482d04  recipes/ugc/1968c8c9d6a64509a8ea0893d3482d04   \n3e874deac09a45aaac02116f09e2e40a  recipes/ugc/3e874deac09a45aaac02116f09e2e40a   \nf0d38b95f6c742c7b450c748e4c1dee7  recipes/ugc/f0d38b95f6c742c7b450c748e4c1dee7   \n11a0d22d351e4f169244b15506862a5a  recipes/ugc/11a0d22d351e4f169244b15506862a5a   \n...                                                                        ...   \n67c2629d1f264aff8070d5bb64afd5b9  recipes/ugc/67c2629d1f264aff8070d5bb64afd5b9   \n2359f3e9a62947afab513369f9c48223  recipes/ugc/2359f3e9a62947afab513369f9c48223   \nf95e5625d5c84751ad74aa0199f1514d  recipes/ugc/f95e5625d5c84751ad74aa0199f1514d   \n56d306911b32433d9498580e692429b8  recipes/ugc/56d306911b32433d9498580e692429b8   \nd994ca7deeb04eda9194710c68b08b09  recipes/ugc/d994ca7deeb04eda9194710c68b08b09   \n\n                                   view      yield  \nid                                                  \n7980ed28ce35467482b9858b86a5650d   94.0     1 ท่าน  \n1968c8c9d6a64509a8ea0893d3482d04   23.0   2-3 ท่าน  \n3e874deac09a45aaac02116f09e2e40a   39.0   4-5 ท่าน  \nf0d38b95f6c742c7b450c748e4c1dee7   53.0   1/3 ท่าน  \n11a0d22d351e4f169244b15506862a5a   32.0     1 ถ้วย  \n...                                 ...        ...  \n67c2629d1f264aff8070d5bb64afd5b9  222.0   30​ ท่าน  \n2359f3e9a62947afab513369f9c48223  189.0  10​ ท่าน​  \nf95e5625d5c84751ad74aa0199f1514d  179.0   4​ ท่าน​  \n56d306911b32433d9498580e692429b8  135.0   4​ ท่าน​  \nd994ca7deeb04eda9194710c68b08b09  299.0   5​ ท่าน​  \n\n[3750 rows x 25 columns]",
      "text/html": "<div>\n<style scoped>\n    .dataframe tbody tr th:only-of-type {\n        vertical-align: middle;\n    }\n\n    .dataframe tbody tr th {\n        vertical-align: top;\n    }\n\n    .dataframe thead th {\n        text-align: right;\n    }\n</style>\n<table border=\"1\" class=\"dataframe\">\n  <thead>\n    <tr style=\"text-align: right;\">\n      <th></th>\n      <th>ad</th>\n      <th>allTimeScore</th>\n      <th>cookTimeH</th>\n      <th>cookTimeM</th>\n      <th>createdTime</th>\n      <th>description</th>\n      <th>eid</th>\n      <th>ingredientKeywords</th>\n      <th>lastUpdatedTime</th>\n      <th>owner</th>\n      <th>...</th>\n      <th>state</th>\n      <th>thumbnailPhoto</th>\n      <th>title</th>\n      <th>totalComment</th>\n      <th>totalHomework</th>\n      <th>totalLike</th>\n      <th>type</th>\n      <th>url</th>\n      <th>view</th>\n      <th>yield</th>\n    </tr>\n    <tr>\n      <th>id</th>\n      <th></th>\n      <th></th>\n      <th></th>\n      <th></th>\n      <th></th>\n      <th></th>\n      <th></th>\n      <th></th>\n      <th></th>\n      <th></th>\n      <th></th>\n      <th></th>\n      <th></th>\n      <th></th>\n      <th></th>\n      <th></th>\n      <th></th>\n      <th></th>\n      <th></th>\n      <th></th>\n      <th></th>\n    </tr>\n  </thead>\n  <tbody>\n    <tr>\n      <th>7980ed28ce35467482b9858b86a5650d</th>\n      <td>0.0</td>\n      <td>94.0</td>\n      <td>0.0</td>\n      <td>10.0</td>\n      <td>2019-11-16T10:39:10+07:00</td>\n      <td>เมนูนี้ทำหม่ำเปล่าๆ รสชาติอร่อย เปรี้ยว ไม่เค็ม</td>\n      <td></td>\n      <td>ผักคะน้า, หมูบด, คนอร์ซอสปรุงรสหมู, น้ำมะนาว, ...</td>\n      <td>2019-11-17T12:17:39+07:00</td>\n      <td>{'id': '122e9f06ed90411aab11ab162fea8770', 'gi...</td>\n      <td>...</td>\n      <td>Published</td>\n      <td>https://img.wongnai.com/p/400x0/2019/11/16/7ef...</td>\n      <td>ยำคะน้าหมูสับ</td>\n      <td>0.0</td>\n      <td>0.0</td>\n      <td>0.0</td>\n      <td>UGC</td>\n      <td>recipes/ugc/7980ed28ce35467482b9858b86a5650d</td>\n      <td>94.0</td>\n      <td>1 ท่าน</td>\n    </tr>\n    <tr>\n      <th>1968c8c9d6a64509a8ea0893d3482d04</th>\n      <td>0.0</td>\n      <td>23.0</td>\n      <td>1.0</td>\n      <td>0.0</td>\n      <td>2019-11-15T12:53:42+07:00</td>\n      <td>ข้าวสีนิลมีประโยชน์ช่วยบำรุงเลือด เลยต้องชอบหม...</td>\n      <td></td>\n      <td>ข้าวสีนิล, น้ำสะอาด, หมูบด, คนอร์ซอสข้นปรุงรสห...</td>\n      <td>2019-11-15T13:18:05+07:00</td>\n      <td>{'id': '122e9f06ed90411aab11ab162fea8770', 'gi...</td>\n      <td>...</td>\n      <td>Published</td>\n      <td>https://img.wongnai.com/p/400x0/2019/11/15/3fb...</td>\n      <td>ข้าวต้มสีนิลหมูสับ</td>\n      <td>0.0</td>\n      <td>0.0</td>\n      <td>0.0</td>\n      <td>UGC</td>\n      <td>recipes/ugc/1968c8c9d6a64509a8ea0893d3482d04</td>\n      <td>23.0</td>\n      <td>2-3 ท่าน</td>\n    </tr>\n    <tr>\n      <th>3e874deac09a45aaac02116f09e2e40a</th>\n      <td>0.0</td>\n      <td>39.0</td>\n      <td>1.0</td>\n      <td>30.0</td>\n      <td>2019-11-13T18:08:34+07:00</td>\n      <td>สูตรนี้ใช้เวลาต้มทั้งหมด1ชม.ครึ่ง หมูนุ่มอร่อย...</td>\n      <td></td>\n      <td>ขาหมูเผา, คนอร์ซอสข้นปรุงรสหมู, ผงคนอร์รสลาบ, ...</td>\n      <td>2019-11-13T18:46:03+07:00</td>\n      <td>{'id': '122e9f06ed90411aab11ab162fea8770', 'gi...</td>\n      <td>...</td>\n      <td>Published</td>\n      <td>https://img.wongnai.com/p/400x0/2019/11/13/146...</td>\n      <td>ต้มแซบขาหมู</td>\n      <td>0.0</td>\n      <td>0.0</td>\n      <td>0.0</td>\n      <td>UGC</td>\n      <td>recipes/ugc/3e874deac09a45aaac02116f09e2e40a</td>\n      <td>39.0</td>\n      <td>4-5 ท่าน</td>\n    </tr>\n    <tr>\n      <th>f0d38b95f6c742c7b450c748e4c1dee7</th>\n      <td>0.0</td>\n      <td>63.0</td>\n      <td>0.0</td>\n      <td>15.0</td>\n      <td>2019-11-10T14:10:03+07:00</td>\n      <td>สูตรนี้ใช้แป้งโรตีห่อ ปรุงรสชาติง่ายๆด้วยคนอร์...</td>\n      <td></td>\n      <td>แป้งโรตี, หมูบด, ไข่ไก่, ซอสข้นคนอร์รสหมู, แป้...</td>\n      <td>2019-11-10T20:11:53+07:00</td>\n      <td>{'id': '122e9f06ed90411aab11ab162fea8770', 'gi...</td>\n      <td>...</td>\n      <td>Published</td>\n      <td>https://img.wongnai.com/p/400x0/2019/11/10/737...</td>\n      <td>หมูกระเบื้อง</td>\n      <td>0.0</td>\n      <td>0.0</td>\n      <td>1.0</td>\n      <td>UGC</td>\n      <td>recipes/ugc/f0d38b95f6c742c7b450c748e4c1dee7</td>\n      <td>53.0</td>\n      <td>1/3 ท่าน</td>\n    </tr>\n    <tr>\n      <th>11a0d22d351e4f169244b15506862a5a</th>\n      <td>0.0</td>\n      <td>32.0</td>\n      <td>0.0</td>\n      <td>10.0</td>\n      <td>2019-11-10T14:13:46+07:00</td>\n      <td>น้ำจิ้มบ๊วยรสชาติเปรี้ยวๆ ทำใส่กระปุ๊กไว้จิ้มก...</td>\n      <td></td>\n      <td>น้ำบ๊วยพร้อมเนื้อ, น้ำตาล, เกลือ</td>\n      <td>2019-11-10T14:20:12+07:00</td>\n      <td>{'id': '122e9f06ed90411aab11ab162fea8770', 'gi...</td>\n      <td>...</td>\n      <td>Published</td>\n      <td>https://img.wongnai.com/p/400x0/2019/11/10/dfe...</td>\n      <td>น้ำจิ้มบ๊วย</td>\n      <td>0.0</td>\n      <td>0.0</td>\n      <td>0.0</td>\n      <td>UGC</td>\n      <td>recipes/ugc/11a0d22d351e4f169244b15506862a5a</td>\n      <td>32.0</td>\n      <td>1 ถ้วย</td>\n    </tr>\n    <tr>\n      <th>...</th>\n      <td>...</td>\n      <td>...</td>\n      <td>...</td>\n      <td>...</td>\n      <td>...</td>\n      <td>...</td>\n      <td>...</td>\n      <td>...</td>\n      <td>...</td>\n      <td>...</td>\n      <td>...</td>\n      <td>...</td>\n      <td>...</td>\n      <td>...</td>\n      <td>...</td>\n      <td>...</td>\n      <td>...</td>\n      <td>...</td>\n      <td>...</td>\n      <td>...</td>\n      <td>...</td>\n    </tr>\n    <tr>\n      <th>67c2629d1f264aff8070d5bb64afd5b9</th>\n      <td>0.0</td>\n      <td>312.0</td>\n      <td>1.0</td>\n      <td>0.0</td>\n      <td>2019-06-15T11:19:28+07:00</td>\n      <td>เมนูน้ำดื่มสมุนไพร​ ช่วยลดไขมันในเส้นเลือด​ ลด...</td>\n      <td></td>\n      <td>กระเจี๊ยบ​สด, มะตูม, พุทธา​จีนแห้ง, น้ำสะอาด, ...</td>\n      <td>2019-06-15T11:36:34+07:00</td>\n      <td>{'id': 'phingko08', 'gid': '09XiPSrgJPRRIufz0r...</td>\n      <td>...</td>\n      <td>Published</td>\n      <td>https://img.wongnai.com/p/400x0/2019/06/15/eb6...</td>\n      <td>สมุนไพรน้ำสามเกลอล้างไขมัน</td>\n      <td>2.0</td>\n      <td>0.0</td>\n      <td>3.0</td>\n      <td>UGC</td>\n      <td>recipes/ugc/67c2629d1f264aff8070d5bb64afd5b9</td>\n      <td>222.0</td>\n      <td>30​ ท่าน</td>\n    </tr>\n    <tr>\n      <th>2359f3e9a62947afab513369f9c48223</th>\n      <td>0.0</td>\n      <td>369.0</td>\n      <td>0.0</td>\n      <td>20.0</td>\n      <td>2019-06-14T12:01:46+07:00</td>\n      <td>เมนูยามว่าง​ กิจกรรมในครอบครัว​  ทานได้ทุกช่วง...</td>\n      <td></td>\n      <td>เส้นจันทน์, กระดูกสันหลังหมู, น้ำตาลกรวด, กระเ...</td>\n      <td>2019-06-14T12:25:42+07:00</td>\n      <td>{'id': 'phingko08', 'gid': '09XiPSrgJPRRIufz0r...</td>\n      <td>...</td>\n      <td>Published</td>\n      <td>https://img.wongnai.com/p/400x0/2019/06/14/f4f...</td>\n      <td>ก๋วยเตี๋ยว​ลูกชิ้นหมู</td>\n      <td>4.0</td>\n      <td>0.0</td>\n      <td>6.0</td>\n      <td>UGC</td>\n      <td>recipes/ugc/2359f3e9a62947afab513369f9c48223</td>\n      <td>189.0</td>\n      <td>10​ ท่าน​</td>\n    </tr>\n    <tr>\n      <th>f95e5625d5c84751ad74aa0199f1514d</th>\n      <td>0.0</td>\n      <td>269.0</td>\n      <td>0.0</td>\n      <td>10.0</td>\n      <td>2019-06-09T11:42:54+07:00</td>\n      <td>ทานได้ทุกวันทุกมื้ออาหาร​ ทำทานง่าย​ มีโปรตีน​...</td>\n      <td></td>\n      <td>เนื้อหมู​ สันคอหมู, รากผักชี, ผักชี, เต้าหู้ไข...</td>\n      <td>2019-07-30T12:05:38+07:00</td>\n      <td>{'id': 'phingko08', 'gid': '09XiPSrgJPRRIufz0r...</td>\n      <td>...</td>\n      <td>Published</td>\n      <td>https://img.wongnai.com/p/400x0/2019/06/09/1ae...</td>\n      <td>แกงจืดวุ้นเส้นเต้าหู้หมูสับ</td>\n      <td>2.0</td>\n      <td>0.0</td>\n      <td>3.0</td>\n      <td>UGC</td>\n      <td>recipes/ugc/f95e5625d5c84751ad74aa0199f1514d</td>\n      <td>179.0</td>\n      <td>4​ ท่าน​</td>\n    </tr>\n    <tr>\n      <th>56d306911b32433d9498580e692429b8</th>\n      <td>0.0</td>\n      <td>225.0</td>\n      <td>0.0</td>\n      <td>3.0</td>\n      <td>2019-05-10T15:31:01+07:00</td>\n      <td>เมนูทำทานง่าย​ ทำขายรวย​</td>\n      <td></td>\n      <td>ใบกระเพราแดง, พริกจินดา, กระเทียมโทน, น้ำมันถั...</td>\n      <td>2019-09-17T19:39:13+07:00</td>\n      <td>{'id': 'phingko08', 'gid': '09XiPSrgJPRRIufz0r...</td>\n      <td>...</td>\n      <td>Published</td>\n      <td>https://img.wongnai.com/p/400x0/2019/06/07/be5...</td>\n      <td>ผัดกระเพราหมู</td>\n      <td>2.0</td>\n      <td>0.0</td>\n      <td>3.0</td>\n      <td>UGC</td>\n      <td>recipes/ugc/56d306911b32433d9498580e692429b8</td>\n      <td>135.0</td>\n      <td>4​ ท่าน​</td>\n    </tr>\n    <tr>\n      <th>d994ca7deeb04eda9194710c68b08b09</th>\n      <td>0.0</td>\n      <td>399.0</td>\n      <td>1.0</td>\n      <td>30.0</td>\n      <td>2019-05-31T20:22:18+07:00</td>\n      <td>เมนูล้างสารพิษ​ เหมาะสำหรับผู้ต้องการลดน้ำหนัก</td>\n      <td></td>\n      <td>กะหล่ำปลี​, รากผักชี, สี่อิ๋วขาวสูตร1, ซอสเห็ด...</td>\n      <td>2019-06-06T08:38:26+07:00</td>\n      <td>{'id': 'phingko08', 'gid': '09XiPSrgJPRRIufz0r...</td>\n      <td>...</td>\n      <td>Published</td>\n      <td>https://img.wongnai.com/p/400x0/2019/06/06/b1e...</td>\n      <td>กะหล่ำปลี​ตุ๋น</td>\n      <td>2.0</td>\n      <td>0.0</td>\n      <td>4.0</td>\n      <td>UGC</td>\n      <td>recipes/ugc/d994ca7deeb04eda9194710c68b08b09</td>\n      <td>299.0</td>\n      <td>5​ ท่าน​</td>\n    </tr>\n  </tbody>\n</table>\n<p>3750 rows × 25 columns</p>\n</div>"
     },
     "metadata": {},
     "output_type": "execute_result",
     "execution_count": 49
    }
   ],
   "source": [
    "my_df.set_index('id')"
   ]
  },
  {
   "cell_type": "code",
   "execution_count": 109,
   "metadata": {},
   "outputs": [],
   "source": [
    "# my_df.to_excel('rawdata.xlsx', sheet_name='Sheet_name_1', engine='xlsxwriter')"
   ]
  },
  {
   "cell_type": "code",
   "execution_count": 110,
   "metadata": {},
   "outputs": [
    {
     "data": {
      "text/plain": [
       "3750"
      ]
     },
     "execution_count": 110,
     "metadata": {},
     "output_type": "execute_result"
    }
   ],
   "source": [
    "# len(my_df)"
   ]
  },
  {
   "cell_type": "code",
   "execution_count": 50,
   "metadata": {
    "pycharm": {
     "is_executing": false
    }
   },
   "outputs": [
    {
     "data": {
      "text/plain": "0       ผักคะน้า, หมูบด, คนอร์ซอสปรุงรสหมู, น้ำมะนาว, ...\n1       ข้าวสีนิล, น้ำสะอาด, หมูบด, คนอร์ซอสข้นปรุงรสห...\n2       ขาหมูเผา, คนอร์ซอสข้นปรุงรสหมู, ผงคนอร์รสลาบ, ...\n3       แป้งโรตี, หมูบด, ไข่ไก่, ซอสข้นคนอร์รสหมู, แป้...\n4                        น้ำบ๊วยพร้อมเนื้อ, น้ำตาล, เกลือ\n                              ...                        \n3745    กระเจี๊ยบ​สด, มะตูม, พุทธา​จีนแห้ง, น้ำสะอาด, ...\n3746    เส้นจันทน์, กระดูกสันหลังหมู, น้ำตาลกรวด, กระเ...\n3747    เนื้อหมู​ สันคอหมู, รากผักชี, ผักชี, เต้าหู้ไข...\n3748    ใบกระเพราแดง, พริกจินดา, กระเทียมโทน, น้ำมันถั...\n3749    กะหล่ำปลี​, รากผักชี, สี่อิ๋วขาวสูตร1, ซอสเห็ด...\nName: ingredientKeywords, Length: 3750, dtype: object"
     },
     "metadata": {},
     "output_type": "execute_result",
     "execution_count": 50
    }
   ],
   "source": [
    "my_df['ingredientKeywords']"
   ]
  },
  {
   "cell_type": "code",
   "execution_count": null,
   "outputs": [],
   "source": [
    "\n"
   ],
   "metadata": {
    "collapsed": false,
    "pycharm": {
     "name": "#%%\n"
    }
   }
  }
 ],
 "metadata": {
  "kernelspec": {
   "display_name": "Python 3",
   "language": "python",
   "name": "python3"
  },
  "language_info": {
   "codemirror_mode": {
    "name": "ipython",
    "version": 3
   },
   "file_extension": ".py",
   "mimetype": "text/x-python",
   "name": "python",
   "nbconvert_exporter": "python",
   "pygments_lexer": "ipython3",
   "version": "3.7.4"
  },
  "pycharm": {
   "stem_cell": {
    "cell_type": "raw",
    "source": [],
    "metadata": {
     "collapsed": false
    }
   }
  }
 },
 "nbformat": 4,
 "nbformat_minor": 2
}