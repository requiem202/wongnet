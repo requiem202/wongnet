{
 "cells": [
  {
   "cell_type": "markdown",
   "metadata": {},
   "source": [
    "## Extract ingredients and receipes"
   ]
  },
  {
   "cell_type": "code",
   "execution_count": 1,
   "metadata": {},
   "outputs": [],
   "source": [
    "import os\n",
    "import json\n",
    "import numpy as np\n",
    "import pandas as pd\n",
    "from multiprocessing import Pool\n",
    "from multiprocessing.dummy import Pool as ThreadPool\n",
    "from tqdm import tqdm"
   ]
  },
  {
   "cell_type": "code",
   "execution_count": 2,
   "metadata": {},
   "outputs": [],
   "source": [
    "data_dir = './data'\n",
    "# first_dirs = [x for x in os.listdir(data_dir) if os.path.isdir(os.path.join(data_dir, x)) and not x.startswith('.')]\n",
    "# second_dirs = [os.listdir(os.path.join(data_dir, x)) for x in first_dirs]"
   ]
  },
  {
   "cell_type": "code",
   "execution_count": 3,
   "metadata": {},
   "outputs": [],
   "source": [
    "def extract_json(d):\n",
    "    first_dirs = [x for x in os.listdir(data_dir) if os.path.isdir(os.path.join(data_dir, x)) and not x.startswith('.')]\n",
    "    second_dirs = [os.listdir(os.path.join(data_dir, x)) for x in first_dirs]\n",
    "    allfiles = [[os.path.join(data_dir, x, y) for y in ys] for x, ys in zip(first_dirs, second_dirs)]\n",
    "#     del first_dirs\n",
    "#     del second_dirs\n",
    "    allfiles_flat = [val for sublist in allfiles for val in sublist]\n",
    "#     del allfiles\n",
    "    return allfiles_flat\n",
    "   \n",
    "\n",
    "def to_dataframe(file_list):\n",
    "    df = pd.DataFrame()\n",
    "    for thf in file_list:\n",
    "        with open(thf, encoding='utf-8') as json_file:\n",
    "            data = json.load(json_file).get('data').get('page').get('entities')\n",
    "            for x in data:\n",
    "                df = df.append(x, ignore_index=True)\n",
    "                # print(df['id'])\n",
    "    return df"
   ]
  },
  {
   "cell_type": "code",
   "execution_count": 4,
   "metadata": {},
   "outputs": [],
   "source": [
    "my_df = to_dataframe(extract_json(data_dir))\n",
    "# my_df.set_index('id')\n",
    "# my_df"
   ]
  },
  {
   "cell_type": "code",
   "execution_count": 532,
   "metadata": {},
   "outputs": [],
   "source": [
    "ingredients = list()\n",
    "for x in my_df['ingredientKeywords'].str.split(','):\n",
    "    ingredients.append([y.strip() for y in x])\n",
    "#     ingredients.append(tuple(y.strip() for y in x))\n",
    "# ingredients"
   ]
  },
  {
   "cell_type": "code",
   "execution_count": 6,
   "metadata": {},
   "outputs": [
    {
     "data": {
      "text/plain": [
       "3750"
      ]
     },
     "execution_count": 6,
     "metadata": {},
     "output_type": "execute_result"
    }
   ],
   "source": [
    "len(ingredients)"
   ]
  },
  {
   "cell_type": "code",
   "execution_count": 7,
   "metadata": {},
   "outputs": [],
   "source": [
    "recipes = list()\n",
    "for _,x in my_df['title'].iteritems():\n",
    "    recipes.append(x.strip())\n",
    "# recipes"
   ]
  },
  {
   "cell_type": "code",
   "execution_count": 8,
   "metadata": {},
   "outputs": [
    {
     "data": {
      "text/plain": [
       "3750"
      ]
     },
     "execution_count": 8,
     "metadata": {},
     "output_type": "execute_result"
    }
   ],
   "source": [
    "len(recipes)"
   ]
  },
  {
   "cell_type": "code",
   "execution_count": 476,
   "metadata": {},
   "outputs": [],
   "source": [
    "_ingredients = {\n",
    "    'id': [],\n",
    "    'recipe': [],\n",
    "    'ingredient': []\n",
    "}\n",
    "for i, row in my_df.iterrows():\n",
    "    row_id = row['id']\n",
    "    row_title = row['title'].strip()\n",
    "    for ing in row['ingredientKeywords'].split(','):\n",
    "        if ing.strip() == '':\n",
    "#             print(row_title)\n",
    "            continue\n",
    "        _ingredients['id'].append(row_id)\n",
    "        _ingredients['recipe'].append(row_title)\n",
    "        _ingredients['ingredient'].append(ing.strip())\n",
    "df_ingredient = pd.DataFrame(_ingredients)\n",
    "del _ingredients"
   ]
  },
  {
   "cell_type": "markdown",
   "metadata": {},
   "source": [
    "## Cleaning"
   ]
  },
  {
   "cell_type": "code",
   "execution_count": 483,
   "metadata": {},
   "outputs": [],
   "source": [
    "def clean_ingre(x: str):\n",
    "    x = x.strip('*').\\\n",
    "        strip('+').\\\n",
    "        strip('-').\\\n",
    "        strip('~').\\\n",
    "        strip(':').\\\n",
    "        strip('.').\\\n",
    "        strip('1.').\\\n",
    "        strip('2.').\\\n",
    "        strip('3.').\\\n",
    "        strip('4.').\\\n",
    "        strip('5.').\\\n",
    "        strip('6.').\\\n",
    "        strip('7.').\\\n",
    "        strip('8.').\\\n",
    "        strip('9.').\\\n",
    "        strip('10.').\\\n",
    "        strip(' ')\n",
    "    if x == '###วัตถุดิบซอส###' or\\\n",
    "       x == '###วัตถุดิบสำหรับซุป###':\n",
    "        return ''\n",
    "    if x.startswith('A) ') or\\\n",
    "        x.startswith('B) ') or\\\n",
    "        x.startswith('C) ') or\\\n",
    "        x.startswith('D) ') or\\\n",
    "        x.startswith('E) ') or\\\n",
    "        x.startswith('A. ') or\\\n",
    "        x.startswith('B. '):\n",
    "        return ''\n",
    "    if 'กระดาษ' in x.lower():\n",
    "        return ''\n",
    "    if 'ส่วนผสม' in x.lower():\n",
    "        return ''\n",
    "    \n",
    "    x = x.replace('\\u200d','')\n",
    "    x = x.replace('\\u200b','')\n",
    "    return x"
   ]
  },
  {
   "cell_type": "code",
   "execution_count": 484,
   "metadata": {},
   "outputs": [],
   "source": [
    "def translate(x):\n",
    "    \n",
    "    if 'bacon' in x.lower():\n",
    "        return 'เบคอน'\n",
    "    if 'เบค่อน' in x:\n",
    "        return 'เบคอน'\n",
    "    if 'เบคอน' in x:\n",
    "        return 'เบคอน'\n",
    "    \n",
    "    if 'มาม่า' in x:\n",
    "        return 'บะหมี่กึ่งสำเร็จรูป'\n",
    "    if 'บะหมี่กึ่ง' in x:\n",
    "        return 'บะหมี่กึ่งสำเร็จรูป'\n",
    "    \n",
    "    if 'บะหมี่' in x and 'บะหมี่กึ่ง' not in x:\n",
    "        return 'บะหมี่'\n",
    "    \n",
    "    if 'มัสตาร์ด' in x or 'mustard' in x.lower():\n",
    "        return 'มัสตาร์ด'\n",
    "    \n",
    "    if 'ช็อค' in x or 'chocolate' in x.lower():\n",
    "        return 'ช็อคโกแลต'\n",
    "    \n",
    "    if 'โกโก้' in x or 'cacao' in x.lower():\n",
    "        return 'โกโก้'\n",
    "    \n",
    "    if 'โย' in x or 'yogurt' in x.lower():\n",
    "        return 'โยเกิร์ต'\n",
    "    \n",
    "    if 'วานิล' in x or 'วนิล' in x or 'vanilla' in x.lower():\n",
    "        return 'วานิลลา'\n",
    "    \n",
    "    if 'เนย' in x or 'butter' in x.lower():\n",
    "        return 'เนย'\n",
    "    \n",
    "    if 'มาการีน' in x or 'margarine' in x.lower():\n",
    "        return 'มาการีน'\n",
    "    \n",
    "    if 'กะทิ' in x:\n",
    "        return 'เนย'\n",
    "    \n",
    "    if 'ซี่โครง' in x and 'ซี่โครงไก่' not in x:\n",
    "        return 'ซี่โครงหมู'\n",
    "    \n",
    "    if 'คนอร์' in x:\n",
    "        if 'หมู' in x:\n",
    "            return 'คนอร์หมู'\n",
    "        if 'ไก่' in x:\n",
    "            return 'คนอร์ไก่'\n",
    "        if 'ลาบ' in x:\n",
    "            return 'คนอร์ลาบ'\n",
    "        if 'เห็ด' in x:\n",
    "            return 'คนอร์เห็ด'\n",
    "        if 'ผัก' in x:\n",
    "            return 'คนอร์ผัก'\n",
    "        if 'ซอส' in x or 'ขวด':\n",
    "            return 'คนอร์ซอส'\n",
    "        if 'ก้อน' in x:\n",
    "            return 'คนอร์ก้อน'\n",
    "        if 'ผง' in x:\n",
    "            return 'คนอร์ผง'\n",
    "            \n",
    "    \n",
    "#     if 'คนอร์' in x\n",
    "    \n",
    "#     if 'ไอซ' in x or 'icing' in x.lower():\n",
    "#         return 'ไอซิ่ง'\n",
    "    \n",
    "    return x"
   ]
  },
  {
   "cell_type": "code",
   "execution_count": 521,
   "metadata": {},
   "outputs": [],
   "source": [
    "# df_ingredient = df_ingredient[~df_ingredient['ingredient'].isnull()]\n",
    "# df_ingredient = df_ingredient[~df_ingredient['ingredient'].isna()]\n",
    "df_ingredient.loc[:,'ingredient'] = df_ingredient.loc[:,'ingredient'].apply(clean_ingre)\n",
    "#ผักชี before chesse\n",
    "df_ingredient.loc[df_ingredient['ingredient'].str.contains('ผักชี', case=False),'ingredient'] = 'ผักชี'\n",
    "df_ingredient.loc[\n",
    "    (\n",
    "        (df_ingredient['ingredient'].str.contains('ชีส', case=False)) |\n",
    "        (df_ingredient['ingredient'].str.contains('cheese', case=False))\n",
    "    )\n",
    "    , 'ingredient'] = 'ชีส'\n",
    "\n",
    "df_ingredient.loc[df_ingredient['ingredient'].str.contains('กลิ่นกาแฟ', case=False),'ingredient'] = 'กลิ่นกาแฟ'\n",
    "df_ingredient.loc[\n",
    "    (df_ingredient['ingredient'].str.contains('espresso', case=False)) |\n",
    "    (\n",
    "        (df_ingredient['ingredient'].str.contains('กาแฟ', case=False)) &\n",
    "        (~df_ingredient['ingredient'].str.contains('กลิ่นกาแฟ', case=False))\n",
    "    )\n",
    "    , 'ingredient'] = 'กาแฟ'\n",
    "\n",
    "df_ingredient.loc[df_ingredient['ingredient'].str.contains('น้ำปลา', case=False),'ingredient'] = 'น้ำปลา'\n",
    "df_ingredient.loc[df_ingredient['ingredient'].str.contains('ปลาหมึก', case=False),'ingredient'] = 'ปลาหมึก'\n",
    "df_ingredient.loc[df_ingredient['ingredient'].str.contains('กล้วย', case=False),'ingredient'] = 'กล้วย'\n",
    "\n",
    "df_ingredient.loc[df_ingredient['ingredient'].str.contains('เม็ดมะม่วง', case=False),'ingredient'] = 'เม็ดมะม่วงหิมพานต์'\n",
    "df_ingredient.loc[df_ingredient['ingredient'].str.contains('เมล็ดมะม่วง', case=False),'ingredient'] = 'เม็ดมะม่วงหิมพานต์'\n",
    "df_ingredient.loc[df_ingredient['ingredient'].str.contains('ถั่วหิมพานต์', case=False),'ingredient'] = 'เม็ดมะม่วงหิมพานต์'\n",
    "df_ingredient.loc[df_ingredient['ingredient'].str.contains('มะม่วงหิมพานต์', case=False),'ingredient'] = 'เม็ดมะม่วงหิมพานต์'\n",
    "# df_ingredient.loc[df_ingredient['ingredient'].str.contains('เมล็ดมะม่วง', case=False),'ingredient'] = 'เม็ดมะม่วงหิมพานต์'\n",
    "\n",
    "df_ingredient.loc[df_ingredient['ingredient'].str.contains('ไอซ', case=False),'ingredient'] = 'ไอซิ่ง'\n",
    "df_ingredient.loc[df_ingredient['ingredient'].str.contains('icing', case=False),'ingredient'] = 'ไอซิ่ง'\n",
    "\n",
    "df_ingredient.loc[df_ingredient['ingredient'].str.contains('น้ำตาล', case=False),'ingredient'] = 'น้ำตาล'\n",
    "df_ingredient.loc[df_ingredient['ingredient'].str.contains('sugar', case=False),'ingredient'] = 'น้ำตาล'\n",
    "\n",
    "df_ingredient.loc[df_ingredient['ingredient'].str.contains('กะป', case=False),'ingredient'] = 'กะปิ'\n",
    "\n",
    "df_ingredient.loc[df_ingredient['ingredient'].str.contains('กะหล่ำ', case=False),'ingredient'] = 'กะหล่ำ'\n",
    "df_ingredient.loc[df_ingredient['ingredient'].str.contains('กระหล่ำ', case=False),'ingredient'] = 'กะหล่ำ'\n",
    "\n",
    "df_ingredient.loc[df_ingredient['ingredient'].str.contains('กระชาย', case=False),'ingredient'] = 'กระชาย'\n",
    "\n",
    "df_ingredient.loc[df_ingredient['ingredient'].str.contains('กะเจี๊ยบ', case=False),'ingredient'] = 'กระเจี๊ยบ'\n",
    "df_ingredient.loc[df_ingredient['ingredient'].str.contains('กระเจี๊ยบ', case=False),'ingredient'] = 'กระเจี๊ยบ'\n",
    "\n",
    "df_ingredient.loc[df_ingredient['ingredient'].str.contains('garlic', case=False),'ingredient'] = 'กระเทียม'\n",
    "df_ingredient.loc[df_ingredient['ingredient'].str.contains('กะเทียม', case=False),'ingredient'] = 'กระเทียม'\n",
    "df_ingredient.loc[df_ingredient['ingredient'].str.contains('กระเทียม', case=False),'ingredient'] = 'กระเทียม'\n",
    "\n",
    "df_ingredient.loc[df_ingredient['ingredient'].str.contains('กุนเชียง', case=False),'ingredient'] = 'กุนเชียง'\n",
    "\n",
    "df_ingredient.loc[df_ingredient['ingredient'].str.contains('กระดูกหมู', case=False),'ingredient'] = 'กระดูกหมู'\n",
    "\n",
    "df_ingredient.loc[df_ingredient['ingredient'].str.contains('เต้าหู้ไข่', case=False),'ingredient'] = 'เต้าหู้ไข่'\n",
    "df_ingredient.loc[df_ingredient['ingredient'].str.contains('ไข่เค็ม', case=False),'ingredient'] = 'ไข่เค็ม'\n",
    "df_ingredient.loc[df_ingredient['ingredient'].str.contains('ไข่ขาว', case=False),'ingredient'] = 'ไข่ขาว'\n",
    "df_ingredient.loc[df_ingredient['ingredient'].str.contains('ไข่แดง', case=False),'ingredient'] = 'ไข่แดง'\n",
    "df_ingredient.loc[df_ingredient['ingredient'].str.contains('ไข่ดาว', case=False),'ingredient'] = 'ไข่ดาว'\n",
    "df_ingredient.loc[df_ingredient['ingredient'].str.contains('ไข่เจียว', case=False),'ingredient'] = 'ไข่เจียว'\n",
    "df_ingredient.loc[df_ingredient['ingredient'].str.contains('ไข่ไก่', case=False),'ingredient'] = 'ไข่ไก่'\n",
    "\n",
    "df_ingredient.loc[df_ingredient['ingredient'].str.contains('ไส้กรอก', case=False),'ingredient'] = 'ไส้กรอก'\n",
    "\n",
    "df_ingredient.loc[df_ingredient['ingredient'].str.contains('สามชั้น', case=False),'ingredient'] = 'หมูสามชั้น'\n",
    "df_ingredient.loc[df_ingredient['ingredient'].str.contains('3ชั้น', case=False),'ingredient'] = 'หมูสามชั้น'\n",
    "df_ingredient.loc[df_ingredient['ingredient'].str.contains('หมูมามชั้น', case=False),'ingredient'] = 'หมูสามชั้น'\n",
    "\n",
    "df_ingredient.loc[df_ingredient['ingredient'].str.contains('กุ้งฝอย', case=False),'ingredient'] = 'กุ้งฝอย'\n",
    "df_ingredient.loc[df_ingredient['ingredient'].str.contains('ไข่กุ้ง', case=False),'ingredient'] = 'ไข่กุ้ง'\n",
    "\n",
    "# df_ingredient.loc[df_ingredient['ingredient'].str.contains('ขนมปัง', case=False),'ingredient'] = 'ขนมปัง'\n",
    "\n",
    "df_ingredient.loc[:,'ingredient'] = df_ingredient.loc[:,'ingredient'].apply(clean_ingre).apply(translate)\n",
    "\n",
    "df_ingredient.loc[df_ingredient['ingredient'].str.contains('หมูบด', case=False),'ingredient'] = 'หมูสับ'\n",
    "df_ingredient.loc[df_ingredient['ingredient'].str.contains('ข้าวตัง', case=False),'ingredient'] = 'ข้าวตัง'\n",
    "df_ingredient.loc[df_ingredient['ingredient'].str.contains('หมูหยอง', case=False),'ingredient'] = 'หมูหยอง'\n",
    "df_ingredient.loc[df_ingredient['ingredient'].str.contains('หมูหย็อง', case=False),'ingredient'] = 'หมูหยอง'\n",
    "df_ingredient.loc[df_ingredient['ingredient'].str.contains('หมูสับ', case=False),'ingredient'] = 'หมูสับ'\n",
    "df_ingredient.loc[df_ingredient['ingredient'].str.contains('เลือดหมู', case=False),'ingredient'] = 'เลือดหมู'\n",
    "df_ingredient.loc[df_ingredient['ingredient'].str.contains('ตับหมู', case=False),'ingredient'] = 'ตับหมู'\n",
    "df_ingredient.loc[df_ingredient['ingredient'].str.contains('สันนอก', case=False),'ingredient'] = 'หมูสันนอก'\n",
    "df_ingredient.loc[df_ingredient['ingredient'].str.contains('หมูสันใน', case=False),'ingredient'] = 'หมูสันใน'\n",
    "df_ingredient.loc[df_ingredient['ingredient'].str.contains('สันในหมู', case=False),'ingredient'] = 'หมูสันใน'\n",
    "df_ingredient.loc[\n",
    "    (df_ingredient['ingredient'].str.contains('หมู', case=False)) &\n",
    "    (df_ingredient['ingredient'].str.contains('สันใน', case=False))\n",
    "    ,'ingredient'] = 'หมูสันใน'\n",
    "df_ingredient.loc[df_ingredient['ingredient'].str.contains('สันในไก่', case=False),'ingredient'] = 'สันในไก่'\n",
    "df_ingredient.loc[df_ingredient['ingredient'].str.contains('ไก่บด', case=False),'ingredient'] = 'ไก่สับ'\n",
    "df_ingredient.loc[df_ingredient['ingredient'].str.contains('น้ำสลัด', case=False),'ingredient'] = 'น้ำสลัด'\n",
    "df_ingredient.loc[df_ingredient['ingredient'].str.contains('ซีอิ้วดำ', case=False),'ingredient'] = 'ซีอิ้วดำ'\n",
    "df_ingredient.loc[df_ingredient['ingredient'].str.contains('ซีอิ้วหวาน', case=False),'ingredient'] = 'ซีอิ้วดำ'\n",
    "df_ingredient.loc[df_ingredient['ingredient'].str.contains('ซีอิ้วข', case=False),'ingredient'] = 'ซีอิ้วขาว'\n",
    "df_ingredient.loc[df_ingredient['ingredient'].str.contains('ซีอิ๊วข', case=False),'ingredient'] = 'ซีอิ้วขาว'\n",
    "df_ingredient.loc[df_ingredient['ingredient'].str.contains('ซีอิ้วปรุง', case=False),'ingredient'] = 'ซีอิ้วขาว'\n",
    "df_ingredient.loc[\n",
    "    (df_ingredient['ingredient'].str.contains('ซีอิ้ว', case=False)) &\n",
    "    (df_ingredient['ingredient'] != 'ซีอิ้วดำ')\n",
    "    ,'ingredient'] = 'ซีอิ้วขาว'\n",
    "df_ingredient.loc[df_ingredient['ingredient'].str.contains('กุ้งแห้ง', case=False),'ingredient'] = 'กุ้งแห้ง'\n",
    "df_ingredient.loc[df_ingredient['ingredient'].str.contains('หมูยอ', case=False),'ingredient'] = 'หมูยอ'\n",
    "df_ingredient.loc[df_ingredient['ingredient'].str.contains('หนังหมู', case=False),'ingredient'] = 'หนังหมู'\n",
    "df_ingredient.loc[df_ingredient['ingredient'].str.contains('แฮม', case=False),'ingredient'] = 'แฮม'\n",
    "df_ingredient.loc[df_ingredient['ingredient'].str.contains('ทูน่า', case=False),'ingredient'] = 'ทูน่า'\n",
    "df_ingredient.loc[df_ingredient['ingredient'].str.contains('น้ำมันพืช', case=False),'ingredient'] = 'น้ำมันพืช'\n",
    "df_ingredient.loc[df_ingredient['ingredient'].str.contains('สันคอหมู', case=False),'ingredient'] = 'สันคอหมู'\n",
    "df_ingredient.loc[df_ingredient['ingredient'].str.contains('หมูสันคอ', case=False),'ingredient'] = 'สันคอหมู'\n",
    "df_ingredient.loc[df_ingredient['ingredient'].str.contains('หมูสไล', case=False),'ingredient'] = 'หมูสไลด์'\n",
    "df_ingredient.loc[df_ingredient['ingredient'].str.contains('กากหมู', case=False),'ingredient'] = 'กากหมู'\n",
    "df_ingredient.loc[df_ingredient['ingredient'].str.contains('เนื้อหมู', case=False),'ingredient'] = 'เนื้อหมู'\n",
    "df_ingredient.loc[df_ingredient['ingredient'].str.contains('หมูติดมัน', case=False),'ingredient'] = 'หมูติดมัน'\n",
    "df_ingredient.loc[\n",
    "    (df_ingredient['ingredient'].str.contains('หมู', case=False)) &\n",
    "    (df_ingredient['ingredient'].str.contains('ผง', case=False))\n",
    "    ,'ingredient'] = 'ผงปรุงรสหมู'\n",
    "df_ingredient.loc[df_ingredient['ingredient'].str.contains('หมูเด้ง', case=False),'ingredient'] = 'หมูเด้ง'\n",
    "df_ingredient.loc[df_ingredient['ingredient'].str.contains('หมูบะช่อ', case=False),'ingredient'] = 'หมูเด้ง'\n",
    "df_ingredient.loc[df_ingredient['ingredient'].str.contains('หมูชิ้น', case=False),'ingredient'] = 'หมูชิ้น'\n",
    "df_ingredient.loc[df_ingredient['ingredient'].str.contains('ไส้หมู', case=False),'ingredient'] = 'ไส้หมู'\n",
    "df_ingredient.loc[df_ingredient['ingredient'].str.contains('หัวหมู', case=False),'ingredient'] = 'หัวหมู'\n",
    "df_ingredient.loc[df_ingredient['ingredient'].str.contains('ลูกชิ้นหมู', case=False),'ingredient'] = 'ลูกชิ้นหมู'\n",
    "df_ingredient.loc[\n",
    "    (df_ingredient['ingredient'].str.contains('หมู', case=False)) &\n",
    "    (df_ingredient['ingredient'].str.contains('ซุป', case=False))\n",
    "    ,'ingredient'] = 'ซุปก้อนรสหมู'\n",
    "df_ingredient.loc[df_ingredient['ingredient'].str.contains('หมูหมัก', case=False),'ingredient'] = 'เนื้อหมู'\n",
    "df_ingredient.loc[df_ingredient['ingredient'].str.contains('หมูหั่น', case=False),'ingredient'] = 'เนื้อหมู'\n",
    "df_ingredient.loc[df_ingredient['ingredient'].str.contains('หมูนุ่ม', case=False),'ingredient'] = 'เนื้อหมู'\n",
    "df_ingredient.loc[df_ingredient['ingredient'].str.contains('เนื้ิอหมู', case=False),'ingredient'] = 'เนื้อหมู'\n",
    "df_ingredient.loc[df_ingredient['ingredient'].str.contains('น้ำมันหอย', case=False),'ingredient'] = 'น้ำมันหอย'\n",
    "df_ingredient.loc[df_ingredient['ingredient'].str.contains('ขาหมู', case=False),'ingredient'] = 'ขาหมู'\n",
    "df_ingredient.loc[\n",
    "    (df_ingredient['ingredient'].str.contains('หมู', case=False)) &\n",
    "    (df_ingredient['ingredient'].str.contains('แดง', case=False))\n",
    "    ,'ingredient'] = 'หมูแดง'\n",
    "df_ingredient.loc[\n",
    "    (df_ingredient['ingredient'].str.contains('มันหมู', case=False)) &\n",
    "    (df_ingredient['ingredient'] != 'น้ำมันหมู')\n",
    "    ,'ingredient'] = 'มันหมู'\n",
    "df_ingredient.loc[df_ingredient['ingredient'].str.contains('ไส้หมู', case=False),'ingredient'] = 'ไส้หมู'\n",
    "df_ingredient.loc[df_ingredient['ingredient'].str.contains('ใส้หมู', case=False),'ingredient'] = 'ไส้หมู'\n",
    "df_ingredient.loc[df_ingredient['ingredient'].str.contains('คอหมู', case=False),'ingredient'] = 'คอหมู'\n",
    "df_ingredient.loc[df_ingredient['ingredient'].str.contains('โบโล', case=False),'ingredient'] = 'โบโลน่า'\n",
    "df_ingredient.loc[df_ingredient['ingredient'].str.contains('หมูแผ่น', case=False),'ingredient'] = 'หมูแผ่น'\n",
    "df_ingredient.loc[df_ingredient['ingredient'].str.contains('หมูทอด', case=False),'ingredient'] = 'หมูทอด'\n",
    "df_ingredient.loc[df_ingredient['ingredient'].str.contains('หมูทอด', case=False),'ingredient'] = 'หมูทอด'\n",
    "df_ingredient.loc[df_ingredient['ingredient'].str.contains('หมูฝอ', case=False),'ingredient'] = 'หมูฝอย'\n",
    "df_ingredient.loc[df_ingredient['ingredient'].str.contains('น้ำเปล่า', case=False),'ingredient'] = 'น้ำเปล่า'\n",
    "df_ingredient.loc[df_ingredient['ingredient'].str.contains('หมูชิ้น', case=False),'ingredient'] = 'เนื้อหมู'\n",
    "df_ingredient.loc[df_ingredient['ingredient'].str.contains('หมู ', case=False),'ingredient'] = 'เนื้อหมู'\n",
    "df_ingredient.loc[df_ingredient['ingredient'].str.contains('แคร็กเกอร์', case=False),'ingredient'] = 'แครกเกอร์'\n",
    "df_ingredient.loc[df_ingredient['ingredient'].str.contains('แครกเกอร์', case=False),'ingredient'] = 'แครกเกอร์'\n",
    "df_ingredient.loc[df_ingredient['ingredient'].str.contains('ลูกชิ้นปลา', case=False),'ingredient'] = 'ลูกชิ้นปลา'\n",
    "df_ingredient.loc[df_ingredient['ingredient'].str.contains('แซล', case=False),'ingredient'] = 'แซลม่อน'\n",
    "df_ingredient.loc[df_ingredient['ingredient'].str.contains('ปลาข้าวสาร', case=False),'ingredient'] = 'ปลาข้าวสาร'\n",
    "df_ingredient.loc[df_ingredient['ingredient'].str.contains('หอยลาย', case=False),'ingredient'] = 'หอยลาย'\n",
    "df_ingredient.loc[df_ingredient['ingredient'].str.contains('น้ำพริกเผา', case=False),'ingredient'] = 'น้ำพริกเผา'\n",
    "df_ingredient.loc[df_ingredient['ingredient'].str.contains('ปลาทู', case=False),'ingredient'] = 'ปลาทู'\n",
    "df_ingredient.loc[df_ingredient['ingredient'].str.contains('ปลาสลิด', case=False),'ingredient'] = 'ปลาสลิด'\n",
    "df_ingredient.loc[df_ingredient['ingredient'].str.contains('ปลาดอลลี่', case=False),'ingredient'] = 'ปลาดอลลี่'\n",
    "df_ingredient.loc[df_ingredient['ingredient'].str.contains('ปลาดอร์รี่', case=False),'ingredient'] = 'ปลาดอลลี่'\n",
    "df_ingredient.loc[df_ingredient['ingredient'].str.contains('ปลาดอรี่', case=False),'ingredient'] = 'ปลาดอลลี่'\n",
    "df_ingredient.loc[df_ingredient['ingredient'].str.contains('น้ำสต็อ', case=False),'ingredient'] = 'น้ำสต็อก'\n",
    "df_ingredient.loc[df_ingredient['ingredient'].str.contains('าร้า', case=False),'ingredient'] = 'ปลาร้า'\n",
    "df_ingredient.loc[df_ingredient['ingredient'].str.contains('ปลานิ', case=False),'ingredient'] = 'ปลานิล'\n",
    "df_ingredient.loc[df_ingredient['ingredient'].str.contains('พริกไทยดำ', case=False),'ingredient'] = 'พริกไทดำ'\n",
    "df_ingredient.loc[df_ingredient['ingredient'].str.contains('พริกไทดำ', case=False),'ingredient'] = 'พริกไทดำ'\n",
    "df_ingredient.loc[df_ingredient['ingredient'].str.contains('พริกไทยขาว', case=False),'ingredient'] = 'พริกไทขาว'\n",
    "df_ingredient.loc[df_ingredient['ingredient'].str.contains('พริกไทขาว', case=False),'ingredient'] = 'พริกไทขาว'\n",
    "df_ingredient.loc[df_ingredient['ingredient'].str.contains('ปลากระป๋อง', case=False),'ingredient'] = 'ปลากระป๋อง'\n",
    "df_ingredient.loc[df_ingredient['ingredient'].str.contains('ปลาซาบะ', case=False),'ingredient'] = 'ปลาซาบะ'\n",
    "df_ingredient.loc[df_ingredient['ingredient'].str.contains('ปลาส้ม', case=False),'ingredient'] = 'ปลาส้ม'\n",
    "df_ingredient.loc[df_ingredient['ingredient'].str.contains('ปลาตะเพียน', case=False),'ingredient'] = 'ปลาตะเพียน'\n",
    "df_ingredient.loc[df_ingredient['ingredient'].str.contains('ปลากรา', case=False),'ingredient'] = 'ปลากราย'\n",
    "df_ingredient.loc[df_ingredient['ingredient'].str.contains('ปลาสำลี', case=False),'ingredient'] = 'ปลาสำลี'\n",
    "df_ingredient.loc[df_ingredient['ingredient'].str.contains('จาระเม็ด', case=False),'ingredient'] = 'ปลาจาระเม็ด'\n",
    "df_ingredient.loc[df_ingredient['ingredient'].str.contains('จรเม็ด', case=False),'ingredient'] = 'ปลาจาระเม็ด'\n",
    "df_ingredient.loc[df_ingredient['ingredient'].str.contains('ปลาเค็ม', case=False),'ingredient'] = 'ปลาเค็ม'\n",
    "df_ingredient.loc[df_ingredient['ingredient'].str.contains('ปลาเก๋า', case=False),'ingredient'] = 'ปลาเก๋า'\n",
    "df_ingredient.loc[df_ingredient['ingredient'].str.contains('ปลาช่อน', case=False),'ingredient'] = 'ปลาช่อน'\n",
    "df_ingredient.loc[df_ingredient['ingredient'].str.contains('ถั่วลิสง', case=False),'ingredient'] = 'ถั่วลิสง'\n",
    "df_ingredient.loc[df_ingredient['ingredient'].str.contains('almond', case=False),'ingredient'] = 'อัลมอนด์'\n",
    "df_ingredient.loc[df_ingredient['ingredient'].str.contains('อัลมอนด์', case=False),'ingredient'] = 'อัลมอนด์'\n",
    "df_ingredient.loc[df_ingredient['ingredient'].str.contains('ปีกไก่', case=False),'ingredient'] = 'ปีกไก่'\n",
    "df_ingredient.loc[df_ingredient['ingredient'].str.contains('เมล็ดฟักทอง', case=False),'ingredient'] = 'เมล็ดฟักทอง'\n",
    "df_ingredient.loc[df_ingredient['ingredient'].str.contains('เกลือ', case=False),'ingredient'] = 'เกลือ'\n",
    "df_ingredient.loc[df_ingredient['ingredient'].str.contains('salt', case=False),'ingredient'] = 'เกลือ'\n",
    "df_ingredient.loc[\n",
    "    (df_ingredient['ingredient'].str.contains('น้ำ', case=False)) &\n",
    "    (df_ingredient['ingredient'].str.contains('ปลา', case=False))\n",
    "    ,'ingredient'] = 'น้ำปลา'\n",
    "df_ingredient.loc[df_ingredient['ingredient'].str.contains('เคยกุ้ง', case=False),'ingredient'] = 'เคยกุ้ง'\n",
    "df_ingredient.loc[df_ingredient['ingredient'].str.contains('คางกุ้ง', case=False),'ingredient'] = 'คางกุ้ง'\n",
    "df_ingredient.loc[df_ingredient['ingredient'].str.contains('ก้ามกุ้ง', case=False),'ingredient'] = 'ก้ามกุ้ง'\n",
    "df_ingredient.loc[df_ingredient['ingredient'].str.contains('ไช่กุ้ง', case=False),'ingredient'] = 'ไข่กุ้ง'\n",
    "df_ingredient.loc[df_ingredient['ingredient'].str.contains('กุ้งสด', case=False),'ingredient'] = 'กุ้ง'\n",
    "df_ingredient.loc[df_ingredient['ingredient'].str.contains('กุ้งขาว', case=False),'ingredient'] = 'กุ้ง'\n",
    "df_ingredient.loc[df_ingredient['ingredient'].str.contains('กุ้งนาง', case=False),'ingredient'] = 'กุ้ง'\n",
    "df_ingredient.loc[df_ingredient['ingredient'].str.contains('กุ้งสับ', case=False),'ingredient'] = 'กุ้ง'\n",
    "df_ingredient.loc[df_ingredient['ingredient'].str.contains('กุ้งตัวเล็ก', case=False),'ingredient'] = 'กุ้ง'\n",
    "df_ingredient.loc[df_ingredient['ingredient'].str.contains('กุ้งชีแฮ้', case=False),'ingredient'] = 'กุ้ง'\n",
    "df_ingredient.loc[df_ingredient['ingredient'].str.contains('กุ้งชี้แฮ้', case=False),'ingredient'] = 'กุ้ง'\n",
    "df_ingredient.loc[df_ingredient['ingredient'].str.contains('กุ้งสด', case=False),'ingredient'] = 'กุ้ง'\n",
    "df_ingredient.loc[df_ingredient['ingredient'].str.contains('กุ้งลวก', case=False),'ingredient'] = 'กุ้ง'\n",
    "df_ingredient.loc[df_ingredient['ingredient'].str.contains('กุ้ง ไซด์ใหญ่', case=False),'ingredient'] = 'กุ้ง'\n",
    "df_ingredient.loc[df_ingredient['ingredient'].str.contains('🍤', case=False),'ingredient'] = 'กุ้ง'\n",
    "df_ingredient.loc[df_ingredient['ingredient'].str.contains('กุ้งแช่แข็ง', case=False),'ingredient'] = 'กุ้ง'\n",
    "df_ingredient.loc[df_ingredient['ingredient'].str.contains('เนื้อกุ้ง', case=False),'ingredient'] = 'กุ้ง'\n",
    "df_ingredient.loc[df_ingredient['ingredient'].str.contains('กุ้ง ตัดหัว', case=False),'ingredient'] = 'กุ้ง'\n",
    "df_ingredient.loc[df_ingredient['ingredient'].str.contains('กุ้งแก้ว', case=False),'ingredient'] = 'กุ้ง'\n",
    "df_ingredient.loc[df_ingredient['ingredient'].str.contains('กุ้งเป็นตัว', case=False),'ingredient'] = 'กุ้ง'\n",
    "df_ingredient.loc[df_ingredient['ingredient'].str.contains('กุ้งขนาดเล็ก', case=False),'ingredient'] = 'กุ้ง'\n",
    "df_ingredient.loc[df_ingredient['ingredient'].str.contains('กุ้งสุก', case=False),'ingredient'] = 'กุ้ง'\n",
    "df_ingredient.loc[df_ingredient['ingredient'].str.contains('กุ้งทอด', case=False),'ingredient'] = 'กุ้งทอด'\n",
    "df_ingredient.loc[df_ingredient['ingredient'].str.contains('น้ำพริกมันกุ้ง', case=False),'ingredient'] = 'น้ำพริกมันกุ้ง'\n",
    "df_ingredient.loc[df_ingredient['ingredient'].str.contains('กุ้งตัวๆ', case=False),'ingredient'] = 'กุ้ง'\n",
    "df_ingredient.loc[df_ingredient['ingredient'].str.contains('กุ้งแกะ', case=False),'ingredient'] = 'กุ้ง'\n",
    "df_ingredient.loc[df_ingredient['ingredient'].str.contains('กุ้งต้ม', case=False),'ingredient'] = 'กุ้ง'\n",
    "df_ingredient.loc[df_ingredient['ingredient'].str.contains('กุ้งสเ', case=False),'ingredient'] = 'กุ้ง'\n",
    "df_ingredient.loc[df_ingredient['ingredient'].str.contains('กุ้งแชบ๊วย', case=False),'ingredient'] = 'กุ้ง'\n",
    "df_ingredient.loc[df_ingredient['ingredient'].str.contains('กุ้งหรือ', case=False),'ingredient'] = 'กุ้ง'\n",
    "df_ingredient.loc[df_ingredient['ingredient'].str.contains('กุ้งปอกเปลือก', case=False),'ingredient'] = 'กุ้ง'\n",
    "df_ingredient.loc[df_ingredient['ingredient'].str.contains('กุ้งไซส์ใหญ่', case=False),'ingredient'] = 'กุ้ง'\n",
    "df_ingredient.loc[df_ingredient['ingredient'].str.contains('กุ้ง 3 ตัว', case=False),'ingredient'] = 'กุ้ง'\n",
    "df_ingredient.loc[df_ingredient['ingredient'].str.contains('กุ้งลายเสือ', case=False),'ingredient'] = 'กุ้งลายเสือ'\n",
    "df_ingredient.loc[df_ingredient['ingredient'].str.contains('ล็อบสเตอร์', case=False),'ingredient'] = 'ล็อบสเตอร์'\n",
    "df_ingredient.loc[df_ingredient['ingredient'].str.contains('lobster', case=False),'ingredient'] = 'ล็อบสเตอร์'\n",
    "df_ingredient.loc[df_ingredient['ingredient'].str.contains('นมจืด', case=False),'ingredient'] = 'นมจืด'\n",
    "df_ingredient.loc[df_ingredient['ingredient'].str.contains('น้ำแข็ง', case=False),'ingredient'] = 'น้ำแข็ง'\n",
    "df_ingredient.loc[df_ingredient['ingredient'].str.contains('นมข้นหวาน', case=False),'ingredient'] = 'นมข้นหวาน'\n",
    "df_ingredient.loc[df_ingredient['ingredient'].str.contains('น้ำมันมะพร้าว', case=False),'ingredient'] = 'น้ำมันมะพร้าว'\n",
    "df_ingredient.loc[df_ingredient['ingredient'].str.contains('นมข้นจืด', case=False),'ingredient'] = 'นมข้นจืด'\n",
    "df_ingredient.loc[df_ingredient['ingredient'].str.contains('เส้นพาสต้า', case=False),'ingredient'] = 'เส้นพาสต้า'\n",
    "df_ingredient.loc[df_ingredient['ingredient'].str.contains('pasta', case=False),'ingredient'] = 'เส้นพาสต้า'\n",
    "df_ingredient.loc[df_ingredient['ingredient'].str.contains('น้ำมันมะกอก', case=False),'ingredient'] = 'น้ำมันมะกอก'\n",
    "df_ingredient.loc[df_ingredient['ingredient'].str.contains('มายองเนส', case=False),'ingredient'] = 'มายองเนส'\n",
    "df_ingredient.loc[df_ingredient['ingredient'].str.contains('เกล็ดขนมปัง', case=False),'ingredient'] = 'เกล็ดขนมปัง'\n",
    "df_ingredient.loc[df_ingredient['ingredient'].str.contains('แป้งขนมปัง', case=False),'ingredient'] = 'แป้งขนมปัง'\n",
    "df_ingredient.loc[\n",
    "    (df_ingredient['ingredient'].str.contains('ขนมปัง', case=False)) &\n",
    "    (df_ingredient['ingredient'] != 'เกล็ดขนมปัง') &\n",
    "    (df_ingredient['ingredient'] != 'แป้งขนมปัง')\n",
    "    ,'ingredient'] = 'ขนมปัง'\n",
    "df_ingredient.loc[df_ingredient['ingredient'].str.startswith('นมเปรี้ยว','ingredient')] = 'นมเปรี้ยว'\n",
    "df_ingredient.loc[df_ingredient['ingredient'].str.contains('อโวคาโด', case=False),'ingredient'] = 'อโวคาโด'\n",
    "df_ingredient.loc[df_ingredient['ingredient'].str.contains('Avocado', case=False),'ingredient'] = 'อโวคาโด'\n",
    "# df_ingredient.loc[\n",
    "#     (df_ingredient['ingredient'].str.contains('bacon', case=False)) |\n",
    "#     (df_ingredient['ingredient'].str.contains('เบค่อน', case=False)) |\n",
    "#     (df_ingredient['ingredient'].str.contains('เบคอน', case=False))\n",
    "#     , 'ingredient'] = 'เบคอน'\n",
    "# df_ingredient.loc[\n",
    "#     (df_ingredient['ingredient'].str.contains('บะหมี่กึ่ง', case=False))\n",
    "#     , 'ingredient'] = 'บะหมี่กึ่งสำเร็จรูป'\n",
    "# df_ingredient.loc[\n",
    "#     (\n",
    "#         (df_ingredient['ingredient'].str.contains('บะหมี่', case=False)) &\n",
    "#         (~df_ingredient['ingredient'].str.contains('บะหมี่กึ่ง', case=False))\n",
    "#     )\n",
    "#     , 'ingredient'] = 'บะหมี่'\n",
    "\n",
    "\n",
    "\n",
    "df_ingredient = df_ingredient[df_ingredient['ingredient'] != '']\n",
    "df_ingredient = df_ingredient[~df_ingredient['ingredient'].isnull()]\n",
    "# df_ingredient = df_ingredient[~df_ingredient['ingredient'].isna()]"
   ]
  },
  {
   "cell_type": "code",
   "execution_count": 522,
   "metadata": {
    "scrolled": false
   },
   "outputs": [
    {
     "data": {
      "text/plain": [
       "array([], dtype=object)"
      ]
     },
     "execution_count": 522,
     "metadata": {},
     "output_type": "execute_result"
    }
   ],
   "source": [
    "df_ingredient[df_ingredient['ingredient'].str.contains('นม', case=False)]['ingredient'].unique()\n",
    "df_ingredient[df_ingredient['ingredient'].str.contains('salt', case=True)]['ingredient'].unique()\n",
    "# df_ingredient[df_ingredient['ingredient'].str.contains('pasta', case=True)]['ingredient'].unique()\n",
    "# df_ingredient[df_ingredient['ingredient'].str.contains('pasta', case=True)]['ingredient'].unique()\n",
    "# df_ingredient[df_ingredient['ingredient'].str.contains('สะเต๊ะ', case=False)]['ingredient'].unique()\n",
    "# df_ingredient.loc[\n",
    "#     (df_ingredient['ingredient'].str.contains('หมู', case=False)) &\n",
    "#     (df_ingredient['ingredient'].str.contains('ผง', case=False))\n",
    "#     ,'ingredient']\n",
    "# df_ingredient.loc[\n",
    "#     (df_ingredient['ingredient'].str.contains('น้ำ', case=False)) &\n",
    "#     (df_ingredient['ingredient'].str.contains('ปลา', case=False))\n",
    "#     ,'ingredient']\n",
    "# df_ingredient[df_ingredient['ingredient'].str.contains('ลูกชิ้นปลา', case=False)]['ingredient'].unique()\n",
    "# df_ingredient[df_ingredient['ingredient'].str.contains('ลูกชิ้น', case=False)]['ingredient'].unique()\n",
    "# df_ingredient[df_ingredient['ingredient'].str.contains('ปลา', case=False)]['ingredient'].unique()\n",
    "# df_ingredient[df_ingredient['ingredient'].str.contains('เกลือ', case=False)]['ingredient'].unique()\n",
    "# df_ingredient[df_ingredient['ingredient'].str.contains('เมล็ดฟักทอง', case=False)]['ingredient'].unique()\n"
   ]
  },
  {
   "cell_type": "code",
   "execution_count": 524,
   "metadata": {
    "scrolled": false
   },
   "outputs": [],
   "source": [
    "# sorted(df_ingredient['ingredient'].unique())"
   ]
  },
  {
   "cell_type": "code",
   "execution_count": null,
   "metadata": {
    "scrolled": false
   },
   "outputs": [],
   "source": [
    "# with open('./unique_ingredients.txt', 'w', encoding='utf-8') as f:\n",
    "#     for x in sorted(unique_ingredients):\n",
    "#         f.write(x)\n",
    "#         f.write('\\n')"
   ]
  },
  {
   "cell_type": "code",
   "execution_count": null,
   "metadata": {},
   "outputs": [],
   "source": []
  },
  {
   "cell_type": "code",
   "execution_count": null,
   "metadata": {},
   "outputs": [],
   "source": [
    "# all_recipes_raw_list = list(all_recipes_raw)\n",
    "\n",
    "# chunked_list = list(chunks(all_recipes_raw_list, 400))\n",
    "# random.shuffle(chunked_list)"
   ]
  },
  {
   "cell_type": "code",
   "execution_count": null,
   "metadata": {},
   "outputs": [],
   "source": [
    "# find_n_ingredients = 6000\n",
    "# select_top_n_ingredients = 3500\n",
    "# ingredient_preselection = list()\n",
    "\n",
    "# p = Pool(16)\n",
    "\n",
    "# for r_chunk in tqdm(chunked_list):\n",
    "#     r_chunk_new = p.map(clean_ingredient_list, r_chunk)\n",
    "#     for r_new in r_chunk_new:\n",
    "#         ingredient_preselection.extend(r_new)\n",
    "        \n",
    "#     unique_ingredient_count = len(set(ingredient_preselection))\n",
    "#     if unique_ingredient_count > find_n_ingredients:\n",
    "#         break\n",
    "#     print(f'Found {unique_ingredient_count} unique ingredients') \n",
    "        \n",
    "# c = Counter(ingredient_preselection)\n",
    "# clean_ingredients = list([i for i, n in c.most_common()][:select_top_n_ingredients])\n",
    "# assert len(clean_ingredients) == select_top_n_ingredients"
   ]
  },
  {
   "cell_type": "code",
   "execution_count": 615,
   "metadata": {},
   "outputs": [],
   "source": [
    "df_ingredient.to_csv('df_ingredient.csv', encoding='utf-8')"
   ]
  },
  {
   "cell_type": "markdown",
   "metadata": {},
   "source": [
    "## Preparing"
   ]
  },
  {
   "cell_type": "code",
   "execution_count": 535,
   "metadata": {},
   "outputs": [],
   "source": [
    "unique_ingredients = list(set(df_ingredient['ingredient'].unique()))"
   ]
  },
  {
   "cell_type": "code",
   "execution_count": 536,
   "metadata": {},
   "outputs": [
    {
     "data": {
      "text/html": [
       "<div>\n",
       "<style scoped>\n",
       "    .dataframe tbody tr th:only-of-type {\n",
       "        vertical-align: middle;\n",
       "    }\n",
       "\n",
       "    .dataframe tbody tr th {\n",
       "        vertical-align: top;\n",
       "    }\n",
       "\n",
       "    .dataframe thead th {\n",
       "        text-align: right;\n",
       "    }\n",
       "</style>\n",
       "<table border=\"1\" class=\"dataframe\">\n",
       "  <thead>\n",
       "    <tr style=\"text-align: right;\">\n",
       "      <th></th>\n",
       "      <th>id</th>\n",
       "      <th>recipe</th>\n",
       "      <th>ingredient</th>\n",
       "    </tr>\n",
       "  </thead>\n",
       "  <tbody>\n",
       "    <tr>\n",
       "      <th>0</th>\n",
       "      <td>7980ed28ce35467482b9858b86a5650d</td>\n",
       "      <td>ยำคะน้าหมูสับ</td>\n",
       "      <td>ผักคะน้า</td>\n",
       "    </tr>\n",
       "    <tr>\n",
       "      <th>1</th>\n",
       "      <td>7980ed28ce35467482b9858b86a5650d</td>\n",
       "      <td>ยำคะน้าหมูสับ</td>\n",
       "      <td>หมูสับ</td>\n",
       "    </tr>\n",
       "    <tr>\n",
       "      <th>2</th>\n",
       "      <td>7980ed28ce35467482b9858b86a5650d</td>\n",
       "      <td>ยำคะน้าหมูสับ</td>\n",
       "      <td>คนอร์หมู</td>\n",
       "    </tr>\n",
       "    <tr>\n",
       "      <th>3</th>\n",
       "      <td>7980ed28ce35467482b9858b86a5650d</td>\n",
       "      <td>ยำคะน้าหมูสับ</td>\n",
       "      <td>น้ำมะนาว</td>\n",
       "    </tr>\n",
       "    <tr>\n",
       "      <th>4</th>\n",
       "      <td>7980ed28ce35467482b9858b86a5650d</td>\n",
       "      <td>ยำคะน้าหมูสับ</td>\n",
       "      <td>หอมแดง</td>\n",
       "    </tr>\n",
       "  </tbody>\n",
       "</table>\n",
       "</div>"
      ],
      "text/plain": [
       "                                 id         recipe ingredient\n",
       "0  7980ed28ce35467482b9858b86a5650d  ยำคะน้าหมูสับ   ผักคะน้า\n",
       "1  7980ed28ce35467482b9858b86a5650d  ยำคะน้าหมูสับ     หมูสับ\n",
       "2  7980ed28ce35467482b9858b86a5650d  ยำคะน้าหมูสับ   คนอร์หมู\n",
       "3  7980ed28ce35467482b9858b86a5650d  ยำคะน้าหมูสับ   น้ำมะนาว\n",
       "4  7980ed28ce35467482b9858b86a5650d  ยำคะน้าหมูสับ     หอมแดง"
      ]
     },
     "execution_count": 536,
     "metadata": {},
     "output_type": "execute_result"
    }
   ],
   "source": [
    "df_ingredient.head()"
   ]
  },
  {
   "cell_type": "code",
   "execution_count": 551,
   "metadata": {},
   "outputs": [],
   "source": [
    "# df_ingredient['indexed']\n",
    "# for r in df_ingredient.iterrow():\n",
    "ingredients = list()\n",
    "for k, g in df_ingredient.groupby('recipe'):\n",
    "    igr = list()\n",
    "    for i, r in g.iterrows():\n",
    "#         print(r)\n",
    "        igr.append(r['ingredient'])\n",
    "    ingredients.append(igr)\n",
    "# for x in df_ingredient['ingredient']:\n",
    "#     ingredients.append([y.strip() for y in x])"
   ]
  },
  {
   "cell_type": "code",
   "execution_count": 614,
   "metadata": {},
   "outputs": [],
   "source": [
    "with open('./ingredients.txt', 'w', encoding='utf-8') as f:\n",
    "    for x in sorted(ingredients):\n",
    "        f.write(','.join(x))\n",
    "        f.write('\\n')"
   ]
  },
  {
   "cell_type": "code",
   "execution_count": null,
   "metadata": {},
   "outputs": [],
   "source": [
    "# clean_ingredients = [y.strip() for x in ingredients for y in x]\n",
    "# clean_ingredients"
   ]
  },
  {
   "cell_type": "code",
   "execution_count": null,
   "metadata": {},
   "outputs": [],
   "source": [
    "# sorted(clean_ingredients)"
   ]
  },
  {
   "cell_type": "code",
   "execution_count": null,
   "metadata": {},
   "outputs": [],
   "source": [
    "# len(clean_ingredients)"
   ]
  },
  {
   "cell_type": "code",
   "execution_count": 552,
   "metadata": {},
   "outputs": [
    {
     "name": "stderr",
     "output_type": "stream",
     "text": [
      "100%|████████████████████████████████████████████████████████████████████████████████████████████████████████████████████████████████████████████████████████████████████████████████████████████████████████████████████████████████████████████████████████████████████| 3594/3594 [00:01<00:00, 2632.97it/s]\n"
     ]
    }
   ],
   "source": [
    "indexed_recipes = []\n",
    "\n",
    "for r in tqdm(ingredients):\n",
    "    if r:\n",
    "#         indexed_recipes.append(np.array([clean_ingredients.index(i) for i in r]))\n",
    "        indexed_recipes.append(np.array([unique_ingredients.index(i) for i in r]))\n",
    "    \n",
    "indexed_recipes = np.array(indexed_recipes)"
   ]
  },
  {
   "cell_type": "code",
   "execution_count": 553,
   "metadata": {},
   "outputs": [
    {
     "data": {
      "text/plain": [
       "3594"
      ]
     },
     "execution_count": 553,
     "metadata": {},
     "output_type": "execute_result"
    }
   ],
   "source": [
    "len(indexed_recipes)"
   ]
  },
  {
   "cell_type": "code",
   "execution_count": 554,
   "metadata": {},
   "outputs": [
    {
     "data": {
      "text/plain": [
       "array([array([ 448, 4055, 1688,   34,  481, 2057, 3500, 1451, 2714, 4078]),\n",
       "       array([ 302,  481, 3164,  669,  345, 3253, 3290]),\n",
       "       array([ 302,  337, 4151, 3500,  345, 2770, 1420]), ...,\n",
       "       array([2715, 3907,  584,   86]),\n",
       "       array([4078, 2808, 4182, 4145, 3142, 2377, 2770, 3253, 3068,  252, 2738,\n",
       "       1935, 3729, 3799,  731, 2377, 3277, 2940]),\n",
       "       array([4162, 2596, 1891, 2808, 1092,  942, 1800, 1236,   48])],\n",
       "      dtype=object)"
      ]
     },
     "execution_count": 554,
     "metadata": {},
     "output_type": "execute_result"
    }
   ],
   "source": [
    "indexed_recipes"
   ]
  },
  {
   "cell_type": "code",
   "execution_count": 555,
   "metadata": {},
   "outputs": [],
   "source": [
    "# maybe it's a good time to save?\n",
    "# np.savez_compressed('wongnet', ingredients=clean_ingredients, recipes=indexed_recipes)\n",
    "np.savez_compressed('wongnet', ingredients=unique_ingredients, recipes=indexed_recipes)"
   ]
  },
  {
   "cell_type": "code",
   "execution_count": 556,
   "metadata": {},
   "outputs": [],
   "source": [
    "class Recipes:\n",
    "\n",
    "    def __init__(self):\n",
    "        pass\n",
    "#         self.load_recipes(data_path)\n",
    "\n",
    "    def load_recipes(self, data_path):\n",
    "#         with np.load('simplified-recipes-1M.npz', allow_pickle=True) as data:\n",
    "        with np.load(data_path, allow_pickle=True) as data:\n",
    "            self.recipes = data['recipes']\n",
    "            self.ingredients = data['ingredients']\n",
    "        np.random.shuffle(self.recipes)\n",
    "\n",
    "        self.train_size = int(0.97 * len(self.recipes))\n",
    "        self.test_size = len(self.recipes) - self.train_size\n",
    "        self.train_recipes = self.recipes[:self.train_size]\n",
    "        self.test_recipes = self.recipes[self.train_size:]\n",
    "        print(self.train_recipes.shape, self.test_recipes.shape)\n",
    "\n",
    "    def onehot_to_hr_recipe(self, ind):\n",
    "        r = []\n",
    "        for i, v in enumerate(ind):\n",
    "            if v == 1:\n",
    "                r.append(self.ingredients[i])\n",
    "        return len(r), r\n",
    "\n",
    "    \"\"\"def get_batch_alt(recipes_array, batch_size, set_n_to_zero=1):\n",
    "        while True:\n",
    "            print(len(recipes_array), 'dataset iterator epoch start')\n",
    "            offset = 0\n",
    "            for batch_end_offset in range(batch_size, len(recipes_array)+1, batch_size):\n",
    "\n",
    "                batch_data = recipes_array[batch_end_offset-batch_size:batch_end_offset]\n",
    "\n",
    "                batch_y = np.zeros((batch_size, len(ingredients)))\n",
    "                for i, row in enumerate(batch_data):\n",
    "                    try:\n",
    "                        batch_y[i, row] = 1\n",
    "                    except IndexError: pass\n",
    "\n",
    "                batch_x = np.copy(batch_y)\n",
    "                for i, row in enumerate(batch_data):\n",
    "                    try:\n",
    "                        ind = np.random.choice(row, set_n_to_zero, replace=False)\n",
    "                        batch_x[i, ind] = 0\n",
    "                    except (IndexError, ValueError): pass\n",
    "\n",
    "                #indices = np.random.random((batch_size, len(ingredients))) > 0.1\n",
    "                #batch_x[indices] = 0\n",
    "                yield batch_x, batch_y\"\"\"\n",
    "\n",
    "    def labels_to_batch(self, l):\n",
    "        l = self.filter_ingr(l)\n",
    "        assert len(l) > 2\n",
    "        k = [self.hr_to_indices_list(l)]\n",
    "\n",
    "        x, y = self.batch_iterator(k, 1).__next__()\n",
    "        return x + y\n",
    "\n",
    "    def hr_to_indices_list(self, l):\n",
    "        r = np.zeros(len(l), dtype=np.int32)\n",
    "        for c, i in enumerate(l):\n",
    "            r[c] = np.where(self.ingredients == i)[0][0]\n",
    "        return r\n",
    "\n",
    "    def batch_iterator(self, recipes_array, batch_size):\n",
    "        while True:\n",
    "            # print('\\n', len(recipes_array), 'dataset iterator epoch start')\n",
    "            offset = 0\n",
    "            for batch_end_offset in range(batch_size, len(recipes_array) + 1, batch_size):\n",
    "                batch_data = recipes_array[batch_end_offset - batch_size:batch_end_offset]\n",
    "\n",
    "                batch_y = np.zeros((batch_size, len(self.ingredients)))\n",
    "                batch_x = np.zeros((batch_size, len(self.ingredients)))\n",
    "\n",
    "                for i, row in enumerate(batch_data):\n",
    "                    remove_max_n_elements = 5\n",
    "                    remove_max_one_nth_of_elements = 4\n",
    "                    try:\n",
    "                        n_to_remove = np.random.randint(1, 1 + max(0, min(remove_max_n_elements,\n",
    "                                                                          math.floor(len(row) / remove_max_one_nth_of_elements))))\n",
    "\n",
    "                        ind = np.random.randint(0, len(row), n_to_remove)\n",
    "                        row_with_ingr_removed = np.delete(row, ind) # remove some ingredients\n",
    "                        batch_y[i, row[ind]] = 1\n",
    "                        batch_x[i, row_with_ingr_removed] = 1\n",
    "                    except (IndexError, ValueError):\n",
    "                        pass\n",
    "\n",
    "                yield batch_x, batch_y\n",
    "\n",
    "    def get_batch_count(self, recipes_array, bs):\n",
    "        return len(list(range(bs, len(recipes_array), bs)))\n",
    "\n",
    "    def filter_ingr(self, l):\n",
    "        return [k for k in l if k in self.ingredients or print(k, 'not found')]\n",
    "\n",
    "    def match_ingr(self, i):\n",
    "        l = []\n",
    "        for u in self.ingredients:\n",
    "            if i in u or u in i:\n",
    "                l.append(u)\n",
    "        return l"
   ]
  },
  {
   "cell_type": "code",
   "execution_count": 596,
   "metadata": {},
   "outputs": [],
   "source": [
    "# row = r.train_recipes\n",
    "# batch_y = np.zeros((len(r.recipes), len(r.ingredients)))\n",
    "# batch_x = np.zeros((len(r.recipes), len(r.ingredients)))\n",
    "# remove_max_n_elements = 5\n",
    "# remove_max_one_nth_of_elements = 4\n",
    "\n",
    "# n_to_remove = np.random.randint(1, 1 + max(0, min(remove_max_n_elements,\n",
    "#                                                   math.floor(len(row) / remove_max_one_nth_of_elements))))\n",
    "\n",
    "# ind = np.random.randint(0, len(row), n_to_remove)\n",
    "# row_with_ingr_removed = np.delete(row, ind)\n",
    "# row_with_ingr_removed\n",
    "# batch_y[i, row[ind]] = 1\n",
    "# batch_x[i, row_with_ingr_removed] = 1"
   ]
  },
  {
   "cell_type": "markdown",
   "metadata": {},
   "source": [
    "# Neural Network"
   ]
  },
  {
   "cell_type": "code",
   "execution_count": 557,
   "metadata": {},
   "outputs": [
    {
     "name": "stdout",
     "output_type": "stream",
     "text": [
      "2.0.0\n"
     ]
    }
   ],
   "source": [
    "import numpy as np\n",
    "import tensorflow as tf\n",
    "from matplotlib import pyplot as plt\n",
    "import math\n",
    "import datetime\n",
    "import os\n",
    "# from util import Recipes\n",
    "import random\n",
    "print(tf.__version__)"
   ]
  },
  {
   "cell_type": "code",
   "execution_count": 558,
   "metadata": {},
   "outputs": [
    {
     "name": "stdout",
     "output_type": "stream",
     "text": [
      "(3486,) (108,)\n"
     ]
    }
   ],
   "source": [
    "r = Recipes()\n",
    "r.load_recipes('wongnet.npz')"
   ]
  },
  {
   "cell_type": "code",
   "execution_count": 559,
   "metadata": {},
   "outputs": [
    {
     "name": "stdout",
     "output_type": "stream",
     "text": [
      "(8, ['น้ำมันพืช', 'แครอทหั่นเต๋า', 'ข้าวสวย(แช่ตู้เย็นค้างคืน)', 'เบคอน', 'ซอสปรุงรส', 'พริกไทยป่น', 'น้ำตาล', 'ต้นหอมซอย'])\n",
      "\n",
      "(2, ['เนย', 'ไข่ไก่'])\n"
     ]
    }
   ],
   "source": [
    "g = r.batch_iterator(r.train_recipes, 200)\n",
    "x, y = g.__next__()\n",
    "i = random.randint(0, 199)\n",
    "print(r.onehot_to_hr_recipe(x[i]))\n",
    "print()\n",
    "print(r.onehot_to_hr_recipe(y[i]))"
   ]
  },
  {
   "cell_type": "code",
   "execution_count": 588,
   "metadata": {},
   "outputs": [
    {
     "name": "stdout",
     "output_type": "stream",
     "text": [
      "Model: \"sequential_8\"\n",
      "_________________________________________________________________\n",
      "Layer (type)                 Output Shape              Param #   \n",
      "=================================================================\n",
      "dense_48 (Dense)             (None, 500)               2115500   \n",
      "_________________________________________________________________\n",
      "leaky_re_lu_40 (LeakyReLU)   (None, 500)               0         \n",
      "_________________________________________________________________\n",
      "dense_49 (Dense)             (None, 330)               165330    \n",
      "_________________________________________________________________\n",
      "leaky_re_lu_41 (LeakyReLU)   (None, 330)               0         \n",
      "_________________________________________________________________\n",
      "dense_50 (Dense)             (None, 300)               99300     \n",
      "_________________________________________________________________\n",
      "leaky_re_lu_42 (LeakyReLU)   (None, 300)               0         \n",
      "_________________________________________________________________\n",
      "dense_51 (Dense)             (None, 330)               99330     \n",
      "_________________________________________________________________\n",
      "leaky_re_lu_43 (LeakyReLU)   (None, 330)               0         \n",
      "_________________________________________________________________\n",
      "dense_52 (Dense)             (None, 500)               165500    \n",
      "_________________________________________________________________\n",
      "leaky_re_lu_44 (LeakyReLU)   (None, 500)               0         \n",
      "_________________________________________________________________\n",
      "dense_53 (Dense)             (None, 4230)              2119230   \n",
      "=================================================================\n",
      "Total params: 4,764,190\n",
      "Trainable params: 4,764,190\n",
      "Non-trainable params: 0\n",
      "_________________________________________________________________\n"
     ]
    }
   ],
   "source": [
    "# batch_size = 256\n",
    "batch_size = 54\n",
    "# valid_batch_size = 512\n",
    "valid_batch_size = 107\n",
    "epochs = 42\n",
    "\n",
    "# model = tf.keras.models.Sequential([tf.keras.layers.Dense(500, input_shape=(3500,)),\n",
    "# model = tf.keras.models.Sequential([tf.keras.layers.Dense(500, input_shape=(6408,)),\n",
    "model = tf.keras.models.Sequential([tf.keras.layers.Dense(500, input_shape=(4230,)),\n",
    "                                    tf.keras.layers.LeakyReLU(),\n",
    "                                    \n",
    "                                    tf.keras.layers.Dense(330),\n",
    "                                    tf.keras.layers.LeakyReLU(),\n",
    "                                    \n",
    "                                    tf.keras.layers.Dense(300),\n",
    "                                    tf.keras.layers.LeakyReLU(),\n",
    "                                                                                                            \n",
    "                                    tf.keras.layers.Dense(330),\n",
    "                                    tf.keras.layers.LeakyReLU(),\n",
    "                                    \n",
    "                                    tf.keras.layers.Dense(500),\n",
    "                                    tf.keras.layers.LeakyReLU(),\n",
    "                                    \n",
    "                                    tf.keras.layers.Dense(len(r.ingredients), activation='sigmoid')\n",
    "                                   ])\n",
    "\n",
    "model.compile(optimizer='adam',\n",
    "              loss='categorical_crossentropy',\n",
    "              metrics=['categorical_accuracy'])\n",
    "\n",
    "model.summary()\n",
    "\n",
    "logdir = os.path.join(\"logs\", datetime.datetime.now().strftime(\"%Y-%m-%d-%H:%M:%S\"))\n",
    "tensorboard_callback = tf.keras.callbacks.TensorBoard(logdir, histogram_freq=1, update_freq=batch_size*64)"
   ]
  },
  {
   "cell_type": "code",
   "execution_count": 589,
   "metadata": {},
   "outputs": [
    {
     "name": "stdout",
     "output_type": "stream",
     "text": [
      "Epoch 1/42\n",
      "64/64 [==============================] - 2s 34ms/step - loss: 9.2667 - categorical_accuracy: 0.0417 - val_loss: 8.3335 - val_categorical_accuracy: 0.0561\n",
      "Epoch 2/42\n",
      "64/64 [==============================] - 2s 32ms/step - loss: 8.3977 - categorical_accuracy: 0.0411 - val_loss: 7.7595 - val_categorical_accuracy: 0.0280\n",
      "Epoch 3/42\n",
      "64/64 [==============================] - 2s 32ms/step - loss: 8.2435 - categorical_accuracy: 0.0359 - val_loss: 8.4791 - val_categorical_accuracy: 0.0467\n",
      "Epoch 4/42\n",
      "64/64 [==============================] - 2s 33ms/step - loss: 8.0415 - categorical_accuracy: 0.0448 - val_loss: 9.0238 - val_categorical_accuracy: 0.0280\n",
      "Epoch 5/42\n",
      "64/64 [==============================] - 2s 32ms/step - loss: 8.0003 - categorical_accuracy: 0.0469 - val_loss: 7.9478 - val_categorical_accuracy: 0.0654\n",
      "Epoch 6/42\n",
      "64/64 [==============================] - 2s 33ms/step - loss: 7.8135 - categorical_accuracy: 0.0428 - val_loss: 8.5818 - val_categorical_accuracy: 0.0467\n",
      "Epoch 7/42\n",
      "64/64 [==============================] - 2s 32ms/step - loss: 7.8007 - categorical_accuracy: 0.0443 - val_loss: 7.4518 - val_categorical_accuracy: 0.0841\n",
      "Epoch 8/42\n",
      "64/64 [==============================] - 2s 33ms/step - loss: 7.7549 - categorical_accuracy: 0.0428 - val_loss: 7.8022 - val_categorical_accuracy: 0.0561\n",
      "Epoch 9/42\n",
      "64/64 [==============================] - 2s 31ms/step - loss: 7.6462 - categorical_accuracy: 0.0443 - val_loss: 8.3021 - val_categorical_accuracy: 0.0093\n",
      "Epoch 10/42\n",
      "64/64 [==============================] - 2s 32ms/step - loss: 7.4418 - categorical_accuracy: 0.0425 - val_loss: 7.7875 - val_categorical_accuracy: 0.0374\n",
      "Epoch 11/42\n",
      "64/64 [==============================] - 2s 32ms/step - loss: 7.4331 - categorical_accuracy: 0.0437 - val_loss: 7.5852 - val_categorical_accuracy: 0.0654\n",
      "Epoch 12/42\n",
      "64/64 [==============================] - 2s 34ms/step - loss: 7.3346 - categorical_accuracy: 0.0446 - val_loss: 7.6555 - val_categorical_accuracy: 0.0748\n",
      "Epoch 13/42\n",
      "64/64 [==============================] - 2s 36ms/step - loss: 7.1400 - categorical_accuracy: 0.0448 - val_loss: 8.5341 - val_categorical_accuracy: 0.0561\n",
      "Epoch 14/42\n",
      "64/64 [==============================] - 2s 33ms/step - loss: 7.1035 - categorical_accuracy: 0.0451 - val_loss: 7.6219 - val_categorical_accuracy: 0.0374\n",
      "Epoch 15/42\n",
      "64/64 [==============================] - 2s 31ms/step - loss: 6.8483 - categorical_accuracy: 0.0480 - val_loss: 6.9719 - val_categorical_accuracy: 0.0561\n",
      "Epoch 16/42\n",
      "64/64 [==============================] - 2s 31ms/step - loss: 6.8424 - categorical_accuracy: 0.0498 - val_loss: 7.5156 - val_categorical_accuracy: 0.0561\n",
      "Epoch 17/42\n",
      "64/64 [==============================] - 2s 31ms/step - loss: 6.7735 - categorical_accuracy: 0.0475 - val_loss: 8.5903 - val_categorical_accuracy: 0.0467\n",
      "Epoch 18/42\n",
      "64/64 [==============================] - 2s 31ms/step - loss: 6.6393 - categorical_accuracy: 0.0440 - val_loss: 7.4312 - val_categorical_accuracy: 0.0841al_accu\n",
      "Epoch 19/42\n",
      "64/64 [==============================] - 2s 31ms/step - loss: 6.5019 - categorical_accuracy: 0.0437 - val_loss: 8.6838 - val_categorical_accuracy: 0.0374\n",
      "Epoch 20/42\n",
      "64/64 [==============================] - 2s 31ms/step - loss: 6.5860 - categorical_accuracy: 0.0463 - val_loss: 8.1482 - val_categorical_accuracy: 0.0561\n",
      "Epoch 21/42\n",
      "64/64 [==============================] - 2s 31ms/step - loss: 6.2831 - categorical_accuracy: 0.0480 - val_loss: 8.0394 - val_categorical_accuracy: 0.0280\n",
      "Epoch 22/42\n",
      "64/64 [==============================] - 2s 31ms/step - loss: 6.3040 - categorical_accuracy: 0.0399 - val_loss: 7.6189 - val_categorical_accuracy: 0.0280\n",
      "Epoch 23/42\n",
      "64/64 [==============================] - 2s 31ms/step - loss: 6.1461 - categorical_accuracy: 0.0420 - val_loss: 7.4844 - val_categorical_accuracy: 0.0187\n",
      "Epoch 24/42\n",
      "64/64 [==============================] - 2s 31ms/step - loss: 6.0842 - categorical_accuracy: 0.0443 - val_loss: 7.7156 - val_categorical_accuracy: 0.0467\n",
      "Epoch 25/42\n",
      "64/64 [==============================] - 2s 31ms/step - loss: 5.8172 - categorical_accuracy: 0.0509 - val_loss: 7.5415 - val_categorical_accuracy: 0.0467\n",
      "Epoch 26/42\n",
      "64/64 [==============================] - 2s 31ms/step - loss: 5.8816 - categorical_accuracy: 0.0506 - val_loss: 7.4757 - val_categorical_accuracy: 0.0561\n",
      "Epoch 27/42\n",
      "64/64 [==============================] - 2s 31ms/step - loss: 5.8583 - categorical_accuracy: 0.0501 - val_loss: 7.6539 - val_categorical_accuracy: 0.0935\n",
      "Epoch 28/42\n",
      "64/64 [==============================] - 2s 32ms/step - loss: 5.7385 - categorical_accuracy: 0.0451 - val_loss: 8.3952 - val_categorical_accuracy: 0.0467\n",
      "Epoch 29/42\n",
      "64/64 [==============================] - 2s 32ms/step - loss: 5.6200 - categorical_accuracy: 0.0477 - val_loss: 8.6048 - val_categorical_accuracy: 0.0280\n",
      "Epoch 30/42\n",
      "64/64 [==============================] - 2s 32ms/step - loss: 5.5480 - categorical_accuracy: 0.0457 - val_loss: 8.1708 - val_categorical_accuracy: 0.0374\n",
      "Epoch 31/42\n",
      "64/64 [==============================] - 2s 32ms/step - loss: 5.4770 - categorical_accuracy: 0.0498 - val_loss: 8.5263 - val_categorical_accuracy: 0.0467\n",
      "Epoch 32/42\n",
      "64/64 [==============================] - 2s 32ms/step - loss: 5.4587 - categorical_accuracy: 0.1325 - val_loss: 7.1163 - val_categorical_accuracy: 0.0935\n",
      "Epoch 33/42\n",
      "64/64 [==============================] - 2s 32ms/step - loss: 5.3185 - categorical_accuracy: 0.1655 - val_loss: 8.7898 - val_categorical_accuracy: 0.1215\n",
      "Epoch 34/42\n",
      "64/64 [==============================] - 2s 32ms/step - loss: 5.1079 - categorical_accuracy: 0.1930 - val_loss: 7.0646 - val_categorical_accuracy: 0.1495\n",
      "Epoch 35/42\n",
      "64/64 [==============================] - 2s 32ms/step - loss: 5.0009 - categorical_accuracy: 0.1979 - val_loss: 9.1339 - val_categorical_accuracy: 0.0467\n",
      "Epoch 36/42\n",
      "64/64 [==============================] - 2s 33ms/step - loss: 5.0594 - categorical_accuracy: 0.2104 - val_loss: 7.7073 - val_categorical_accuracy: 0.1402\n",
      "Epoch 37/42\n",
      "64/64 [==============================] - 2s 32ms/step - loss: 4.8453 - categorical_accuracy: 0.2208 - val_loss: 7.9739 - val_categorical_accuracy: 0.1495\n",
      "Epoch 38/42\n",
      "64/64 [==============================] - 2s 32ms/step - loss: 4.7221 - categorical_accuracy: 0.2405 - val_loss: 8.0813 - val_categorical_accuracy: 0.1215\n",
      "Epoch 39/42\n",
      "64/64 [==============================] - 2s 32ms/step - loss: 4.7546 - categorical_accuracy: 0.2561 - val_loss: 7.6400 - val_categorical_accuracy: 0.1682\n",
      "Epoch 40/42\n",
      "64/64 [==============================] - 2s 32ms/step - loss: 4.6097 - categorical_accuracy: 0.2561 - val_loss: 8.1390 - val_categorical_accuracy: 0.1215\n",
      "Epoch 41/42\n",
      "64/64 [==============================] - 2s 31ms/step - loss: 4.5462 - categorical_accuracy: 0.2804 - val_loss: 8.9302 - val_categorical_accuracy: 0.0748\n",
      "Epoch 42/42\n",
      "64/64 [==============================] - 2s 32ms/step - loss: 4.3945 - categorical_accuracy: 0.3027 - val_loss: 8.8209 - val_categorical_accuracy: 0.1495\n"
     ]
    }
   ],
   "source": [
    "history = model.fit_generator(r.batch_iterator(r.train_recipes, batch_size=batch_size), \n",
    "                              epochs=epochs, \n",
    "                              steps_per_epoch=r.get_batch_count(r.train_recipes, batch_size), \n",
    "                              validation_data=r.batch_iterator(r.test_recipes, batch_size=valid_batch_size), \n",
    "                              validation_steps=r.get_batch_count(r.test_recipes, valid_batch_size),\n",
    "                              #callbacks=[tensorboard_callback]\n",
    "                             )"
   ]
  },
  {
   "cell_type": "code",
   "execution_count": 564,
   "metadata": {},
   "outputs": [
    {
     "data": {
      "text/plain": [
       "['น้ำ', 'น้ำตาล']"
      ]
     },
     "execution_count": 564,
     "metadata": {},
     "output_type": "execute_result"
    }
   ],
   "source": [
    "# r.match_ingr('น้ำตาลทราย')"
   ]
  },
  {
   "cell_type": "code",
   "execution_count": 567,
   "metadata": {},
   "outputs": [],
   "source": [
    "def no_overlap(item, s):\n",
    "    for k in s:\n",
    "        if item in k or k in item:\n",
    "            return False\n",
    "    return True"
   ]
  },
  {
   "cell_type": "code",
   "execution_count": 599,
   "metadata": {
    "scrolled": true
   },
   "outputs": [
    {
     "name": "stdout",
     "output_type": "stream",
     "text": [
      "[] -->\n",
      "\n",
      "น้ำผึ้ง | 0.006 | .\n",
      "น้ำแข็ง | 0.001 | .\n",
      "นมข้น | 0.001 | .\n",
      "ขนมปัง | 0.000 | .\n",
      "เบคอน | 0.000 | .\n",
      "นมสด | 0.000 | .\n",
      "ซอสสไปซี่บลูโกกิ (ทำซอส) | 0.000 | .\n",
      "กีวี่ | 9.554 | .\n",
      "นมข้นจืด | 8.007 | .\n",
      "นมข้นหวาน | 7.742 | .\n",
      "น้ำเชื่อม | 7.641 | .\n",
      "น้ำดื่ม | 6.920 | .\n",
      "ใบเตย | 6.911 | .\n",
      "งาดำ | 6.672 | .\n",
      "น้ำมันทอด | 6.645 | .\n",
      "กล้วย | 5.519 | .\n"
     ]
    }
   ],
   "source": [
    "# i = r.labels_to_batch(['หมูสับ', 'ไข่ไก่', 'เกลือ'])\n",
    "i = r.labels_to_batch(['น้ำมัน', 'ผงปรุงรส', 'คะน้าฮ่องกง'])\n",
    "p = model.predict_on_batch(i)\n",
    "_, hr = r.onehot_to_hr_recipe(i[0]) \n",
    "\n",
    "print(hr, '-->\\n')\n",
    "\n",
    "n = 16\n",
    "added_ingr = list(reversed(r.ingredients[np.argsort(p[0])[-n:]]))\n",
    "added_ingr_p = list(reversed(p[0].numpy()[np.argsort(p[0])[-n:]]))\n",
    "\n",
    "n_c = 0\n",
    "for ingr, p in zip(added_ingr, added_ingr_p):\n",
    "    no_overlap_ = no_overlap(ingr, set(hr))\n",
    "    print(('' if no_overlap_ else '(')+ingr+('' if no_overlap_ else ')'), '|', str(p)[:5], '|', '.')\n",
    "    #if no_overlap_: n_c += 1\n",
    "    #if n_c > 6: break"
   ]
  },
  {
   "cell_type": "code",
   "execution_count": 625,
   "metadata": {},
   "outputs": [
    {
     "name": "stdout",
     "output_type": "stream",
     "text": [
      "(10, ['M&M', 'ผงฟู', 'เนย', 'ช็อคโกแลต', 'ไข่ไก่', 'วานิลลา', 'น้ำตาล', 'แป้งตราว่าว', 'โกโก้', 'โอริโอ้'])\n",
      "(1, ['เม็ดมะม่วงหิมพานต์'])\n"
     ]
    }
   ],
   "source": [
    "g = r.batch_iterator(r.train_recipes, 1)\n",
    "x, y = g.__next__()\n",
    "# print(x)\n",
    "# print(y)\n",
    "# i = random.randint(0, 199)\n",
    "print(r.onehot_to_hr_recipe(x[0]))\n",
    "# # print()\n",
    "print(r.onehot_to_hr_recipe(y[0]))"
   ]
  },
  {
   "cell_type": "code",
   "execution_count": 626,
   "metadata": {},
   "outputs": [],
   "source": [
    "p = model.predict_on_batch(x)\n",
    "# p"
   ]
  },
  {
   "cell_type": "code",
   "execution_count": 627,
   "metadata": {},
   "outputs": [],
   "source": [
    "_, hr = r.onehot_to_hr_recipe(x[0])"
   ]
  },
  {
   "cell_type": "code",
   "execution_count": 628,
   "metadata": {},
   "outputs": [
    {
     "name": "stdout",
     "output_type": "stream",
     "text": [
      "แป้งเค้ก | 0.700 | .\n",
      "(แป้งตราว่าว) | 0.610 | .\n",
      "(วานิลลา) | 0.483 | .\n",
      "นมจืด | 0.437 | .\n",
      "แป้งกวนไส้ | 0.364 | .\n",
      "(น้ำตาล) | 0.359 | .\n",
      "(โกโก้) | 0.310 | .\n",
      "นดสดจืด | 0.301 | .\n",
      "เม็ดมะม่วงหิมพานต์ | 0.260 | .\n",
      "กล้วย | 0.248 | .\n",
      "(ผงฟู) | 0.214 | .\n",
      "(ไข่ไก่) | 0.210 | .\n",
      "😍ส่วนที่ | 0.176 | .\n",
      "(เนย) | 0.162 | .\n",
      "นมข้นจืด | 0.149 | .\n",
      "โอวาเลท | 0.125 | .\n"
     ]
    }
   ],
   "source": [
    "n = 16\n",
    "added_ingr = list(reversed(r.ingredients[np.argsort(p[0])[-n:]]))\n",
    "added_ingr_p = list(reversed(p[0].numpy()[np.argsort(p[0])[-n:]]))\n",
    "\n",
    "n_c = 0\n",
    "for ingr, p in zip(added_ingr, added_ingr_p):\n",
    "    no_overlap_ = no_overlap(ingr, set(hr))\n",
    "    print(('' if no_overlap_ else '(')+ingr+('' if no_overlap_ else ')'), '|', str(p)[:5], '|', '.')"
   ]
  },
  {
   "cell_type": "code",
   "execution_count": null,
   "metadata": {},
   "outputs": [],
   "source": []
  }
 ],
 "metadata": {
  "kernelspec": {
   "display_name": "Python 3",
   "language": "python",
   "name": "python3"
  },
  "language_info": {
   "codemirror_mode": {
    "name": "ipython",
    "version": 3
   },
   "file_extension": ".py",
   "mimetype": "text/x-python",
   "name": "python",
   "nbconvert_exporter": "python",
   "pygments_lexer": "ipython3",
   "version": "3.7.5"
  }
 },
 "nbformat": 4,
 "nbformat_minor": 2
}
