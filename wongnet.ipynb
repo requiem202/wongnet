{
 "cells": [
  {
   "cell_type": "markdown",
   "metadata": {},
   "source": [
    "## Extract ingredients and receipes"
   ]
  },
  {
   "cell_type": "code",
   "execution_count": 1,
   "metadata": {},
   "outputs": [],
   "source": [
    "import os\n",
    "import json\n",
    "import numpy as np\n",
    "import pandas as pd\n",
    "from multiprocessing import Pool\n",
    "from multiprocessing.dummy import Pool as ThreadPool\n",
    "from tqdm import tqdm"
   ]
  },
  {
   "cell_type": "code",
   "execution_count": 2,
   "metadata": {},
   "outputs": [],
   "source": [
    "data_dir = './data'\n",
    "# first_dirs = [x for x in os.listdir(data_dir) if os.path.isdir(os.path.join(data_dir, x)) and not x.startswith('.')]\n",
    "# second_dirs = [os.listdir(os.path.join(data_dir, x)) for x in first_dirs]"
   ]
  },
  {
   "cell_type": "code",
   "execution_count": 3,
   "metadata": {},
   "outputs": [],
   "source": [
    "def extract_json(d):\n",
    "    first_dirs = [x for x in os.listdir(data_dir) if os.path.isdir(os.path.join(data_dir, x)) and not x.startswith('.')]\n",
    "    second_dirs = [os.listdir(os.path.join(data_dir, x)) for x in first_dirs]\n",
    "    allfiles = [[os.path.join(data_dir, x, y) for y in ys] for x, ys in zip(first_dirs, second_dirs)]\n",
    "#     del first_dirs\n",
    "#     del second_dirs\n",
    "    allfiles_flat = [val for sublist in allfiles for val in sublist]\n",
    "#     del allfiles\n",
    "    return allfiles_flat\n",
    "   \n",
    "\n",
    "def to_dataframe(file_list):\n",
    "    df = pd.DataFrame()\n",
    "    for thf in file_list:\n",
    "        with open(thf, encoding='utf-8') as json_file:\n",
    "            data = json.load(json_file).get('data').get('page').get('entities')\n",
    "            for x in data:\n",
    "                df = df.append(x, ignore_index=True)\n",
    "                # print(df['id'])\n",
    "    return df"
   ]
  },
  {
   "cell_type": "code",
   "execution_count": 4,
   "metadata": {},
   "outputs": [],
   "source": [
    "my_df = to_dataframe(extract_json(data_dir))\n",
    "# my_df.set_index('id')\n",
    "# my_df"
   ]
  },
  {
   "cell_type": "code",
   "execution_count": 5,
   "metadata": {},
   "outputs": [],
   "source": [
    "ingredients = list()\n",
    "for x in my_df['ingredientKeywords'].str.split(','):\n",
    "    ingredients.append([y.strip() for y in x])\n",
    "#     ingredients.append(tuple(y.strip() for y in x))\n",
    "# ingredients"
   ]
  },
  {
   "cell_type": "code",
   "execution_count": 6,
   "metadata": {},
   "outputs": [
    {
     "data": {
      "text/plain": [
       "3750"
      ]
     },
     "execution_count": 6,
     "metadata": {},
     "output_type": "execute_result"
    }
   ],
   "source": [
    "len(ingredients)"
   ]
  },
  {
   "cell_type": "code",
   "execution_count": 7,
   "metadata": {},
   "outputs": [],
   "source": [
    "recipes = list()\n",
    "for _,x in my_df['title'].iteritems():\n",
    "    recipes.append(x.strip())\n",
    "# recipes"
   ]
  },
  {
   "cell_type": "code",
   "execution_count": 8,
   "metadata": {},
   "outputs": [
    {
     "data": {
      "text/plain": [
       "3750"
      ]
     },
     "execution_count": 8,
     "metadata": {},
     "output_type": "execute_result"
    }
   ],
   "source": [
    "len(recipes)"
   ]
  },
  {
   "cell_type": "code",
   "execution_count": 9,
   "metadata": {},
   "outputs": [],
   "source": [
    "_ingredients = {\n",
    "    'id': [],\n",
    "    'recipe': [],\n",
    "    'ingredient': []\n",
    "}\n",
    "for i, row in my_df.iterrows():\n",
    "    row_id = row['id']\n",
    "    row_title = row['title'].strip()\n",
    "    for ing in row['ingredientKeywords'].split(','):\n",
    "        if ing.strip() == '':\n",
    "#             print(row_title)\n",
    "            continue\n",
    "        _ingredients['id'].append(row_id)\n",
    "        _ingredients['recipe'].append(row_title)\n",
    "        _ingredients['ingredient'].append(ing.strip())\n",
    "df_ingredient = pd.DataFrame(_ingredients)\n",
    "del _ingredients"
   ]
  },
  {
   "cell_type": "markdown",
   "metadata": {},
   "source": [
    "## Cleaning"
   ]
  },
  {
   "cell_type": "code",
   "execution_count": 10,
   "metadata": {},
   "outputs": [],
   "source": [
    "def clean_ingre(x: str):\n",
    "    x = x.strip('*').\\\n",
    "        strip('+').\\\n",
    "        strip('-').\\\n",
    "        strip('~').\\\n",
    "        strip(':').\\\n",
    "        strip('.').\\\n",
    "        strip('1.').\\\n",
    "        strip('2.').\\\n",
    "        strip('3.').\\\n",
    "        strip('4.').\\\n",
    "        strip('5.').\\\n",
    "        strip('6.').\\\n",
    "        strip('7.').\\\n",
    "        strip('8.').\\\n",
    "        strip('9.').\\\n",
    "        strip('10.').\\\n",
    "        strip(' ')\n",
    "    if x == '###วัตถุดิบซอส###' or\\\n",
    "       x == '###วัตถุดิบสำหรับซุป###':\n",
    "        return ''\n",
    "    if x.startswith('A) ') or\\\n",
    "        x.startswith('B) ') or\\\n",
    "        x.startswith('C) ') or\\\n",
    "        x.startswith('D) ') or\\\n",
    "        x.startswith('E) ') or\\\n",
    "        x.startswith('A. ') or\\\n",
    "        x.startswith('B. '):\n",
    "        return ''\n",
    "    if 'กระดาษ' in x.lower():\n",
    "        return ''\n",
    "    if 'ส่วนผสม' in x.lower():\n",
    "        return ''\n",
    "    \n",
    "    x = x.replace('\\u200d','')\n",
    "    x = x.replace('\\u200b','')\n",
    "    return x"
   ]
  },
  {
   "cell_type": "code",
   "execution_count": 11,
   "metadata": {},
   "outputs": [],
   "source": [
    "def translate(x):\n",
    "    \n",
    "    if 'bacon' in x.lower():\n",
    "        return 'เบคอน'\n",
    "    if 'เบค่อน' in x:\n",
    "        return 'เบคอน'\n",
    "    if 'เบคอน' in x:\n",
    "        return 'เบคอน'\n",
    "    \n",
    "    if 'มาม่า' in x:\n",
    "        return 'บะหมี่กึ่งสำเร็จรูป'\n",
    "    if 'บะหมี่กึ่ง' in x:\n",
    "        return 'บะหมี่กึ่งสำเร็จรูป'\n",
    "    \n",
    "    if 'บะหมี่' in x and 'บะหมี่กึ่ง' not in x:\n",
    "        return 'บะหมี่'\n",
    "    \n",
    "    if 'มัสตาร์ด' in x or 'mustard' in x.lower():\n",
    "        return 'มัสตาร์ด'\n",
    "    \n",
    "    if 'ช็อค' in x or 'chocolate' in x.lower():\n",
    "        return 'ช็อคโกแลต'\n",
    "    \n",
    "    if 'โกโก้' in x or 'cacao' in x.lower():\n",
    "        return 'โกโก้'\n",
    "    \n",
    "    if 'โย' in x or 'yogurt' in x.lower():\n",
    "        return 'โยเกิร์ต'\n",
    "    \n",
    "    if 'วานิล' in x or 'วนิล' in x or 'vanilla' in x.lower():\n",
    "        return 'วานิลลา'\n",
    "    \n",
    "    if 'เนย' in x or 'butter' in x.lower():\n",
    "        return 'เนย'\n",
    "    \n",
    "    if 'มาการีน' in x or 'margarine' in x.lower():\n",
    "        return 'มาการีน'\n",
    "    \n",
    "    if 'กะทิ' in x:\n",
    "        return 'เนย'\n",
    "    \n",
    "    if 'ซี่โครง' in x and 'ซี่โครงไก่' not in x:\n",
    "        return 'ซี่โครงหมู'\n",
    "    \n",
    "    if 'คนอร์' in x:\n",
    "        if 'หมู' in x:\n",
    "            return 'คนอร์หมู'\n",
    "        if 'ไก่' in x:\n",
    "            return 'คนอร์ไก่'\n",
    "        if 'ลาบ' in x:\n",
    "            return 'คนอร์ลาบ'\n",
    "        if 'เห็ด' in x:\n",
    "            return 'คนอร์เห็ด'\n",
    "        if 'ผัก' in x:\n",
    "            return 'คนอร์ผัก'\n",
    "        if 'ซอส' in x or 'ขวด':\n",
    "            return 'คนอร์ซอส'\n",
    "        if 'ก้อน' in x:\n",
    "            return 'คนอร์ก้อน'\n",
    "        if 'ผง' in x:\n",
    "            return 'คนอร์ผง'\n",
    "            \n",
    "    \n",
    "#     if 'คนอร์' in x\n",
    "    \n",
    "#     if 'ไอซ' in x or 'icing' in x.lower():\n",
    "#         return 'ไอซิ่ง'\n",
    "    \n",
    "    return x"
   ]
  },
  {
   "cell_type": "code",
   "execution_count": 13,
   "metadata": {},
   "outputs": [],
   "source": [
    "import re\n",
    "def remove_emojis(data):\n",
    "    emoj = re.compile(\"[\"\n",
    "        u\"\\U0001F600-\\U0001F64F\"  # emoticons\n",
    "        u\"\\U0001F300-\\U0001F5FF\"  # symbols & pictographs\n",
    "        u\"\\U0001F680-\\U0001F6FF\"  # transport & map symbols\n",
    "        u\"\\U0001F1E0-\\U0001F1FF\"  # flags (iOS)\n",
    "        u\"\\U00002500-\\U00002BEF\"  # chinese char\n",
    "        u\"\\U00002702-\\U000027B0\"\n",
    "        u\"\\U00002702-\\U000027B0\"\n",
    "        u\"\\U000024C2-\\U0001F251\"\n",
    "        u\"\\U0001f926-\\U0001f937\"\n",
    "        u\"\\U00010000-\\U0010ffff\"\n",
    "        u\"\\u2640-\\u2642\" \n",
    "        u\"\\u2600-\\u2B55\"\n",
    "        u\"\\u200d\"\n",
    "        u\"\\u23cf\"\n",
    "        u\"\\u23e9\"\n",
    "        u\"\\u231a\"\n",
    "        u\"\\ufe0f\"  # dingbats\n",
    "        u\"\\u3030\"\n",
    "                      \"]+\", re.UNICODE)\n",
    "    return re.sub(emoj, '', data)"
   ]
  },
  {
   "cell_type": "code",
   "execution_count": 14,
   "metadata": {},
   "outputs": [],
   "source": [
    "# df_ingredient = df_ingredient[~df_ingredient['ingredient'].isnull()]\n",
    "# df_ingredient = df_ingredient[~df_ingredient['ingredient'].isna()]\n",
    "df_ingredient.loc[:,'ingredient'] = df_ingredient.loc[:,'ingredient'].apply(clean_ingre)\n",
    "#ผักชี before chesse\n",
    "df_ingredient.loc[df_ingredient['ingredient'].str.contains('ผักชี', case=False),'ingredient'] = 'ผักชี'\n",
    "df_ingredient.loc[\n",
    "    (\n",
    "        (df_ingredient['ingredient'].str.contains('ชีส', case=False)) |\n",
    "        (df_ingredient['ingredient'].str.contains('cheese', case=False))\n",
    "    )\n",
    "    , 'ingredient'] = 'ชีส'\n",
    "\n",
    "df_ingredient.loc[df_ingredient['ingredient'].str.contains('กลิ่นกาแฟ', case=False),'ingredient'] = 'กลิ่นกาแฟ'\n",
    "df_ingredient.loc[\n",
    "    (df_ingredient['ingredient'].str.contains('espresso', case=False)) |\n",
    "    (\n",
    "        (df_ingredient['ingredient'].str.contains('กาแฟ', case=False)) &\n",
    "        (~df_ingredient['ingredient'].str.contains('กลิ่นกาแฟ', case=False))\n",
    "    )\n",
    "    , 'ingredient'] = 'กาแฟ'\n",
    "\n",
    "df_ingredient.loc[df_ingredient['ingredient'].str.contains('น้ำปลา', case=False),'ingredient'] = 'น้ำปลา'\n",
    "df_ingredient.loc[df_ingredient['ingredient'].str.contains('ปลาหมึก', case=False),'ingredient'] = 'ปลาหมึก'\n",
    "df_ingredient.loc[df_ingredient['ingredient'].str.contains('กล้วย', case=False),'ingredient'] = 'กล้วย'\n",
    "\n",
    "df_ingredient.loc[df_ingredient['ingredient'].str.contains('เม็ดมะม่วง', case=False),'ingredient'] = 'เม็ดมะม่วงหิมพานต์'\n",
    "df_ingredient.loc[df_ingredient['ingredient'].str.contains('เมล็ดมะม่วง', case=False),'ingredient'] = 'เม็ดมะม่วงหิมพานต์'\n",
    "df_ingredient.loc[df_ingredient['ingredient'].str.contains('ถั่วหิมพานต์', case=False),'ingredient'] = 'เม็ดมะม่วงหิมพานต์'\n",
    "df_ingredient.loc[df_ingredient['ingredient'].str.contains('มะม่วงหิมพานต์', case=False),'ingredient'] = 'เม็ดมะม่วงหิมพานต์'\n",
    "# df_ingredient.loc[df_ingredient['ingredient'].str.contains('เมล็ดมะม่วง', case=False),'ingredient'] = 'เม็ดมะม่วงหิมพานต์'\n",
    "\n",
    "df_ingredient.loc[df_ingredient['ingredient'].str.contains('ไอซ', case=False),'ingredient'] = 'ไอซิ่ง'\n",
    "df_ingredient.loc[df_ingredient['ingredient'].str.contains('icing', case=False),'ingredient'] = 'ไอซิ่ง'\n",
    "\n",
    "df_ingredient.loc[df_ingredient['ingredient'].str.contains('น้ำตาล', case=False),'ingredient'] = 'น้ำตาล'\n",
    "df_ingredient.loc[df_ingredient['ingredient'].str.contains('sugar', case=False),'ingredient'] = 'น้ำตาล'\n",
    "\n",
    "df_ingredient.loc[df_ingredient['ingredient'].str.contains('กะป', case=False),'ingredient'] = 'กะปิ'\n",
    "\n",
    "df_ingredient.loc[df_ingredient['ingredient'].str.contains('กะหล่ำ', case=False),'ingredient'] = 'กะหล่ำ'\n",
    "df_ingredient.loc[df_ingredient['ingredient'].str.contains('กระหล่ำ', case=False),'ingredient'] = 'กะหล่ำ'\n",
    "\n",
    "df_ingredient.loc[df_ingredient['ingredient'].str.contains('กระชาย', case=False),'ingredient'] = 'กระชาย'\n",
    "\n",
    "df_ingredient.loc[df_ingredient['ingredient'].str.contains('กะเจี๊ยบ', case=False),'ingredient'] = 'กระเจี๊ยบ'\n",
    "df_ingredient.loc[df_ingredient['ingredient'].str.contains('กระเจี๊ยบ', case=False),'ingredient'] = 'กระเจี๊ยบ'\n",
    "\n",
    "df_ingredient.loc[df_ingredient['ingredient'].str.contains('garlic', case=False),'ingredient'] = 'กระเทียม'\n",
    "df_ingredient.loc[df_ingredient['ingredient'].str.contains('กะเทียม', case=False),'ingredient'] = 'กระเทียม'\n",
    "df_ingredient.loc[df_ingredient['ingredient'].str.contains('กระเทียม', case=False),'ingredient'] = 'กระเทียม'\n",
    "\n",
    "df_ingredient.loc[df_ingredient['ingredient'].str.contains('กุนเชียง', case=False),'ingredient'] = 'กุนเชียง'\n",
    "\n",
    "df_ingredient.loc[df_ingredient['ingredient'].str.contains('กระดูกหมู', case=False),'ingredient'] = 'กระดูกหมู'\n",
    "\n",
    "df_ingredient.loc[df_ingredient['ingredient'].str.contains('เต้าหู้ไข่', case=False),'ingredient'] = 'เต้าหู้ไข่'\n",
    "df_ingredient.loc[df_ingredient['ingredient'].str.contains('ไข่เค็ม', case=False),'ingredient'] = 'ไข่เค็ม'\n",
    "df_ingredient.loc[df_ingredient['ingredient'].str.contains('ไข่ขาว', case=False),'ingredient'] = 'ไข่ขาว'\n",
    "df_ingredient.loc[df_ingredient['ingredient'].str.contains('ไข่แดง', case=False),'ingredient'] = 'ไข่แดง'\n",
    "df_ingredient.loc[df_ingredient['ingredient'].str.contains('ไข่ดาว', case=False),'ingredient'] = 'ไข่ดาว'\n",
    "df_ingredient.loc[df_ingredient['ingredient'].str.contains('ไข่เจียว', case=False),'ingredient'] = 'ไข่เจียว'\n",
    "df_ingredient.loc[df_ingredient['ingredient'].str.contains('ไข่ไก่', case=False),'ingredient'] = 'ไข่ไก่'\n",
    "\n",
    "df_ingredient.loc[df_ingredient['ingredient'].str.contains('ไส้กรอก', case=False),'ingredient'] = 'ไส้กรอก'\n",
    "\n",
    "df_ingredient.loc[df_ingredient['ingredient'].str.contains('สามชั้น', case=False),'ingredient'] = 'หมูสามชั้น'\n",
    "df_ingredient.loc[df_ingredient['ingredient'].str.contains('3ชั้น', case=False),'ingredient'] = 'หมูสามชั้น'\n",
    "df_ingredient.loc[df_ingredient['ingredient'].str.contains('หมูมามชั้น', case=False),'ingredient'] = 'หมูสามชั้น'\n",
    "\n",
    "df_ingredient.loc[df_ingredient['ingredient'].str.contains('กุ้งฝอย', case=False),'ingredient'] = 'กุ้งฝอย'\n",
    "df_ingredient.loc[df_ingredient['ingredient'].str.contains('ไข่กุ้ง', case=False),'ingredient'] = 'ไข่กุ้ง'\n",
    "\n",
    "# df_ingredient.loc[df_ingredient['ingredient'].str.contains('ขนมปัง', case=False),'ingredient'] = 'ขนมปัง'\n",
    "\n",
    "df_ingredient.loc[:,'ingredient'] = df_ingredient.loc[:,'ingredient'].apply(clean_ingre).apply(translate)\n",
    "\n",
    "df_ingredient.loc[df_ingredient['ingredient'].str.contains('หมูบด', case=False),'ingredient'] = 'หมูสับ'\n",
    "df_ingredient.loc[df_ingredient['ingredient'].str.contains('ข้าวตัง', case=False),'ingredient'] = 'ข้าวตัง'\n",
    "df_ingredient.loc[df_ingredient['ingredient'].str.contains('หมูหยอง', case=False),'ingredient'] = 'หมูหยอง'\n",
    "df_ingredient.loc[df_ingredient['ingredient'].str.contains('หมูหย็อง', case=False),'ingredient'] = 'หมูหยอง'\n",
    "df_ingredient.loc[df_ingredient['ingredient'].str.contains('หมูสับ', case=False),'ingredient'] = 'หมูสับ'\n",
    "df_ingredient.loc[df_ingredient['ingredient'].str.contains('เลือดหมู', case=False),'ingredient'] = 'เลือดหมู'\n",
    "df_ingredient.loc[df_ingredient['ingredient'].str.contains('ตับหมู', case=False),'ingredient'] = 'ตับหมู'\n",
    "df_ingredient.loc[df_ingredient['ingredient'].str.contains('สันนอก', case=False),'ingredient'] = 'หมูสันนอก'\n",
    "df_ingredient.loc[df_ingredient['ingredient'].str.contains('หมูสันใน', case=False),'ingredient'] = 'หมูสันใน'\n",
    "df_ingredient.loc[df_ingredient['ingredient'].str.contains('สันในหมู', case=False),'ingredient'] = 'หมูสันใน'\n",
    "df_ingredient.loc[\n",
    "    (df_ingredient['ingredient'].str.contains('หมู', case=False)) &\n",
    "    (df_ingredient['ingredient'].str.contains('สันใน', case=False))\n",
    "    ,'ingredient'] = 'หมูสันใน'\n",
    "df_ingredient.loc[df_ingredient['ingredient'].str.contains('สันในไก่', case=False),'ingredient'] = 'สันในไก่'\n",
    "df_ingredient.loc[df_ingredient['ingredient'].str.contains('ไก่บด', case=False),'ingredient'] = 'ไก่สับ'\n",
    "df_ingredient.loc[df_ingredient['ingredient'].str.contains('น้ำสลัด', case=False),'ingredient'] = 'น้ำสลัด'\n",
    "df_ingredient.loc[df_ingredient['ingredient'].str.contains('ซีอิ้วดำ', case=False),'ingredient'] = 'ซีอิ้วดำ'\n",
    "df_ingredient.loc[df_ingredient['ingredient'].str.contains('ซีอิ้วหวาน', case=False),'ingredient'] = 'ซีอิ้วดำ'\n",
    "df_ingredient.loc[df_ingredient['ingredient'].str.contains('ซีอิ้วข', case=False),'ingredient'] = 'ซีอิ้วขาว'\n",
    "df_ingredient.loc[df_ingredient['ingredient'].str.contains('ซีอิ๊วข', case=False),'ingredient'] = 'ซีอิ้วขาว'\n",
    "df_ingredient.loc[df_ingredient['ingredient'].str.contains('ซีอิ้วปรุง', case=False),'ingredient'] = 'ซีอิ้วขาว'\n",
    "df_ingredient.loc[\n",
    "    (df_ingredient['ingredient'].str.contains('ซีอิ้ว', case=False)) &\n",
    "    (df_ingredient['ingredient'] != 'ซีอิ้วดำ')\n",
    "    ,'ingredient'] = 'ซีอิ้วขาว'\n",
    "df_ingredient.loc[df_ingredient['ingredient'].str.contains('กุ้งแห้ง', case=False),'ingredient'] = 'กุ้งแห้ง'\n",
    "df_ingredient.loc[df_ingredient['ingredient'].str.contains('หมูยอ', case=False),'ingredient'] = 'หมูยอ'\n",
    "df_ingredient.loc[df_ingredient['ingredient'].str.contains('หนังหมู', case=False),'ingredient'] = 'หนังหมู'\n",
    "df_ingredient.loc[df_ingredient['ingredient'].str.contains('แฮม', case=False),'ingredient'] = 'แฮม'\n",
    "df_ingredient.loc[df_ingredient['ingredient'].str.contains('ทูน่า', case=False),'ingredient'] = 'ทูน่า'\n",
    "df_ingredient.loc[df_ingredient['ingredient'].str.contains('น้ำมันพืช', case=False),'ingredient'] = 'น้ำมันพืช'\n",
    "df_ingredient.loc[df_ingredient['ingredient'].str.contains('สันคอหมู', case=False),'ingredient'] = 'สันคอหมู'\n",
    "df_ingredient.loc[df_ingredient['ingredient'].str.contains('หมูสันคอ', case=False),'ingredient'] = 'สันคอหมู'\n",
    "df_ingredient.loc[df_ingredient['ingredient'].str.contains('หมูสไล', case=False),'ingredient'] = 'หมูสไลด์'\n",
    "df_ingredient.loc[df_ingredient['ingredient'].str.contains('กากหมู', case=False),'ingredient'] = 'กากหมู'\n",
    "df_ingredient.loc[df_ingredient['ingredient'].str.contains('เนื้อหมู', case=False),'ingredient'] = 'เนื้อหมู'\n",
    "df_ingredient.loc[df_ingredient['ingredient'].str.contains('หมูติดมัน', case=False),'ingredient'] = 'หมูติดมัน'\n",
    "df_ingredient.loc[\n",
    "    (df_ingredient['ingredient'].str.contains('หมู', case=False)) &\n",
    "    (df_ingredient['ingredient'].str.contains('ผง', case=False))\n",
    "    ,'ingredient'] = 'ผงปรุงรสหมู'\n",
    "df_ingredient.loc[df_ingredient['ingredient'].str.contains('หมูเด้ง', case=False),'ingredient'] = 'หมูเด้ง'\n",
    "df_ingredient.loc[df_ingredient['ingredient'].str.contains('หมูบะช่อ', case=False),'ingredient'] = 'หมูเด้ง'\n",
    "df_ingredient.loc[df_ingredient['ingredient'].str.contains('หมูชิ้น', case=False),'ingredient'] = 'หมูชิ้น'\n",
    "df_ingredient.loc[df_ingredient['ingredient'].str.contains('ไส้หมู', case=False),'ingredient'] = 'ไส้หมู'\n",
    "df_ingredient.loc[df_ingredient['ingredient'].str.contains('หัวหมู', case=False),'ingredient'] = 'หัวหมู'\n",
    "df_ingredient.loc[df_ingredient['ingredient'].str.contains('ลูกชิ้นหมู', case=False),'ingredient'] = 'ลูกชิ้นหมู'\n",
    "df_ingredient.loc[\n",
    "    (df_ingredient['ingredient'].str.contains('หมู', case=False)) &\n",
    "    (df_ingredient['ingredient'].str.contains('ซุป', case=False))\n",
    "    ,'ingredient'] = 'ซุปก้อนรสหมู'\n",
    "df_ingredient.loc[df_ingredient['ingredient'].str.contains('หมูหมัก', case=False),'ingredient'] = 'เนื้อหมู'\n",
    "df_ingredient.loc[df_ingredient['ingredient'].str.contains('หมูหั่น', case=False),'ingredient'] = 'เนื้อหมู'\n",
    "df_ingredient.loc[df_ingredient['ingredient'].str.contains('หมูนุ่ม', case=False),'ingredient'] = 'เนื้อหมู'\n",
    "df_ingredient.loc[df_ingredient['ingredient'].str.contains('เนื้ิอหมู', case=False),'ingredient'] = 'เนื้อหมู'\n",
    "df_ingredient.loc[df_ingredient['ingredient'].str.contains('น้ำมันหอย', case=False),'ingredient'] = 'น้ำมันหอย'\n",
    "df_ingredient.loc[df_ingredient['ingredient'].str.contains('ขาหมู', case=False),'ingredient'] = 'ขาหมู'\n",
    "df_ingredient.loc[\n",
    "    (df_ingredient['ingredient'].str.contains('หมู', case=False)) &\n",
    "    (df_ingredient['ingredient'].str.contains('แดง', case=False))\n",
    "    ,'ingredient'] = 'หมูแดง'\n",
    "df_ingredient.loc[\n",
    "    (df_ingredient['ingredient'].str.contains('มันหมู', case=False)) &\n",
    "    (df_ingredient['ingredient'] != 'น้ำมันหมู')\n",
    "    ,'ingredient'] = 'มันหมู'\n",
    "df_ingredient.loc[df_ingredient['ingredient'].str.contains('ไส้หมู', case=False),'ingredient'] = 'ไส้หมู'\n",
    "df_ingredient.loc[df_ingredient['ingredient'].str.contains('ใส้หมู', case=False),'ingredient'] = 'ไส้หมู'\n",
    "df_ingredient.loc[df_ingredient['ingredient'].str.contains('คอหมู', case=False),'ingredient'] = 'คอหมู'\n",
    "df_ingredient.loc[df_ingredient['ingredient'].str.contains('โบโล', case=False),'ingredient'] = 'โบโลน่า'\n",
    "df_ingredient.loc[df_ingredient['ingredient'].str.contains('หมูแผ่น', case=False),'ingredient'] = 'หมูแผ่น'\n",
    "df_ingredient.loc[df_ingredient['ingredient'].str.contains('หมูทอด', case=False),'ingredient'] = 'หมูทอด'\n",
    "df_ingredient.loc[df_ingredient['ingredient'].str.contains('หมูทอด', case=False),'ingredient'] = 'หมูทอด'\n",
    "df_ingredient.loc[df_ingredient['ingredient'].str.contains('หมูฝอ', case=False),'ingredient'] = 'หมูฝอย'\n",
    "df_ingredient.loc[df_ingredient['ingredient'].str.contains('น้ำเปล่า', case=False),'ingredient'] = 'น้ำเปล่า'\n",
    "df_ingredient.loc[df_ingredient['ingredient'].str.contains('หมูชิ้น', case=False),'ingredient'] = 'เนื้อหมู'\n",
    "df_ingredient.loc[df_ingredient['ingredient'].str.contains('หมู ', case=False),'ingredient'] = 'เนื้อหมู'\n",
    "df_ingredient.loc[df_ingredient['ingredient'].str.contains('แคร็กเกอร์', case=False),'ingredient'] = 'แครกเกอร์'\n",
    "df_ingredient.loc[df_ingredient['ingredient'].str.contains('แครกเกอร์', case=False),'ingredient'] = 'แครกเกอร์'\n",
    "df_ingredient.loc[df_ingredient['ingredient'].str.contains('ลูกชิ้นปลา', case=False),'ingredient'] = 'ลูกชิ้นปลา'\n",
    "df_ingredient.loc[df_ingredient['ingredient'].str.contains('แซล', case=False),'ingredient'] = 'แซลม่อน'\n",
    "df_ingredient.loc[df_ingredient['ingredient'].str.contains('ปลาข้าวสาร', case=False),'ingredient'] = 'ปลาข้าวสาร'\n",
    "df_ingredient.loc[df_ingredient['ingredient'].str.contains('หอยลาย', case=False),'ingredient'] = 'หอยลาย'\n",
    "df_ingredient.loc[df_ingredient['ingredient'].str.contains('น้ำพริกเผา', case=False),'ingredient'] = 'น้ำพริกเผา'\n",
    "df_ingredient.loc[df_ingredient['ingredient'].str.contains('ปลาทู', case=False),'ingredient'] = 'ปลาทู'\n",
    "df_ingredient.loc[df_ingredient['ingredient'].str.contains('ปลาสลิด', case=False),'ingredient'] = 'ปลาสลิด'\n",
    "df_ingredient.loc[df_ingredient['ingredient'].str.contains('ปลาดอลลี่', case=False),'ingredient'] = 'ปลาดอลลี่'\n",
    "df_ingredient.loc[df_ingredient['ingredient'].str.contains('ปลาดอร์รี่', case=False),'ingredient'] = 'ปลาดอลลี่'\n",
    "df_ingredient.loc[df_ingredient['ingredient'].str.contains('ปลาดอรี่', case=False),'ingredient'] = 'ปลาดอลลี่'\n",
    "df_ingredient.loc[df_ingredient['ingredient'].str.contains('น้ำสต็อ', case=False),'ingredient'] = 'น้ำสต็อก'\n",
    "df_ingredient.loc[df_ingredient['ingredient'].str.contains('าร้า', case=False),'ingredient'] = 'ปลาร้า'\n",
    "df_ingredient.loc[df_ingredient['ingredient'].str.contains('ปลานิ', case=False),'ingredient'] = 'ปลานิล'\n",
    "df_ingredient.loc[df_ingredient['ingredient'].str.contains('พริกไทยดำ', case=False),'ingredient'] = 'พริกไทดำ'\n",
    "df_ingredient.loc[df_ingredient['ingredient'].str.contains('พริกไทดำ', case=False),'ingredient'] = 'พริกไทดำ'\n",
    "df_ingredient.loc[df_ingredient['ingredient'].str.contains('พริกไทยขาว', case=False),'ingredient'] = 'พริกไทขาว'\n",
    "df_ingredient.loc[df_ingredient['ingredient'].str.contains('พริกไทขาว', case=False),'ingredient'] = 'พริกไทขาว'\n",
    "df_ingredient.loc[df_ingredient['ingredient'].str.contains('ปลากระป๋อง', case=False),'ingredient'] = 'ปลากระป๋อง'\n",
    "df_ingredient.loc[df_ingredient['ingredient'].str.contains('ปลาซาบะ', case=False),'ingredient'] = 'ปลาซาบะ'\n",
    "df_ingredient.loc[df_ingredient['ingredient'].str.contains('ปลาส้ม', case=False),'ingredient'] = 'ปลาส้ม'\n",
    "df_ingredient.loc[df_ingredient['ingredient'].str.contains('ปลาตะเพียน', case=False),'ingredient'] = 'ปลาตะเพียน'\n",
    "df_ingredient.loc[df_ingredient['ingredient'].str.contains('ปลากรา', case=False),'ingredient'] = 'ปลากราย'\n",
    "df_ingredient.loc[df_ingredient['ingredient'].str.contains('ปลาสำลี', case=False),'ingredient'] = 'ปลาสำลี'\n",
    "df_ingredient.loc[df_ingredient['ingredient'].str.contains('จาระเม็ด', case=False),'ingredient'] = 'ปลาจาระเม็ด'\n",
    "df_ingredient.loc[df_ingredient['ingredient'].str.contains('จรเม็ด', case=False),'ingredient'] = 'ปลาจาระเม็ด'\n",
    "df_ingredient.loc[df_ingredient['ingredient'].str.contains('ปลาเค็ม', case=False),'ingredient'] = 'ปลาเค็ม'\n",
    "df_ingredient.loc[df_ingredient['ingredient'].str.contains('ปลาเก๋า', case=False),'ingredient'] = 'ปลาเก๋า'\n",
    "df_ingredient.loc[df_ingredient['ingredient'].str.contains('ปลาช่อน', case=False),'ingredient'] = 'ปลาช่อน'\n",
    "df_ingredient.loc[df_ingredient['ingredient'].str.contains('ถั่วลิสง', case=False),'ingredient'] = 'ถั่วลิสง'\n",
    "df_ingredient.loc[df_ingredient['ingredient'].str.contains('almond', case=False),'ingredient'] = 'อัลมอนด์'\n",
    "df_ingredient.loc[df_ingredient['ingredient'].str.contains('อัลมอนด์', case=False),'ingredient'] = 'อัลมอนด์'\n",
    "df_ingredient.loc[df_ingredient['ingredient'].str.contains('ปีกไก่', case=False),'ingredient'] = 'ปีกไก่'\n",
    "df_ingredient.loc[df_ingredient['ingredient'].str.contains('เมล็ดฟักทอง', case=False),'ingredient'] = 'เมล็ดฟักทอง'\n",
    "df_ingredient.loc[df_ingredient['ingredient'].str.contains('เกลือ', case=False),'ingredient'] = 'เกลือ'\n",
    "df_ingredient.loc[df_ingredient['ingredient'].str.contains('salt', case=False),'ingredient'] = 'เกลือ'\n",
    "df_ingredient.loc[\n",
    "    (df_ingredient['ingredient'].str.contains('น้ำ', case=False)) &\n",
    "    (df_ingredient['ingredient'].str.contains('ปลา', case=False))\n",
    "    ,'ingredient'] = 'น้ำปลา'\n",
    "df_ingredient.loc[df_ingredient['ingredient'].str.contains('เคยกุ้ง', case=False),'ingredient'] = 'เคยกุ้ง'\n",
    "df_ingredient.loc[df_ingredient['ingredient'].str.contains('คางกุ้ง', case=False),'ingredient'] = 'คางกุ้ง'\n",
    "df_ingredient.loc[df_ingredient['ingredient'].str.contains('ก้ามกุ้ง', case=False),'ingredient'] = 'ก้ามกุ้ง'\n",
    "df_ingredient.loc[df_ingredient['ingredient'].str.contains('ไช่กุ้ง', case=False),'ingredient'] = 'ไข่กุ้ง'\n",
    "df_ingredient.loc[df_ingredient['ingredient'].str.contains('กุ้งสด', case=False),'ingredient'] = 'กุ้ง'\n",
    "df_ingredient.loc[df_ingredient['ingredient'].str.contains('กุ้งขาว', case=False),'ingredient'] = 'กุ้ง'\n",
    "df_ingredient.loc[df_ingredient['ingredient'].str.contains('กุ้งนาง', case=False),'ingredient'] = 'กุ้ง'\n",
    "df_ingredient.loc[df_ingredient['ingredient'].str.contains('กุ้งสับ', case=False),'ingredient'] = 'กุ้ง'\n",
    "df_ingredient.loc[df_ingredient['ingredient'].str.contains('กุ้งตัวเล็ก', case=False),'ingredient'] = 'กุ้ง'\n",
    "df_ingredient.loc[df_ingredient['ingredient'].str.contains('กุ้งชีแฮ้', case=False),'ingredient'] = 'กุ้ง'\n",
    "df_ingredient.loc[df_ingredient['ingredient'].str.contains('กุ้งชี้แฮ้', case=False),'ingredient'] = 'กุ้ง'\n",
    "df_ingredient.loc[df_ingredient['ingredient'].str.contains('กุ้งสด', case=False),'ingredient'] = 'กุ้ง'\n",
    "df_ingredient.loc[df_ingredient['ingredient'].str.contains('กุ้งลวก', case=False),'ingredient'] = 'กุ้ง'\n",
    "df_ingredient.loc[df_ingredient['ingredient'].str.contains('กุ้ง ไซด์ใหญ่', case=False),'ingredient'] = 'กุ้ง'\n",
    "df_ingredient.loc[df_ingredient['ingredient'].str.contains('🍤', case=False),'ingredient'] = 'กุ้ง'\n",
    "df_ingredient.loc[df_ingredient['ingredient'].str.contains('กุ้งแช่แข็ง', case=False),'ingredient'] = 'กุ้ง'\n",
    "df_ingredient.loc[df_ingredient['ingredient'].str.contains('เนื้อกุ้ง', case=False),'ingredient'] = 'กุ้ง'\n",
    "df_ingredient.loc[df_ingredient['ingredient'].str.contains('กุ้ง ตัดหัว', case=False),'ingredient'] = 'กุ้ง'\n",
    "df_ingredient.loc[df_ingredient['ingredient'].str.contains('กุ้งแก้ว', case=False),'ingredient'] = 'กุ้ง'\n",
    "df_ingredient.loc[df_ingredient['ingredient'].str.contains('กุ้งเป็นตัว', case=False),'ingredient'] = 'กุ้ง'\n",
    "df_ingredient.loc[df_ingredient['ingredient'].str.contains('กุ้งขนาดเล็ก', case=False),'ingredient'] = 'กุ้ง'\n",
    "df_ingredient.loc[df_ingredient['ingredient'].str.contains('กุ้งสุก', case=False),'ingredient'] = 'กุ้ง'\n",
    "df_ingredient.loc[df_ingredient['ingredient'].str.contains('กุ้งทอด', case=False),'ingredient'] = 'กุ้งทอด'\n",
    "df_ingredient.loc[df_ingredient['ingredient'].str.contains('น้ำพริกมันกุ้ง', case=False),'ingredient'] = 'น้ำพริกมันกุ้ง'\n",
    "df_ingredient.loc[df_ingredient['ingredient'].str.contains('กุ้งตัวๆ', case=False),'ingredient'] = 'กุ้ง'\n",
    "df_ingredient.loc[df_ingredient['ingredient'].str.contains('กุ้งแกะ', case=False),'ingredient'] = 'กุ้ง'\n",
    "df_ingredient.loc[df_ingredient['ingredient'].str.contains('กุ้งต้ม', case=False),'ingredient'] = 'กุ้ง'\n",
    "df_ingredient.loc[df_ingredient['ingredient'].str.contains('กุ้งสเ', case=False),'ingredient'] = 'กุ้ง'\n",
    "df_ingredient.loc[df_ingredient['ingredient'].str.contains('กุ้งแชบ๊วย', case=False),'ingredient'] = 'กุ้ง'\n",
    "df_ingredient.loc[df_ingredient['ingredient'].str.contains('กุ้งหรือ', case=False),'ingredient'] = 'กุ้ง'\n",
    "df_ingredient.loc[df_ingredient['ingredient'].str.contains('กุ้งปอกเปลือก', case=False),'ingredient'] = 'กุ้ง'\n",
    "df_ingredient.loc[df_ingredient['ingredient'].str.contains('กุ้งไซส์ใหญ่', case=False),'ingredient'] = 'กุ้ง'\n",
    "df_ingredient.loc[df_ingredient['ingredient'].str.contains('กุ้ง 3 ตัว', case=False),'ingredient'] = 'กุ้ง'\n",
    "df_ingredient.loc[df_ingredient['ingredient'].str.contains('กุ้งลายเสือ', case=False),'ingredient'] = 'กุ้งลายเสือ'\n",
    "df_ingredient.loc[df_ingredient['ingredient'].str.contains('ล็อบสเตอร์', case=False),'ingredient'] = 'ล็อบสเตอร์'\n",
    "df_ingredient.loc[df_ingredient['ingredient'].str.contains('lobster', case=False),'ingredient'] = 'ล็อบสเตอร์'\n",
    "df_ingredient.loc[df_ingredient['ingredient'].str.contains('นมจืด', case=False),'ingredient'] = 'นมจืด'\n",
    "df_ingredient.loc[df_ingredient['ingredient'].str.contains('น้ำแข็ง', case=False),'ingredient'] = 'น้ำแข็ง'\n",
    "df_ingredient.loc[df_ingredient['ingredient'].str.contains('นมข้นหวาน', case=False),'ingredient'] = 'นมข้นหวาน'\n",
    "df_ingredient.loc[df_ingredient['ingredient'].str.contains('น้ำมันมะพร้าว', case=False),'ingredient'] = 'น้ำมันมะพร้าว'\n",
    "df_ingredient.loc[df_ingredient['ingredient'].str.contains('นมข้นจืด', case=False),'ingredient'] = 'นมข้นจืด'\n",
    "df_ingredient.loc[df_ingredient['ingredient'].str.contains('เส้นพาสต้า', case=False),'ingredient'] = 'เส้นพาสต้า'\n",
    "df_ingredient.loc[df_ingredient['ingredient'].str.contains('pasta', case=False),'ingredient'] = 'เส้นพาสต้า'\n",
    "df_ingredient.loc[df_ingredient['ingredient'].str.contains('น้ำมันมะกอก', case=False),'ingredient'] = 'น้ำมันมะกอก'\n",
    "df_ingredient.loc[df_ingredient['ingredient'].str.contains('มายองเนส', case=False),'ingredient'] = 'มายองเนส'\n",
    "df_ingredient.loc[df_ingredient['ingredient'].str.contains('เกล็ดขนมปัง', case=False),'ingredient'] = 'เกล็ดขนมปัง'\n",
    "df_ingredient.loc[df_ingredient['ingredient'].str.contains('แป้งขนมปัง', case=False),'ingredient'] = 'แป้งขนมปัง'\n",
    "df_ingredient.loc[\n",
    "    (df_ingredient['ingredient'].str.contains('ขนมปัง', case=False)) &\n",
    "    (df_ingredient['ingredient'] != 'เกล็ดขนมปัง') &\n",
    "    (df_ingredient['ingredient'] != 'แป้งขนมปัง')\n",
    "    ,'ingredient'] = 'ขนมปัง'\n",
    "df_ingredient.loc[df_ingredient['ingredient'].str.startswith('นมเปรี้ยว','ingredient')] = 'นมเปรี้ยว'\n",
    "df_ingredient.loc[df_ingredient['ingredient'].str.contains('อโวคาโด', case=False),'ingredient'] = 'อโวคาโด'\n",
    "df_ingredient.loc[df_ingredient['ingredient'].str.contains('Avocado', case=False),'ingredient'] = 'อโวคาโด'\n",
    "# df_ingredient.loc[\n",
    "#     (df_ingredient['ingredient'].str.contains('bacon', case=False)) |\n",
    "#     (df_ingredient['ingredient'].str.contains('เบค่อน', case=False)) |\n",
    "#     (df_ingredient['ingredient'].str.contains('เบคอน', case=False))\n",
    "#     , 'ingredient'] = 'เบคอน'\n",
    "# df_ingredient.loc[\n",
    "#     (df_ingredient['ingredient'].str.contains('บะหมี่กึ่ง', case=False))\n",
    "#     , 'ingredient'] = 'บะหมี่กึ่งสำเร็จรูป'\n",
    "# df_ingredient.loc[\n",
    "#     (\n",
    "#         (df_ingredient['ingredient'].str.contains('บะหมี่', case=False)) &\n",
    "#         (~df_ingredient['ingredient'].str.contains('บะหมี่กึ่ง', case=False))\n",
    "#     )\n",
    "#     , 'ingredient'] = 'บะหมี่'\n",
    "\n",
    "df_ingredient.loc[:,'ingredient'] = df_ingredient.loc[:,'ingredient'].apply(remove_emojis)\n",
    "df_ingredient = df_ingredient[df_ingredient['ingredient'] != '']\n",
    "df_ingredient = df_ingredient[~df_ingredient['ingredient'].isnull()]\n",
    "# df_ingredient = df_ingredient[~df_ingredient['ingredient'].isna()]"
   ]
  },
  {
   "cell_type": "code",
   "execution_count": 522,
   "metadata": {
    "scrolled": false
   },
   "outputs": [
    {
     "data": {
      "text/plain": [
       "array([], dtype=object)"
      ]
     },
     "execution_count": 522,
     "metadata": {},
     "output_type": "execute_result"
    }
   ],
   "source": [
    "df_ingredient[df_ingredient['ingredient'].str.contains('นม', case=False)]['ingredient'].unique()\n",
    "df_ingredient[df_ingredient['ingredient'].str.contains('salt', case=True)]['ingredient'].unique()\n",
    "# df_ingredient[df_ingredient['ingredient'].str.contains('pasta', case=True)]['ingredient'].unique()\n",
    "# df_ingredient[df_ingredient['ingredient'].str.contains('pasta', case=True)]['ingredient'].unique()\n",
    "# df_ingredient[df_ingredient['ingredient'].str.contains('สะเต๊ะ', case=False)]['ingredient'].unique()\n",
    "# df_ingredient.loc[\n",
    "#     (df_ingredient['ingredient'].str.contains('หมู', case=False)) &\n",
    "#     (df_ingredient['ingredient'].str.contains('ผง', case=False))\n",
    "#     ,'ingredient']\n",
    "# df_ingredient.loc[\n",
    "#     (df_ingredient['ingredient'].str.contains('น้ำ', case=False)) &\n",
    "#     (df_ingredient['ingredient'].str.contains('ปลา', case=False))\n",
    "#     ,'ingredient']\n",
    "# df_ingredient[df_ingredient['ingredient'].str.contains('ลูกชิ้นปลา', case=False)]['ingredient'].unique()\n",
    "# df_ingredient[df_ingredient['ingredient'].str.contains('ลูกชิ้น', case=False)]['ingredient'].unique()\n",
    "# df_ingredient[df_ingredient['ingredient'].str.contains('ปลา', case=False)]['ingredient'].unique()\n",
    "# df_ingredient[df_ingredient['ingredient'].str.contains('เกลือ', case=False)]['ingredient'].unique()\n",
    "# df_ingredient[df_ingredient['ingredient'].str.contains('เมล็ดฟักทอง', case=False)]['ingredient'].unique()\n"
   ]
  },
  {
   "cell_type": "code",
   "execution_count": 524,
   "metadata": {
    "scrolled": false
   },
   "outputs": [],
   "source": [
    "# sorted(df_ingredient['ingredient'].unique())"
   ]
  },
  {
   "cell_type": "code",
   "execution_count": null,
   "metadata": {
    "scrolled": false
   },
   "outputs": [],
   "source": [
    "# with open('./unique_ingredients.txt', 'w', encoding='utf-8') as f:\n",
    "#     for x in sorted(unique_ingredients):\n",
    "#         f.write(x)\n",
    "#         f.write('\\n')"
   ]
  },
  {
   "cell_type": "code",
   "execution_count": null,
   "metadata": {},
   "outputs": [],
   "source": []
  },
  {
   "cell_type": "code",
   "execution_count": null,
   "metadata": {},
   "outputs": [],
   "source": [
    "# all_recipes_raw_list = list(all_recipes_raw)\n",
    "\n",
    "# chunked_list = list(chunks(all_recipes_raw_list, 400))\n",
    "# random.shuffle(chunked_list)"
   ]
  },
  {
   "cell_type": "code",
   "execution_count": null,
   "metadata": {},
   "outputs": [],
   "source": [
    "# find_n_ingredients = 6000\n",
    "# select_top_n_ingredients = 3500\n",
    "# ingredient_preselection = list()\n",
    "\n",
    "# p = Pool(16)\n",
    "\n",
    "# for r_chunk in tqdm(chunked_list):\n",
    "#     r_chunk_new = p.map(clean_ingredient_list, r_chunk)\n",
    "#     for r_new in r_chunk_new:\n",
    "#         ingredient_preselection.extend(r_new)\n",
    "        \n",
    "#     unique_ingredient_count = len(set(ingredient_preselection))\n",
    "#     if unique_ingredient_count > find_n_ingredients:\n",
    "#         break\n",
    "#     print(f'Found {unique_ingredient_count} unique ingredients') \n",
    "        \n",
    "# c = Counter(ingredient_preselection)\n",
    "# clean_ingredients = list([i for i, n in c.most_common()][:select_top_n_ingredients])\n",
    "# assert len(clean_ingredients) == select_top_n_ingredients"
   ]
  },
  {
   "cell_type": "code",
   "execution_count": 15,
   "metadata": {},
   "outputs": [],
   "source": [
    "df_ingredient.to_csv('df_ingredient2.csv', encoding='utf-8')"
   ]
  },
  {
   "cell_type": "markdown",
   "metadata": {},
   "source": [
    "## Preparing"
   ]
  },
  {
   "cell_type": "code",
   "execution_count": 16,
   "metadata": {},
   "outputs": [],
   "source": [
    "unique_ingredients = list(set(df_ingredient['ingredient'].unique()))"
   ]
  },
  {
   "cell_type": "code",
   "execution_count": 17,
   "metadata": {},
   "outputs": [
    {
     "data": {
      "text/html": [
       "<div>\n",
       "<style scoped>\n",
       "    .dataframe tbody tr th:only-of-type {\n",
       "        vertical-align: middle;\n",
       "    }\n",
       "\n",
       "    .dataframe tbody tr th {\n",
       "        vertical-align: top;\n",
       "    }\n",
       "\n",
       "    .dataframe thead th {\n",
       "        text-align: right;\n",
       "    }\n",
       "</style>\n",
       "<table border=\"1\" class=\"dataframe\">\n",
       "  <thead>\n",
       "    <tr style=\"text-align: right;\">\n",
       "      <th></th>\n",
       "      <th>id</th>\n",
       "      <th>recipe</th>\n",
       "      <th>ingredient</th>\n",
       "    </tr>\n",
       "  </thead>\n",
       "  <tbody>\n",
       "    <tr>\n",
       "      <td>0</td>\n",
       "      <td>7980ed28ce35467482b9858b86a5650d</td>\n",
       "      <td>ยำคะน้าหมูสับ</td>\n",
       "      <td>ผักคะน้า</td>\n",
       "    </tr>\n",
       "    <tr>\n",
       "      <td>1</td>\n",
       "      <td>7980ed28ce35467482b9858b86a5650d</td>\n",
       "      <td>ยำคะน้าหมูสับ</td>\n",
       "      <td>หมูสับ</td>\n",
       "    </tr>\n",
       "    <tr>\n",
       "      <td>2</td>\n",
       "      <td>7980ed28ce35467482b9858b86a5650d</td>\n",
       "      <td>ยำคะน้าหมูสับ</td>\n",
       "      <td>คนอร์หมู</td>\n",
       "    </tr>\n",
       "    <tr>\n",
       "      <td>3</td>\n",
       "      <td>7980ed28ce35467482b9858b86a5650d</td>\n",
       "      <td>ยำคะน้าหมูสับ</td>\n",
       "      <td>น้ำมะนาว</td>\n",
       "    </tr>\n",
       "    <tr>\n",
       "      <td>4</td>\n",
       "      <td>7980ed28ce35467482b9858b86a5650d</td>\n",
       "      <td>ยำคะน้าหมูสับ</td>\n",
       "      <td>หอมแดง</td>\n",
       "    </tr>\n",
       "  </tbody>\n",
       "</table>\n",
       "</div>"
      ],
      "text/plain": [
       "                                 id         recipe ingredient\n",
       "0  7980ed28ce35467482b9858b86a5650d  ยำคะน้าหมูสับ   ผักคะน้า\n",
       "1  7980ed28ce35467482b9858b86a5650d  ยำคะน้าหมูสับ     หมูสับ\n",
       "2  7980ed28ce35467482b9858b86a5650d  ยำคะน้าหมูสับ   คนอร์หมู\n",
       "3  7980ed28ce35467482b9858b86a5650d  ยำคะน้าหมูสับ   น้ำมะนาว\n",
       "4  7980ed28ce35467482b9858b86a5650d  ยำคะน้าหมูสับ     หอมแดง"
      ]
     },
     "execution_count": 17,
     "metadata": {},
     "output_type": "execute_result"
    }
   ],
   "source": [
    "df_ingredient.head()"
   ]
  },
  {
   "cell_type": "code",
   "execution_count": 18,
   "metadata": {},
   "outputs": [],
   "source": [
    "# df_ingredient['indexed']\n",
    "# for r in df_ingredient.iterrow():\n",
    "ingredients = list()\n",
    "for k, g in df_ingredient.groupby('recipe'):\n",
    "    igr = list()\n",
    "    for i, r in g.iterrows():\n",
    "#         print(r)\n",
    "        igr.append(r['ingredient'])\n",
    "    ingredients.append(igr)\n",
    "# for x in df_ingredient['ingredient']:\n",
    "#     ingredients.append([y.strip() for y in x])"
   ]
  },
  {
   "cell_type": "code",
   "execution_count": 19,
   "metadata": {},
   "outputs": [],
   "source": [
    "with open('./ingredients2.txt', 'w', encoding='utf-8') as f:\n",
    "    for x in sorted(ingredients):\n",
    "        f.write(','.join(x))\n",
    "        f.write('\\n')"
   ]
  },
  {
   "cell_type": "code",
   "execution_count": null,
   "metadata": {},
   "outputs": [],
   "source": [
    "# clean_ingredients = [y.strip() for x in ingredients for y in x]\n",
    "# clean_ingredients"
   ]
  },
  {
   "cell_type": "code",
   "execution_count": null,
   "metadata": {},
   "outputs": [],
   "source": [
    "# sorted(clean_ingredients)"
   ]
  },
  {
   "cell_type": "code",
   "execution_count": null,
   "metadata": {},
   "outputs": [],
   "source": [
    "# len(clean_ingredients)"
   ]
  },
  {
   "cell_type": "code",
   "execution_count": 20,
   "metadata": {},
   "outputs": [
    {
     "name": "stderr",
     "output_type": "stream",
     "text": [
      "100%|███████████████████████████████████████████████████████████████████████████████████████████████████████████████| 3594/3594 [00:02<00:00, 1227.60it/s]\n"
     ]
    }
   ],
   "source": [
    "indexed_recipes = []\n",
    "\n",
    "for r in tqdm(ingredients):\n",
    "    if r:\n",
    "#         indexed_recipes.append(np.array([clean_ingredients.index(i) for i in r]))\n",
    "        indexed_recipes.append(np.array([unique_ingredients.index(i) for i in r]))\n",
    "    \n",
    "indexed_recipes = np.array(indexed_recipes)"
   ]
  },
  {
   "cell_type": "code",
   "execution_count": 21,
   "metadata": {},
   "outputs": [
    {
     "data": {
      "text/plain": [
       "3594"
      ]
     },
     "execution_count": 21,
     "metadata": {},
     "output_type": "execute_result"
    }
   ],
   "source": [
    "len(indexed_recipes)"
   ]
  },
  {
   "cell_type": "code",
   "execution_count": 22,
   "metadata": {},
   "outputs": [
    {
     "data": {
      "text/plain": [
       "array([array([ 328, 2376, 1772,  184,  990, 3163, 2522, 3549,  607, 2487]),\n",
       "       array([ 419,  990, 1288,   16, 1657, 2512,  118]),\n",
       "       array([ 419, 2722, 1324, 2522, 1657, 1532,  140]), ...,\n",
       "       array([ 437, 3794,  520, 1894]),\n",
       "       array([2487,  765, 1501, 4000, 2381,  733, 1532, 2512, 2257,  703, 3487,\n",
       "        621, 2901, 3618, 1219,  733,  511, 2940]),\n",
       "       array([ 376, 2074, 2686,  765, 1457, 1900, 2627, 1621, 3216])],\n",
       "      dtype=object)"
      ]
     },
     "execution_count": 22,
     "metadata": {},
     "output_type": "execute_result"
    }
   ],
   "source": [
    "indexed_recipes"
   ]
  },
  {
   "cell_type": "code",
   "execution_count": 23,
   "metadata": {},
   "outputs": [],
   "source": [
    "# maybe it's a good time to save?\n",
    "# np.savez_compressed('wongnet', ingredients=clean_ingredients, recipes=indexed_recipes)\n",
    "np.savez_compressed('wongnet2', ingredients=unique_ingredients, recipes=indexed_recipes)"
   ]
  },
  {
   "cell_type": "code",
   "execution_count": 24,
   "metadata": {},
   "outputs": [],
   "source": [
    "class Recipes:\n",
    "\n",
    "    def __init__(self):\n",
    "        pass\n",
    "#         self.load_recipes(data_path)\n",
    "\n",
    "    def load_recipes(self, data_path):\n",
    "#         with np.load('simplified-recipes-1M.npz', allow_pickle=True) as data:\n",
    "        with np.load(data_path, allow_pickle=True) as data:\n",
    "            self.recipes = data['recipes']\n",
    "            self.ingredients = data['ingredients']\n",
    "        np.random.shuffle(self.recipes)\n",
    "\n",
    "        self.train_size = int(0.97 * len(self.recipes))\n",
    "        self.test_size = len(self.recipes) - self.train_size\n",
    "        self.train_recipes = self.recipes[:self.train_size]\n",
    "        self.test_recipes = self.recipes[self.train_size:]\n",
    "        print(self.train_recipes.shape, self.test_recipes.shape)\n",
    "\n",
    "    def onehot_to_hr_recipe(self, ind):\n",
    "        r = []\n",
    "        for i, v in enumerate(ind):\n",
    "            if v == 1:\n",
    "                r.append(self.ingredients[i])\n",
    "        return len(r), r\n",
    "\n",
    "    \"\"\"def get_batch_alt(recipes_array, batch_size, set_n_to_zero=1):\n",
    "        while True:\n",
    "            print(len(recipes_array), 'dataset iterator epoch start')\n",
    "            offset = 0\n",
    "            for batch_end_offset in range(batch_size, len(recipes_array)+1, batch_size):\n",
    "\n",
    "                batch_data = recipes_array[batch_end_offset-batch_size:batch_end_offset]\n",
    "\n",
    "                batch_y = np.zeros((batch_size, len(ingredients)))\n",
    "                for i, row in enumerate(batch_data):\n",
    "                    try:\n",
    "                        batch_y[i, row] = 1\n",
    "                    except IndexError: pass\n",
    "\n",
    "                batch_x = np.copy(batch_y)\n",
    "                for i, row in enumerate(batch_data):\n",
    "                    try:\n",
    "                        ind = np.random.choice(row, set_n_to_zero, replace=False)\n",
    "                        batch_x[i, ind] = 0\n",
    "                    except (IndexError, ValueError): pass\n",
    "\n",
    "                #indices = np.random.random((batch_size, len(ingredients))) > 0.1\n",
    "                #batch_x[indices] = 0\n",
    "                yield batch_x, batch_y\"\"\"\n",
    "\n",
    "    def labels_to_batch(self, l):\n",
    "        l = self.filter_ingr(l)\n",
    "        assert len(l) > 2\n",
    "        k = [self.hr_to_indices_list(l)]\n",
    "\n",
    "        x, y = self.batch_iterator(k, 1).__next__()\n",
    "        return x + y\n",
    "\n",
    "    def hr_to_indices_list(self, l):\n",
    "        r = np.zeros(len(l), dtype=np.int32)\n",
    "        for c, i in enumerate(l):\n",
    "            r[c] = np.where(self.ingredients == i)[0][0]\n",
    "        return r\n",
    "\n",
    "    def batch_iterator(self, recipes_array, batch_size):\n",
    "        while True:\n",
    "            # print('\\n', len(recipes_array), 'dataset iterator epoch start')\n",
    "            offset = 0\n",
    "            for batch_end_offset in range(batch_size, len(recipes_array) + 1, batch_size):\n",
    "                batch_data = recipes_array[batch_end_offset - batch_size:batch_end_offset]\n",
    "\n",
    "                batch_y = np.zeros((batch_size, len(self.ingredients)))\n",
    "                batch_x = np.zeros((batch_size, len(self.ingredients)))\n",
    "\n",
    "                for i, row in enumerate(batch_data):\n",
    "                    remove_max_n_elements = 5\n",
    "                    remove_max_one_nth_of_elements = 4\n",
    "                    try:\n",
    "                        n_to_remove = np.random.randint(1, 1 + max(0, min(remove_max_n_elements,\n",
    "                                                                          math.floor(len(row) / remove_max_one_nth_of_elements))))\n",
    "\n",
    "                        ind = np.random.randint(0, len(row), n_to_remove)\n",
    "                        row_with_ingr_removed = np.delete(row, ind) # remove some ingredients\n",
    "                        batch_y[i, row[ind]] = 1\n",
    "                        batch_x[i, row_with_ingr_removed] = 1\n",
    "                    except (IndexError, ValueError):\n",
    "                        pass\n",
    "\n",
    "                yield batch_x, batch_y\n",
    "\n",
    "    def get_batch_count(self, recipes_array, bs):\n",
    "        return len(list(range(bs, len(recipes_array), bs)))\n",
    "\n",
    "    def filter_ingr(self, l):\n",
    "        return [k for k in l if k in self.ingredients or print(k, 'not found')]\n",
    "\n",
    "    def match_ingr(self, i):\n",
    "        l = []\n",
    "        for u in self.ingredients:\n",
    "            if i in u or u in i:\n",
    "                l.append(u)\n",
    "        return l"
   ]
  },
  {
   "cell_type": "code",
   "execution_count": 596,
   "metadata": {},
   "outputs": [],
   "source": [
    "# row = r.train_recipes\n",
    "# batch_y = np.zeros((len(r.recipes), len(r.ingredients)))\n",
    "# batch_x = np.zeros((len(r.recipes), len(r.ingredients)))\n",
    "# remove_max_n_elements = 5\n",
    "# remove_max_one_nth_of_elements = 4\n",
    "\n",
    "# n_to_remove = np.random.randint(1, 1 + max(0, min(remove_max_n_elements,\n",
    "#                                                   math.floor(len(row) / remove_max_one_nth_of_elements))))\n",
    "\n",
    "# ind = np.random.randint(0, len(row), n_to_remove)\n",
    "# row_with_ingr_removed = np.delete(row, ind)\n",
    "# row_with_ingr_removed\n",
    "# batch_y[i, row[ind]] = 1\n",
    "# batch_x[i, row_with_ingr_removed] = 1"
   ]
  },
  {
   "cell_type": "markdown",
   "metadata": {},
   "source": [
    "# Neural Network"
   ]
  },
  {
   "cell_type": "code",
   "execution_count": 25,
   "metadata": {},
   "outputs": [
    {
     "name": "stdout",
     "output_type": "stream",
     "text": [
      "2.0.0\n"
     ]
    }
   ],
   "source": [
    "import numpy as np\n",
    "import tensorflow as tf\n",
    "from matplotlib import pyplot as plt\n",
    "import math\n",
    "import datetime\n",
    "import os\n",
    "# from util import Recipes\n",
    "import random\n",
    "print(tf.__version__)"
   ]
  },
  {
   "cell_type": "code",
   "execution_count": 26,
   "metadata": {},
   "outputs": [
    {
     "name": "stdout",
     "output_type": "stream",
     "text": [
      "(3486,) (108,)\n"
     ]
    }
   ],
   "source": [
    "r = Recipes()\n",
    "r.load_recipes('wongnet2.npz')"
   ]
  },
  {
   "cell_type": "code",
   "execution_count": 27,
   "metadata": {},
   "outputs": [
    {
     "name": "stdout",
     "output_type": "stream",
     "text": [
      "(4, ['เกลือ', 'เงาะ', 'น้ำเปล่า', 'น้ำเชื่อมสำเร็จรูป'])\n",
      "\n",
      "(1, ['น้ำแข็ง'])\n"
     ]
    }
   ],
   "source": [
    "g = r.batch_iterator(r.train_recipes, 200)\n",
    "x, y = g.__next__()\n",
    "i = random.randint(0, 199)\n",
    "print(r.onehot_to_hr_recipe(x[i]))\n",
    "print()\n",
    "print(r.onehot_to_hr_recipe(y[i]))"
   ]
  },
  {
   "cell_type": "code",
   "execution_count": 31,
   "metadata": {},
   "outputs": [
    {
     "name": "stdout",
     "output_type": "stream",
     "text": [
      "Model: \"sequential_2\"\n",
      "_________________________________________________________________\n",
      "Layer (type)                 Output Shape              Param #   \n",
      "=================================================================\n",
      "dense_12 (Dense)             (None, 500)               2113000   \n",
      "_________________________________________________________________\n",
      "leaky_re_lu_10 (LeakyReLU)   (None, 500)               0         \n",
      "_________________________________________________________________\n",
      "dense_13 (Dense)             (None, 330)               165330    \n",
      "_________________________________________________________________\n",
      "leaky_re_lu_11 (LeakyReLU)   (None, 330)               0         \n",
      "_________________________________________________________________\n",
      "dense_14 (Dense)             (None, 300)               99300     \n",
      "_________________________________________________________________\n",
      "leaky_re_lu_12 (LeakyReLU)   (None, 300)               0         \n",
      "_________________________________________________________________\n",
      "dense_15 (Dense)             (None, 330)               99330     \n",
      "_________________________________________________________________\n",
      "leaky_re_lu_13 (LeakyReLU)   (None, 330)               0         \n",
      "_________________________________________________________________\n",
      "dense_16 (Dense)             (None, 500)               165500    \n",
      "_________________________________________________________________\n",
      "leaky_re_lu_14 (LeakyReLU)   (None, 500)               0         \n",
      "_________________________________________________________________\n",
      "dense_17 (Dense)             (None, 4225)              2116725   \n",
      "=================================================================\n",
      "Total params: 4,759,185\n",
      "Trainable params: 4,759,185\n",
      "Non-trainable params: 0\n",
      "_________________________________________________________________\n"
     ]
    }
   ],
   "source": [
    "# batch_size = 256\n",
    "batch_size = 54\n",
    "# valid_batch_size = 512\n",
    "valid_batch_size = 107\n",
    "epochs = 42\n",
    "\n",
    "# model = tf.keras.models.Sequential([tf.keras.layers.Dense(500, input_shape=(3500,)),\n",
    "# model = tf.keras.models.Sequential([tf.keras.layers.Dense(500, input_shape=(6408,)),\n",
    "# model = tf.keras.models.Sequential([tf.keras.layers.Dense(500, input_shape=(4230,)),\n",
    "model = tf.keras.models.Sequential([tf.keras.layers.Dense(500, input_shape=(4225,)),\n",
    "                                    tf.keras.layers.LeakyReLU(),\n",
    "                                    \n",
    "                                    tf.keras.layers.Dense(330),\n",
    "                                    tf.keras.layers.LeakyReLU(),\n",
    "                                    \n",
    "                                    tf.keras.layers.Dense(300),\n",
    "                                    tf.keras.layers.LeakyReLU(),\n",
    "                                                                                                            \n",
    "                                    tf.keras.layers.Dense(330),\n",
    "                                    tf.keras.layers.LeakyReLU(),\n",
    "                                    \n",
    "                                    tf.keras.layers.Dense(500),\n",
    "                                    tf.keras.layers.LeakyReLU(),\n",
    "                                    \n",
    "                                    tf.keras.layers.Dense(len(r.ingredients), activation='sigmoid')\n",
    "                                   ])\n",
    "\n",
    "model.compile(optimizer='adam',\n",
    "              loss='categorical_crossentropy',\n",
    "              metrics=['categorical_accuracy'])\n",
    "\n",
    "model.summary()\n",
    "\n",
    "logdir = os.path.join(\"logs\", datetime.datetime.now().strftime(\"%Y-%m-%d-%H:%M:%S\"))\n",
    "tensorboard_callback = tf.keras.callbacks.TensorBoard(logdir, histogram_freq=1, update_freq=batch_size*64)"
   ]
  },
  {
   "cell_type": "code",
   "execution_count": 32,
   "metadata": {},
   "outputs": [
    {
     "name": "stdout",
     "output_type": "stream",
     "text": [
      "Epoch 1/42\n",
      "64/64 [==============================] - ETA: 2:40 - loss: 11.4410 - categorical_accuracy: 0.055 - ETA: 1:21 - loss: 11.4399 - categorical_accuracy: 0.037 - ETA: 55s - loss: 11.4379 - categorical_accuracy: 0.043 - ETA: 41s - loss: 11.5516 - categorical_accuracy: 0.05 - ETA: 33s - loss: 11.5549 - categorical_accuracy: 0.05 - ETA: 28s - loss: 11.2185 - categorical_accuracy: 0.06 - ETA: 24s - loss: 11.2797 - categorical_accuracy: 0.05 - ETA: 22s - loss: 11.2524 - categorical_accuracy: 0.06 - ETA: 20s - loss: 11.1545 - categorical_accuracy: 0.06 - ETA: 18s - loss: 11.1634 - categorical_accuracy: 0.05 - ETA: 16s - loss: 11.0920 - categorical_accuracy: 0.05 - ETA: 15s - loss: 10.9106 - categorical_accuracy: 0.05 - ETA: 14s - loss: 10.7847 - categorical_accuracy: 0.05 - ETA: 13s - loss: 10.6343 - categorical_accuracy: 0.05 - ETA: 12s - loss: 10.6102 - categorical_accuracy: 0.05 - ETA: 11s - loss: 10.6132 - categorical_accuracy: 0.05 - ETA: 10s - loss: 10.5984 - categorical_accuracy: 0.05 - ETA: 10s - loss: 10.4187 - categorical_accuracy: 0.05 - ETA: 9s - loss: 10.3308 - categorical_accuracy: 0.0536 - ETA: 9s - loss: 10.2719 - categorical_accuracy: 0.050 - ETA: 8s - loss: 10.2117 - categorical_accuracy: 0.054 - ETA: 8s - loss: 10.1792 - categorical_accuracy: 0.054 - ETA: 7s - loss: 10.0970 - categorical_accuracy: 0.055 - ETA: 7s - loss: 10.0542 - categorical_accuracy: 0.061 - ETA: 7s - loss: 10.0130 - categorical_accuracy: 0.060 - ETA: 6s - loss: 9.9412 - categorical_accuracy: 0.059 - ETA: 6s - loss: 9.8914 - categorical_accuracy: 0.05 - ETA: 6s - loss: 9.9177 - categorical_accuracy: 0.05 - ETA: 5s - loss: 9.8606 - categorical_accuracy: 0.05 - ETA: 5s - loss: 9.7737 - categorical_accuracy: 0.05 - ETA: 5s - loss: 9.7554 - categorical_accuracy: 0.05 - ETA: 5s - loss: 9.7235 - categorical_accuracy: 0.05 - ETA: 4s - loss: 9.6978 - categorical_accuracy: 0.05 - ETA: 4s - loss: 9.6503 - categorical_accuracy: 0.05 - ETA: 4s - loss: 9.6489 - categorical_accuracy: 0.05 - ETA: 4s - loss: 9.6146 - categorical_accuracy: 0.05 - ETA: 4s - loss: 9.5779 - categorical_accuracy: 0.05 - ETA: 3s - loss: 9.5383 - categorical_accuracy: 0.05 - ETA: 3s - loss: 9.5374 - categorical_accuracy: 0.05 - ETA: 3s - loss: 9.5200 - categorical_accuracy: 0.05 - ETA: 3s - loss: 9.5017 - categorical_accuracy: 0.05 - ETA: 3s - loss: 9.4835 - categorical_accuracy: 0.05 - ETA: 2s - loss: 9.4724 - categorical_accuracy: 0.05 - ETA: 2s - loss: 9.4501 - categorical_accuracy: 0.05 - ETA: 2s - loss: 9.4276 - categorical_accuracy: 0.05 - ETA: 2s - loss: 9.4096 - categorical_accuracy: 0.05 - ETA: 2s - loss: 9.3970 - categorical_accuracy: 0.05 - ETA: 2s - loss: 9.3859 - categorical_accuracy: 0.05 - ETA: 1s - loss: 9.3666 - categorical_accuracy: 0.05 - ETA: 1s - loss: 9.3585 - categorical_accuracy: 0.05 - ETA: 1s - loss: 9.3553 - categorical_accuracy: 0.05 - ETA: 1s - loss: 9.3499 - categorical_accuracy: 0.05 - ETA: 1s - loss: 9.3517 - categorical_accuracy: 0.05 - ETA: 1s - loss: 9.3500 - categorical_accuracy: 0.05 - ETA: 1s - loss: 9.3568 - categorical_accuracy: 0.05 - ETA: 0s - loss: 9.3460 - categorical_accuracy: 0.05 - ETA: 0s - loss: 9.3335 - categorical_accuracy: 0.05 - ETA: 0s - loss: 9.3343 - categorical_accuracy: 0.05 - ETA: 0s - loss: 9.3077 - categorical_accuracy: 0.05 - ETA: 0s - loss: 9.3220 - categorical_accuracy: 0.05 - ETA: 0s - loss: 9.3325 - categorical_accuracy: 0.05 - ETA: 0s - loss: 9.3226 - categorical_accuracy: 0.05 - ETA: 0s - loss: 9.3146 - categorical_accuracy: 0.05 - 8s 120ms/step - loss: 9.3031 - categorical_accuracy: 0.0538 - val_loss: 8.4000 - val_categorical_accuracy: 0.0841\n",
      "Epoch 2/42\n",
      "64/64 [==============================] - ETA: 5s - loss: 8.3448 - categorical_accuracy: 0.01 - ETA: 5s - loss: 8.3607 - categorical_accuracy: 0.04 - ETA: 5s - loss: 8.2657 - categorical_accuracy: 0.05 - ETA: 4s - loss: 8.4556 - categorical_accuracy: 0.04 - ETA: 4s - loss: 8.2849 - categorical_accuracy: 0.05 - ETA: 4s - loss: 8.1911 - categorical_accuracy: 0.04 - ETA: 4s - loss: 8.3723 - categorical_accuracy: 0.05 - ETA: 4s - loss: 8.4698 - categorical_accuracy: 0.05 - ETA: 4s - loss: 8.4865 - categorical_accuracy: 0.05 - ETA: 4s - loss: 8.4700 - categorical_accuracy: 0.05 - ETA: 4s - loss: 8.4155 - categorical_accuracy: 0.04 - ETA: 4s - loss: 8.3338 - categorical_accuracy: 0.04 - ETA: 4s - loss: 8.3425 - categorical_accuracy: 0.04 - ETA: 3s - loss: 8.3485 - categorical_accuracy: 0.04 - ETA: 3s - loss: 8.4050 - categorical_accuracy: 0.04 - ETA: 3s - loss: 8.4953 - categorical_accuracy: 0.05 - ETA: 3s - loss: 8.5428 - categorical_accuracy: 0.04 - ETA: 3s - loss: 8.4815 - categorical_accuracy: 0.05 - ETA: 3s - loss: 8.3951 - categorical_accuracy: 0.05 - ETA: 3s - loss: 8.3716 - categorical_accuracy: 0.05 - ETA: 3s - loss: 8.3523 - categorical_accuracy: 0.05 - ETA: 3s - loss: 8.3303 - categorical_accuracy: 0.05 - ETA: 3s - loss: 8.4328 - categorical_accuracy: 0.05 - ETA: 3s - loss: 8.4595 - categorical_accuracy: 0.05 - ETA: 3s - loss: 8.4492 - categorical_accuracy: 0.05 - ETA: 3s - loss: 8.4030 - categorical_accuracy: 0.05 - ETA: 2s - loss: 8.4011 - categorical_accuracy: 0.05 - ETA: 2s - loss: 8.4650 - categorical_accuracy: 0.05 - ETA: 2s - loss: 8.4349 - categorical_accuracy: 0.05 - ETA: 2s - loss: 8.4146 - categorical_accuracy: 0.05 - ETA: 2s - loss: 8.4084 - categorical_accuracy: 0.05 - ETA: 2s - loss: 8.3520 - categorical_accuracy: 0.05 - ETA: 2s - loss: 8.3531 - categorical_accuracy: 0.05 - ETA: 2s - loss: 8.3671 - categorical_accuracy: 0.05 - ETA: 2s - loss: 8.3848 - categorical_accuracy: 0.05 - ETA: 2s - loss: 8.3892 - categorical_accuracy: 0.05 - ETA: 2s - loss: 8.3634 - categorical_accuracy: 0.05 - ETA: 2s - loss: 8.3416 - categorical_accuracy: 0.05 - ETA: 2s - loss: 8.3555 - categorical_accuracy: 0.05 - ETA: 2s - loss: 8.3423 - categorical_accuracy: 0.05 - ETA: 1s - loss: 8.3400 - categorical_accuracy: 0.05 - ETA: 1s - loss: 8.3368 - categorical_accuracy: 0.05 - ETA: 1s - loss: 8.3333 - categorical_accuracy: 0.05 - ETA: 1s - loss: 8.3726 - categorical_accuracy: 0.05 - ETA: 1s - loss: 8.3516 - categorical_accuracy: 0.05 - ETA: 1s - loss: 8.3453 - categorical_accuracy: 0.05 - ETA: 1s - loss: 8.3751 - categorical_accuracy: 0.05 - ETA: 1s - loss: 8.3869 - categorical_accuracy: 0.05 - ETA: 1s - loss: 8.3738 - categorical_accuracy: 0.05 - ETA: 1s - loss: 8.3736 - categorical_accuracy: 0.05 - ETA: 1s - loss: 8.3500 - categorical_accuracy: 0.05 - ETA: 1s - loss: 8.3354 - categorical_accuracy: 0.05 - ETA: 0s - loss: 8.3620 - categorical_accuracy: 0.05 - ETA: 0s - loss: 8.3731 - categorical_accuracy: 0.05 - ETA: 0s - loss: 8.3739 - categorical_accuracy: 0.05 - ETA: 0s - loss: 8.3795 - categorical_accuracy: 0.05 - ETA: 0s - loss: 8.3651 - categorical_accuracy: 0.05 - ETA: 0s - loss: 8.3829 - categorical_accuracy: 0.05 - ETA: 0s - loss: 8.3745 - categorical_accuracy: 0.05 - ETA: 0s - loss: 8.3741 - categorical_accuracy: 0.05 - ETA: 0s - loss: 8.3580 - categorical_accuracy: 0.05 - ETA: 0s - loss: 8.3568 - categorical_accuracy: 0.05 - ETA: 0s - loss: 8.3737 - categorical_accuracy: 0.05 - 6s 93ms/step - loss: 8.3790 - categorical_accuracy: 0.0541 - val_loss: 8.7809 - val_categorical_accuracy: 0.0841\n",
      "Epoch 3/42\n"
     ]
    },
    {
     "name": "stdout",
     "output_type": "stream",
     "text": [
      "64/64 [==============================] - ETA: 5s - loss: 9.3084 - categorical_accuracy: 0.07 - ETA: 5s - loss: 8.3666 - categorical_accuracy: 0.12 - ETA: 5s - loss: 8.5607 - categorical_accuracy: 0.08 - ETA: 5s - loss: 8.3858 - categorical_accuracy: 0.07 - ETA: 5s - loss: 8.2652 - categorical_accuracy: 0.07 - ETA: 5s - loss: 7.9910 - categorical_accuracy: 0.07 - ETA: 5s - loss: 8.2227 - categorical_accuracy: 0.07 - ETA: 5s - loss: 8.0940 - categorical_accuracy: 0.06 - ETA: 5s - loss: 8.1142 - categorical_accuracy: 0.06 - ETA: 5s - loss: 8.2465 - categorical_accuracy: 0.06 - ETA: 6s - loss: 8.1676 - categorical_accuracy: 0.06 - ETA: 6s - loss: 8.1515 - categorical_accuracy: 0.06 - ETA: 6s - loss: 8.1410 - categorical_accuracy: 0.06 - ETA: 6s - loss: 8.1737 - categorical_accuracy: 0.06 - ETA: 6s - loss: 8.1640 - categorical_accuracy: 0.06 - ETA: 6s - loss: 8.1933 - categorical_accuracy: 0.06 - ETA: 6s - loss: 8.2429 - categorical_accuracy: 0.05 - ETA: 5s - loss: 8.2318 - categorical_accuracy: 0.05 - ETA: 5s - loss: 8.1891 - categorical_accuracy: 0.05 - ETA: 5s - loss: 8.2309 - categorical_accuracy: 0.05 - ETA: 5s - loss: 8.2268 - categorical_accuracy: 0.05 - ETA: 5s - loss: 8.2063 - categorical_accuracy: 0.05 - ETA: 5s - loss: 8.2234 - categorical_accuracy: 0.05 - ETA: 5s - loss: 8.2083 - categorical_accuracy: 0.05 - ETA: 4s - loss: 8.2020 - categorical_accuracy: 0.05 - ETA: 4s - loss: 8.1804 - categorical_accuracy: 0.05 - ETA: 4s - loss: 8.1826 - categorical_accuracy: 0.05 - ETA: 4s - loss: 8.1890 - categorical_accuracy: 0.05 - ETA: 4s - loss: 8.1598 - categorical_accuracy: 0.05 - ETA: 4s - loss: 8.1580 - categorical_accuracy: 0.05 - ETA: 3s - loss: 8.1738 - categorical_accuracy: 0.05 - ETA: 3s - loss: 8.1510 - categorical_accuracy: 0.05 - ETA: 3s - loss: 8.1754 - categorical_accuracy: 0.05 - ETA: 3s - loss: 8.1562 - categorical_accuracy: 0.05 - ETA: 3s - loss: 8.1945 - categorical_accuracy: 0.05 - ETA: 3s - loss: 8.2275 - categorical_accuracy: 0.05 - ETA: 3s - loss: 8.2201 - categorical_accuracy: 0.05 - ETA: 2s - loss: 8.2347 - categorical_accuracy: 0.05 - ETA: 2s - loss: 8.2593 - categorical_accuracy: 0.05 - ETA: 2s - loss: 8.2338 - categorical_accuracy: 0.05 - ETA: 2s - loss: 8.2087 - categorical_accuracy: 0.05 - ETA: 2s - loss: 8.1998 - categorical_accuracy: 0.05 - ETA: 2s - loss: 8.2159 - categorical_accuracy: 0.05 - ETA: 2s - loss: 8.2051 - categorical_accuracy: 0.05 - ETA: 2s - loss: 8.1733 - categorical_accuracy: 0.05 - ETA: 1s - loss: 8.1710 - categorical_accuracy: 0.05 - ETA: 1s - loss: 8.1680 - categorical_accuracy: 0.05 - ETA: 1s - loss: 8.2129 - categorical_accuracy: 0.05 - ETA: 1s - loss: 8.1921 - categorical_accuracy: 0.05 - ETA: 1s - loss: 8.1809 - categorical_accuracy: 0.05 - ETA: 1s - loss: 8.1753 - categorical_accuracy: 0.05 - ETA: 1s - loss: 8.1718 - categorical_accuracy: 0.05 - ETA: 1s - loss: 8.1995 - categorical_accuracy: 0.05 - ETA: 1s - loss: 8.2111 - categorical_accuracy: 0.05 - ETA: 0s - loss: 8.2094 - categorical_accuracy: 0.05 - ETA: 0s - loss: 8.2090 - categorical_accuracy: 0.05 - ETA: 0s - loss: 8.2042 - categorical_accuracy: 0.05 - ETA: 0s - loss: 8.2142 - categorical_accuracy: 0.05 - ETA: 0s - loss: 8.2235 - categorical_accuracy: 0.05 - ETA: 0s - loss: 8.2262 - categorical_accuracy: 0.05 - ETA: 0s - loss: 8.2246 - categorical_accuracy: 0.05 - ETA: 0s - loss: 8.2208 - categorical_accuracy: 0.05 - ETA: 0s - loss: 8.2331 - categorical_accuracy: 0.05 - 6s 101ms/step - loss: 8.2285 - categorical_accuracy: 0.0530 - val_loss: 8.1021 - val_categorical_accuracy: 0.0467\n",
      "Epoch 4/42\n",
      "64/64 [==============================] - ETA: 7s - loss: 8.1976 - categorical_accuracy: 0.01 - ETA: 7s - loss: 7.9082 - categorical_accuracy: 0.03 - ETA: 7s - loss: 7.8899 - categorical_accuracy: 0.03 - ETA: 7s - loss: 8.0802 - categorical_accuracy: 0.03 - ETA: 6s - loss: 7.9612 - categorical_accuracy: 0.04 - ETA: 6s - loss: 7.7760 - categorical_accuracy: 0.04 - ETA: 6s - loss: 8.0686 - categorical_accuracy: 0.04 - ETA: 6s - loss: 8.1016 - categorical_accuracy: 0.04 - ETA: 5s - loss: 8.1431 - categorical_accuracy: 0.04 - ETA: 5s - loss: 8.1150 - categorical_accuracy: 0.04 - ETA: 5s - loss: 8.0742 - categorical_accuracy: 0.05 - ETA: 5s - loss: 7.9811 - categorical_accuracy: 0.05 - ETA: 5s - loss: 7.9861 - categorical_accuracy: 0.06 - ETA: 4s - loss: 8.0039 - categorical_accuracy: 0.06 - ETA: 4s - loss: 8.0954 - categorical_accuracy: 0.06 - ETA: 4s - loss: 8.0852 - categorical_accuracy: 0.06 - ETA: 4s - loss: 8.1261 - categorical_accuracy: 0.06 - ETA: 4s - loss: 8.1338 - categorical_accuracy: 0.06 - ETA: 4s - loss: 8.1109 - categorical_accuracy: 0.06 - ETA: 4s - loss: 8.0892 - categorical_accuracy: 0.06 - ETA: 3s - loss: 8.0837 - categorical_accuracy: 0.06 - ETA: 3s - loss: 8.0774 - categorical_accuracy: 0.06 - ETA: 3s - loss: 8.1032 - categorical_accuracy: 0.06 - ETA: 3s - loss: 8.0924 - categorical_accuracy: 0.06 - ETA: 3s - loss: 8.1139 - categorical_accuracy: 0.06 - ETA: 3s - loss: 8.0543 - categorical_accuracy: 0.06 - ETA: 3s - loss: 8.0933 - categorical_accuracy: 0.06 - ETA: 3s - loss: 8.0745 - categorical_accuracy: 0.06 - ETA: 2s - loss: 8.0603 - categorical_accuracy: 0.06 - ETA: 2s - loss: 8.0840 - categorical_accuracy: 0.06 - ETA: 2s - loss: 8.1040 - categorical_accuracy: 0.06 - ETA: 2s - loss: 8.0905 - categorical_accuracy: 0.06 - ETA: 2s - loss: 8.0753 - categorical_accuracy: 0.06 - ETA: 2s - loss: 8.0485 - categorical_accuracy: 0.06 - ETA: 2s - loss: 8.0554 - categorical_accuracy: 0.06 - ETA: 2s - loss: 8.0591 - categorical_accuracy: 0.06 - ETA: 2s - loss: 8.0522 - categorical_accuracy: 0.06 - ETA: 2s - loss: 8.0916 - categorical_accuracy: 0.06 - ETA: 2s - loss: 8.1102 - categorical_accuracy: 0.06 - ETA: 1s - loss: 8.1155 - categorical_accuracy: 0.06 - ETA: 1s - loss: 8.1130 - categorical_accuracy: 0.06 - ETA: 1s - loss: 8.0999 - categorical_accuracy: 0.06 - ETA: 1s - loss: 8.1017 - categorical_accuracy: 0.06 - ETA: 1s - loss: 8.1089 - categorical_accuracy: 0.06 - ETA: 1s - loss: 8.0730 - categorical_accuracy: 0.06 - ETA: 1s - loss: 8.0726 - categorical_accuracy: 0.06 - ETA: 1s - loss: 8.0679 - categorical_accuracy: 0.06 - ETA: 1s - loss: 8.0842 - categorical_accuracy: 0.06 - ETA: 1s - loss: 8.0867 - categorical_accuracy: 0.06 - ETA: 1s - loss: 8.0770 - categorical_accuracy: 0.06 - ETA: 1s - loss: 8.0746 - categorical_accuracy: 0.06 - ETA: 0s - loss: 8.0928 - categorical_accuracy: 0.06 - ETA: 0s - loss: 8.0960 - categorical_accuracy: 0.06 - ETA: 0s - loss: 8.0985 - categorical_accuracy: 0.06 - ETA: 0s - loss: 8.1068 - categorical_accuracy: 0.06 - ETA: 0s - loss: 8.1200 - categorical_accuracy: 0.06 - ETA: 0s - loss: 8.1289 - categorical_accuracy: 0.06 - ETA: 0s - loss: 8.1318 - categorical_accuracy: 0.06 - ETA: 0s - loss: 8.1403 - categorical_accuracy: 0.06 - ETA: 0s - loss: 8.1698 - categorical_accuracy: 0.05 - ETA: 0s - loss: 8.1871 - categorical_accuracy: 0.05 - ETA: 0s - loss: 8.1814 - categorical_accuracy: 0.05 - ETA: 0s - loss: 8.2009 - categorical_accuracy: 0.05 - 5s 81ms/step - loss: 8.1923 - categorical_accuracy: 0.0590 - val_loss: 7.8042 - val_categorical_accuracy: 0.0561\n",
      "Epoch 5/42\n"
     ]
    },
    {
     "name": "stdout",
     "output_type": "stream",
     "text": [
      "64/64 [==============================] - ETA: 4s - loss: 7.4908 - categorical_accuracy: 0.01 - ETA: 4s - loss: 8.3989 - categorical_accuracy: 0.07 - ETA: 4s - loss: 8.5104 - categorical_accuracy: 0.04 - ETA: 4s - loss: 8.4742 - categorical_accuracy: 0.05 - ETA: 4s - loss: 8.3699 - categorical_accuracy: 0.05 - ETA: 4s - loss: 8.1081 - categorical_accuracy: 0.07 - ETA: 3s - loss: 8.2332 - categorical_accuracy: 0.06 - ETA: 3s - loss: 8.1804 - categorical_accuracy: 0.05 - ETA: 3s - loss: 8.1801 - categorical_accuracy: 0.05 - ETA: 3s - loss: 8.1402 - categorical_accuracy: 0.05 - ETA: 3s - loss: 8.0653 - categorical_accuracy: 0.06 - ETA: 3s - loss: 7.9644 - categorical_accuracy: 0.06 - ETA: 3s - loss: 7.9860 - categorical_accuracy: 0.06 - ETA: 3s - loss: 7.9817 - categorical_accuracy: 0.06 - ETA: 3s - loss: 7.9834 - categorical_accuracy: 0.06 - ETA: 3s - loss: 7.9945 - categorical_accuracy: 0.06 - ETA: 3s - loss: 8.0273 - categorical_accuracy: 0.06 - ETA: 3s - loss: 8.0380 - categorical_accuracy: 0.05 - ETA: 3s - loss: 7.9857 - categorical_accuracy: 0.05 - ETA: 3s - loss: 8.0024 - categorical_accuracy: 0.05 - ETA: 3s - loss: 7.9736 - categorical_accuracy: 0.05 - ETA: 3s - loss: 7.9836 - categorical_accuracy: 0.05 - ETA: 3s - loss: 8.0255 - categorical_accuracy: 0.05 - ETA: 3s - loss: 8.0352 - categorical_accuracy: 0.05 - ETA: 3s - loss: 8.0404 - categorical_accuracy: 0.05 - ETA: 3s - loss: 7.9897 - categorical_accuracy: 0.05 - ETA: 3s - loss: 8.0383 - categorical_accuracy: 0.05 - ETA: 3s - loss: 8.0348 - categorical_accuracy: 0.05 - ETA: 3s - loss: 8.0294 - categorical_accuracy: 0.05 - ETA: 3s - loss: 8.0551 - categorical_accuracy: 0.05 - ETA: 2s - loss: 8.0960 - categorical_accuracy: 0.05 - ETA: 2s - loss: 8.0715 - categorical_accuracy: 0.05 - ETA: 2s - loss: 8.0566 - categorical_accuracy: 0.05 - ETA: 2s - loss: 8.0740 - categorical_accuracy: 0.05 - ETA: 2s - loss: 8.0888 - categorical_accuracy: 0.05 - ETA: 2s - loss: 8.1053 - categorical_accuracy: 0.05 - ETA: 2s - loss: 8.1248 - categorical_accuracy: 0.05 - ETA: 2s - loss: 8.1308 - categorical_accuracy: 0.05 - ETA: 2s - loss: 8.1701 - categorical_accuracy: 0.05 - ETA: 2s - loss: 8.1763 - categorical_accuracy: 0.05 - ETA: 1s - loss: 8.1729 - categorical_accuracy: 0.05 - ETA: 1s - loss: 8.1510 - categorical_accuracy: 0.05 - ETA: 1s - loss: 8.1475 - categorical_accuracy: 0.05 - ETA: 1s - loss: 8.1401 - categorical_accuracy: 0.05 - ETA: 1s - loss: 8.1249 - categorical_accuracy: 0.05 - ETA: 1s - loss: 8.1244 - categorical_accuracy: 0.05 - ETA: 1s - loss: 8.1367 - categorical_accuracy: 0.05 - ETA: 1s - loss: 8.1320 - categorical_accuracy: 0.05 - ETA: 1s - loss: 8.1154 - categorical_accuracy: 0.05 - ETA: 1s - loss: 8.1273 - categorical_accuracy: 0.05 - ETA: 1s - loss: 8.1230 - categorical_accuracy: 0.05 - ETA: 0s - loss: 8.1255 - categorical_accuracy: 0.05 - ETA: 0s - loss: 8.1197 - categorical_accuracy: 0.05 - ETA: 0s - loss: 8.1314 - categorical_accuracy: 0.05 - ETA: 0s - loss: 8.1342 - categorical_accuracy: 0.05 - ETA: 0s - loss: 8.1292 - categorical_accuracy: 0.05 - ETA: 0s - loss: 8.1247 - categorical_accuracy: 0.05 - ETA: 0s - loss: 8.1376 - categorical_accuracy: 0.05 - ETA: 0s - loss: 8.1344 - categorical_accuracy: 0.05 - ETA: 0s - loss: 8.1283 - categorical_accuracy: 0.05 - ETA: 0s - loss: 8.1235 - categorical_accuracy: 0.05 - ETA: 0s - loss: 8.1253 - categorical_accuracy: 0.05 - ETA: 0s - loss: 8.1490 - categorical_accuracy: 0.05 - 5s 80ms/step - loss: 8.1538 - categorical_accuracy: 0.0538 - val_loss: 7.9157 - val_categorical_accuracy: 0.0654\n",
      "Epoch 6/42\n",
      "64/64 [==============================] - ETA: 4s - loss: 8.5445 - categorical_accuracy: 0.03 - ETA: 4s - loss: 8.5267 - categorical_accuracy: 0.04 - ETA: 4s - loss: 8.4622 - categorical_accuracy: 0.04 - ETA: 4s - loss: 8.5679 - categorical_accuracy: 0.03 - ETA: 4s - loss: 8.5372 - categorical_accuracy: 0.03 - ETA: 4s - loss: 8.3395 - categorical_accuracy: 0.04 - ETA: 3s - loss: 8.5082 - categorical_accuracy: 0.05 - ETA: 3s - loss: 8.3556 - categorical_accuracy: 0.05 - ETA: 3s - loss: 8.4113 - categorical_accuracy: 0.05 - ETA: 3s - loss: 8.3398 - categorical_accuracy: 0.05 - ETA: 3s - loss: 8.3501 - categorical_accuracy: 0.05 - ETA: 3s - loss: 8.2674 - categorical_accuracy: 0.05 - ETA: 3s - loss: 8.2521 - categorical_accuracy: 0.05 - ETA: 3s - loss: 8.2483 - categorical_accuracy: 0.06 - ETA: 3s - loss: 8.2963 - categorical_accuracy: 0.06 - ETA: 3s - loss: 8.3491 - categorical_accuracy: 0.06 - ETA: 3s - loss: 8.3608 - categorical_accuracy: 0.05 - ETA: 3s - loss: 8.2670 - categorical_accuracy: 0.05 - ETA: 3s - loss: 8.2758 - categorical_accuracy: 0.05 - ETA: 3s - loss: 8.2378 - categorical_accuracy: 0.05 - ETA: 3s - loss: 8.2149 - categorical_accuracy: 0.05 - ETA: 2s - loss: 8.2036 - categorical_accuracy: 0.05 - ETA: 2s - loss: 8.1929 - categorical_accuracy: 0.05 - ETA: 2s - loss: 8.2046 - categorical_accuracy: 0.05 - ETA: 2s - loss: 8.2032 - categorical_accuracy: 0.05 - ETA: 2s - loss: 8.1762 - categorical_accuracy: 0.05 - ETA: 2s - loss: 8.1562 - categorical_accuracy: 0.05 - ETA: 2s - loss: 8.1294 - categorical_accuracy: 0.05 - ETA: 2s - loss: 8.1215 - categorical_accuracy: 0.05 - ETA: 2s - loss: 8.1117 - categorical_accuracy: 0.05 - ETA: 2s - loss: 8.1079 - categorical_accuracy: 0.05 - ETA: 2s - loss: 8.0673 - categorical_accuracy: 0.05 - ETA: 2s - loss: 8.0360 - categorical_accuracy: 0.05 - ETA: 2s - loss: 8.0006 - categorical_accuracy: 0.05 - ETA: 2s - loss: 8.0143 - categorical_accuracy: 0.05 - ETA: 1s - loss: 7.9914 - categorical_accuracy: 0.05 - ETA: 1s - loss: 7.9775 - categorical_accuracy: 0.05 - ETA: 1s - loss: 7.9724 - categorical_accuracy: 0.05 - ETA: 1s - loss: 7.9781 - categorical_accuracy: 0.05 - ETA: 1s - loss: 7.9654 - categorical_accuracy: 0.05 - ETA: 1s - loss: 7.9358 - categorical_accuracy: 0.05 - ETA: 1s - loss: 7.9211 - categorical_accuracy: 0.05 - ETA: 1s - loss: 7.9220 - categorical_accuracy: 0.05 - ETA: 1s - loss: 7.9205 - categorical_accuracy: 0.05 - ETA: 1s - loss: 7.8729 - categorical_accuracy: 0.05 - ETA: 1s - loss: 7.8657 - categorical_accuracy: 0.06 - ETA: 1s - loss: 7.8642 - categorical_accuracy: 0.05 - ETA: 1s - loss: 7.8708 - categorical_accuracy: 0.06 - ETA: 1s - loss: 7.8571 - categorical_accuracy: 0.05 - ETA: 0s - loss: 7.8538 - categorical_accuracy: 0.05 - ETA: 0s - loss: 7.8738 - categorical_accuracy: 0.05 - ETA: 0s - loss: 7.8796 - categorical_accuracy: 0.05 - ETA: 0s - loss: 7.8712 - categorical_accuracy: 0.05 - ETA: 0s - loss: 7.8914 - categorical_accuracy: 0.06 - ETA: 0s - loss: 7.8875 - categorical_accuracy: 0.05 - ETA: 0s - loss: 7.8820 - categorical_accuracy: 0.05 - ETA: 0s - loss: 7.8634 - categorical_accuracy: 0.05 - ETA: 0s - loss: 7.8654 - categorical_accuracy: 0.05 - ETA: 0s - loss: 7.8557 - categorical_accuracy: 0.05 - ETA: 0s - loss: 7.8648 - categorical_accuracy: 0.05 - ETA: 0s - loss: 7.8683 - categorical_accuracy: 0.05 - ETA: 0s - loss: 7.8637 - categorical_accuracy: 0.05 - ETA: 0s - loss: 7.8634 - categorical_accuracy: 0.05 - 5s 71ms/step - loss: 7.8520 - categorical_accuracy: 0.0570 - val_loss: 8.0240 - val_categorical_accuracy: 0.0280\n",
      "Epoch 7/42\n"
     ]
    },
    {
     "name": "stdout",
     "output_type": "stream",
     "text": [
      "64/64 [==============================] - ETA: 4s - loss: 7.0564 - categorical_accuracy: 0.01 - ETA: 4s - loss: 7.8204 - categorical_accuracy: 0.00 - ETA: 4s - loss: 8.0823 - categorical_accuracy: 0.01 - ETA: 4s - loss: 8.1228 - categorical_accuracy: 0.02 - ETA: 4s - loss: 8.1261 - categorical_accuracy: 0.02 - ETA: 4s - loss: 7.9810 - categorical_accuracy: 0.02 - ETA: 4s - loss: 8.2115 - categorical_accuracy: 0.02 - ETA: 4s - loss: 8.0524 - categorical_accuracy: 0.02 - ETA: 3s - loss: 7.9320 - categorical_accuracy: 0.02 - ETA: 3s - loss: 7.9446 - categorical_accuracy: 0.02 - ETA: 3s - loss: 7.9350 - categorical_accuracy: 0.02 - ETA: 3s - loss: 7.8553 - categorical_accuracy: 0.02 - ETA: 3s - loss: 7.9162 - categorical_accuracy: 0.03 - ETA: 3s - loss: 7.9859 - categorical_accuracy: 0.03 - ETA: 3s - loss: 7.9346 - categorical_accuracy: 0.03 - ETA: 3s - loss: 7.9193 - categorical_accuracy: 0.04 - ETA: 3s - loss: 7.9476 - categorical_accuracy: 0.04 - ETA: 3s - loss: 7.9352 - categorical_accuracy: 0.04 - ETA: 3s - loss: 7.8945 - categorical_accuracy: 0.04 - ETA: 3s - loss: 7.8649 - categorical_accuracy: 0.03 - ETA: 3s - loss: 7.7773 - categorical_accuracy: 0.04 - ETA: 3s - loss: 7.8030 - categorical_accuracy: 0.04 - ETA: 2s - loss: 7.8376 - categorical_accuracy: 0.04 - ETA: 2s - loss: 7.8804 - categorical_accuracy: 0.04 - ETA: 2s - loss: 7.8662 - categorical_accuracy: 0.04 - ETA: 2s - loss: 7.8194 - categorical_accuracy: 0.04 - ETA: 2s - loss: 7.8120 - categorical_accuracy: 0.04 - ETA: 2s - loss: 7.8113 - categorical_accuracy: 0.04 - ETA: 2s - loss: 7.7948 - categorical_accuracy: 0.04 - ETA: 2s - loss: 7.8035 - categorical_accuracy: 0.05 - ETA: 2s - loss: 7.7826 - categorical_accuracy: 0.05 - ETA: 2s - loss: 7.7841 - categorical_accuracy: 0.05 - ETA: 2s - loss: 7.7902 - categorical_accuracy: 0.05 - ETA: 2s - loss: 7.8134 - categorical_accuracy: 0.05 - ETA: 2s - loss: 7.8051 - categorical_accuracy: 0.05 - ETA: 2s - loss: 7.8081 - categorical_accuracy: 0.05 - ETA: 1s - loss: 7.7874 - categorical_accuracy: 0.05 - ETA: 1s - loss: 7.8025 - categorical_accuracy: 0.05 - ETA: 1s - loss: 7.8191 - categorical_accuracy: 0.05 - ETA: 1s - loss: 7.8147 - categorical_accuracy: 0.05 - ETA: 1s - loss: 7.8380 - categorical_accuracy: 0.05 - ETA: 1s - loss: 7.8257 - categorical_accuracy: 0.05 - ETA: 1s - loss: 7.8183 - categorical_accuracy: 0.05 - ETA: 1s - loss: 7.8228 - categorical_accuracy: 0.05 - ETA: 1s - loss: 7.8285 - categorical_accuracy: 0.05 - ETA: 1s - loss: 7.8263 - categorical_accuracy: 0.05 - ETA: 1s - loss: 7.8356 - categorical_accuracy: 0.05 - ETA: 1s - loss: 7.8438 - categorical_accuracy: 0.05 - ETA: 1s - loss: 7.8507 - categorical_accuracy: 0.05 - ETA: 1s - loss: 7.8322 - categorical_accuracy: 0.05 - ETA: 0s - loss: 7.8185 - categorical_accuracy: 0.05 - ETA: 0s - loss: 7.8081 - categorical_accuracy: 0.05 - ETA: 0s - loss: 7.8052 - categorical_accuracy: 0.05 - ETA: 0s - loss: 7.8177 - categorical_accuracy: 0.05 - ETA: 0s - loss: 7.8129 - categorical_accuracy: 0.05 - ETA: 0s - loss: 7.8145 - categorical_accuracy: 0.05 - ETA: 0s - loss: 7.8029 - categorical_accuracy: 0.05 - ETA: 0s - loss: 7.8121 - categorical_accuracy: 0.05 - ETA: 0s - loss: 7.8133 - categorical_accuracy: 0.05 - ETA: 0s - loss: 7.8160 - categorical_accuracy: 0.05 - ETA: 0s - loss: 7.8380 - categorical_accuracy: 0.05 - ETA: 0s - loss: 7.8227 - categorical_accuracy: 0.05 - ETA: 0s - loss: 7.8207 - categorical_accuracy: 0.05 - 5s 73ms/step - loss: 7.8180 - categorical_accuracy: 0.0553 - val_loss: 8.6173 - val_categorical_accuracy: 0.0748\n",
      "Epoch 8/42\n",
      "64/64 [==============================] - ETA: 4s - loss: 6.8541 - categorical_accuracy: 0.09 - ETA: 4s - loss: 7.2182 - categorical_accuracy: 0.07 - ETA: 4s - loss: 7.4194 - categorical_accuracy: 0.04 - ETA: 4s - loss: 7.5931 - categorical_accuracy: 0.05 - ETA: 4s - loss: 7.7567 - categorical_accuracy: 0.05 - ETA: 4s - loss: 7.6922 - categorical_accuracy: 0.04 - ETA: 4s - loss: 7.8414 - categorical_accuracy: 0.05 - ETA: 3s - loss: 7.7906 - categorical_accuracy: 0.05 - ETA: 3s - loss: 7.7335 - categorical_accuracy: 0.05 - ETA: 3s - loss: 7.7305 - categorical_accuracy: 0.05 - ETA: 3s - loss: 7.6572 - categorical_accuracy: 0.06 - ETA: 3s - loss: 7.6252 - categorical_accuracy: 0.06 - ETA: 3s - loss: 7.7097 - categorical_accuracy: 0.06 - ETA: 3s - loss: 7.8048 - categorical_accuracy: 0.06 - ETA: 3s - loss: 7.7650 - categorical_accuracy: 0.06 - ETA: 3s - loss: 7.8644 - categorical_accuracy: 0.06 - ETA: 3s - loss: 7.8843 - categorical_accuracy: 0.06 - ETA: 3s - loss: 7.8332 - categorical_accuracy: 0.06 - ETA: 3s - loss: 7.8122 - categorical_accuracy: 0.06 - ETA: 3s - loss: 7.8049 - categorical_accuracy: 0.05 - ETA: 3s - loss: 7.8076 - categorical_accuracy: 0.05 - ETA: 2s - loss: 7.7908 - categorical_accuracy: 0.05 - ETA: 2s - loss: 7.8064 - categorical_accuracy: 0.05 - ETA: 2s - loss: 7.8252 - categorical_accuracy: 0.05 - ETA: 2s - loss: 7.8342 - categorical_accuracy: 0.05 - ETA: 2s - loss: 7.7918 - categorical_accuracy: 0.05 - ETA: 2s - loss: 7.7762 - categorical_accuracy: 0.05 - ETA: 2s - loss: 7.7868 - categorical_accuracy: 0.05 - ETA: 2s - loss: 7.7908 - categorical_accuracy: 0.05 - ETA: 2s - loss: 7.8114 - categorical_accuracy: 0.05 - ETA: 2s - loss: 7.8279 - categorical_accuracy: 0.05 - ETA: 2s - loss: 7.8360 - categorical_accuracy: 0.05 - ETA: 2s - loss: 7.8323 - categorical_accuracy: 0.05 - ETA: 2s - loss: 7.8268 - categorical_accuracy: 0.05 - ETA: 2s - loss: 7.8352 - categorical_accuracy: 0.05 - ETA: 1s - loss: 7.8404 - categorical_accuracy: 0.05 - ETA: 1s - loss: 7.7944 - categorical_accuracy: 0.05 - ETA: 1s - loss: 7.8130 - categorical_accuracy: 0.05 - ETA: 1s - loss: 7.8325 - categorical_accuracy: 0.05 - ETA: 1s - loss: 7.8452 - categorical_accuracy: 0.05 - ETA: 1s - loss: 7.8473 - categorical_accuracy: 0.05 - ETA: 1s - loss: 7.8246 - categorical_accuracy: 0.05 - ETA: 1s - loss: 7.8052 - categorical_accuracy: 0.05 - ETA: 1s - loss: 7.7879 - categorical_accuracy: 0.05 - ETA: 1s - loss: 7.7815 - categorical_accuracy: 0.05 - ETA: 1s - loss: 7.7776 - categorical_accuracy: 0.05 - ETA: 1s - loss: 7.7652 - categorical_accuracy: 0.05 - ETA: 1s - loss: 7.7572 - categorical_accuracy: 0.05 - ETA: 1s - loss: 7.7443 - categorical_accuracy: 0.05 - ETA: 0s - loss: 7.7515 - categorical_accuracy: 0.05 - ETA: 0s - loss: 7.7318 - categorical_accuracy: 0.05 - ETA: 0s - loss: 7.7461 - categorical_accuracy: 0.05 - ETA: 0s - loss: 7.7785 - categorical_accuracy: 0.05 - ETA: 0s - loss: 7.7850 - categorical_accuracy: 0.05 - ETA: 0s - loss: 7.7860 - categorical_accuracy: 0.05 - ETA: 0s - loss: 7.7908 - categorical_accuracy: 0.05 - ETA: 0s - loss: 7.7739 - categorical_accuracy: 0.05 - ETA: 0s - loss: 7.7867 - categorical_accuracy: 0.05 - ETA: 0s - loss: 7.7726 - categorical_accuracy: 0.05 - ETA: 0s - loss: 7.7653 - categorical_accuracy: 0.05 - ETA: 0s - loss: 7.7615 - categorical_accuracy: 0.05 - ETA: 0s - loss: 7.7573 - categorical_accuracy: 0.05 - ETA: 0s - loss: 7.7486 - categorical_accuracy: 0.05 - 5s 72ms/step - loss: 7.7357 - categorical_accuracy: 0.0541 - val_loss: 7.3371 - val_categorical_accuracy: 0.0748\n",
      "Epoch 9/42\n"
     ]
    },
    {
     "name": "stdout",
     "output_type": "stream",
     "text": [
      "64/64 [==============================] - ETA: 4s - loss: 6.8607 - categorical_accuracy: 0.05 - ETA: 4s - loss: 7.4010 - categorical_accuracy: 0.07 - ETA: 4s - loss: 7.5705 - categorical_accuracy: 0.06 - ETA: 4s - loss: 7.7856 - categorical_accuracy: 0.05 - ETA: 4s - loss: 7.8263 - categorical_accuracy: 0.04 - ETA: 4s - loss: 7.6934 - categorical_accuracy: 0.05 - ETA: 4s - loss: 7.8610 - categorical_accuracy: 0.05 - ETA: 4s - loss: 7.7665 - categorical_accuracy: 0.05 - ETA: 3s - loss: 7.6958 - categorical_accuracy: 0.05 - ETA: 3s - loss: 7.6585 - categorical_accuracy: 0.06 - ETA: 3s - loss: 7.6241 - categorical_accuracy: 0.05 - ETA: 3s - loss: 7.5846 - categorical_accuracy: 0.06 - ETA: 3s - loss: 7.6107 - categorical_accuracy: 0.06 - ETA: 3s - loss: 7.6797 - categorical_accuracy: 0.06 - ETA: 3s - loss: 7.6272 - categorical_accuracy: 0.06 - ETA: 3s - loss: 7.6462 - categorical_accuracy: 0.06 - ETA: 3s - loss: 7.7484 - categorical_accuracy: 0.05 - ETA: 3s - loss: 7.6760 - categorical_accuracy: 0.06 - ETA: 3s - loss: 7.6133 - categorical_accuracy: 0.06 - ETA: 3s - loss: 7.5629 - categorical_accuracy: 0.06 - ETA: 3s - loss: 7.5873 - categorical_accuracy: 0.06 - ETA: 2s - loss: 7.5525 - categorical_accuracy: 0.06 - ETA: 2s - loss: 7.5559 - categorical_accuracy: 0.05 - ETA: 2s - loss: 7.5871 - categorical_accuracy: 0.06 - ETA: 2s - loss: 7.5387 - categorical_accuracy: 0.06 - ETA: 2s - loss: 7.4833 - categorical_accuracy: 0.05 - ETA: 2s - loss: 7.5251 - categorical_accuracy: 0.05 - ETA: 2s - loss: 7.5114 - categorical_accuracy: 0.05 - ETA: 2s - loss: 7.5012 - categorical_accuracy: 0.05 - ETA: 2s - loss: 7.4990 - categorical_accuracy: 0.05 - ETA: 2s - loss: 7.4799 - categorical_accuracy: 0.05 - ETA: 2s - loss: 7.4672 - categorical_accuracy: 0.05 - ETA: 2s - loss: 7.4718 - categorical_accuracy: 0.05 - ETA: 2s - loss: 7.4648 - categorical_accuracy: 0.05 - ETA: 2s - loss: 7.4562 - categorical_accuracy: 0.05 - ETA: 1s - loss: 7.4665 - categorical_accuracy: 0.05 - ETA: 1s - loss: 7.4825 - categorical_accuracy: 0.05 - ETA: 1s - loss: 7.4789 - categorical_accuracy: 0.05 - ETA: 1s - loss: 7.4986 - categorical_accuracy: 0.05 - ETA: 1s - loss: 7.5120 - categorical_accuracy: 0.05 - ETA: 1s - loss: 7.4888 - categorical_accuracy: 0.05 - ETA: 1s - loss: 7.4655 - categorical_accuracy: 0.05 - ETA: 1s - loss: 7.4904 - categorical_accuracy: 0.05 - ETA: 1s - loss: 7.4861 - categorical_accuracy: 0.05 - ETA: 1s - loss: 7.4851 - categorical_accuracy: 0.05 - ETA: 1s - loss: 7.4924 - categorical_accuracy: 0.05 - ETA: 1s - loss: 7.4838 - categorical_accuracy: 0.05 - ETA: 1s - loss: 7.5072 - categorical_accuracy: 0.05 - ETA: 1s - loss: 7.5052 - categorical_accuracy: 0.05 - ETA: 0s - loss: 7.5141 - categorical_accuracy: 0.05 - ETA: 0s - loss: 7.5026 - categorical_accuracy: 0.05 - ETA: 0s - loss: 7.5175 - categorical_accuracy: 0.05 - ETA: 0s - loss: 7.5157 - categorical_accuracy: 0.05 - ETA: 0s - loss: 7.5051 - categorical_accuracy: 0.05 - ETA: 0s - loss: 7.5078 - categorical_accuracy: 0.05 - ETA: 0s - loss: 7.5082 - categorical_accuracy: 0.05 - ETA: 0s - loss: 7.4816 - categorical_accuracy: 0.05 - ETA: 0s - loss: 7.4927 - categorical_accuracy: 0.05 - ETA: 0s - loss: 7.4798 - categorical_accuracy: 0.05 - ETA: 0s - loss: 7.4867 - categorical_accuracy: 0.05 - ETA: 0s - loss: 7.4926 - categorical_accuracy: 0.05 - ETA: 0s - loss: 7.4909 - categorical_accuracy: 0.05 - ETA: 0s - loss: 7.5069 - categorical_accuracy: 0.05 - 5s 72ms/step - loss: 7.4944 - categorical_accuracy: 0.0535 - val_loss: 8.1436 - val_categorical_accuracy: 0.0654\n",
      "Epoch 10/42\n",
      "64/64 [==============================] - ETA: 4s - loss: 7.9813 - categorical_accuracy: 0.09 - ETA: 4s - loss: 7.6557 - categorical_accuracy: 0.10 - ETA: 4s - loss: 7.8626 - categorical_accuracy: 0.09 - ETA: 4s - loss: 7.7963 - categorical_accuracy: 0.07 - ETA: 4s - loss: 7.9647 - categorical_accuracy: 0.08 - ETA: 4s - loss: 7.6052 - categorical_accuracy: 0.07 - ETA: 3s - loss: 7.6248 - categorical_accuracy: 0.06 - ETA: 3s - loss: 7.6121 - categorical_accuracy: 0.06 - ETA: 3s - loss: 7.6181 - categorical_accuracy: 0.05 - ETA: 3s - loss: 7.6164 - categorical_accuracy: 0.05 - ETA: 3s - loss: 7.6644 - categorical_accuracy: 0.05 - ETA: 3s - loss: 7.6030 - categorical_accuracy: 0.05 - ETA: 3s - loss: 7.6263 - categorical_accuracy: 0.05 - ETA: 3s - loss: 7.6114 - categorical_accuracy: 0.05 - ETA: 3s - loss: 7.6051 - categorical_accuracy: 0.05 - ETA: 3s - loss: 7.6409 - categorical_accuracy: 0.05 - ETA: 3s - loss: 7.6546 - categorical_accuracy: 0.05 - ETA: 3s - loss: 7.6429 - categorical_accuracy: 0.05 - ETA: 3s - loss: 7.6714 - categorical_accuracy: 0.05 - ETA: 3s - loss: 7.5850 - categorical_accuracy: 0.05 - ETA: 3s - loss: 7.5329 - categorical_accuracy: 0.05 - ETA: 2s - loss: 7.5315 - categorical_accuracy: 0.05 - ETA: 2s - loss: 7.5534 - categorical_accuracy: 0.05 - ETA: 2s - loss: 7.5802 - categorical_accuracy: 0.05 - ETA: 2s - loss: 7.5396 - categorical_accuracy: 0.06 - ETA: 2s - loss: 7.5027 - categorical_accuracy: 0.05 - ETA: 2s - loss: 7.5411 - categorical_accuracy: 0.05 - ETA: 2s - loss: 7.5533 - categorical_accuracy: 0.05 - ETA: 2s - loss: 7.5585 - categorical_accuracy: 0.05 - ETA: 2s - loss: 7.5813 - categorical_accuracy: 0.05 - ETA: 2s - loss: 7.5638 - categorical_accuracy: 0.05 - ETA: 2s - loss: 7.5447 - categorical_accuracy: 0.05 - ETA: 2s - loss: 7.5030 - categorical_accuracy: 0.05 - ETA: 2s - loss: 7.4981 - categorical_accuracy: 0.05 - ETA: 2s - loss: 7.4912 - categorical_accuracy: 0.05 - ETA: 1s - loss: 7.4902 - categorical_accuracy: 0.05 - ETA: 1s - loss: 7.4898 - categorical_accuracy: 0.05 - ETA: 1s - loss: 7.5004 - categorical_accuracy: 0.05 - ETA: 1s - loss: 7.5399 - categorical_accuracy: 0.05 - ETA: 1s - loss: 7.5155 - categorical_accuracy: 0.05 - ETA: 1s - loss: 7.5061 - categorical_accuracy: 0.05 - ETA: 1s - loss: 7.4922 - categorical_accuracy: 0.05 - ETA: 1s - loss: 7.4777 - categorical_accuracy: 0.05 - ETA: 1s - loss: 7.4834 - categorical_accuracy: 0.05 - ETA: 1s - loss: 7.4710 - categorical_accuracy: 0.05 - ETA: 1s - loss: 7.4780 - categorical_accuracy: 0.05 - ETA: 1s - loss: 7.4742 - categorical_accuracy: 0.05 - ETA: 1s - loss: 7.4776 - categorical_accuracy: 0.05 - ETA: 1s - loss: 7.4803 - categorical_accuracy: 0.05 - ETA: 0s - loss: 7.4737 - categorical_accuracy: 0.05 - ETA: 0s - loss: 7.4691 - categorical_accuracy: 0.05 - ETA: 0s - loss: 7.4781 - categorical_accuracy: 0.05 - ETA: 0s - loss: 7.4633 - categorical_accuracy: 0.05 - ETA: 0s - loss: 7.4733 - categorical_accuracy: 0.05 - ETA: 0s - loss: 7.4689 - categorical_accuracy: 0.05 - ETA: 0s - loss: 7.4623 - categorical_accuracy: 0.05 - ETA: 0s - loss: 7.4601 - categorical_accuracy: 0.05 - ETA: 0s - loss: 7.4649 - categorical_accuracy: 0.05 - ETA: 0s - loss: 7.4555 - categorical_accuracy: 0.05 - ETA: 0s - loss: 7.4585 - categorical_accuracy: 0.05 - ETA: 0s - loss: 7.4842 - categorical_accuracy: 0.05 - ETA: 0s - loss: 7.4603 - categorical_accuracy: 0.05 - ETA: 0s - loss: 7.4706 - categorical_accuracy: 0.05 - 5s 71ms/step - loss: 7.4486 - categorical_accuracy: 0.0561 - val_loss: 7.2288 - val_categorical_accuracy: 0.1028\n",
      "Epoch 11/42\n"
     ]
    },
    {
     "name": "stdout",
     "output_type": "stream",
     "text": [
      "64/64 [==============================] - ETA: 4s - loss: 8.0551 - categorical_accuracy: 0.03 - ETA: 4s - loss: 7.8024 - categorical_accuracy: 0.04 - ETA: 4s - loss: 7.3541 - categorical_accuracy: 0.03 - ETA: 4s - loss: 7.8553 - categorical_accuracy: 0.04 - ETA: 3s - loss: 7.7828 - categorical_accuracy: 0.04 - ETA: 3s - loss: 7.5328 - categorical_accuracy: 0.05 - ETA: 3s - loss: 7.5596 - categorical_accuracy: 0.05 - ETA: 3s - loss: 7.3701 - categorical_accuracy: 0.06 - ETA: 3s - loss: 7.3662 - categorical_accuracy: 0.06 - ETA: 3s - loss: 7.4169 - categorical_accuracy: 0.05 - ETA: 3s - loss: 7.4014 - categorical_accuracy: 0.05 - ETA: 3s - loss: 7.3172 - categorical_accuracy: 0.05 - ETA: 3s - loss: 7.2775 - categorical_accuracy: 0.05 - ETA: 3s - loss: 7.3568 - categorical_accuracy: 0.05 - ETA: 3s - loss: 7.3729 - categorical_accuracy: 0.05 - ETA: 3s - loss: 7.3904 - categorical_accuracy: 0.05 - ETA: 3s - loss: 7.3961 - categorical_accuracy: 0.05 - ETA: 3s - loss: 7.3475 - categorical_accuracy: 0.05 - ETA: 3s - loss: 7.3153 - categorical_accuracy: 0.05 - ETA: 3s - loss: 7.2742 - categorical_accuracy: 0.05 - ETA: 2s - loss: 7.2625 - categorical_accuracy: 0.05 - ETA: 2s - loss: 7.2534 - categorical_accuracy: 0.05 - ETA: 2s - loss: 7.2971 - categorical_accuracy: 0.05 - ETA: 2s - loss: 7.2964 - categorical_accuracy: 0.05 - ETA: 2s - loss: 7.2754 - categorical_accuracy: 0.05 - ETA: 2s - loss: 7.2325 - categorical_accuracy: 0.05 - ETA: 2s - loss: 7.2364 - categorical_accuracy: 0.05 - ETA: 2s - loss: 7.2859 - categorical_accuracy: 0.05 - ETA: 2s - loss: 7.2554 - categorical_accuracy: 0.05 - ETA: 2s - loss: 7.2380 - categorical_accuracy: 0.05 - ETA: 2s - loss: 7.2755 - categorical_accuracy: 0.05 - ETA: 2s - loss: 7.2816 - categorical_accuracy: 0.05 - ETA: 2s - loss: 7.2767 - categorical_accuracy: 0.05 - ETA: 2s - loss: 7.3067 - categorical_accuracy: 0.05 - ETA: 2s - loss: 7.3056 - categorical_accuracy: 0.05 - ETA: 1s - loss: 7.3118 - categorical_accuracy: 0.05 - ETA: 1s - loss: 7.3103 - categorical_accuracy: 0.05 - ETA: 1s - loss: 7.3190 - categorical_accuracy: 0.05 - ETA: 1s - loss: 7.3568 - categorical_accuracy: 0.05 - ETA: 1s - loss: 7.3386 - categorical_accuracy: 0.05 - ETA: 1s - loss: 7.3276 - categorical_accuracy: 0.05 - ETA: 1s - loss: 7.3100 - categorical_accuracy: 0.05 - ETA: 1s - loss: 7.3134 - categorical_accuracy: 0.05 - ETA: 1s - loss: 7.3113 - categorical_accuracy: 0.05 - ETA: 1s - loss: 7.3180 - categorical_accuracy: 0.05 - ETA: 1s - loss: 7.3069 - categorical_accuracy: 0.05 - ETA: 1s - loss: 7.3332 - categorical_accuracy: 0.05 - ETA: 1s - loss: 7.3335 - categorical_accuracy: 0.05 - ETA: 1s - loss: 7.3394 - categorical_accuracy: 0.05 - ETA: 0s - loss: 7.3435 - categorical_accuracy: 0.05 - ETA: 0s - loss: 7.3494 - categorical_accuracy: 0.05 - ETA: 0s - loss: 7.3588 - categorical_accuracy: 0.05 - ETA: 0s - loss: 7.3756 - categorical_accuracy: 0.05 - ETA: 0s - loss: 7.3962 - categorical_accuracy: 0.05 - ETA: 0s - loss: 7.3832 - categorical_accuracy: 0.05 - ETA: 0s - loss: 7.3887 - categorical_accuracy: 0.05 - ETA: 0s - loss: 7.3656 - categorical_accuracy: 0.05 - ETA: 0s - loss: 7.3706 - categorical_accuracy: 0.05 - ETA: 0s - loss: 7.3684 - categorical_accuracy: 0.05 - ETA: 0s - loss: 7.3809 - categorical_accuracy: 0.05 - ETA: 0s - loss: 7.3821 - categorical_accuracy: 0.05 - ETA: 0s - loss: 7.3778 - categorical_accuracy: 0.05 - ETA: 0s - loss: 7.3829 - categorical_accuracy: 0.05 - 5s 70ms/step - loss: 7.3647 - categorical_accuracy: 0.0498 - val_loss: 7.4623 - val_categorical_accuracy: 0.0935\n",
      "Epoch 12/42\n",
      "64/64 [==============================] - ETA: 4s - loss: 6.9713 - categorical_accuracy: 0.01 - ETA: 4s - loss: 7.2284 - categorical_accuracy: 0.04 - ETA: 4s - loss: 6.7541 - categorical_accuracy: 0.04 - ETA: 4s - loss: 7.0104 - categorical_accuracy: 0.04 - ETA: 4s - loss: 7.0242 - categorical_accuracy: 0.04 - ETA: 3s - loss: 6.9562 - categorical_accuracy: 0.05 - ETA: 3s - loss: 7.1668 - categorical_accuracy: 0.04 - ETA: 3s - loss: 7.1745 - categorical_accuracy: 0.04 - ETA: 3s - loss: 7.0864 - categorical_accuracy: 0.04 - ETA: 3s - loss: 7.0597 - categorical_accuracy: 0.04 - ETA: 3s - loss: 6.9806 - categorical_accuracy: 0.04 - ETA: 3s - loss: 6.9861 - categorical_accuracy: 0.04 - ETA: 3s - loss: 7.1022 - categorical_accuracy: 0.04 - ETA: 3s - loss: 7.1793 - categorical_accuracy: 0.04 - ETA: 3s - loss: 7.1832 - categorical_accuracy: 0.04 - ETA: 3s - loss: 7.2182 - categorical_accuracy: 0.04 - ETA: 3s - loss: 7.2515 - categorical_accuracy: 0.05 - ETA: 3s - loss: 7.2534 - categorical_accuracy: 0.04 - ETA: 3s - loss: 7.2763 - categorical_accuracy: 0.04 - ETA: 3s - loss: 7.2538 - categorical_accuracy: 0.04 - ETA: 2s - loss: 7.2646 - categorical_accuracy: 0.04 - ETA: 2s - loss: 7.2416 - categorical_accuracy: 0.04 - ETA: 2s - loss: 7.2288 - categorical_accuracy: 0.05 - ETA: 2s - loss: 7.2445 - categorical_accuracy: 0.05 - ETA: 2s - loss: 7.2722 - categorical_accuracy: 0.05 - ETA: 2s - loss: 7.2305 - categorical_accuracy: 0.05 - ETA: 2s - loss: 7.2190 - categorical_accuracy: 0.05 - ETA: 2s - loss: 7.2596 - categorical_accuracy: 0.04 - ETA: 2s - loss: 7.2619 - categorical_accuracy: 0.04 - ETA: 2s - loss: 7.2746 - categorical_accuracy: 0.04 - ETA: 2s - loss: 7.2636 - categorical_accuracy: 0.04 - ETA: 2s - loss: 7.2615 - categorical_accuracy: 0.04 - ETA: 2s - loss: 7.2809 - categorical_accuracy: 0.04 - ETA: 2s - loss: 7.2653 - categorical_accuracy: 0.04 - ETA: 2s - loss: 7.2630 - categorical_accuracy: 0.04 - ETA: 1s - loss: 7.2689 - categorical_accuracy: 0.04 - ETA: 1s - loss: 7.2904 - categorical_accuracy: 0.04 - ETA: 1s - loss: 7.3056 - categorical_accuracy: 0.04 - ETA: 1s - loss: 7.3161 - categorical_accuracy: 0.04 - ETA: 1s - loss: 7.2936 - categorical_accuracy: 0.04 - ETA: 1s - loss: 7.3171 - categorical_accuracy: 0.04 - ETA: 1s - loss: 7.3052 - categorical_accuracy: 0.04 - ETA: 1s - loss: 7.2944 - categorical_accuracy: 0.04 - ETA: 1s - loss: 7.2979 - categorical_accuracy: 0.04 - ETA: 1s - loss: 7.2819 - categorical_accuracy: 0.04 - ETA: 1s - loss: 7.2820 - categorical_accuracy: 0.04 - ETA: 1s - loss: 7.3000 - categorical_accuracy: 0.04 - ETA: 1s - loss: 7.3108 - categorical_accuracy: 0.04 - ETA: 1s - loss: 7.3210 - categorical_accuracy: 0.04 - ETA: 0s - loss: 7.3337 - categorical_accuracy: 0.04 - ETA: 0s - loss: 7.3241 - categorical_accuracy: 0.04 - ETA: 0s - loss: 7.3272 - categorical_accuracy: 0.04 - ETA: 0s - loss: 7.3587 - categorical_accuracy: 0.04 - ETA: 0s - loss: 7.3748 - categorical_accuracy: 0.04 - ETA: 0s - loss: 7.3662 - categorical_accuracy: 0.04 - ETA: 0s - loss: 7.3413 - categorical_accuracy: 0.04 - ETA: 0s - loss: 7.3333 - categorical_accuracy: 0.04 - ETA: 0s - loss: 7.3253 - categorical_accuracy: 0.04 - ETA: 0s - loss: 7.3395 - categorical_accuracy: 0.04 - ETA: 0s - loss: 7.3412 - categorical_accuracy: 0.04 - ETA: 0s - loss: 7.3384 - categorical_accuracy: 0.04 - ETA: 0s - loss: 7.3275 - categorical_accuracy: 0.04 - ETA: 0s - loss: 7.3244 - categorical_accuracy: 0.04 - 5s 71ms/step - loss: 7.3144 - categorical_accuracy: 0.0483 - val_loss: 7.5804 - val_categorical_accuracy: 0.0561\n",
      "Epoch 13/42\n"
     ]
    },
    {
     "name": "stdout",
     "output_type": "stream",
     "text": [
      "64/64 [==============================] - ETA: 3s - loss: 6.8998 - categorical_accuracy: 0.03 - ETA: 4s - loss: 6.7698 - categorical_accuracy: 0.04 - ETA: 4s - loss: 7.1308 - categorical_accuracy: 0.04 - ETA: 4s - loss: 7.1316 - categorical_accuracy: 0.05 - ETA: 3s - loss: 7.2188 - categorical_accuracy: 0.05 - ETA: 3s - loss: 7.1751 - categorical_accuracy: 0.05 - ETA: 3s - loss: 7.3278 - categorical_accuracy: 0.05 - ETA: 3s - loss: 7.3103 - categorical_accuracy: 0.05 - ETA: 3s - loss: 7.2364 - categorical_accuracy: 0.04 - ETA: 3s - loss: 7.1886 - categorical_accuracy: 0.04 - ETA: 3s - loss: 7.2058 - categorical_accuracy: 0.04 - ETA: 3s - loss: 7.1671 - categorical_accuracy: 0.05 - ETA: 3s - loss: 7.2301 - categorical_accuracy: 0.05 - ETA: 3s - loss: 7.1902 - categorical_accuracy: 0.05 - ETA: 3s - loss: 7.1420 - categorical_accuracy: 0.05 - ETA: 3s - loss: 7.2046 - categorical_accuracy: 0.05 - ETA: 3s - loss: 7.2498 - categorical_accuracy: 0.05 - ETA: 3s - loss: 7.2271 - categorical_accuracy: 0.05 - ETA: 3s - loss: 7.1970 - categorical_accuracy: 0.05 - ETA: 2s - loss: 7.1770 - categorical_accuracy: 0.06 - ETA: 2s - loss: 7.1633 - categorical_accuracy: 0.06 - ETA: 2s - loss: 7.1079 - categorical_accuracy: 0.06 - ETA: 2s - loss: 7.0984 - categorical_accuracy: 0.06 - ETA: 2s - loss: 7.0740 - categorical_accuracy: 0.06 - ETA: 2s - loss: 7.0911 - categorical_accuracy: 0.06 - ETA: 2s - loss: 7.0504 - categorical_accuracy: 0.06 - ETA: 2s - loss: 7.0537 - categorical_accuracy: 0.06 - ETA: 2s - loss: 7.0843 - categorical_accuracy: 0.06 - ETA: 2s - loss: 7.0620 - categorical_accuracy: 0.06 - ETA: 2s - loss: 7.0406 - categorical_accuracy: 0.06 - ETA: 2s - loss: 7.0373 - categorical_accuracy: 0.07 - ETA: 2s - loss: 7.0243 - categorical_accuracy: 0.07 - ETA: 2s - loss: 7.0387 - categorical_accuracy: 0.06 - ETA: 2s - loss: 7.0741 - categorical_accuracy: 0.06 - ETA: 1s - loss: 7.0855 - categorical_accuracy: 0.06 - ETA: 1s - loss: 7.1309 - categorical_accuracy: 0.07 - ETA: 1s - loss: 7.1389 - categorical_accuracy: 0.06 - ETA: 1s - loss: 7.1453 - categorical_accuracy: 0.06 - ETA: 1s - loss: 7.1657 - categorical_accuracy: 0.06 - ETA: 1s - loss: 7.1450 - categorical_accuracy: 0.06 - ETA: 1s - loss: 7.1259 - categorical_accuracy: 0.06 - ETA: 1s - loss: 7.1200 - categorical_accuracy: 0.06 - ETA: 1s - loss: 7.1265 - categorical_accuracy: 0.06 - ETA: 1s - loss: 7.1389 - categorical_accuracy: 0.06 - ETA: 1s - loss: 7.1239 - categorical_accuracy: 0.06 - ETA: 1s - loss: 7.1171 - categorical_accuracy: 0.06 - ETA: 1s - loss: 7.1393 - categorical_accuracy: 0.06 - ETA: 1s - loss: 7.1389 - categorical_accuracy: 0.06 - ETA: 1s - loss: 7.1057 - categorical_accuracy: 0.06 - ETA: 0s - loss: 7.1117 - categorical_accuracy: 0.06 - ETA: 0s - loss: 7.1170 - categorical_accuracy: 0.06 - ETA: 0s - loss: 7.1193 - categorical_accuracy: 0.05 - ETA: 0s - loss: 7.1396 - categorical_accuracy: 0.06 - ETA: 0s - loss: 7.1416 - categorical_accuracy: 0.05 - ETA: 0s - loss: 7.1427 - categorical_accuracy: 0.05 - ETA: 0s - loss: 7.1306 - categorical_accuracy: 0.05 - ETA: 0s - loss: 7.1418 - categorical_accuracy: 0.05 - ETA: 0s - loss: 7.1557 - categorical_accuracy: 0.05 - ETA: 0s - loss: 7.1409 - categorical_accuracy: 0.05 - ETA: 0s - loss: 7.1378 - categorical_accuracy: 0.05 - ETA: 0s - loss: 7.1283 - categorical_accuracy: 0.05 - ETA: 0s - loss: 7.1302 - categorical_accuracy: 0.05 - ETA: 0s - loss: 7.1351 - categorical_accuracy: 0.05 - 4s 70ms/step - loss: 7.1179 - categorical_accuracy: 0.0584 - val_loss: 7.4559 - val_categorical_accuracy: 0.0748\n",
      "Epoch 14/42\n",
      "64/64 [==============================] - ETA: 4s - loss: 6.7358 - categorical_accuracy: 0.0000e+ - ETA: 4s - loss: 6.7147 - categorical_accuracy: 0.0370   - ETA: 4s - loss: 6.8398 - categorical_accuracy: 0.03 - ETA: 4s - loss: 6.8603 - categorical_accuracy: 0.03 - ETA: 4s - loss: 7.0714 - categorical_accuracy: 0.03 - ETA: 4s - loss: 6.9013 - categorical_accuracy: 0.04 - ETA: 3s - loss: 7.1288 - categorical_accuracy: 0.03 - ETA: 3s - loss: 7.1048 - categorical_accuracy: 0.03 - ETA: 3s - loss: 7.0450 - categorical_accuracy: 0.03 - ETA: 3s - loss: 7.1216 - categorical_accuracy: 0.03 - ETA: 3s - loss: 7.1046 - categorical_accuracy: 0.03 - ETA: 3s - loss: 7.0985 - categorical_accuracy: 0.04 - ETA: 3s - loss: 7.1246 - categorical_accuracy: 0.04 - ETA: 3s - loss: 7.1636 - categorical_accuracy: 0.04 - ETA: 3s - loss: 7.1671 - categorical_accuracy: 0.04 - ETA: 3s - loss: 7.2078 - categorical_accuracy: 0.04 - ETA: 3s - loss: 7.3100 - categorical_accuracy: 0.04 - ETA: 3s - loss: 7.2486 - categorical_accuracy: 0.04 - ETA: 3s - loss: 7.2117 - categorical_accuracy: 0.04 - ETA: 3s - loss: 7.1734 - categorical_accuracy: 0.04 - ETA: 2s - loss: 7.1529 - categorical_accuracy: 0.04 - ETA: 2s - loss: 7.1132 - categorical_accuracy: 0.04 - ETA: 2s - loss: 7.1438 - categorical_accuracy: 0.05 - ETA: 2s - loss: 7.1328 - categorical_accuracy: 0.05 - ETA: 2s - loss: 7.1825 - categorical_accuracy: 0.05 - ETA: 2s - loss: 7.1240 - categorical_accuracy: 0.05 - ETA: 2s - loss: 7.1289 - categorical_accuracy: 0.05 - ETA: 2s - loss: 7.1387 - categorical_accuracy: 0.05 - ETA: 2s - loss: 7.0765 - categorical_accuracy: 0.05 - ETA: 2s - loss: 7.0951 - categorical_accuracy: 0.05 - ETA: 2s - loss: 7.0857 - categorical_accuracy: 0.05 - ETA: 2s - loss: 7.0769 - categorical_accuracy: 0.05 - ETA: 2s - loss: 7.0731 - categorical_accuracy: 0.05 - ETA: 2s - loss: 7.0743 - categorical_accuracy: 0.05 - ETA: 2s - loss: 7.0552 - categorical_accuracy: 0.05 - ETA: 1s - loss: 7.0512 - categorical_accuracy: 0.05 - ETA: 1s - loss: 7.0652 - categorical_accuracy: 0.05 - ETA: 1s - loss: 7.0903 - categorical_accuracy: 0.05 - ETA: 1s - loss: 7.1015 - categorical_accuracy: 0.05 - ETA: 1s - loss: 7.1053 - categorical_accuracy: 0.05 - ETA: 1s - loss: 7.1143 - categorical_accuracy: 0.05 - ETA: 1s - loss: 7.1066 - categorical_accuracy: 0.05 - ETA: 1s - loss: 7.1256 - categorical_accuracy: 0.05 - ETA: 1s - loss: 7.1306 - categorical_accuracy: 0.05 - ETA: 1s - loss: 7.1133 - categorical_accuracy: 0.05 - ETA: 1s - loss: 7.1116 - categorical_accuracy: 0.05 - ETA: 1s - loss: 7.1206 - categorical_accuracy: 0.05 - ETA: 1s - loss: 7.1250 - categorical_accuracy: 0.05 - ETA: 1s - loss: 7.1045 - categorical_accuracy: 0.04 - ETA: 0s - loss: 7.1015 - categorical_accuracy: 0.05 - ETA: 0s - loss: 7.0853 - categorical_accuracy: 0.05 - ETA: 0s - loss: 7.0812 - categorical_accuracy: 0.05 - ETA: 0s - loss: 7.0970 - categorical_accuracy: 0.05 - ETA: 0s - loss: 7.1139 - categorical_accuracy: 0.05 - ETA: 0s - loss: 7.1178 - categorical_accuracy: 0.05 - ETA: 0s - loss: 7.1076 - categorical_accuracy: 0.05 - ETA: 0s - loss: 7.0956 - categorical_accuracy: 0.05 - ETA: 0s - loss: 7.0938 - categorical_accuracy: 0.05 - ETA: 0s - loss: 7.0933 - categorical_accuracy: 0.05 - ETA: 0s - loss: 7.1054 - categorical_accuracy: 0.05 - ETA: 0s - loss: 7.1138 - categorical_accuracy: 0.05 - ETA: 0s - loss: 7.1117 - categorical_accuracy: 0.05 - ETA: 0s - loss: 7.1262 - categorical_accuracy: 0.05 - 5s 71ms/step - loss: 7.1193 - categorical_accuracy: 0.0541 - val_loss: 7.3912 - val_categorical_accuracy: 0.0841\n",
      "Epoch 15/42\n"
     ]
    },
    {
     "name": "stdout",
     "output_type": "stream",
     "text": [
      "64/64 [==============================] - ETA: 4s - loss: 7.6382 - categorical_accuracy: 0.11 - ETA: 4s - loss: 7.1643 - categorical_accuracy: 0.10 - ETA: 4s - loss: 6.9808 - categorical_accuracy: 0.07 - ETA: 4s - loss: 6.7965 - categorical_accuracy: 0.07 - ETA: 3s - loss: 6.8420 - categorical_accuracy: 0.07 - ETA: 3s - loss: 6.7330 - categorical_accuracy: 0.07 - ETA: 3s - loss: 6.8890 - categorical_accuracy: 0.06 - ETA: 3s - loss: 7.0297 - categorical_accuracy: 0.07 - ETA: 3s - loss: 6.9682 - categorical_accuracy: 0.06 - ETA: 3s - loss: 6.9527 - categorical_accuracy: 0.06 - ETA: 3s - loss: 6.8917 - categorical_accuracy: 0.06 - ETA: 3s - loss: 6.8145 - categorical_accuracy: 0.06 - ETA: 3s - loss: 6.8254 - categorical_accuracy: 0.06 - ETA: 3s - loss: 6.9002 - categorical_accuracy: 0.06 - ETA: 3s - loss: 6.9398 - categorical_accuracy: 0.06 - ETA: 3s - loss: 6.9984 - categorical_accuracy: 0.06 - ETA: 3s - loss: 7.0464 - categorical_accuracy: 0.06 - ETA: 3s - loss: 7.0257 - categorical_accuracy: 0.06 - ETA: 3s - loss: 7.0249 - categorical_accuracy: 0.06 - ETA: 3s - loss: 7.0060 - categorical_accuracy: 0.06 - ETA: 2s - loss: 6.9634 - categorical_accuracy: 0.06 - ETA: 2s - loss: 6.9511 - categorical_accuracy: 0.06 - ETA: 2s - loss: 6.9821 - categorical_accuracy: 0.06 - ETA: 2s - loss: 7.0128 - categorical_accuracy: 0.06 - ETA: 2s - loss: 7.0164 - categorical_accuracy: 0.06 - ETA: 2s - loss: 6.9920 - categorical_accuracy: 0.06 - ETA: 2s - loss: 6.9866 - categorical_accuracy: 0.06 - ETA: 2s - loss: 6.9931 - categorical_accuracy: 0.06 - ETA: 2s - loss: 6.9661 - categorical_accuracy: 0.06 - ETA: 2s - loss: 6.9594 - categorical_accuracy: 0.06 - ETA: 2s - loss: 6.9534 - categorical_accuracy: 0.06 - ETA: 2s - loss: 6.9404 - categorical_accuracy: 0.06 - ETA: 2s - loss: 6.9451 - categorical_accuracy: 0.06 - ETA: 2s - loss: 6.9397 - categorical_accuracy: 0.06 - ETA: 1s - loss: 6.9434 - categorical_accuracy: 0.06 - ETA: 1s - loss: 6.9596 - categorical_accuracy: 0.06 - ETA: 1s - loss: 6.9246 - categorical_accuracy: 0.06 - ETA: 1s - loss: 6.9282 - categorical_accuracy: 0.06 - ETA: 1s - loss: 6.9671 - categorical_accuracy: 0.06 - ETA: 1s - loss: 6.9496 - categorical_accuracy: 0.06 - ETA: 1s - loss: 6.9494 - categorical_accuracy: 0.06 - ETA: 1s - loss: 6.9460 - categorical_accuracy: 0.06 - ETA: 1s - loss: 6.9469 - categorical_accuracy: 0.06 - ETA: 1s - loss: 6.9749 - categorical_accuracy: 0.06 - ETA: 1s - loss: 6.9651 - categorical_accuracy: 0.06 - ETA: 1s - loss: 6.9543 - categorical_accuracy: 0.06 - ETA: 1s - loss: 6.9631 - categorical_accuracy: 0.06 - ETA: 1s - loss: 6.9693 - categorical_accuracy: 0.06 - ETA: 1s - loss: 6.9570 - categorical_accuracy: 0.06 - ETA: 0s - loss: 6.9530 - categorical_accuracy: 0.06 - ETA: 0s - loss: 6.9329 - categorical_accuracy: 0.06 - ETA: 0s - loss: 6.9471 - categorical_accuracy: 0.06 - ETA: 0s - loss: 6.9584 - categorical_accuracy: 0.06 - ETA: 0s - loss: 6.9819 - categorical_accuracy: 0.06 - ETA: 0s - loss: 6.9982 - categorical_accuracy: 0.06 - ETA: 0s - loss: 7.0090 - categorical_accuracy: 0.06 - ETA: 0s - loss: 7.0160 - categorical_accuracy: 0.06 - ETA: 0s - loss: 7.0189 - categorical_accuracy: 0.06 - ETA: 0s - loss: 7.0103 - categorical_accuracy: 0.06 - ETA: 0s - loss: 7.0195 - categorical_accuracy: 0.06 - ETA: 0s - loss: 7.0157 - categorical_accuracy: 0.06 - ETA: 0s - loss: 7.0065 - categorical_accuracy: 0.06 - ETA: 0s - loss: 7.0158 - categorical_accuracy: 0.06 - 5s 70ms/step - loss: 7.0136 - categorical_accuracy: 0.0599 - val_loss: 7.7116 - val_categorical_accuracy: 0.0748\n",
      "Epoch 16/42\n",
      "64/64 [==============================] - ETA: 4s - loss: 6.5782 - categorical_accuracy: 0.07 - ETA: 4s - loss: 6.5807 - categorical_accuracy: 0.06 - ETA: 4s - loss: 6.6580 - categorical_accuracy: 0.07 - ETA: 4s - loss: 6.5967 - categorical_accuracy: 0.06 - ETA: 4s - loss: 6.7439 - categorical_accuracy: 0.06 - ETA: 4s - loss: 6.6954 - categorical_accuracy: 0.05 - ETA: 4s - loss: 6.9818 - categorical_accuracy: 0.05 - ETA: 3s - loss: 6.9309 - categorical_accuracy: 0.05 - ETA: 3s - loss: 6.8974 - categorical_accuracy: 0.05 - ETA: 3s - loss: 6.8846 - categorical_accuracy: 0.05 - ETA: 3s - loss: 6.8142 - categorical_accuracy: 0.05 - ETA: 3s - loss: 6.7548 - categorical_accuracy: 0.06 - ETA: 3s - loss: 6.7900 - categorical_accuracy: 0.06 - ETA: 3s - loss: 6.7874 - categorical_accuracy: 0.06 - ETA: 3s - loss: 6.8118 - categorical_accuracy: 0.05 - ETA: 3s - loss: 6.8095 - categorical_accuracy: 0.06 - ETA: 3s - loss: 6.8570 - categorical_accuracy: 0.05 - ETA: 3s - loss: 6.8128 - categorical_accuracy: 0.06 - ETA: 3s - loss: 6.7766 - categorical_accuracy: 0.06 - ETA: 3s - loss: 6.7881 - categorical_accuracy: 0.06 - ETA: 3s - loss: 6.8001 - categorical_accuracy: 0.05 - ETA: 2s - loss: 6.7964 - categorical_accuracy: 0.05 - ETA: 2s - loss: 6.8179 - categorical_accuracy: 0.05 - ETA: 2s - loss: 6.8201 - categorical_accuracy: 0.05 - ETA: 2s - loss: 6.8236 - categorical_accuracy: 0.05 - ETA: 2s - loss: 6.8091 - categorical_accuracy: 0.05 - ETA: 2s - loss: 6.8243 - categorical_accuracy: 0.05 - ETA: 2s - loss: 6.8108 - categorical_accuracy: 0.06 - ETA: 2s - loss: 6.7967 - categorical_accuracy: 0.06 - ETA: 2s - loss: 6.8442 - categorical_accuracy: 0.06 - ETA: 2s - loss: 6.8217 - categorical_accuracy: 0.06 - ETA: 2s - loss: 6.7988 - categorical_accuracy: 0.06 - ETA: 2s - loss: 6.7739 - categorical_accuracy: 0.05 - ETA: 2s - loss: 6.7800 - categorical_accuracy: 0.05 - ETA: 2s - loss: 6.8037 - categorical_accuracy: 0.05 - ETA: 1s - loss: 6.8042 - categorical_accuracy: 0.05 - ETA: 1s - loss: 6.7923 - categorical_accuracy: 0.05 - ETA: 1s - loss: 6.7896 - categorical_accuracy: 0.05 - ETA: 1s - loss: 6.8022 - categorical_accuracy: 0.05 - ETA: 1s - loss: 6.7973 - categorical_accuracy: 0.05 - ETA: 1s - loss: 6.7990 - categorical_accuracy: 0.05 - ETA: 1s - loss: 6.7774 - categorical_accuracy: 0.05 - ETA: 1s - loss: 6.7743 - categorical_accuracy: 0.05 - ETA: 1s - loss: 6.7698 - categorical_accuracy: 0.05 - ETA: 1s - loss: 6.7405 - categorical_accuracy: 0.05 - ETA: 1s - loss: 6.7392 - categorical_accuracy: 0.05 - ETA: 1s - loss: 6.7588 - categorical_accuracy: 0.05 - ETA: 1s - loss: 6.7751 - categorical_accuracy: 0.05 - ETA: 1s - loss: 6.7830 - categorical_accuracy: 0.05 - ETA: 0s - loss: 6.7735 - categorical_accuracy: 0.05 - ETA: 0s - loss: 6.7717 - categorical_accuracy: 0.05 - ETA: 0s - loss: 6.7762 - categorical_accuracy: 0.05 - ETA: 0s - loss: 6.7763 - categorical_accuracy: 0.05 - ETA: 0s - loss: 6.7754 - categorical_accuracy: 0.05 - ETA: 0s - loss: 6.7849 - categorical_accuracy: 0.05 - ETA: 0s - loss: 6.7832 - categorical_accuracy: 0.05 - ETA: 0s - loss: 6.7708 - categorical_accuracy: 0.05 - ETA: 0s - loss: 6.7946 - categorical_accuracy: 0.05 - ETA: 0s - loss: 6.8043 - categorical_accuracy: 0.05 - ETA: 0s - loss: 6.8046 - categorical_accuracy: 0.05 - ETA: 0s - loss: 6.8105 - categorical_accuracy: 0.05 - ETA: 0s - loss: 6.8075 - categorical_accuracy: 0.05 - ETA: 0s - loss: 6.8041 - categorical_accuracy: 0.05 - 5s 71ms/step - loss: 6.7838 - categorical_accuracy: 0.0532 - val_loss: 7.0011 - val_categorical_accuracy: 0.0374\n",
      "Epoch 17/42\n"
     ]
    },
    {
     "name": "stdout",
     "output_type": "stream",
     "text": [
      "64/64 [==============================] - ETA: 4s - loss: 5.8461 - categorical_accuracy: 0.05 - ETA: 4s - loss: 6.1681 - categorical_accuracy: 0.05 - ETA: 4s - loss: 6.4580 - categorical_accuracy: 0.04 - ETA: 4s - loss: 6.6728 - categorical_accuracy: 0.06 - ETA: 4s - loss: 6.8223 - categorical_accuracy: 0.07 - ETA: 4s - loss: 6.4920 - categorical_accuracy: 0.07 - ETA: 4s - loss: 6.6086 - categorical_accuracy: 0.06 - ETA: 4s - loss: 6.5043 - categorical_accuracy: 0.07 - ETA: 3s - loss: 6.4586 - categorical_accuracy: 0.08 - ETA: 3s - loss: 6.5074 - categorical_accuracy: 0.07 - ETA: 3s - loss: 6.4780 - categorical_accuracy: 0.08 - ETA: 3s - loss: 6.4579 - categorical_accuracy: 0.07 - ETA: 3s - loss: 6.5375 - categorical_accuracy: 0.07 - ETA: 3s - loss: 6.5561 - categorical_accuracy: 0.07 - ETA: 3s - loss: 6.5263 - categorical_accuracy: 0.07 - ETA: 3s - loss: 6.5362 - categorical_accuracy: 0.07 - ETA: 3s - loss: 6.5487 - categorical_accuracy: 0.07 - ETA: 3s - loss: 6.5120 - categorical_accuracy: 0.07 - ETA: 3s - loss: 6.5033 - categorical_accuracy: 0.07 - ETA: 3s - loss: 6.4825 - categorical_accuracy: 0.07 - ETA: 3s - loss: 6.4761 - categorical_accuracy: 0.06 - ETA: 2s - loss: 6.4765 - categorical_accuracy: 0.06 - ETA: 2s - loss: 6.4953 - categorical_accuracy: 0.06 - ETA: 2s - loss: 6.5686 - categorical_accuracy: 0.06 - ETA: 2s - loss: 6.5806 - categorical_accuracy: 0.06 - ETA: 2s - loss: 6.5726 - categorical_accuracy: 0.06 - ETA: 2s - loss: 6.5737 - categorical_accuracy: 0.06 - ETA: 2s - loss: 6.6019 - categorical_accuracy: 0.06 - ETA: 2s - loss: 6.5867 - categorical_accuracy: 0.06 - ETA: 2s - loss: 6.5770 - categorical_accuracy: 0.06 - ETA: 2s - loss: 6.5565 - categorical_accuracy: 0.06 - ETA: 2s - loss: 6.5775 - categorical_accuracy: 0.06 - ETA: 2s - loss: 6.5958 - categorical_accuracy: 0.06 - ETA: 2s - loss: 6.5835 - categorical_accuracy: 0.06 - ETA: 2s - loss: 6.5738 - categorical_accuracy: 0.06 - ETA: 1s - loss: 6.5788 - categorical_accuracy: 0.06 - ETA: 1s - loss: 6.5682 - categorical_accuracy: 0.06 - ETA: 1s - loss: 6.5711 - categorical_accuracy: 0.05 - ETA: 1s - loss: 6.5917 - categorical_accuracy: 0.06 - ETA: 1s - loss: 6.5833 - categorical_accuracy: 0.06 - ETA: 1s - loss: 6.6232 - categorical_accuracy: 0.06 - ETA: 1s - loss: 6.6065 - categorical_accuracy: 0.06 - ETA: 1s - loss: 6.6070 - categorical_accuracy: 0.06 - ETA: 1s - loss: 6.6046 - categorical_accuracy: 0.06 - ETA: 1s - loss: 6.6061 - categorical_accuracy: 0.06 - ETA: 1s - loss: 6.5974 - categorical_accuracy: 0.06 - ETA: 1s - loss: 6.6118 - categorical_accuracy: 0.06 - ETA: 1s - loss: 6.6169 - categorical_accuracy: 0.06 - ETA: 1s - loss: 6.6200 - categorical_accuracy: 0.06 - ETA: 0s - loss: 6.6246 - categorical_accuracy: 0.06 - ETA: 0s - loss: 6.6292 - categorical_accuracy: 0.06 - ETA: 0s - loss: 6.6304 - categorical_accuracy: 0.06 - ETA: 0s - loss: 6.6299 - categorical_accuracy: 0.06 - ETA: 0s - loss: 6.6423 - categorical_accuracy: 0.06 - ETA: 0s - loss: 6.6313 - categorical_accuracy: 0.06 - ETA: 0s - loss: 6.6375 - categorical_accuracy: 0.06 - ETA: 0s - loss: 6.6350 - categorical_accuracy: 0.06 - ETA: 0s - loss: 6.6476 - categorical_accuracy: 0.06 - ETA: 0s - loss: 6.6427 - categorical_accuracy: 0.06 - ETA: 0s - loss: 6.6480 - categorical_accuracy: 0.06 - ETA: 0s - loss: 6.6540 - categorical_accuracy: 0.06 - ETA: 0s - loss: 6.6453 - categorical_accuracy: 0.06 - ETA: 0s - loss: 6.6613 - categorical_accuracy: 0.06 - 5s 71ms/step - loss: 6.6682 - categorical_accuracy: 0.0619 - val_loss: 7.7486 - val_categorical_accuracy: 0.0748\n",
      "Epoch 18/42\n",
      "64/64 [==============================] - ETA: 4s - loss: 6.0620 - categorical_accuracy: 0.11 - ETA: 4s - loss: 6.4231 - categorical_accuracy: 0.09 - ETA: 4s - loss: 6.6653 - categorical_accuracy: 0.07 - ETA: 4s - loss: 6.7894 - categorical_accuracy: 0.06 - ETA: 4s - loss: 6.8012 - categorical_accuracy: 0.07 - ETA: 4s - loss: 6.7536 - categorical_accuracy: 0.06 - ETA: 4s - loss: 6.9393 - categorical_accuracy: 0.05 - ETA: 4s - loss: 6.8114 - categorical_accuracy: 0.05 - ETA: 3s - loss: 6.7194 - categorical_accuracy: 0.05 - ETA: 3s - loss: 6.7407 - categorical_accuracy: 0.05 - ETA: 3s - loss: 6.6632 - categorical_accuracy: 0.05 - ETA: 3s - loss: 6.6265 - categorical_accuracy: 0.05 - ETA: 3s - loss: 6.6519 - categorical_accuracy: 0.05 - ETA: 3s - loss: 6.6896 - categorical_accuracy: 0.05 - ETA: 3s - loss: 6.7112 - categorical_accuracy: 0.05 - ETA: 3s - loss: 6.7699 - categorical_accuracy: 0.05 - ETA: 3s - loss: 6.7731 - categorical_accuracy: 0.05 - ETA: 3s - loss: 6.7414 - categorical_accuracy: 0.05 - ETA: 3s - loss: 6.7365 - categorical_accuracy: 0.05 - ETA: 3s - loss: 6.6908 - categorical_accuracy: 0.05 - ETA: 3s - loss: 6.6443 - categorical_accuracy: 0.05 - ETA: 3s - loss: 6.6345 - categorical_accuracy: 0.05 - ETA: 2s - loss: 6.6344 - categorical_accuracy: 0.05 - ETA: 2s - loss: 6.6505 - categorical_accuracy: 0.06 - ETA: 2s - loss: 6.6515 - categorical_accuracy: 0.05 - ETA: 2s - loss: 6.5987 - categorical_accuracy: 0.05 - ETA: 2s - loss: 6.6018 - categorical_accuracy: 0.06 - ETA: 2s - loss: 6.6401 - categorical_accuracy: 0.06 - ETA: 2s - loss: 6.6419 - categorical_accuracy: 0.06 - ETA: 2s - loss: 6.6610 - categorical_accuracy: 0.06 - ETA: 2s - loss: 6.6768 - categorical_accuracy: 0.06 - ETA: 2s - loss: 6.6871 - categorical_accuracy: 0.06 - ETA: 2s - loss: 6.6503 - categorical_accuracy: 0.06 - ETA: 2s - loss: 6.6224 - categorical_accuracy: 0.05 - ETA: 2s - loss: 6.6322 - categorical_accuracy: 0.05 - ETA: 2s - loss: 6.6419 - categorical_accuracy: 0.06 - ETA: 1s - loss: 6.6375 - categorical_accuracy: 0.06 - ETA: 1s - loss: 6.6477 - categorical_accuracy: 0.05 - ETA: 1s - loss: 6.6672 - categorical_accuracy: 0.05 - ETA: 1s - loss: 6.6600 - categorical_accuracy: 0.06 - ETA: 1s - loss: 6.6370 - categorical_accuracy: 0.06 - ETA: 1s - loss: 6.6021 - categorical_accuracy: 0.06 - ETA: 1s - loss: 6.6009 - categorical_accuracy: 0.06 - ETA: 1s - loss: 6.6035 - categorical_accuracy: 0.06 - ETA: 1s - loss: 6.5846 - categorical_accuracy: 0.05 - ETA: 1s - loss: 6.5785 - categorical_accuracy: 0.06 - ETA: 1s - loss: 6.5981 - categorical_accuracy: 0.05 - ETA: 1s - loss: 6.5989 - categorical_accuracy: 0.05 - ETA: 1s - loss: 6.5888 - categorical_accuracy: 0.05 - ETA: 1s - loss: 6.5799 - categorical_accuracy: 0.05 - ETA: 0s - loss: 6.5649 - categorical_accuracy: 0.05 - ETA: 0s - loss: 6.5681 - categorical_accuracy: 0.05 - ETA: 0s - loss: 6.5624 - categorical_accuracy: 0.05 - ETA: 0s - loss: 6.5834 - categorical_accuracy: 0.05 - ETA: 0s - loss: 6.5627 - categorical_accuracy: 0.05 - ETA: 0s - loss: 6.5700 - categorical_accuracy: 0.05 - ETA: 0s - loss: 6.5563 - categorical_accuracy: 0.05 - ETA: 0s - loss: 6.5447 - categorical_accuracy: 0.05 - ETA: 0s - loss: 6.5566 - categorical_accuracy: 0.05 - ETA: 0s - loss: 6.5670 - categorical_accuracy: 0.05 - ETA: 0s - loss: 6.5729 - categorical_accuracy: 0.05 - ETA: 0s - loss: 6.5660 - categorical_accuracy: 0.05 - ETA: 0s - loss: 6.5729 - categorical_accuracy: 0.05 - 5s 76ms/step - loss: 6.5765 - categorical_accuracy: 0.0582 - val_loss: 8.3292 - val_categorical_accuracy: 0.0748\n",
      "Epoch 19/42\n"
     ]
    },
    {
     "name": "stdout",
     "output_type": "stream",
     "text": [
      "64/64 [==============================] - ETA: 5s - loss: 6.4772 - categorical_accuracy: 0.05 - ETA: 5s - loss: 6.6125 - categorical_accuracy: 0.05 - ETA: 6s - loss: 6.7037 - categorical_accuracy: 0.04 - ETA: 6s - loss: 6.6986 - categorical_accuracy: 0.05 - ETA: 6s - loss: 6.6436 - categorical_accuracy: 0.05 - ETA: 6s - loss: 6.3358 - categorical_accuracy: 0.05 - ETA: 6s - loss: 6.4248 - categorical_accuracy: 0.05 - ETA: 6s - loss: 6.3568 - categorical_accuracy: 0.05 - ETA: 6s - loss: 6.4356 - categorical_accuracy: 0.04 - ETA: 6s - loss: 6.4480 - categorical_accuracy: 0.05 - ETA: 6s - loss: 6.4587 - categorical_accuracy: 0.05 - ETA: 6s - loss: 6.4236 - categorical_accuracy: 0.05 - ETA: 6s - loss: 6.4924 - categorical_accuracy: 0.05 - ETA: 6s - loss: 6.5573 - categorical_accuracy: 0.05 - ETA: 5s - loss: 6.5848 - categorical_accuracy: 0.05 - ETA: 5s - loss: 6.6081 - categorical_accuracy: 0.05 - ETA: 5s - loss: 6.6202 - categorical_accuracy: 0.05 - ETA: 5s - loss: 6.5826 - categorical_accuracy: 0.05 - ETA: 5s - loss: 6.5866 - categorical_accuracy: 0.05 - ETA: 5s - loss: 6.5780 - categorical_accuracy: 0.05 - ETA: 4s - loss: 6.5738 - categorical_accuracy: 0.05 - ETA: 4s - loss: 6.5579 - categorical_accuracy: 0.05 - ETA: 4s - loss: 6.5300 - categorical_accuracy: 0.05 - ETA: 4s - loss: 6.5661 - categorical_accuracy: 0.05 - ETA: 4s - loss: 6.5666 - categorical_accuracy: 0.05 - ETA: 4s - loss: 6.5327 - categorical_accuracy: 0.05 - ETA: 3s - loss: 6.5421 - categorical_accuracy: 0.05 - ETA: 3s - loss: 6.5341 - categorical_accuracy: 0.05 - ETA: 3s - loss: 6.5147 - categorical_accuracy: 0.05 - ETA: 3s - loss: 6.4990 - categorical_accuracy: 0.05 - ETA: 3s - loss: 6.4856 - categorical_accuracy: 0.05 - ETA: 3s - loss: 6.4978 - categorical_accuracy: 0.05 - ETA: 3s - loss: 6.4858 - categorical_accuracy: 0.05 - ETA: 2s - loss: 6.4945 - categorical_accuracy: 0.05 - ETA: 2s - loss: 6.5329 - categorical_accuracy: 0.05 - ETA: 2s - loss: 6.5186 - categorical_accuracy: 0.05 - ETA: 2s - loss: 6.4959 - categorical_accuracy: 0.05 - ETA: 2s - loss: 6.4751 - categorical_accuracy: 0.05 - ETA: 2s - loss: 6.4858 - categorical_accuracy: 0.05 - ETA: 2s - loss: 6.4678 - categorical_accuracy: 0.05 - ETA: 2s - loss: 6.4792 - categorical_accuracy: 0.05 - ETA: 2s - loss: 6.4628 - categorical_accuracy: 0.05 - ETA: 1s - loss: 6.4668 - categorical_accuracy: 0.05 - ETA: 1s - loss: 6.4400 - categorical_accuracy: 0.05 - ETA: 1s - loss: 6.4313 - categorical_accuracy: 0.05 - ETA: 1s - loss: 6.4383 - categorical_accuracy: 0.05 - ETA: 1s - loss: 6.4315 - categorical_accuracy: 0.05 - ETA: 1s - loss: 6.4333 - categorical_accuracy: 0.05 - ETA: 1s - loss: 6.4430 - categorical_accuracy: 0.05 - ETA: 1s - loss: 6.4522 - categorical_accuracy: 0.05 - ETA: 1s - loss: 6.4632 - categorical_accuracy: 0.05 - ETA: 1s - loss: 6.4596 - categorical_accuracy: 0.05 - ETA: 1s - loss: 6.4700 - categorical_accuracy: 0.05 - ETA: 0s - loss: 6.4786 - categorical_accuracy: 0.05 - ETA: 0s - loss: 6.4821 - categorical_accuracy: 0.05 - ETA: 0s - loss: 6.4885 - categorical_accuracy: 0.05 - ETA: 0s - loss: 6.4646 - categorical_accuracy: 0.05 - ETA: 0s - loss: 6.4689 - categorical_accuracy: 0.05 - ETA: 0s - loss: 6.4649 - categorical_accuracy: 0.05 - ETA: 0s - loss: 6.4691 - categorical_accuracy: 0.05 - ETA: 0s - loss: 6.4834 - categorical_accuracy: 0.05 - ETA: 0s - loss: 6.4830 - categorical_accuracy: 0.05 - ETA: 0s - loss: 6.4796 - categorical_accuracy: 0.05 - 6s 94ms/step - loss: 6.4583 - categorical_accuracy: 0.0558 - val_loss: 7.5012 - val_categorical_accuracy: 0.0748\n",
      "Epoch 20/42\n",
      "64/64 [==============================] - ETA: 4s - loss: 6.9189 - categorical_accuracy: 0.03 - ETA: 4s - loss: 6.6781 - categorical_accuracy: 0.04 - ETA: 4s - loss: 6.6776 - categorical_accuracy: 0.04 - ETA: 4s - loss: 6.5990 - categorical_accuracy: 0.04 - ETA: 4s - loss: 6.5922 - categorical_accuracy: 0.04 - ETA: 4s - loss: 6.4964 - categorical_accuracy: 0.05 - ETA: 3s - loss: 6.5332 - categorical_accuracy: 0.04 - ETA: 3s - loss: 6.4933 - categorical_accuracy: 0.04 - ETA: 3s - loss: 6.5182 - categorical_accuracy: 0.04 - ETA: 3s - loss: 6.4802 - categorical_accuracy: 0.04 - ETA: 3s - loss: 6.4470 - categorical_accuracy: 0.04 - ETA: 3s - loss: 6.4506 - categorical_accuracy: 0.04 - ETA: 3s - loss: 6.4536 - categorical_accuracy: 0.04 - ETA: 3s - loss: 6.4852 - categorical_accuracy: 0.04 - ETA: 3s - loss: 6.4786 - categorical_accuracy: 0.04 - ETA: 3s - loss: 6.5090 - categorical_accuracy: 0.04 - ETA: 3s - loss: 6.5442 - categorical_accuracy: 0.04 - ETA: 3s - loss: 6.5419 - categorical_accuracy: 0.04 - ETA: 3s - loss: 6.5172 - categorical_accuracy: 0.04 - ETA: 3s - loss: 6.4842 - categorical_accuracy: 0.04 - ETA: 2s - loss: 6.4515 - categorical_accuracy: 0.04 - ETA: 2s - loss: 6.4139 - categorical_accuracy: 0.04 - ETA: 2s - loss: 6.4697 - categorical_accuracy: 0.04 - ETA: 2s - loss: 6.4940 - categorical_accuracy: 0.04 - ETA: 2s - loss: 6.5120 - categorical_accuracy: 0.04 - ETA: 2s - loss: 6.4576 - categorical_accuracy: 0.04 - ETA: 2s - loss: 6.4592 - categorical_accuracy: 0.04 - ETA: 2s - loss: 6.4992 - categorical_accuracy: 0.04 - ETA: 2s - loss: 6.4953 - categorical_accuracy: 0.04 - ETA: 2s - loss: 6.4991 - categorical_accuracy: 0.04 - ETA: 2s - loss: 6.4634 - categorical_accuracy: 0.04 - ETA: 2s - loss: 6.4741 - categorical_accuracy: 0.04 - ETA: 2s - loss: 6.4769 - categorical_accuracy: 0.04 - ETA: 2s - loss: 6.4407 - categorical_accuracy: 0.04 - ETA: 2s - loss: 6.4584 - categorical_accuracy: 0.04 - ETA: 1s - loss: 6.4799 - categorical_accuracy: 0.04 - ETA: 1s - loss: 6.5034 - categorical_accuracy: 0.04 - ETA: 1s - loss: 6.4826 - categorical_accuracy: 0.04 - ETA: 1s - loss: 6.4919 - categorical_accuracy: 0.04 - ETA: 1s - loss: 6.4683 - categorical_accuracy: 0.04 - ETA: 1s - loss: 6.4643 - categorical_accuracy: 0.04 - ETA: 1s - loss: 6.4616 - categorical_accuracy: 0.04 - ETA: 1s - loss: 6.4576 - categorical_accuracy: 0.04 - ETA: 1s - loss: 6.4599 - categorical_accuracy: 0.04 - ETA: 1s - loss: 6.4345 - categorical_accuracy: 0.04 - ETA: 1s - loss: 6.4352 - categorical_accuracy: 0.04 - ETA: 1s - loss: 6.4394 - categorical_accuracy: 0.04 - ETA: 1s - loss: 6.4384 - categorical_accuracy: 0.04 - ETA: 1s - loss: 6.4338 - categorical_accuracy: 0.04 - ETA: 0s - loss: 6.4304 - categorical_accuracy: 0.04 - ETA: 0s - loss: 6.4407 - categorical_accuracy: 0.04 - ETA: 0s - loss: 6.4595 - categorical_accuracy: 0.04 - ETA: 0s - loss: 6.4643 - categorical_accuracy: 0.04 - ETA: 0s - loss: 6.4666 - categorical_accuracy: 0.04 - ETA: 0s - loss: 6.4644 - categorical_accuracy: 0.04 - ETA: 0s - loss: 6.4724 - categorical_accuracy: 0.04 - ETA: 0s - loss: 6.4684 - categorical_accuracy: 0.04 - ETA: 0s - loss: 6.4830 - categorical_accuracy: 0.04 - ETA: 0s - loss: 6.4732 - categorical_accuracy: 0.04 - ETA: 0s - loss: 6.4716 - categorical_accuracy: 0.04 - ETA: 0s - loss: 6.4590 - categorical_accuracy: 0.04 - ETA: 0s - loss: 6.4499 - categorical_accuracy: 0.04 - ETA: 0s - loss: 6.4680 - categorical_accuracy: 0.04 - 5s 71ms/step - loss: 6.4698 - categorical_accuracy: 0.0457 - val_loss: 8.4436 - val_categorical_accuracy: 0.0841\n",
      "Epoch 21/42\n"
     ]
    },
    {
     "name": "stdout",
     "output_type": "stream",
     "text": [
      "64/64 [==============================] - ETA: 4s - loss: 6.6758 - categorical_accuracy: 0.01 - ETA: 4s - loss: 7.1856 - categorical_accuracy: 0.02 - ETA: 4s - loss: 6.9824 - categorical_accuracy: 0.03 - ETA: 4s - loss: 6.8071 - categorical_accuracy: 0.04 - ETA: 4s - loss: 6.6489 - categorical_accuracy: 0.04 - ETA: 4s - loss: 6.4396 - categorical_accuracy: 0.05 - ETA: 3s - loss: 6.4869 - categorical_accuracy: 0.05 - ETA: 3s - loss: 6.3780 - categorical_accuracy: 0.05 - ETA: 3s - loss: 6.3388 - categorical_accuracy: 0.05 - ETA: 3s - loss: 6.3349 - categorical_accuracy: 0.05 - ETA: 3s - loss: 6.3203 - categorical_accuracy: 0.05 - ETA: 3s - loss: 6.2540 - categorical_accuracy: 0.05 - ETA: 3s - loss: 6.3358 - categorical_accuracy: 0.05 - ETA: 3s - loss: 6.4554 - categorical_accuracy: 0.05 - ETA: 3s - loss: 6.4374 - categorical_accuracy: 0.05 - ETA: 3s - loss: 6.5120 - categorical_accuracy: 0.05 - ETA: 3s - loss: 6.5314 - categorical_accuracy: 0.05 - ETA: 3s - loss: 6.4659 - categorical_accuracy: 0.05 - ETA: 3s - loss: 6.4461 - categorical_accuracy: 0.05 - ETA: 3s - loss: 6.4263 - categorical_accuracy: 0.05 - ETA: 2s - loss: 6.4020 - categorical_accuracy: 0.05 - ETA: 2s - loss: 6.4097 - categorical_accuracy: 0.05 - ETA: 2s - loss: 6.4270 - categorical_accuracy: 0.05 - ETA: 2s - loss: 6.4699 - categorical_accuracy: 0.05 - ETA: 2s - loss: 6.4672 - categorical_accuracy: 0.05 - ETA: 2s - loss: 6.4525 - categorical_accuracy: 0.05 - ETA: 2s - loss: 6.4902 - categorical_accuracy: 0.05 - ETA: 2s - loss: 6.4942 - categorical_accuracy: 0.05 - ETA: 2s - loss: 6.4772 - categorical_accuracy: 0.05 - ETA: 2s - loss: 6.4797 - categorical_accuracy: 0.06 - ETA: 2s - loss: 6.4829 - categorical_accuracy: 0.06 - ETA: 2s - loss: 6.4743 - categorical_accuracy: 0.05 - ETA: 2s - loss: 6.4846 - categorical_accuracy: 0.05 - ETA: 2s - loss: 6.4900 - categorical_accuracy: 0.05 - ETA: 1s - loss: 6.4981 - categorical_accuracy: 0.05 - ETA: 1s - loss: 6.5052 - categorical_accuracy: 0.05 - ETA: 1s - loss: 6.5016 - categorical_accuracy: 0.05 - ETA: 1s - loss: 6.4841 - categorical_accuracy: 0.05 - ETA: 1s - loss: 6.5183 - categorical_accuracy: 0.05 - ETA: 1s - loss: 6.4911 - categorical_accuracy: 0.05 - ETA: 1s - loss: 6.4995 - categorical_accuracy: 0.05 - ETA: 1s - loss: 6.5097 - categorical_accuracy: 0.05 - ETA: 1s - loss: 6.5302 - categorical_accuracy: 0.05 - ETA: 1s - loss: 6.5199 - categorical_accuracy: 0.05 - ETA: 1s - loss: 6.5272 - categorical_accuracy: 0.05 - ETA: 1s - loss: 6.5061 - categorical_accuracy: 0.05 - ETA: 1s - loss: 6.4968 - categorical_accuracy: 0.05 - ETA: 1s - loss: 6.5125 - categorical_accuracy: 0.05 - ETA: 1s - loss: 6.5150 - categorical_accuracy: 0.05 - ETA: 0s - loss: 6.5086 - categorical_accuracy: 0.05 - ETA: 0s - loss: 6.5046 - categorical_accuracy: 0.05 - ETA: 0s - loss: 6.5055 - categorical_accuracy: 0.05 - ETA: 0s - loss: 6.5109 - categorical_accuracy: 0.05 - ETA: 0s - loss: 6.5055 - categorical_accuracy: 0.05 - ETA: 0s - loss: 6.4884 - categorical_accuracy: 0.05 - ETA: 0s - loss: 6.4725 - categorical_accuracy: 0.05 - ETA: 0s - loss: 6.4686 - categorical_accuracy: 0.05 - ETA: 0s - loss: 6.4770 - categorical_accuracy: 0.05 - ETA: 0s - loss: 6.4775 - categorical_accuracy: 0.05 - ETA: 0s - loss: 6.4875 - categorical_accuracy: 0.05 - ETA: 0s - loss: 6.4860 - categorical_accuracy: 0.05 - ETA: 0s - loss: 6.4641 - categorical_accuracy: 0.05 - ETA: 0s - loss: 6.4606 - categorical_accuracy: 0.05 - 4s 70ms/step - loss: 6.4563 - categorical_accuracy: 0.0576 - val_loss: 8.4471 - val_categorical_accuracy: 0.0374\n",
      "Epoch 22/42\n",
      "64/64 [==============================] - ETA: 3s - loss: 5.0965 - categorical_accuracy: 0.05 - ETA: 3s - loss: 5.9931 - categorical_accuracy: 0.07 - ETA: 4s - loss: 6.2916 - categorical_accuracy: 0.05 - ETA: 3s - loss: 6.2654 - categorical_accuracy: 0.05 - ETA: 3s - loss: 6.4006 - categorical_accuracy: 0.05 - ETA: 3s - loss: 6.2607 - categorical_accuracy: 0.05 - ETA: 3s - loss: 6.4833 - categorical_accuracy: 0.04 - ETA: 3s - loss: 6.4352 - categorical_accuracy: 0.04 - ETA: 3s - loss: 6.5030 - categorical_accuracy: 0.05 - ETA: 3s - loss: 6.4419 - categorical_accuracy: 0.05 - ETA: 3s - loss: 6.4315 - categorical_accuracy: 0.04 - ETA: 3s - loss: 6.3794 - categorical_accuracy: 0.04 - ETA: 3s - loss: 6.4180 - categorical_accuracy: 0.04 - ETA: 3s - loss: 6.4363 - categorical_accuracy: 0.05 - ETA: 3s - loss: 6.4596 - categorical_accuracy: 0.04 - ETA: 3s - loss: 6.4575 - categorical_accuracy: 0.04 - ETA: 3s - loss: 6.4148 - categorical_accuracy: 0.04 - ETA: 3s - loss: 6.3675 - categorical_accuracy: 0.05 - ETA: 3s - loss: 6.3424 - categorical_accuracy: 0.05 - ETA: 3s - loss: 6.3455 - categorical_accuracy: 0.05 - ETA: 2s - loss: 6.3488 - categorical_accuracy: 0.05 - ETA: 2s - loss: 6.3355 - categorical_accuracy: 0.05 - ETA: 2s - loss: 6.3335 - categorical_accuracy: 0.05 - ETA: 2s - loss: 6.3687 - categorical_accuracy: 0.05 - ETA: 2s - loss: 6.3508 - categorical_accuracy: 0.05 - ETA: 2s - loss: 6.3154 - categorical_accuracy: 0.05 - ETA: 2s - loss: 6.3431 - categorical_accuracy: 0.05 - ETA: 2s - loss: 6.3482 - categorical_accuracy: 0.05 - ETA: 2s - loss: 6.3380 - categorical_accuracy: 0.05 - ETA: 2s - loss: 6.3205 - categorical_accuracy: 0.05 - ETA: 2s - loss: 6.3434 - categorical_accuracy: 0.05 - ETA: 2s - loss: 6.3448 - categorical_accuracy: 0.05 - ETA: 2s - loss: 6.3258 - categorical_accuracy: 0.05 - ETA: 2s - loss: 6.3151 - categorical_accuracy: 0.05 - ETA: 2s - loss: 6.3067 - categorical_accuracy: 0.05 - ETA: 1s - loss: 6.3005 - categorical_accuracy: 0.05 - ETA: 1s - loss: 6.2805 - categorical_accuracy: 0.05 - ETA: 1s - loss: 6.2718 - categorical_accuracy: 0.05 - ETA: 1s - loss: 6.2753 - categorical_accuracy: 0.05 - ETA: 1s - loss: 6.2539 - categorical_accuracy: 0.05 - ETA: 1s - loss: 6.2485 - categorical_accuracy: 0.05 - ETA: 1s - loss: 6.2587 - categorical_accuracy: 0.05 - ETA: 1s - loss: 6.2553 - categorical_accuracy: 0.05 - ETA: 1s - loss: 6.2473 - categorical_accuracy: 0.05 - ETA: 1s - loss: 6.2301 - categorical_accuracy: 0.05 - ETA: 1s - loss: 6.2290 - categorical_accuracy: 0.05 - ETA: 1s - loss: 6.2384 - categorical_accuracy: 0.05 - ETA: 1s - loss: 6.2392 - categorical_accuracy: 0.05 - ETA: 1s - loss: 6.2421 - categorical_accuracy: 0.05 - ETA: 0s - loss: 6.2155 - categorical_accuracy: 0.05 - ETA: 0s - loss: 6.2172 - categorical_accuracy: 0.05 - ETA: 0s - loss: 6.2399 - categorical_accuracy: 0.05 - ETA: 0s - loss: 6.2477 - categorical_accuracy: 0.05 - ETA: 0s - loss: 6.2552 - categorical_accuracy: 0.05 - ETA: 0s - loss: 6.2455 - categorical_accuracy: 0.05 - ETA: 0s - loss: 6.2330 - categorical_accuracy: 0.05 - ETA: 0s - loss: 6.2166 - categorical_accuracy: 0.05 - ETA: 0s - loss: 6.2202 - categorical_accuracy: 0.05 - ETA: 0s - loss: 6.2184 - categorical_accuracy: 0.05 - ETA: 0s - loss: 6.2270 - categorical_accuracy: 0.05 - ETA: 0s - loss: 6.2441 - categorical_accuracy: 0.05 - ETA: 0s - loss: 6.2546 - categorical_accuracy: 0.05 - ETA: 0s - loss: 6.2578 - categorical_accuracy: 0.05 - 4s 70ms/step - loss: 6.2464 - categorical_accuracy: 0.0556 - val_loss: 7.4018 - val_categorical_accuracy: 0.0654\n",
      "Epoch 23/42\n"
     ]
    },
    {
     "name": "stdout",
     "output_type": "stream",
     "text": [
      "64/64 [==============================] - ETA: 4s - loss: 5.8820 - categorical_accuracy: 0.03 - ETA: 4s - loss: 6.1953 - categorical_accuracy: 0.04 - ETA: 4s - loss: 6.2948 - categorical_accuracy: 0.04 - ETA: 4s - loss: 6.3556 - categorical_accuracy: 0.04 - ETA: 4s - loss: 6.3040 - categorical_accuracy: 0.05 - ETA: 3s - loss: 6.3330 - categorical_accuracy: 0.04 - ETA: 3s - loss: 6.3734 - categorical_accuracy: 0.04 - ETA: 3s - loss: 6.3826 - categorical_accuracy: 0.04 - ETA: 3s - loss: 6.3866 - categorical_accuracy: 0.04 - ETA: 3s - loss: 6.3441 - categorical_accuracy: 0.05 - ETA: 3s - loss: 6.3118 - categorical_accuracy: 0.05 - ETA: 3s - loss: 6.2149 - categorical_accuracy: 0.06 - ETA: 3s - loss: 6.2706 - categorical_accuracy: 0.05 - ETA: 3s - loss: 6.3352 - categorical_accuracy: 0.05 - ETA: 3s - loss: 6.3760 - categorical_accuracy: 0.05 - ETA: 3s - loss: 6.4058 - categorical_accuracy: 0.05 - ETA: 3s - loss: 6.4775 - categorical_accuracy: 0.05 - ETA: 3s - loss: 6.4227 - categorical_accuracy: 0.05 - ETA: 3s - loss: 6.3684 - categorical_accuracy: 0.05 - ETA: 3s - loss: 6.3272 - categorical_accuracy: 0.05 - ETA: 2s - loss: 6.2764 - categorical_accuracy: 0.05 - ETA: 2s - loss: 6.2579 - categorical_accuracy: 0.05 - ETA: 2s - loss: 6.2733 - categorical_accuracy: 0.05 - ETA: 2s - loss: 6.2965 - categorical_accuracy: 0.05 - ETA: 2s - loss: 6.3068 - categorical_accuracy: 0.05 - ETA: 2s - loss: 6.2591 - categorical_accuracy: 0.05 - ETA: 2s - loss: 6.2423 - categorical_accuracy: 0.05 - ETA: 2s - loss: 6.2521 - categorical_accuracy: 0.05 - ETA: 2s - loss: 6.2280 - categorical_accuracy: 0.05 - ETA: 2s - loss: 6.2266 - categorical_accuracy: 0.05 - ETA: 2s - loss: 6.2408 - categorical_accuracy: 0.05 - ETA: 2s - loss: 6.2482 - categorical_accuracy: 0.05 - ETA: 2s - loss: 6.2530 - categorical_accuracy: 0.05 - ETA: 2s - loss: 6.2537 - categorical_accuracy: 0.05 - ETA: 1s - loss: 6.2589 - categorical_accuracy: 0.05 - ETA: 1s - loss: 6.2555 - categorical_accuracy: 0.05 - ETA: 1s - loss: 6.2435 - categorical_accuracy: 0.05 - ETA: 1s - loss: 6.2507 - categorical_accuracy: 0.05 - ETA: 1s - loss: 6.2634 - categorical_accuracy: 0.05 - ETA: 1s - loss: 6.2450 - categorical_accuracy: 0.05 - ETA: 1s - loss: 6.2356 - categorical_accuracy: 0.05 - ETA: 1s - loss: 6.2112 - categorical_accuracy: 0.05 - ETA: 1s - loss: 6.2048 - categorical_accuracy: 0.05 - ETA: 1s - loss: 6.2099 - categorical_accuracy: 0.05 - ETA: 1s - loss: 6.2079 - categorical_accuracy: 0.05 - ETA: 1s - loss: 6.2148 - categorical_accuracy: 0.05 - ETA: 1s - loss: 6.2569 - categorical_accuracy: 0.05 - ETA: 1s - loss: 6.2462 - categorical_accuracy: 0.05 - ETA: 1s - loss: 6.2396 - categorical_accuracy: 0.05 - ETA: 0s - loss: 6.2346 - categorical_accuracy: 0.05 - ETA: 0s - loss: 6.2261 - categorical_accuracy: 0.05 - ETA: 0s - loss: 6.2363 - categorical_accuracy: 0.05 - ETA: 0s - loss: 6.2307 - categorical_accuracy: 0.05 - ETA: 0s - loss: 6.2447 - categorical_accuracy: 0.05 - ETA: 0s - loss: 6.2449 - categorical_accuracy: 0.05 - ETA: 0s - loss: 6.2336 - categorical_accuracy: 0.05 - ETA: 0s - loss: 6.2214 - categorical_accuracy: 0.05 - ETA: 0s - loss: 6.2190 - categorical_accuracy: 0.05 - ETA: 0s - loss: 6.2061 - categorical_accuracy: 0.05 - ETA: 0s - loss: 6.2100 - categorical_accuracy: 0.05 - ETA: 0s - loss: 6.2120 - categorical_accuracy: 0.05 - ETA: 0s - loss: 6.2081 - categorical_accuracy: 0.05 - ETA: 0s - loss: 6.2089 - categorical_accuracy: 0.05 - 4s 70ms/step - loss: 6.2053 - categorical_accuracy: 0.0567 - val_loss: 8.2868 - val_categorical_accuracy: 0.0748\n",
      "Epoch 24/42\n",
      "64/64 [==============================] - ETA: 4s - loss: 5.8359 - categorical_accuracy: 0.0000e+ - ETA: 4s - loss: 5.7960 - categorical_accuracy: 0.0556   - ETA: 4s - loss: 5.5452 - categorical_accuracy: 0.04 - ETA: 4s - loss: 5.6277 - categorical_accuracy: 0.04 - ETA: 4s - loss: 5.6695 - categorical_accuracy: 0.04 - ETA: 4s - loss: 5.6713 - categorical_accuracy: 0.05 - ETA: 4s - loss: 5.8049 - categorical_accuracy: 0.05 - ETA: 3s - loss: 5.8090 - categorical_accuracy: 0.04 - ETA: 3s - loss: 5.8311 - categorical_accuracy: 0.05 - ETA: 3s - loss: 5.8437 - categorical_accuracy: 0.05 - ETA: 3s - loss: 5.8214 - categorical_accuracy: 0.05 - ETA: 3s - loss: 5.7961 - categorical_accuracy: 0.06 - ETA: 3s - loss: 5.9343 - categorical_accuracy: 0.06 - ETA: 3s - loss: 6.0157 - categorical_accuracy: 0.05 - ETA: 3s - loss: 6.0978 - categorical_accuracy: 0.05 - ETA: 3s - loss: 6.1571 - categorical_accuracy: 0.05 - ETA: 3s - loss: 6.2051 - categorical_accuracy: 0.05 - ETA: 3s - loss: 6.1644 - categorical_accuracy: 0.05 - ETA: 3s - loss: 6.1266 - categorical_accuracy: 0.06 - ETA: 3s - loss: 6.1193 - categorical_accuracy: 0.05 - ETA: 2s - loss: 6.0776 - categorical_accuracy: 0.06 - ETA: 2s - loss: 6.0643 - categorical_accuracy: 0.06 - ETA: 2s - loss: 6.0901 - categorical_accuracy: 0.06 - ETA: 2s - loss: 6.1091 - categorical_accuracy: 0.06 - ETA: 2s - loss: 6.1485 - categorical_accuracy: 0.06 - ETA: 2s - loss: 6.1213 - categorical_accuracy: 0.06 - ETA: 2s - loss: 6.1464 - categorical_accuracy: 0.06 - ETA: 2s - loss: 6.1682 - categorical_accuracy: 0.06 - ETA: 2s - loss: 6.1412 - categorical_accuracy: 0.06 - ETA: 2s - loss: 6.1512 - categorical_accuracy: 0.06 - ETA: 2s - loss: 6.1827 - categorical_accuracy: 0.06 - ETA: 2s - loss: 6.1832 - categorical_accuracy: 0.06 - ETA: 2s - loss: 6.1941 - categorical_accuracy: 0.06 - ETA: 2s - loss: 6.1863 - categorical_accuracy: 0.06 - ETA: 2s - loss: 6.1965 - categorical_accuracy: 0.06 - ETA: 1s - loss: 6.2012 - categorical_accuracy: 0.06 - ETA: 1s - loss: 6.2067 - categorical_accuracy: 0.06 - ETA: 1s - loss: 6.2056 - categorical_accuracy: 0.06 - ETA: 1s - loss: 6.2146 - categorical_accuracy: 0.06 - ETA: 1s - loss: 6.2044 - categorical_accuracy: 0.06 - ETA: 1s - loss: 6.2096 - categorical_accuracy: 0.06 - ETA: 1s - loss: 6.1874 - categorical_accuracy: 0.06 - ETA: 1s - loss: 6.2006 - categorical_accuracy: 0.06 - ETA: 1s - loss: 6.1865 - categorical_accuracy: 0.06 - ETA: 1s - loss: 6.1698 - categorical_accuracy: 0.05 - ETA: 1s - loss: 6.1743 - categorical_accuracy: 0.05 - ETA: 1s - loss: 6.1739 - categorical_accuracy: 0.05 - ETA: 1s - loss: 6.1688 - categorical_accuracy: 0.05 - ETA: 1s - loss: 6.1654 - categorical_accuracy: 0.05 - ETA: 0s - loss: 6.1537 - categorical_accuracy: 0.05 - ETA: 0s - loss: 6.1507 - categorical_accuracy: 0.05 - ETA: 0s - loss: 6.1429 - categorical_accuracy: 0.06 - ETA: 0s - loss: 6.1408 - categorical_accuracy: 0.05 - ETA: 0s - loss: 6.1470 - categorical_accuracy: 0.05 - ETA: 0s - loss: 6.1429 - categorical_accuracy: 0.05 - ETA: 0s - loss: 6.1541 - categorical_accuracy: 0.05 - ETA: 0s - loss: 6.1547 - categorical_accuracy: 0.05 - ETA: 0s - loss: 6.1474 - categorical_accuracy: 0.05 - ETA: 0s - loss: 6.1443 - categorical_accuracy: 0.05 - ETA: 0s - loss: 6.1577 - categorical_accuracy: 0.05 - ETA: 0s - loss: 6.1672 - categorical_accuracy: 0.05 - ETA: 0s - loss: 6.1676 - categorical_accuracy: 0.05 - ETA: 0s - loss: 6.1776 - categorical_accuracy: 0.05 - 5s 71ms/step - loss: 6.1755 - categorical_accuracy: 0.0579 - val_loss: 7.6051 - val_categorical_accuracy: 0.0374\n",
      "Epoch 25/42\n"
     ]
    },
    {
     "name": "stdout",
     "output_type": "stream",
     "text": [
      "64/64 [==============================] - ETA: 3s - loss: 5.8889 - categorical_accuracy: 0.03 - ETA: 3s - loss: 5.9894 - categorical_accuracy: 0.02 - ETA: 3s - loss: 6.1552 - categorical_accuracy: 0.03 - ETA: 4s - loss: 6.1252 - categorical_accuracy: 0.04 - ETA: 3s - loss: 6.1445 - categorical_accuracy: 0.04 - ETA: 3s - loss: 6.0046 - categorical_accuracy: 0.06 - ETA: 3s - loss: 6.0759 - categorical_accuracy: 0.06 - ETA: 3s - loss: 6.0129 - categorical_accuracy: 0.05 - ETA: 3s - loss: 5.9927 - categorical_accuracy: 0.06 - ETA: 3s - loss: 5.9653 - categorical_accuracy: 0.06 - ETA: 3s - loss: 5.9231 - categorical_accuracy: 0.06 - ETA: 3s - loss: 5.8953 - categorical_accuracy: 0.06 - ETA: 3s - loss: 5.8729 - categorical_accuracy: 0.06 - ETA: 3s - loss: 5.9575 - categorical_accuracy: 0.06 - ETA: 3s - loss: 5.9930 - categorical_accuracy: 0.06 - ETA: 3s - loss: 6.0102 - categorical_accuracy: 0.06 - ETA: 3s - loss: 6.0388 - categorical_accuracy: 0.05 - ETA: 3s - loss: 5.9646 - categorical_accuracy: 0.06 - ETA: 3s - loss: 5.9646 - categorical_accuracy: 0.06 - ETA: 3s - loss: 5.9253 - categorical_accuracy: 0.06 - ETA: 2s - loss: 5.9295 - categorical_accuracy: 0.06 - ETA: 2s - loss: 5.8830 - categorical_accuracy: 0.06 - ETA: 2s - loss: 5.9159 - categorical_accuracy: 0.06 - ETA: 2s - loss: 5.9328 - categorical_accuracy: 0.06 - ETA: 2s - loss: 5.9047 - categorical_accuracy: 0.06 - ETA: 2s - loss: 5.8966 - categorical_accuracy: 0.06 - ETA: 2s - loss: 5.8761 - categorical_accuracy: 0.06 - ETA: 2s - loss: 5.9018 - categorical_accuracy: 0.06 - ETA: 2s - loss: 5.8693 - categorical_accuracy: 0.06 - ETA: 2s - loss: 5.8781 - categorical_accuracy: 0.06 - ETA: 2s - loss: 5.9065 - categorical_accuracy: 0.06 - ETA: 2s - loss: 5.8965 - categorical_accuracy: 0.06 - ETA: 2s - loss: 5.8858 - categorical_accuracy: 0.06 - ETA: 2s - loss: 5.8867 - categorical_accuracy: 0.06 - ETA: 1s - loss: 5.9106 - categorical_accuracy: 0.06 - ETA: 1s - loss: 5.9107 - categorical_accuracy: 0.06 - ETA: 1s - loss: 5.8941 - categorical_accuracy: 0.06 - ETA: 1s - loss: 5.8776 - categorical_accuracy: 0.06 - ETA: 1s - loss: 5.9244 - categorical_accuracy: 0.06 - ETA: 1s - loss: 5.9067 - categorical_accuracy: 0.06 - ETA: 1s - loss: 5.9093 - categorical_accuracy: 0.06 - ETA: 1s - loss: 5.9180 - categorical_accuracy: 0.05 - ETA: 1s - loss: 5.9178 - categorical_accuracy: 0.06 - ETA: 1s - loss: 5.9129 - categorical_accuracy: 0.06 - ETA: 1s - loss: 5.9077 - categorical_accuracy: 0.06 - ETA: 1s - loss: 5.9161 - categorical_accuracy: 0.06 - ETA: 1s - loss: 5.9222 - categorical_accuracy: 0.06 - ETA: 1s - loss: 5.9275 - categorical_accuracy: 0.06 - ETA: 1s - loss: 5.9443 - categorical_accuracy: 0.06 - ETA: 0s - loss: 5.9466 - categorical_accuracy: 0.06 - ETA: 0s - loss: 5.9404 - categorical_accuracy: 0.05 - ETA: 0s - loss: 5.9471 - categorical_accuracy: 0.05 - ETA: 0s - loss: 5.9500 - categorical_accuracy: 0.06 - ETA: 0s - loss: 5.9649 - categorical_accuracy: 0.06 - ETA: 0s - loss: 5.9691 - categorical_accuracy: 0.06 - ETA: 0s - loss: 5.9660 - categorical_accuracy: 0.05 - ETA: 0s - loss: 5.9523 - categorical_accuracy: 0.05 - ETA: 0s - loss: 5.9508 - categorical_accuracy: 0.05 - ETA: 0s - loss: 5.9589 - categorical_accuracy: 0.05 - ETA: 0s - loss: 5.9627 - categorical_accuracy: 0.05 - ETA: 0s - loss: 5.9878 - categorical_accuracy: 0.05 - ETA: 0s - loss: 5.9762 - categorical_accuracy: 0.05 - ETA: 0s - loss: 5.9869 - categorical_accuracy: 0.05 - 4s 70ms/step - loss: 5.9860 - categorical_accuracy: 0.0567 - val_loss: 8.1113 - val_categorical_accuracy: 0.0561\n",
      "Epoch 26/42\n",
      "64/64 [==============================] - ETA: 4s - loss: 4.9058 - categorical_accuracy: 0.05 - ETA: 4s - loss: 5.4770 - categorical_accuracy: 0.06 - ETA: 4s - loss: 5.8379 - categorical_accuracy: 0.05 - ETA: 4s - loss: 5.7744 - categorical_accuracy: 0.05 - ETA: 4s - loss: 5.9344 - categorical_accuracy: 0.05 - ETA: 4s - loss: 5.7863 - categorical_accuracy: 0.05 - ETA: 3s - loss: 5.8476 - categorical_accuracy: 0.05 - ETA: 3s - loss: 5.8153 - categorical_accuracy: 0.05 - ETA: 3s - loss: 5.7832 - categorical_accuracy: 0.05 - ETA: 3s - loss: 5.8060 - categorical_accuracy: 0.05 - ETA: 3s - loss: 5.7354 - categorical_accuracy: 0.05 - ETA: 3s - loss: 5.7891 - categorical_accuracy: 0.05 - ETA: 3s - loss: 5.7917 - categorical_accuracy: 0.05 - ETA: 3s - loss: 5.7891 - categorical_accuracy: 0.05 - ETA: 3s - loss: 5.8326 - categorical_accuracy: 0.05 - ETA: 3s - loss: 5.8314 - categorical_accuracy: 0.05 - ETA: 3s - loss: 5.8816 - categorical_accuracy: 0.05 - ETA: 3s - loss: 5.8232 - categorical_accuracy: 0.05 - ETA: 3s - loss: 5.8074 - categorical_accuracy: 0.05 - ETA: 3s - loss: 5.7671 - categorical_accuracy: 0.05 - ETA: 2s - loss: 5.7443 - categorical_accuracy: 0.05 - ETA: 2s - loss: 5.7328 - categorical_accuracy: 0.05 - ETA: 2s - loss: 5.7758 - categorical_accuracy: 0.05 - ETA: 2s - loss: 5.8019 - categorical_accuracy: 0.05 - ETA: 2s - loss: 5.8255 - categorical_accuracy: 0.05 - ETA: 2s - loss: 5.8273 - categorical_accuracy: 0.05 - ETA: 2s - loss: 5.8419 - categorical_accuracy: 0.05 - ETA: 2s - loss: 5.8519 - categorical_accuracy: 0.05 - ETA: 2s - loss: 5.8238 - categorical_accuracy: 0.05 - ETA: 2s - loss: 5.7877 - categorical_accuracy: 0.05 - ETA: 2s - loss: 5.7886 - categorical_accuracy: 0.05 - ETA: 2s - loss: 5.7765 - categorical_accuracy: 0.05 - ETA: 2s - loss: 5.7726 - categorical_accuracy: 0.06 - ETA: 2s - loss: 5.7504 - categorical_accuracy: 0.06 - ETA: 2s - loss: 5.7550 - categorical_accuracy: 0.06 - ETA: 1s - loss: 5.7608 - categorical_accuracy: 0.06 - ETA: 1s - loss: 5.7832 - categorical_accuracy: 0.05 - ETA: 1s - loss: 5.8062 - categorical_accuracy: 0.05 - ETA: 1s - loss: 5.8289 - categorical_accuracy: 0.05 - ETA: 1s - loss: 5.8129 - categorical_accuracy: 0.05 - ETA: 1s - loss: 5.8062 - categorical_accuracy: 0.05 - ETA: 1s - loss: 5.7857 - categorical_accuracy: 0.05 - ETA: 1s - loss: 5.7823 - categorical_accuracy: 0.05 - ETA: 1s - loss: 5.7807 - categorical_accuracy: 0.05 - ETA: 1s - loss: 5.7601 - categorical_accuracy: 0.05 - ETA: 1s - loss: 5.7586 - categorical_accuracy: 0.05 - ETA: 1s - loss: 5.7677 - categorical_accuracy: 0.05 - ETA: 1s - loss: 5.7801 - categorical_accuracy: 0.05 - ETA: 1s - loss: 5.7582 - categorical_accuracy: 0.05 - ETA: 0s - loss: 5.7454 - categorical_accuracy: 0.05 - ETA: 0s - loss: 5.7354 - categorical_accuracy: 0.05 - ETA: 0s - loss: 5.7419 - categorical_accuracy: 0.05 - ETA: 0s - loss: 5.7504 - categorical_accuracy: 0.05 - ETA: 0s - loss: 5.7641 - categorical_accuracy: 0.05 - ETA: 0s - loss: 5.7608 - categorical_accuracy: 0.05 - ETA: 0s - loss: 5.7537 - categorical_accuracy: 0.05 - ETA: 0s - loss: 5.7417 - categorical_accuracy: 0.05 - ETA: 0s - loss: 5.7446 - categorical_accuracy: 0.05 - ETA: 0s - loss: 5.7552 - categorical_accuracy: 0.05 - ETA: 0s - loss: 5.7525 - categorical_accuracy: 0.05 - ETA: 0s - loss: 5.7453 - categorical_accuracy: 0.05 - ETA: 0s - loss: 5.7435 - categorical_accuracy: 0.05 - ETA: 0s - loss: 5.7545 - categorical_accuracy: 0.05 - 4s 70ms/step - loss: 5.7477 - categorical_accuracy: 0.0567 - val_loss: 7.6054 - val_categorical_accuracy: 0.0748\n",
      "Epoch 27/42\n"
     ]
    },
    {
     "name": "stdout",
     "output_type": "stream",
     "text": [
      "64/64 [==============================] - ETA: 4s - loss: 5.7639 - categorical_accuracy: 0.05 - ETA: 4s - loss: 6.1985 - categorical_accuracy: 0.03 - ETA: 4s - loss: 5.8338 - categorical_accuracy: 0.04 - ETA: 4s - loss: 5.8299 - categorical_accuracy: 0.05 - ETA: 4s - loss: 5.8087 - categorical_accuracy: 0.04 - ETA: 3s - loss: 5.6211 - categorical_accuracy: 0.04 - ETA: 3s - loss: 5.7374 - categorical_accuracy: 0.05 - ETA: 3s - loss: 5.7372 - categorical_accuracy: 0.04 - ETA: 3s - loss: 5.8394 - categorical_accuracy: 0.05 - ETA: 3s - loss: 5.7829 - categorical_accuracy: 0.05 - ETA: 3s - loss: 5.7318 - categorical_accuracy: 0.05 - ETA: 3s - loss: 5.6708 - categorical_accuracy: 0.05 - ETA: 3s - loss: 5.7180 - categorical_accuracy: 0.05 - ETA: 3s - loss: 5.7466 - categorical_accuracy: 0.05 - ETA: 3s - loss: 5.7651 - categorical_accuracy: 0.05 - ETA: 3s - loss: 5.8094 - categorical_accuracy: 0.05 - ETA: 3s - loss: 5.7954 - categorical_accuracy: 0.04 - ETA: 3s - loss: 5.7563 - categorical_accuracy: 0.05 - ETA: 3s - loss: 5.7464 - categorical_accuracy: 0.04 - ETA: 3s - loss: 5.7577 - categorical_accuracy: 0.05 - ETA: 2s - loss: 5.7448 - categorical_accuracy: 0.04 - ETA: 2s - loss: 5.7580 - categorical_accuracy: 0.04 - ETA: 2s - loss: 5.7398 - categorical_accuracy: 0.04 - ETA: 2s - loss: 5.7854 - categorical_accuracy: 0.05 - ETA: 2s - loss: 5.7830 - categorical_accuracy: 0.05 - ETA: 2s - loss: 5.7468 - categorical_accuracy: 0.05 - ETA: 2s - loss: 5.7200 - categorical_accuracy: 0.05 - ETA: 2s - loss: 5.7277 - categorical_accuracy: 0.05 - ETA: 2s - loss: 5.7461 - categorical_accuracy: 0.05 - ETA: 2s - loss: 5.7492 - categorical_accuracy: 0.05 - ETA: 2s - loss: 5.7718 - categorical_accuracy: 0.05 - ETA: 2s - loss: 5.7778 - categorical_accuracy: 0.04 - ETA: 2s - loss: 5.7942 - categorical_accuracy: 0.04 - ETA: 2s - loss: 5.8016 - categorical_accuracy: 0.04 - ETA: 1s - loss: 5.8375 - categorical_accuracy: 0.04 - ETA: 1s - loss: 5.8317 - categorical_accuracy: 0.04 - ETA: 1s - loss: 5.8374 - categorical_accuracy: 0.04 - ETA: 1s - loss: 5.8478 - categorical_accuracy: 0.04 - ETA: 1s - loss: 5.8580 - categorical_accuracy: 0.04 - ETA: 1s - loss: 5.8436 - categorical_accuracy: 0.05 - ETA: 1s - loss: 5.8636 - categorical_accuracy: 0.04 - ETA: 1s - loss: 5.8532 - categorical_accuracy: 0.04 - ETA: 1s - loss: 5.8658 - categorical_accuracy: 0.05 - ETA: 1s - loss: 5.8533 - categorical_accuracy: 0.05 - ETA: 1s - loss: 5.8283 - categorical_accuracy: 0.05 - ETA: 1s - loss: 5.8229 - categorical_accuracy: 0.05 - ETA: 1s - loss: 5.8335 - categorical_accuracy: 0.05 - ETA: 1s - loss: 5.8400 - categorical_accuracy: 0.05 - ETA: 1s - loss: 5.8367 - categorical_accuracy: 0.05 - ETA: 0s - loss: 5.8338 - categorical_accuracy: 0.05 - ETA: 0s - loss: 5.8217 - categorical_accuracy: 0.05 - ETA: 0s - loss: 5.8229 - categorical_accuracy: 0.05 - ETA: 0s - loss: 5.8053 - categorical_accuracy: 0.05 - ETA: 0s - loss: 5.8215 - categorical_accuracy: 0.05 - ETA: 0s - loss: 5.8054 - categorical_accuracy: 0.05 - ETA: 0s - loss: 5.8000 - categorical_accuracy: 0.05 - ETA: 0s - loss: 5.7908 - categorical_accuracy: 0.05 - ETA: 0s - loss: 5.7922 - categorical_accuracy: 0.05 - ETA: 0s - loss: 5.7726 - categorical_accuracy: 0.05 - ETA: 0s - loss: 5.7742 - categorical_accuracy: 0.05 - ETA: 0s - loss: 5.7562 - categorical_accuracy: 0.05 - ETA: 0s - loss: 5.7602 - categorical_accuracy: 0.05 - ETA: 0s - loss: 5.7629 - categorical_accuracy: 0.05 - 4s 69ms/step - loss: 5.7496 - categorical_accuracy: 0.0527 - val_loss: 8.3834 - val_categorical_accuracy: 0.0374\n",
      "Epoch 28/42\n",
      "64/64 [==============================] - ETA: 4s - loss: 5.1567 - categorical_accuracy: 0.05 - ETA: 4s - loss: 5.5240 - categorical_accuracy: 0.04 - ETA: 4s - loss: 5.8018 - categorical_accuracy: 0.04 - ETA: 4s - loss: 5.8568 - categorical_accuracy: 0.05 - ETA: 4s - loss: 5.8464 - categorical_accuracy: 0.07 - ETA: 4s - loss: 5.5929 - categorical_accuracy: 0.06 - ETA: 3s - loss: 5.6409 - categorical_accuracy: 0.06 - ETA: 3s - loss: 5.6886 - categorical_accuracy: 0.05 - ETA: 3s - loss: 5.6558 - categorical_accuracy: 0.05 - ETA: 3s - loss: 5.6627 - categorical_accuracy: 0.05 - ETA: 3s - loss: 5.6306 - categorical_accuracy: 0.05 - ETA: 3s - loss: 5.6057 - categorical_accuracy: 0.05 - ETA: 3s - loss: 5.5936 - categorical_accuracy: 0.05 - ETA: 3s - loss: 5.6099 - categorical_accuracy: 0.05 - ETA: 3s - loss: 5.6436 - categorical_accuracy: 0.05 - ETA: 3s - loss: 5.6506 - categorical_accuracy: 0.06 - ETA: 3s - loss: 5.7576 - categorical_accuracy: 0.06 - ETA: 3s - loss: 5.7336 - categorical_accuracy: 0.07 - ETA: 3s - loss: 5.7341 - categorical_accuracy: 0.06 - ETA: 3s - loss: 5.7543 - categorical_accuracy: 0.06 - ETA: 2s - loss: 5.7153 - categorical_accuracy: 0.07 - ETA: 2s - loss: 5.7258 - categorical_accuracy: 0.07 - ETA: 2s - loss: 5.7468 - categorical_accuracy: 0.07 - ETA: 2s - loss: 5.7726 - categorical_accuracy: 0.07 - ETA: 2s - loss: 5.7957 - categorical_accuracy: 0.07 - ETA: 2s - loss: 5.7428 - categorical_accuracy: 0.07 - ETA: 2s - loss: 5.7508 - categorical_accuracy: 0.07 - ETA: 2s - loss: 5.7724 - categorical_accuracy: 0.07 - ETA: 2s - loss: 5.7674 - categorical_accuracy: 0.07 - ETA: 2s - loss: 5.7949 - categorical_accuracy: 0.07 - ETA: 2s - loss: 5.7863 - categorical_accuracy: 0.07 - ETA: 2s - loss: 5.7756 - categorical_accuracy: 0.07 - ETA: 2s - loss: 5.7906 - categorical_accuracy: 0.07 - ETA: 2s - loss: 5.7974 - categorical_accuracy: 0.07 - ETA: 1s - loss: 5.8047 - categorical_accuracy: 0.07 - ETA: 1s - loss: 5.7782 - categorical_accuracy: 0.07 - ETA: 1s - loss: 5.7789 - categorical_accuracy: 0.08 - ETA: 1s - loss: 5.7794 - categorical_accuracy: 0.07 - ETA: 1s - loss: 5.7852 - categorical_accuracy: 0.08 - ETA: 1s - loss: 5.7639 - categorical_accuracy: 0.08 - ETA: 1s - loss: 5.7699 - categorical_accuracy: 0.08 - ETA: 1s - loss: 5.7574 - categorical_accuracy: 0.08 - ETA: 1s - loss: 5.7742 - categorical_accuracy: 0.08 - ETA: 1s - loss: 5.7603 - categorical_accuracy: 0.08 - ETA: 1s - loss: 5.7577 - categorical_accuracy: 0.08 - ETA: 1s - loss: 5.7511 - categorical_accuracy: 0.08 - ETA: 1s - loss: 5.7481 - categorical_accuracy: 0.08 - ETA: 1s - loss: 5.7708 - categorical_accuracy: 0.08 - ETA: 1s - loss: 5.7782 - categorical_accuracy: 0.08 - ETA: 0s - loss: 5.7673 - categorical_accuracy: 0.08 - ETA: 0s - loss: 5.7531 - categorical_accuracy: 0.08 - ETA: 0s - loss: 5.7415 - categorical_accuracy: 0.08 - ETA: 0s - loss: 5.7643 - categorical_accuracy: 0.08 - ETA: 0s - loss: 5.7893 - categorical_accuracy: 0.08 - ETA: 0s - loss: 5.7974 - categorical_accuracy: 0.08 - ETA: 0s - loss: 5.7899 - categorical_accuracy: 0.08 - ETA: 0s - loss: 5.7865 - categorical_accuracy: 0.08 - ETA: 0s - loss: 5.8068 - categorical_accuracy: 0.08 - ETA: 0s - loss: 5.7889 - categorical_accuracy: 0.08 - ETA: 0s - loss: 5.8176 - categorical_accuracy: 0.08 - ETA: 0s - loss: 5.8095 - categorical_accuracy: 0.08 - ETA: 0s - loss: 5.7967 - categorical_accuracy: 0.08 - ETA: 0s - loss: 5.7871 - categorical_accuracy: 0.08 - 4s 70ms/step - loss: 5.7664 - categorical_accuracy: 0.0874 - val_loss: 8.2376 - val_categorical_accuracy: 0.0467\n",
      "Epoch 29/42\n"
     ]
    },
    {
     "name": "stdout",
     "output_type": "stream",
     "text": [
      "64/64 [==============================] - ETA: 4s - loss: 5.1058 - categorical_accuracy: 0.11 - ETA: 4s - loss: 5.5882 - categorical_accuracy: 0.09 - ETA: 4s - loss: 5.3970 - categorical_accuracy: 0.11 - ETA: 3s - loss: 5.3812 - categorical_accuracy: 0.09 - ETA: 3s - loss: 5.2992 - categorical_accuracy: 0.08 - ETA: 3s - loss: 5.1478 - categorical_accuracy: 0.09 - ETA: 3s - loss: 5.3951 - categorical_accuracy: 0.08 - ETA: 3s - loss: 5.3656 - categorical_accuracy: 0.09 - ETA: 3s - loss: 5.3948 - categorical_accuracy: 0.09 - ETA: 3s - loss: 5.3624 - categorical_accuracy: 0.09 - ETA: 3s - loss: 5.3615 - categorical_accuracy: 0.09 - ETA: 3s - loss: 5.3622 - categorical_accuracy: 0.09 - ETA: 3s - loss: 5.4106 - categorical_accuracy: 0.08 - ETA: 3s - loss: 5.4499 - categorical_accuracy: 0.09 - ETA: 3s - loss: 5.5291 - categorical_accuracy: 0.09 - ETA: 3s - loss: 5.5375 - categorical_accuracy: 0.09 - ETA: 3s - loss: 5.6332 - categorical_accuracy: 0.09 - ETA: 3s - loss: 5.5675 - categorical_accuracy: 0.10 - ETA: 3s - loss: 5.5479 - categorical_accuracy: 0.10 - ETA: 3s - loss: 5.5231 - categorical_accuracy: 0.10 - ETA: 2s - loss: 5.4742 - categorical_accuracy: 0.11 - ETA: 2s - loss: 5.5051 - categorical_accuracy: 0.11 - ETA: 2s - loss: 5.5436 - categorical_accuracy: 0.11 - ETA: 2s - loss: 5.5307 - categorical_accuracy: 0.11 - ETA: 2s - loss: 5.5115 - categorical_accuracy: 0.11 - ETA: 2s - loss: 5.5112 - categorical_accuracy: 0.11 - ETA: 2s - loss: 5.5182 - categorical_accuracy: 0.11 - ETA: 2s - loss: 5.5067 - categorical_accuracy: 0.11 - ETA: 2s - loss: 5.5143 - categorical_accuracy: 0.12 - ETA: 2s - loss: 5.5296 - categorical_accuracy: 0.12 - ETA: 2s - loss: 5.5382 - categorical_accuracy: 0.12 - ETA: 2s - loss: 5.5274 - categorical_accuracy: 0.12 - ETA: 2s - loss: 5.5307 - categorical_accuracy: 0.12 - ETA: 2s - loss: 5.5560 - categorical_accuracy: 0.12 - ETA: 2s - loss: 5.5488 - categorical_accuracy: 0.12 - ETA: 2s - loss: 5.5535 - categorical_accuracy: 0.12 - ETA: 1s - loss: 5.5413 - categorical_accuracy: 0.12 - ETA: 1s - loss: 5.5510 - categorical_accuracy: 0.12 - ETA: 1s - loss: 5.5220 - categorical_accuracy: 0.12 - ETA: 1s - loss: 5.5240 - categorical_accuracy: 0.12 - ETA: 1s - loss: 5.5088 - categorical_accuracy: 0.12 - ETA: 1s - loss: 5.5086 - categorical_accuracy: 0.12 - ETA: 1s - loss: 5.5199 - categorical_accuracy: 0.12 - ETA: 1s - loss: 5.5095 - categorical_accuracy: 0.12 - ETA: 1s - loss: 5.5205 - categorical_accuracy: 0.12 - ETA: 1s - loss: 5.5374 - categorical_accuracy: 0.12 - ETA: 1s - loss: 5.5687 - categorical_accuracy: 0.12 - ETA: 1s - loss: 5.5729 - categorical_accuracy: 0.12 - ETA: 1s - loss: 5.5833 - categorical_accuracy: 0.12 - ETA: 0s - loss: 5.5609 - categorical_accuracy: 0.12 - ETA: 0s - loss: 5.5745 - categorical_accuracy: 0.12 - ETA: 0s - loss: 5.5817 - categorical_accuracy: 0.12 - ETA: 0s - loss: 5.5900 - categorical_accuracy: 0.12 - ETA: 0s - loss: 5.5881 - categorical_accuracy: 0.12 - ETA: 0s - loss: 5.5974 - categorical_accuracy: 0.12 - ETA: 0s - loss: 5.5839 - categorical_accuracy: 0.12 - ETA: 0s - loss: 5.5911 - categorical_accuracy: 0.13 - ETA: 0s - loss: 5.5944 - categorical_accuracy: 0.13 - ETA: 0s - loss: 5.5959 - categorical_accuracy: 0.13 - ETA: 0s - loss: 5.5942 - categorical_accuracy: 0.13 - ETA: 0s - loss: 5.5896 - categorical_accuracy: 0.12 - ETA: 0s - loss: 5.6061 - categorical_accuracy: 0.12 - 5s 77ms/step - loss: 5.5918 - categorical_accuracy: 0.1293 - val_loss: 8.0384 - val_categorical_accuracy: 0.0748\n",
      "Epoch 30/42\n",
      "64/64 [==============================] - ETA: 5s - loss: 5.1504 - categorical_accuracy: 0.11 - ETA: 5s - loss: 5.8119 - categorical_accuracy: 0.13 - ETA: 5s - loss: 5.4967 - categorical_accuracy: 0.16 - ETA: 5s - loss: 5.7339 - categorical_accuracy: 0.15 - ETA: 5s - loss: 5.6922 - categorical_accuracy: 0.14 - ETA: 4s - loss: 5.5335 - categorical_accuracy: 0.16 - ETA: 4s - loss: 5.7281 - categorical_accuracy: 0.15 - ETA: 4s - loss: 5.7937 - categorical_accuracy: 0.14 - ETA: 4s - loss: 5.7049 - categorical_accuracy: 0.14 - ETA: 4s - loss: 5.6109 - categorical_accuracy: 0.14 - ETA: 3s - loss: 5.5527 - categorical_accuracy: 0.15 - ETA: 4s - loss: 5.5465 - categorical_accuracy: 0.15 - ETA: 4s - loss: 5.5477 - categorical_accuracy: 0.15 - ETA: 4s - loss: 5.5506 - categorical_accuracy: 0.14 - ETA: 4s - loss: 5.5235 - categorical_accuracy: 0.14 - ETA: 4s - loss: 5.5120 - categorical_accuracy: 0.15 - ETA: 4s - loss: 5.5488 - categorical_accuracy: 0.15 - ETA: 4s - loss: 5.4695 - categorical_accuracy: 0.15 - ETA: 4s - loss: 5.4779 - categorical_accuracy: 0.15 - ETA: 4s - loss: 5.4658 - categorical_accuracy: 0.15 - ETA: 3s - loss: 5.4778 - categorical_accuracy: 0.15 - ETA: 3s - loss: 5.4834 - categorical_accuracy: 0.15 - ETA: 3s - loss: 5.4768 - categorical_accuracy: 0.15 - ETA: 3s - loss: 5.4797 - categorical_accuracy: 0.15 - ETA: 3s - loss: 5.4439 - categorical_accuracy: 0.15 - ETA: 3s - loss: 5.4217 - categorical_accuracy: 0.16 - ETA: 3s - loss: 5.4400 - categorical_accuracy: 0.16 - ETA: 3s - loss: 5.4966 - categorical_accuracy: 0.16 - ETA: 2s - loss: 5.4842 - categorical_accuracy: 0.15 - ETA: 2s - loss: 5.5053 - categorical_accuracy: 0.15 - ETA: 2s - loss: 5.4927 - categorical_accuracy: 0.16 - ETA: 2s - loss: 5.5003 - categorical_accuracy: 0.15 - ETA: 2s - loss: 5.4781 - categorical_accuracy: 0.16 - ETA: 2s - loss: 5.4634 - categorical_accuracy: 0.15 - ETA: 2s - loss: 5.4606 - categorical_accuracy: 0.15 - ETA: 2s - loss: 5.4999 - categorical_accuracy: 0.15 - ETA: 2s - loss: 5.5051 - categorical_accuracy: 0.15 - ETA: 2s - loss: 5.5013 - categorical_accuracy: 0.15 - ETA: 1s - loss: 5.4865 - categorical_accuracy: 0.15 - ETA: 1s - loss: 5.4894 - categorical_accuracy: 0.15 - ETA: 1s - loss: 5.4848 - categorical_accuracy: 0.15 - ETA: 1s - loss: 5.4770 - categorical_accuracy: 0.15 - ETA: 1s - loss: 5.4712 - categorical_accuracy: 0.15 - ETA: 1s - loss: 5.4820 - categorical_accuracy: 0.15 - ETA: 1s - loss: 5.4710 - categorical_accuracy: 0.15 - ETA: 1s - loss: 5.4840 - categorical_accuracy: 0.15 - ETA: 1s - loss: 5.4820 - categorical_accuracy: 0.14 - ETA: 1s - loss: 5.4882 - categorical_accuracy: 0.15 - ETA: 1s - loss: 5.4988 - categorical_accuracy: 0.14 - ETA: 1s - loss: 5.4907 - categorical_accuracy: 0.14 - ETA: 1s - loss: 5.4910 - categorical_accuracy: 0.14 - ETA: 0s - loss: 5.5016 - categorical_accuracy: 0.14 - ETA: 0s - loss: 5.4949 - categorical_accuracy: 0.14 - ETA: 0s - loss: 5.5034 - categorical_accuracy: 0.14 - ETA: 0s - loss: 5.4962 - categorical_accuracy: 0.14 - ETA: 0s - loss: 5.4924 - categorical_accuracy: 0.14 - ETA: 0s - loss: 5.4927 - categorical_accuracy: 0.14 - ETA: 0s - loss: 5.5050 - categorical_accuracy: 0.14 - ETA: 0s - loss: 5.4903 - categorical_accuracy: 0.14 - ETA: 0s - loss: 5.4929 - categorical_accuracy: 0.14 - ETA: 0s - loss: 5.4997 - categorical_accuracy: 0.14 - ETA: 0s - loss: 5.4857 - categorical_accuracy: 0.14 - ETA: 0s - loss: 5.4967 - categorical_accuracy: 0.14 - 5s 78ms/step - loss: 5.4826 - categorical_accuracy: 0.1490 - val_loss: 8.3715 - val_categorical_accuracy: 0.0748\n",
      "Epoch 31/42\n"
     ]
    },
    {
     "name": "stdout",
     "output_type": "stream",
     "text": [
      "64/64 [==============================] - ETA: 4s - loss: 5.1921 - categorical_accuracy: 0.25 - ETA: 4s - loss: 5.3880 - categorical_accuracy: 0.19 - ETA: 4s - loss: 5.4556 - categorical_accuracy: 0.19 - ETA: 5s - loss: 5.3921 - categorical_accuracy: 0.19 - ETA: 4s - loss: 5.4900 - categorical_accuracy: 0.18 - ETA: 4s - loss: 5.3709 - categorical_accuracy: 0.17 - ETA: 4s - loss: 5.5576 - categorical_accuracy: 0.16 - ETA: 4s - loss: 5.5001 - categorical_accuracy: 0.16 - ETA: 4s - loss: 5.5703 - categorical_accuracy: 0.16 - ETA: 4s - loss: 5.5176 - categorical_accuracy: 0.16 - ETA: 4s - loss: 5.5051 - categorical_accuracy: 0.16 - ETA: 4s - loss: 5.4254 - categorical_accuracy: 0.16 - ETA: 4s - loss: 5.5186 - categorical_accuracy: 0.16 - ETA: 4s - loss: 5.5864 - categorical_accuracy: 0.16 - ETA: 4s - loss: 5.5245 - categorical_accuracy: 0.16 - ETA: 3s - loss: 5.5399 - categorical_accuracy: 0.16 - ETA: 3s - loss: 5.5833 - categorical_accuracy: 0.16 - ETA: 3s - loss: 5.5368 - categorical_accuracy: 0.16 - ETA: 3s - loss: 5.5108 - categorical_accuracy: 0.16 - ETA: 3s - loss: 5.5249 - categorical_accuracy: 0.16 - ETA: 3s - loss: 5.5406 - categorical_accuracy: 0.16 - ETA: 3s - loss: 5.5069 - categorical_accuracy: 0.16 - ETA: 3s - loss: 5.4999 - categorical_accuracy: 0.16 - ETA: 3s - loss: 5.5261 - categorical_accuracy: 0.16 - ETA: 3s - loss: 5.5439 - categorical_accuracy: 0.16 - ETA: 2s - loss: 5.4983 - categorical_accuracy: 0.16 - ETA: 2s - loss: 5.4821 - categorical_accuracy: 0.16 - ETA: 2s - loss: 5.4601 - categorical_accuracy: 0.16 - ETA: 2s - loss: 5.4282 - categorical_accuracy: 0.16 - ETA: 2s - loss: 5.4321 - categorical_accuracy: 0.16 - ETA: 2s - loss: 5.4287 - categorical_accuracy: 0.16 - ETA: 2s - loss: 5.4174 - categorical_accuracy: 0.16 - ETA: 2s - loss: 5.4333 - categorical_accuracy: 0.16 - ETA: 2s - loss: 5.4208 - categorical_accuracy: 0.16 - ETA: 2s - loss: 5.4207 - categorical_accuracy: 0.16 - ETA: 2s - loss: 5.4372 - categorical_accuracy: 0.16 - ETA: 2s - loss: 5.4319 - categorical_accuracy: 0.15 - ETA: 1s - loss: 5.4255 - categorical_accuracy: 0.15 - ETA: 1s - loss: 5.4392 - categorical_accuracy: 0.15 - ETA: 1s - loss: 5.4445 - categorical_accuracy: 0.15 - ETA: 1s - loss: 5.4455 - categorical_accuracy: 0.15 - ETA: 1s - loss: 5.4288 - categorical_accuracy: 0.15 - ETA: 1s - loss: 5.4536 - categorical_accuracy: 0.15 - ETA: 1s - loss: 5.4752 - categorical_accuracy: 0.15 - ETA: 1s - loss: 5.4367 - categorical_accuracy: 0.15 - ETA: 1s - loss: 5.4224 - categorical_accuracy: 0.15 - ETA: 1s - loss: 5.4523 - categorical_accuracy: 0.15 - ETA: 1s - loss: 5.4785 - categorical_accuracy: 0.16 - ETA: 1s - loss: 5.4717 - categorical_accuracy: 0.15 - ETA: 1s - loss: 5.4768 - categorical_accuracy: 0.16 - ETA: 0s - loss: 5.4588 - categorical_accuracy: 0.16 - ETA: 0s - loss: 5.4475 - categorical_accuracy: 0.16 - ETA: 0s - loss: 5.4422 - categorical_accuracy: 0.16 - ETA: 0s - loss: 5.4500 - categorical_accuracy: 0.16 - ETA: 0s - loss: 5.4431 - categorical_accuracy: 0.16 - ETA: 0s - loss: 5.4323 - categorical_accuracy: 0.16 - ETA: 0s - loss: 5.4413 - categorical_accuracy: 0.16 - ETA: 0s - loss: 5.4361 - categorical_accuracy: 0.16 - ETA: 0s - loss: 5.4332 - categorical_accuracy: 0.16 - ETA: 0s - loss: 5.4329 - categorical_accuracy: 0.16 - ETA: 0s - loss: 5.4292 - categorical_accuracy: 0.16 - ETA: 0s - loss: 5.4301 - categorical_accuracy: 0.16 - ETA: 0s - loss: 5.4262 - categorical_accuracy: 0.16 - 5s 72ms/step - loss: 5.4116 - categorical_accuracy: 0.1615 - val_loss: 8.4324 - val_categorical_accuracy: 0.1402\n",
      "Epoch 32/42\n",
      "64/64 [==============================] - ETA: 3s - loss: 5.8458 - categorical_accuracy: 0.18 - ETA: 3s - loss: 5.5506 - categorical_accuracy: 0.18 - ETA: 3s - loss: 5.9080 - categorical_accuracy: 0.17 - ETA: 4s - loss: 5.7498 - categorical_accuracy: 0.18 - ETA: 4s - loss: 5.7035 - categorical_accuracy: 0.18 - ETA: 4s - loss: 5.4541 - categorical_accuracy: 0.17 - ETA: 4s - loss: 5.5537 - categorical_accuracy: 0.16 - ETA: 4s - loss: 5.4918 - categorical_accuracy: 0.17 - ETA: 4s - loss: 5.3772 - categorical_accuracy: 0.17 - ETA: 4s - loss: 5.3042 - categorical_accuracy: 0.18 - ETA: 3s - loss: 5.2460 - categorical_accuracy: 0.18 - ETA: 3s - loss: 5.2019 - categorical_accuracy: 0.18 - ETA: 3s - loss: 5.3350 - categorical_accuracy: 0.17 - ETA: 3s - loss: 5.3898 - categorical_accuracy: 0.17 - ETA: 3s - loss: 5.3809 - categorical_accuracy: 0.17 - ETA: 3s - loss: 5.3866 - categorical_accuracy: 0.17 - ETA: 3s - loss: 5.3908 - categorical_accuracy: 0.17 - ETA: 3s - loss: 5.3553 - categorical_accuracy: 0.17 - ETA: 3s - loss: 5.3332 - categorical_accuracy: 0.17 - ETA: 3s - loss: 5.3399 - categorical_accuracy: 0.17 - ETA: 3s - loss: 5.2790 - categorical_accuracy: 0.17 - ETA: 3s - loss: 5.2770 - categorical_accuracy: 0.17 - ETA: 2s - loss: 5.2720 - categorical_accuracy: 0.17 - ETA: 2s - loss: 5.3206 - categorical_accuracy: 0.17 - ETA: 2s - loss: 5.3250 - categorical_accuracy: 0.17 - ETA: 2s - loss: 5.2818 - categorical_accuracy: 0.18 - ETA: 2s - loss: 5.2955 - categorical_accuracy: 0.17 - ETA: 2s - loss: 5.3266 - categorical_accuracy: 0.18 - ETA: 2s - loss: 5.3206 - categorical_accuracy: 0.18 - ETA: 2s - loss: 5.3420 - categorical_accuracy: 0.18 - ETA: 2s - loss: 5.3538 - categorical_accuracy: 0.18 - ETA: 2s - loss: 5.3497 - categorical_accuracy: 0.18 - ETA: 2s - loss: 5.3373 - categorical_accuracy: 0.18 - ETA: 2s - loss: 5.3190 - categorical_accuracy: 0.18 - ETA: 2s - loss: 5.3361 - categorical_accuracy: 0.18 - ETA: 1s - loss: 5.3423 - categorical_accuracy: 0.18 - ETA: 1s - loss: 5.3243 - categorical_accuracy: 0.18 - ETA: 1s - loss: 5.3152 - categorical_accuracy: 0.18 - ETA: 1s - loss: 5.3117 - categorical_accuracy: 0.18 - ETA: 1s - loss: 5.2891 - categorical_accuracy: 0.18 - ETA: 1s - loss: 5.2971 - categorical_accuracy: 0.18 - ETA: 1s - loss: 5.2850 - categorical_accuracy: 0.18 - ETA: 1s - loss: 5.2979 - categorical_accuracy: 0.18 - ETA: 1s - loss: 5.2867 - categorical_accuracy: 0.18 - ETA: 1s - loss: 5.2855 - categorical_accuracy: 0.18 - ETA: 1s - loss: 5.2990 - categorical_accuracy: 0.18 - ETA: 1s - loss: 5.3222 - categorical_accuracy: 0.18 - ETA: 1s - loss: 5.3256 - categorical_accuracy: 0.18 - ETA: 1s - loss: 5.3235 - categorical_accuracy: 0.18 - ETA: 0s - loss: 5.3148 - categorical_accuracy: 0.18 - ETA: 0s - loss: 5.3203 - categorical_accuracy: 0.18 - ETA: 0s - loss: 5.3181 - categorical_accuracy: 0.18 - ETA: 0s - loss: 5.3237 - categorical_accuracy: 0.18 - ETA: 0s - loss: 5.3374 - categorical_accuracy: 0.18 - ETA: 0s - loss: 5.3418 - categorical_accuracy: 0.18 - ETA: 0s - loss: 5.3397 - categorical_accuracy: 0.18 - ETA: 0s - loss: 5.3333 - categorical_accuracy: 0.18 - ETA: 0s - loss: 5.3280 - categorical_accuracy: 0.18 - ETA: 0s - loss: 5.3341 - categorical_accuracy: 0.18 - ETA: 0s - loss: 5.3390 - categorical_accuracy: 0.18 - ETA: 0s - loss: 5.3393 - categorical_accuracy: 0.18 - ETA: 0s - loss: 5.3278 - categorical_accuracy: 0.18 - ETA: 0s - loss: 5.3387 - categorical_accuracy: 0.18 - 5s 73ms/step - loss: 5.3436 - categorical_accuracy: 0.1814 - val_loss: 7.6997 - val_categorical_accuracy: 0.0935\n",
      "Epoch 33/42\n"
     ]
    },
    {
     "name": "stdout",
     "output_type": "stream",
     "text": [
      "64/64 [==============================] - ETA: 4s - loss: 4.1206 - categorical_accuracy: 0.22 - ETA: 4s - loss: 4.8324 - categorical_accuracy: 0.14 - ETA: 4s - loss: 5.0815 - categorical_accuracy: 0.17 - ETA: 4s - loss: 5.0283 - categorical_accuracy: 0.18 - ETA: 4s - loss: 5.1924 - categorical_accuracy: 0.17 - ETA: 4s - loss: 5.0742 - categorical_accuracy: 0.17 - ETA: 4s - loss: 5.1460 - categorical_accuracy: 0.16 - ETA: 4s - loss: 5.1010 - categorical_accuracy: 0.17 - ETA: 4s - loss: 5.2081 - categorical_accuracy: 0.16 - ETA: 4s - loss: 5.1998 - categorical_accuracy: 0.16 - ETA: 3s - loss: 5.2347 - categorical_accuracy: 0.17 - ETA: 3s - loss: 5.2194 - categorical_accuracy: 0.17 - ETA: 3s - loss: 5.2817 - categorical_accuracy: 0.17 - ETA: 3s - loss: 5.3044 - categorical_accuracy: 0.18 - ETA: 3s - loss: 5.3111 - categorical_accuracy: 0.17 - ETA: 3s - loss: 5.3429 - categorical_accuracy: 0.17 - ETA: 3s - loss: 5.4009 - categorical_accuracy: 0.18 - ETA: 3s - loss: 5.3841 - categorical_accuracy: 0.18 - ETA: 3s - loss: 5.3762 - categorical_accuracy: 0.18 - ETA: 3s - loss: 5.3565 - categorical_accuracy: 0.18 - ETA: 3s - loss: 5.3195 - categorical_accuracy: 0.18 - ETA: 3s - loss: 5.3130 - categorical_accuracy: 0.17 - ETA: 3s - loss: 5.3289 - categorical_accuracy: 0.17 - ETA: 3s - loss: 5.3419 - categorical_accuracy: 0.17 - ETA: 2s - loss: 5.3488 - categorical_accuracy: 0.18 - ETA: 2s - loss: 5.3057 - categorical_accuracy: 0.18 - ETA: 2s - loss: 5.3057 - categorical_accuracy: 0.18 - ETA: 2s - loss: 5.3114 - categorical_accuracy: 0.18 - ETA: 2s - loss: 5.2912 - categorical_accuracy: 0.18 - ETA: 2s - loss: 5.2904 - categorical_accuracy: 0.18 - ETA: 2s - loss: 5.2908 - categorical_accuracy: 0.18 - ETA: 2s - loss: 5.2790 - categorical_accuracy: 0.18 - ETA: 2s - loss: 5.2736 - categorical_accuracy: 0.18 - ETA: 2s - loss: 5.2704 - categorical_accuracy: 0.18 - ETA: 2s - loss: 5.2710 - categorical_accuracy: 0.18 - ETA: 2s - loss: 5.2765 - categorical_accuracy: 0.18 - ETA: 2s - loss: 5.2591 - categorical_accuracy: 0.18 - ETA: 2s - loss: 5.2518 - categorical_accuracy: 0.18 - ETA: 1s - loss: 5.2631 - categorical_accuracy: 0.18 - ETA: 1s - loss: 5.2523 - categorical_accuracy: 0.18 - ETA: 1s - loss: 5.2477 - categorical_accuracy: 0.18 - ETA: 1s - loss: 5.2349 - categorical_accuracy: 0.18 - ETA: 1s - loss: 5.2327 - categorical_accuracy: 0.18 - ETA: 1s - loss: 5.2316 - categorical_accuracy: 0.18 - ETA: 1s - loss: 5.2177 - categorical_accuracy: 0.18 - ETA: 1s - loss: 5.2271 - categorical_accuracy: 0.18 - ETA: 1s - loss: 5.2192 - categorical_accuracy: 0.18 - ETA: 1s - loss: 5.2134 - categorical_accuracy: 0.18 - ETA: 1s - loss: 5.2140 - categorical_accuracy: 0.18 - ETA: 1s - loss: 5.2259 - categorical_accuracy: 0.18 - ETA: 1s - loss: 5.2221 - categorical_accuracy: 0.17 - ETA: 0s - loss: 5.2212 - categorical_accuracy: 0.17 - ETA: 0s - loss: 5.2103 - categorical_accuracy: 0.18 - ETA: 0s - loss: 5.2265 - categorical_accuracy: 0.18 - ETA: 0s - loss: 5.2285 - categorical_accuracy: 0.18 - ETA: 0s - loss: 5.2309 - categorical_accuracy: 0.18 - ETA: 0s - loss: 5.2262 - categorical_accuracy: 0.18 - ETA: 0s - loss: 5.2349 - categorical_accuracy: 0.18 - ETA: 0s - loss: 5.2340 - categorical_accuracy: 0.18 - ETA: 0s - loss: 5.2310 - categorical_accuracy: 0.18 - ETA: 0s - loss: 5.2425 - categorical_accuracy: 0.18 - ETA: 0s - loss: 5.2439 - categorical_accuracy: 0.18 - ETA: 0s - loss: 5.2417 - categorical_accuracy: 0.18 - 5s 78ms/step - loss: 5.2402 - categorical_accuracy: 0.1834 - val_loss: 8.0679 - val_categorical_accuracy: 0.1402\n",
      "Epoch 34/42\n",
      "64/64 [==============================] - ETA: 4s - loss: 5.3237 - categorical_accuracy: 0.20 - ETA: 4s - loss: 4.7574 - categorical_accuracy: 0.20 - ETA: 4s - loss: 4.7090 - categorical_accuracy: 0.17 - ETA: 4s - loss: 4.7948 - categorical_accuracy: 0.18 - ETA: 4s - loss: 4.8575 - categorical_accuracy: 0.18 - ETA: 4s - loss: 4.7445 - categorical_accuracy: 0.18 - ETA: 4s - loss: 4.8203 - categorical_accuracy: 0.19 - ETA: 4s - loss: 4.7785 - categorical_accuracy: 0.20 - ETA: 4s - loss: 4.7856 - categorical_accuracy: 0.21 - ETA: 4s - loss: 4.9069 - categorical_accuracy: 0.20 - ETA: 4s - loss: 4.8261 - categorical_accuracy: 0.22 - ETA: 4s - loss: 4.7840 - categorical_accuracy: 0.21 - ETA: 4s - loss: 4.7994 - categorical_accuracy: 0.21 - ETA: 4s - loss: 4.8496 - categorical_accuracy: 0.20 - ETA: 3s - loss: 4.8602 - categorical_accuracy: 0.20 - ETA: 3s - loss: 4.9685 - categorical_accuracy: 0.20 - ETA: 3s - loss: 5.0082 - categorical_accuracy: 0.20 - ETA: 3s - loss: 5.0283 - categorical_accuracy: 0.20 - ETA: 3s - loss: 5.0373 - categorical_accuracy: 0.20 - ETA: 3s - loss: 5.0311 - categorical_accuracy: 0.20 - ETA: 3s - loss: 4.9851 - categorical_accuracy: 0.20 - ETA: 3s - loss: 5.0000 - categorical_accuracy: 0.20 - ETA: 3s - loss: 5.0417 - categorical_accuracy: 0.20 - ETA: 3s - loss: 5.1193 - categorical_accuracy: 0.20 - ETA: 3s - loss: 5.0992 - categorical_accuracy: 0.20 - ETA: 3s - loss: 5.0715 - categorical_accuracy: 0.20 - ETA: 3s - loss: 5.0781 - categorical_accuracy: 0.20 - ETA: 2s - loss: 5.0926 - categorical_accuracy: 0.20 - ETA: 2s - loss: 5.0955 - categorical_accuracy: 0.20 - ETA: 2s - loss: 5.1259 - categorical_accuracy: 0.20 - ETA: 2s - loss: 5.1333 - categorical_accuracy: 0.20 - ETA: 2s - loss: 5.1380 - categorical_accuracy: 0.20 - ETA: 2s - loss: 5.1045 - categorical_accuracy: 0.20 - ETA: 2s - loss: 5.0934 - categorical_accuracy: 0.20 - ETA: 2s - loss: 5.1203 - categorical_accuracy: 0.20 - ETA: 2s - loss: 5.0825 - categorical_accuracy: 0.20 - ETA: 2s - loss: 5.0860 - categorical_accuracy: 0.20 - ETA: 2s - loss: 5.0606 - categorical_accuracy: 0.20 - ETA: 2s - loss: 5.0871 - categorical_accuracy: 0.20 - ETA: 2s - loss: 5.0624 - categorical_accuracy: 0.21 - ETA: 1s - loss: 5.0645 - categorical_accuracy: 0.21 - ETA: 1s - loss: 5.0483 - categorical_accuracy: 0.21 - ETA: 1s - loss: 5.0566 - categorical_accuracy: 0.21 - ETA: 1s - loss: 5.0476 - categorical_accuracy: 0.21 - ETA: 1s - loss: 5.0467 - categorical_accuracy: 0.21 - ETA: 1s - loss: 5.0512 - categorical_accuracy: 0.21 - ETA: 1s - loss: 5.0558 - categorical_accuracy: 0.21 - ETA: 1s - loss: 5.0558 - categorical_accuracy: 0.21 - ETA: 1s - loss: 5.0644 - categorical_accuracy: 0.21 - ETA: 1s - loss: 5.0558 - categorical_accuracy: 0.21 - ETA: 1s - loss: 5.0508 - categorical_accuracy: 0.21 - ETA: 1s - loss: 5.0554 - categorical_accuracy: 0.21 - ETA: 0s - loss: 5.0534 - categorical_accuracy: 0.21 - ETA: 0s - loss: 5.0663 - categorical_accuracy: 0.21 - ETA: 0s - loss: 5.0668 - categorical_accuracy: 0.21 - ETA: 0s - loss: 5.0519 - categorical_accuracy: 0.21 - ETA: 0s - loss: 5.0413 - categorical_accuracy: 0.21 - ETA: 0s - loss: 5.0512 - categorical_accuracy: 0.21 - ETA: 0s - loss: 5.0509 - categorical_accuracy: 0.21 - ETA: 0s - loss: 5.0621 - categorical_accuracy: 0.21 - ETA: 0s - loss: 5.0482 - categorical_accuracy: 0.21 - ETA: 0s - loss: 5.0415 - categorical_accuracy: 0.22 - ETA: 0s - loss: 5.0451 - categorical_accuracy: 0.21 - 5s 85ms/step - loss: 5.0397 - categorical_accuracy: 0.2179 - val_loss: 8.5575 - val_categorical_accuracy: 0.0841\n",
      "Epoch 35/42\n"
     ]
    },
    {
     "name": "stdout",
     "output_type": "stream",
     "text": [
      "64/64 [==============================] - ETA: 4s - loss: 4.4130 - categorical_accuracy: 0.29 - ETA: 4s - loss: 4.8780 - categorical_accuracy: 0.23 - ETA: 4s - loss: 5.0789 - categorical_accuracy: 0.23 - ETA: 4s - loss: 4.9860 - categorical_accuracy: 0.23 - ETA: 4s - loss: 4.9767 - categorical_accuracy: 0.21 - ETA: 4s - loss: 4.9245 - categorical_accuracy: 0.20 - ETA: 4s - loss: 5.1507 - categorical_accuracy: 0.19 - ETA: 4s - loss: 5.1206 - categorical_accuracy: 0.19 - ETA: 4s - loss: 5.1010 - categorical_accuracy: 0.20 - ETA: 4s - loss: 5.0209 - categorical_accuracy: 0.20 - ETA: 3s - loss: 4.9395 - categorical_accuracy: 0.21 - ETA: 3s - loss: 4.9191 - categorical_accuracy: 0.20 - ETA: 3s - loss: 4.9198 - categorical_accuracy: 0.20 - ETA: 3s - loss: 4.9953 - categorical_accuracy: 0.20 - ETA: 3s - loss: 5.0481 - categorical_accuracy: 0.20 - ETA: 3s - loss: 5.0695 - categorical_accuracy: 0.20 - ETA: 3s - loss: 5.1598 - categorical_accuracy: 0.20 - ETA: 3s - loss: 5.1194 - categorical_accuracy: 0.21 - ETA: 3s - loss: 5.1549 - categorical_accuracy: 0.21 - ETA: 3s - loss: 5.1633 - categorical_accuracy: 0.21 - ETA: 3s - loss: 5.1420 - categorical_accuracy: 0.21 - ETA: 3s - loss: 5.1323 - categorical_accuracy: 0.21 - ETA: 2s - loss: 5.1382 - categorical_accuracy: 0.21 - ETA: 2s - loss: 5.1903 - categorical_accuracy: 0.21 - ETA: 2s - loss: 5.1800 - categorical_accuracy: 0.21 - ETA: 2s - loss: 5.1658 - categorical_accuracy: 0.21 - ETA: 2s - loss: 5.1697 - categorical_accuracy: 0.22 - ETA: 2s - loss: 5.1638 - categorical_accuracy: 0.22 - ETA: 2s - loss: 5.1327 - categorical_accuracy: 0.22 - ETA: 2s - loss: 5.1604 - categorical_accuracy: 0.22 - ETA: 2s - loss: 5.1715 - categorical_accuracy: 0.21 - ETA: 2s - loss: 5.1858 - categorical_accuracy: 0.21 - ETA: 2s - loss: 5.1949 - categorical_accuracy: 0.21 - ETA: 2s - loss: 5.2011 - categorical_accuracy: 0.21 - ETA: 2s - loss: 5.2035 - categorical_accuracy: 0.21 - ETA: 2s - loss: 5.1927 - categorical_accuracy: 0.21 - ETA: 1s - loss: 5.1856 - categorical_accuracy: 0.21 - ETA: 1s - loss: 5.1803 - categorical_accuracy: 0.21 - ETA: 1s - loss: 5.1928 - categorical_accuracy: 0.21 - ETA: 1s - loss: 5.1898 - categorical_accuracy: 0.21 - ETA: 1s - loss: 5.1946 - categorical_accuracy: 0.21 - ETA: 1s - loss: 5.1944 - categorical_accuracy: 0.21 - ETA: 1s - loss: 5.2066 - categorical_accuracy: 0.20 - ETA: 1s - loss: 5.1985 - categorical_accuracy: 0.20 - ETA: 1s - loss: 5.1928 - categorical_accuracy: 0.21 - ETA: 1s - loss: 5.1886 - categorical_accuracy: 0.21 - ETA: 1s - loss: 5.2015 - categorical_accuracy: 0.21 - ETA: 1s - loss: 5.2078 - categorical_accuracy: 0.21 - ETA: 1s - loss: 5.2007 - categorical_accuracy: 0.21 - ETA: 1s - loss: 5.1888 - categorical_accuracy: 0.21 - ETA: 0s - loss: 5.1757 - categorical_accuracy: 0.21 - ETA: 0s - loss: 5.1938 - categorical_accuracy: 0.21 - ETA: 0s - loss: 5.2018 - categorical_accuracy: 0.21 - ETA: 0s - loss: 5.2094 - categorical_accuracy: 0.21 - ETA: 0s - loss: 5.2072 - categorical_accuracy: 0.21 - ETA: 0s - loss: 5.1981 - categorical_accuracy: 0.21 - ETA: 0s - loss: 5.2028 - categorical_accuracy: 0.21 - ETA: 0s - loss: 5.2032 - categorical_accuracy: 0.21 - ETA: 0s - loss: 5.1969 - categorical_accuracy: 0.21 - ETA: 0s - loss: 5.1863 - categorical_accuracy: 0.21 - ETA: 0s - loss: 5.1917 - categorical_accuracy: 0.21 - ETA: 0s - loss: 5.1894 - categorical_accuracy: 0.21 - ETA: 0s - loss: 5.1748 - categorical_accuracy: 0.21 - 5s 84ms/step - loss: 5.1598 - categorical_accuracy: 0.2173 - val_loss: 8.0267 - val_categorical_accuracy: 0.0841\n",
      "Epoch 36/42\n",
      "64/64 [==============================] - ETA: 4s - loss: 5.3364 - categorical_accuracy: 0.14 - ETA: 4s - loss: 4.8701 - categorical_accuracy: 0.16 - ETA: 4s - loss: 5.0138 - categorical_accuracy: 0.17 - ETA: 4s - loss: 4.9019 - categorical_accuracy: 0.17 - ETA: 4s - loss: 4.9372 - categorical_accuracy: 0.20 - ETA: 4s - loss: 4.8530 - categorical_accuracy: 0.22 - ETA: 4s - loss: 4.9372 - categorical_accuracy: 0.24 - ETA: 4s - loss: 4.9704 - categorical_accuracy: 0.23 - ETA: 4s - loss: 4.9482 - categorical_accuracy: 0.23 - ETA: 4s - loss: 4.8529 - categorical_accuracy: 0.24 - ETA: 3s - loss: 4.7971 - categorical_accuracy: 0.23 - ETA: 3s - loss: 4.8137 - categorical_accuracy: 0.24 - ETA: 3s - loss: 4.8407 - categorical_accuracy: 0.24 - ETA: 3s - loss: 4.9230 - categorical_accuracy: 0.25 - ETA: 3s - loss: 4.9343 - categorical_accuracy: 0.24 - ETA: 3s - loss: 4.9454 - categorical_accuracy: 0.24 - ETA: 4s - loss: 4.9433 - categorical_accuracy: 0.23 - ETA: 4s - loss: 4.8985 - categorical_accuracy: 0.23 - ETA: 4s - loss: 4.8793 - categorical_accuracy: 0.23 - ETA: 4s - loss: 4.8647 - categorical_accuracy: 0.23 - ETA: 4s - loss: 4.8636 - categorical_accuracy: 0.23 - ETA: 3s - loss: 4.8782 - categorical_accuracy: 0.23 - ETA: 3s - loss: 4.9302 - categorical_accuracy: 0.23 - ETA: 3s - loss: 4.9512 - categorical_accuracy: 0.23 - ETA: 3s - loss: 4.9798 - categorical_accuracy: 0.23 - ETA: 3s - loss: 4.9606 - categorical_accuracy: 0.23 - ETA: 3s - loss: 4.9647 - categorical_accuracy: 0.23 - ETA: 3s - loss: 5.0018 - categorical_accuracy: 0.23 - ETA: 3s - loss: 5.0245 - categorical_accuracy: 0.23 - ETA: 3s - loss: 5.0469 - categorical_accuracy: 0.23 - ETA: 3s - loss: 5.0593 - categorical_accuracy: 0.23 - ETA: 3s - loss: 5.0497 - categorical_accuracy: 0.23 - ETA: 3s - loss: 5.0582 - categorical_accuracy: 0.23 - ETA: 3s - loss: 5.0551 - categorical_accuracy: 0.23 - ETA: 2s - loss: 5.0565 - categorical_accuracy: 0.23 - ETA: 2s - loss: 5.0558 - categorical_accuracy: 0.23 - ETA: 2s - loss: 5.0662 - categorical_accuracy: 0.22 - ETA: 2s - loss: 5.0626 - categorical_accuracy: 0.23 - ETA: 2s - loss: 5.0899 - categorical_accuracy: 0.23 - ETA: 2s - loss: 5.0918 - categorical_accuracy: 0.23 - ETA: 2s - loss: 5.0899 - categorical_accuracy: 0.23 - ETA: 2s - loss: 5.0750 - categorical_accuracy: 0.22 - ETA: 2s - loss: 5.0863 - categorical_accuracy: 0.22 - ETA: 1s - loss: 5.0968 - categorical_accuracy: 0.22 - ETA: 1s - loss: 5.0944 - categorical_accuracy: 0.22 - ETA: 1s - loss: 5.0951 - categorical_accuracy: 0.22 - ETA: 1s - loss: 5.0921 - categorical_accuracy: 0.22 - ETA: 1s - loss: 5.0812 - categorical_accuracy: 0.22 - ETA: 1s - loss: 5.0762 - categorical_accuracy: 0.22 - ETA: 1s - loss: 5.0758 - categorical_accuracy: 0.22 - ETA: 1s - loss: 5.0672 - categorical_accuracy: 0.22 - ETA: 1s - loss: 5.0533 - categorical_accuracy: 0.22 - ETA: 1s - loss: 5.0611 - categorical_accuracy: 0.22 - ETA: 0s - loss: 5.0711 - categorical_accuracy: 0.22 - ETA: 0s - loss: 5.0751 - categorical_accuracy: 0.22 - ETA: 0s - loss: 5.0772 - categorical_accuracy: 0.22 - ETA: 0s - loss: 5.0664 - categorical_accuracy: 0.22 - ETA: 0s - loss: 5.0725 - categorical_accuracy: 0.22 - ETA: 0s - loss: 5.0570 - categorical_accuracy: 0.22 - ETA: 0s - loss: 5.0575 - categorical_accuracy: 0.23 - ETA: 0s - loss: 5.0603 - categorical_accuracy: 0.23 - ETA: 0s - loss: 5.0614 - categorical_accuracy: 0.23 - ETA: 0s - loss: 5.0559 - categorical_accuracy: 0.23 - 6s 91ms/step - loss: 5.0503 - categorical_accuracy: 0.2323 - val_loss: 8.6790 - val_categorical_accuracy: 0.1028\n",
      "Epoch 37/42\n"
     ]
    },
    {
     "name": "stdout",
     "output_type": "stream",
     "text": [
      "64/64 [==============================] - ETA: 4s - loss: 4.6204 - categorical_accuracy: 0.20 - ETA: 4s - loss: 4.8838 - categorical_accuracy: 0.19 - ETA: 4s - loss: 4.7818 - categorical_accuracy: 0.20 - ETA: 4s - loss: 5.0574 - categorical_accuracy: 0.18 - ETA: 4s - loss: 5.2364 - categorical_accuracy: 0.20 - ETA: 4s - loss: 5.0726 - categorical_accuracy: 0.19 - ETA: 4s - loss: 5.0224 - categorical_accuracy: 0.19 - ETA: 4s - loss: 5.0335 - categorical_accuracy: 0.20 - ETA: 4s - loss: 4.9688 - categorical_accuracy: 0.21 - ETA: 4s - loss: 4.8825 - categorical_accuracy: 0.21 - ETA: 3s - loss: 4.8830 - categorical_accuracy: 0.20 - ETA: 3s - loss: 4.8144 - categorical_accuracy: 0.22 - ETA: 3s - loss: 4.8398 - categorical_accuracy: 0.22 - ETA: 3s - loss: 4.9273 - categorical_accuracy: 0.21 - ETA: 3s - loss: 4.9551 - categorical_accuracy: 0.21 - ETA: 3s - loss: 4.9833 - categorical_accuracy: 0.21 - ETA: 3s - loss: 4.9878 - categorical_accuracy: 0.22 - ETA: 3s - loss: 4.9581 - categorical_accuracy: 0.21 - ETA: 3s - loss: 4.9574 - categorical_accuracy: 0.22 - ETA: 3s - loss: 4.9167 - categorical_accuracy: 0.22 - ETA: 3s - loss: 4.8908 - categorical_accuracy: 0.23 - ETA: 3s - loss: 4.8646 - categorical_accuracy: 0.23 - ETA: 3s - loss: 4.8725 - categorical_accuracy: 0.23 - ETA: 2s - loss: 4.8539 - categorical_accuracy: 0.23 - ETA: 2s - loss: 4.8442 - categorical_accuracy: 0.23 - ETA: 2s - loss: 4.8062 - categorical_accuracy: 0.24 - ETA: 2s - loss: 4.7712 - categorical_accuracy: 0.24 - ETA: 2s - loss: 4.7975 - categorical_accuracy: 0.24 - ETA: 2s - loss: 4.7962 - categorical_accuracy: 0.23 - ETA: 2s - loss: 4.8025 - categorical_accuracy: 0.23 - ETA: 2s - loss: 4.8128 - categorical_accuracy: 0.24 - ETA: 2s - loss: 4.8217 - categorical_accuracy: 0.23 - ETA: 2s - loss: 4.8163 - categorical_accuracy: 0.24 - ETA: 2s - loss: 4.8030 - categorical_accuracy: 0.24 - ETA: 2s - loss: 4.8295 - categorical_accuracy: 0.23 - ETA: 2s - loss: 4.8192 - categorical_accuracy: 0.23 - ETA: 1s - loss: 4.8058 - categorical_accuracy: 0.24 - ETA: 1s - loss: 4.8060 - categorical_accuracy: 0.24 - ETA: 1s - loss: 4.8044 - categorical_accuracy: 0.24 - ETA: 1s - loss: 4.7879 - categorical_accuracy: 0.24 - ETA: 1s - loss: 4.7686 - categorical_accuracy: 0.24 - ETA: 1s - loss: 4.7668 - categorical_accuracy: 0.24 - ETA: 1s - loss: 4.7615 - categorical_accuracy: 0.24 - ETA: 1s - loss: 4.7815 - categorical_accuracy: 0.23 - ETA: 1s - loss: 4.7886 - categorical_accuracy: 0.23 - ETA: 1s - loss: 4.8010 - categorical_accuracy: 0.23 - ETA: 1s - loss: 4.8015 - categorical_accuracy: 0.23 - ETA: 1s - loss: 4.7868 - categorical_accuracy: 0.24 - ETA: 1s - loss: 4.7925 - categorical_accuracy: 0.24 - ETA: 1s - loss: 4.8009 - categorical_accuracy: 0.24 - ETA: 0s - loss: 4.7817 - categorical_accuracy: 0.24 - ETA: 0s - loss: 4.7688 - categorical_accuracy: 0.24 - ETA: 0s - loss: 4.7718 - categorical_accuracy: 0.24 - ETA: 0s - loss: 4.7881 - categorical_accuracy: 0.24 - ETA: 0s - loss: 4.7820 - categorical_accuracy: 0.24 - ETA: 0s - loss: 4.7866 - categorical_accuracy: 0.24 - ETA: 0s - loss: 4.7725 - categorical_accuracy: 0.24 - ETA: 0s - loss: 4.7786 - categorical_accuracy: 0.24 - ETA: 0s - loss: 4.7855 - categorical_accuracy: 0.24 - ETA: 0s - loss: 4.7971 - categorical_accuracy: 0.24 - ETA: 0s - loss: 4.8043 - categorical_accuracy: 0.24 - ETA: 0s - loss: 4.7904 - categorical_accuracy: 0.24 - ETA: 0s - loss: 4.8018 - categorical_accuracy: 0.24 - 5s 74ms/step - loss: 4.8092 - categorical_accuracy: 0.2459 - val_loss: 8.5794 - val_categorical_accuracy: 0.0748\n",
      "Epoch 38/42\n",
      "64/64 [==============================] - ETA: 5s - loss: 4.8006 - categorical_accuracy: 0.31 - ETA: 4s - loss: 4.8840 - categorical_accuracy: 0.26 - ETA: 4s - loss: 5.3103 - categorical_accuracy: 0.25 - ETA: 4s - loss: 5.2515 - categorical_accuracy: 0.26 - ETA: 4s - loss: 5.2553 - categorical_accuracy: 0.25 - ETA: 4s - loss: 5.0324 - categorical_accuracy: 0.26 - ETA: 4s - loss: 5.1916 - categorical_accuracy: 0.25 - ETA: 4s - loss: 5.1632 - categorical_accuracy: 0.25 - ETA: 3s - loss: 5.1322 - categorical_accuracy: 0.24 - ETA: 3s - loss: 4.9791 - categorical_accuracy: 0.24 - ETA: 3s - loss: 4.9869 - categorical_accuracy: 0.25 - ETA: 3s - loss: 4.9220 - categorical_accuracy: 0.24 - ETA: 3s - loss: 4.9113 - categorical_accuracy: 0.24 - ETA: 3s - loss: 4.9663 - categorical_accuracy: 0.24 - ETA: 3s - loss: 4.9699 - categorical_accuracy: 0.24 - ETA: 3s - loss: 5.0085 - categorical_accuracy: 0.25 - ETA: 3s - loss: 5.0832 - categorical_accuracy: 0.25 - ETA: 3s - loss: 5.0195 - categorical_accuracy: 0.25 - ETA: 3s - loss: 4.9832 - categorical_accuracy: 0.25 - ETA: 3s - loss: 4.9425 - categorical_accuracy: 0.26 - ETA: 3s - loss: 4.9011 - categorical_accuracy: 0.26 - ETA: 3s - loss: 4.9277 - categorical_accuracy: 0.25 - ETA: 2s - loss: 4.9125 - categorical_accuracy: 0.25 - ETA: 2s - loss: 4.9430 - categorical_accuracy: 0.26 - ETA: 2s - loss: 4.9234 - categorical_accuracy: 0.26 - ETA: 2s - loss: 4.8820 - categorical_accuracy: 0.26 - ETA: 2s - loss: 4.9110 - categorical_accuracy: 0.26 - ETA: 2s - loss: 4.9054 - categorical_accuracy: 0.26 - ETA: 2s - loss: 4.9106 - categorical_accuracy: 0.26 - ETA: 2s - loss: 4.9062 - categorical_accuracy: 0.26 - ETA: 2s - loss: 4.8991 - categorical_accuracy: 0.26 - ETA: 2s - loss: 4.8728 - categorical_accuracy: 0.25 - ETA: 2s - loss: 4.8816 - categorical_accuracy: 0.26 - ETA: 2s - loss: 4.8797 - categorical_accuracy: 0.26 - ETA: 2s - loss: 4.8733 - categorical_accuracy: 0.26 - ETA: 2s - loss: 4.8635 - categorical_accuracy: 0.26 - ETA: 2s - loss: 4.8762 - categorical_accuracy: 0.26 - ETA: 1s - loss: 4.8769 - categorical_accuracy: 0.26 - ETA: 1s - loss: 4.8965 - categorical_accuracy: 0.26 - ETA: 1s - loss: 4.8763 - categorical_accuracy: 0.25 - ETA: 1s - loss: 4.8585 - categorical_accuracy: 0.25 - ETA: 1s - loss: 4.8453 - categorical_accuracy: 0.26 - ETA: 1s - loss: 4.8231 - categorical_accuracy: 0.26 - ETA: 1s - loss: 4.8167 - categorical_accuracy: 0.25 - ETA: 1s - loss: 4.8005 - categorical_accuracy: 0.25 - ETA: 1s - loss: 4.7872 - categorical_accuracy: 0.26 - ETA: 1s - loss: 4.7867 - categorical_accuracy: 0.25 - ETA: 1s - loss: 4.7845 - categorical_accuracy: 0.25 - ETA: 1s - loss: 4.8017 - categorical_accuracy: 0.25 - ETA: 1s - loss: 4.7995 - categorical_accuracy: 0.25 - ETA: 0s - loss: 4.8036 - categorical_accuracy: 0.25 - ETA: 0s - loss: 4.8199 - categorical_accuracy: 0.25 - ETA: 0s - loss: 4.8128 - categorical_accuracy: 0.25 - ETA: 0s - loss: 4.7974 - categorical_accuracy: 0.25 - ETA: 0s - loss: 4.8115 - categorical_accuracy: 0.25 - ETA: 0s - loss: 4.8091 - categorical_accuracy: 0.25 - ETA: 0s - loss: 4.7933 - categorical_accuracy: 0.25 - ETA: 0s - loss: 4.8069 - categorical_accuracy: 0.25 - ETA: 0s - loss: 4.8032 - categorical_accuracy: 0.25 - ETA: 0s - loss: 4.8153 - categorical_accuracy: 0.25 - ETA: 0s - loss: 4.8257 - categorical_accuracy: 0.25 - ETA: 0s - loss: 4.8158 - categorical_accuracy: 0.25 - ETA: 0s - loss: 4.8219 - categorical_accuracy: 0.25 - 5s 76ms/step - loss: 4.8146 - categorical_accuracy: 0.2575 - val_loss: 7.8745 - val_categorical_accuracy: 0.1495\n",
      "Epoch 39/42\n"
     ]
    },
    {
     "name": "stdout",
     "output_type": "stream",
     "text": [
      "64/64 [==============================] - ETA: 4s - loss: 4.3608 - categorical_accuracy: 0.24 - ETA: 4s - loss: 4.6007 - categorical_accuracy: 0.26 - ETA: 5s - loss: 4.9016 - categorical_accuracy: 0.27 - ETA: 5s - loss: 4.9719 - categorical_accuracy: 0.24 - ETA: 4s - loss: 4.9092 - categorical_accuracy: 0.23 - ETA: 4s - loss: 4.6217 - categorical_accuracy: 0.23 - ETA: 4s - loss: 4.6286 - categorical_accuracy: 0.24 - ETA: 4s - loss: 4.6247 - categorical_accuracy: 0.25 - ETA: 4s - loss: 4.6487 - categorical_accuracy: 0.24 - ETA: 4s - loss: 4.6700 - categorical_accuracy: 0.25 - ETA: 4s - loss: 4.6558 - categorical_accuracy: 0.26 - ETA: 3s - loss: 4.6456 - categorical_accuracy: 0.26 - ETA: 3s - loss: 4.7706 - categorical_accuracy: 0.25 - ETA: 3s - loss: 4.8152 - categorical_accuracy: 0.25 - ETA: 3s - loss: 4.8149 - categorical_accuracy: 0.25 - ETA: 3s - loss: 4.8478 - categorical_accuracy: 0.25 - ETA: 3s - loss: 4.8857 - categorical_accuracy: 0.25 - ETA: 3s - loss: 4.8529 - categorical_accuracy: 0.26 - ETA: 3s - loss: 4.8535 - categorical_accuracy: 0.26 - ETA: 3s - loss: 4.8370 - categorical_accuracy: 0.26 - ETA: 3s - loss: 4.8394 - categorical_accuracy: 0.26 - ETA: 3s - loss: 4.8019 - categorical_accuracy: 0.26 - ETA: 3s - loss: 4.8082 - categorical_accuracy: 0.26 - ETA: 3s - loss: 4.7859 - categorical_accuracy: 0.27 - ETA: 2s - loss: 4.7789 - categorical_accuracy: 0.26 - ETA: 2s - loss: 4.7787 - categorical_accuracy: 0.27 - ETA: 2s - loss: 4.7681 - categorical_accuracy: 0.27 - ETA: 2s - loss: 4.7862 - categorical_accuracy: 0.27 - ETA: 2s - loss: 4.7993 - categorical_accuracy: 0.27 - ETA: 2s - loss: 4.7977 - categorical_accuracy: 0.27 - ETA: 2s - loss: 4.7911 - categorical_accuracy: 0.27 - ETA: 2s - loss: 4.8083 - categorical_accuracy: 0.27 - ETA: 2s - loss: 4.7892 - categorical_accuracy: 0.27 - ETA: 2s - loss: 4.8069 - categorical_accuracy: 0.27 - ETA: 2s - loss: 4.8128 - categorical_accuracy: 0.27 - ETA: 2s - loss: 4.8068 - categorical_accuracy: 0.27 - ETA: 1s - loss: 4.8037 - categorical_accuracy: 0.27 - ETA: 1s - loss: 4.8043 - categorical_accuracy: 0.27 - ETA: 1s - loss: 4.8130 - categorical_accuracy: 0.27 - ETA: 1s - loss: 4.7881 - categorical_accuracy: 0.27 - ETA: 1s - loss: 4.7743 - categorical_accuracy: 0.27 - ETA: 1s - loss: 4.7574 - categorical_accuracy: 0.27 - ETA: 1s - loss: 4.7596 - categorical_accuracy: 0.27 - ETA: 1s - loss: 4.7544 - categorical_accuracy: 0.26 - ETA: 1s - loss: 4.7375 - categorical_accuracy: 0.27 - ETA: 1s - loss: 4.7246 - categorical_accuracy: 0.27 - ETA: 1s - loss: 4.7319 - categorical_accuracy: 0.26 - ETA: 1s - loss: 4.7401 - categorical_accuracy: 0.26 - ETA: 1s - loss: 4.7335 - categorical_accuracy: 0.26 - ETA: 1s - loss: 4.7367 - categorical_accuracy: 0.26 - ETA: 0s - loss: 4.7358 - categorical_accuracy: 0.26 - ETA: 0s - loss: 4.7604 - categorical_accuracy: 0.26 - ETA: 0s - loss: 4.7682 - categorical_accuracy: 0.26 - ETA: 0s - loss: 4.7782 - categorical_accuracy: 0.26 - ETA: 0s - loss: 4.7787 - categorical_accuracy: 0.26 - ETA: 0s - loss: 4.7804 - categorical_accuracy: 0.26 - ETA: 0s - loss: 4.7701 - categorical_accuracy: 0.26 - ETA: 0s - loss: 4.7813 - categorical_accuracy: 0.26 - ETA: 0s - loss: 4.7799 - categorical_accuracy: 0.26 - ETA: 0s - loss: 4.7971 - categorical_accuracy: 0.26 - ETA: 0s - loss: 4.8085 - categorical_accuracy: 0.26 - ETA: 0s - loss: 4.7997 - categorical_accuracy: 0.26 - ETA: 0s - loss: 4.7924 - categorical_accuracy: 0.26 - 5s 74ms/step - loss: 4.7900 - categorical_accuracy: 0.2685 - val_loss: 9.1298 - val_categorical_accuracy: 0.0935\n",
      "Epoch 40/42\n",
      "64/64 [==============================] - ETA: 4s - loss: 5.1728 - categorical_accuracy: 0.33 - ETA: 4s - loss: 4.7950 - categorical_accuracy: 0.33 - ETA: 4s - loss: 4.7395 - categorical_accuracy: 0.30 - ETA: 4s - loss: 4.5005 - categorical_accuracy: 0.29 - ETA: 4s - loss: 4.4776 - categorical_accuracy: 0.29 - ETA: 4s - loss: 4.4460 - categorical_accuracy: 0.27 - ETA: 4s - loss: 4.4992 - categorical_accuracy: 0.28 - ETA: 4s - loss: 4.4654 - categorical_accuracy: 0.29 - ETA: 4s - loss: 4.4818 - categorical_accuracy: 0.29 - ETA: 3s - loss: 4.4851 - categorical_accuracy: 0.28 - ETA: 3s - loss: 4.4263 - categorical_accuracy: 0.28 - ETA: 3s - loss: 4.4049 - categorical_accuracy: 0.28 - ETA: 3s - loss: 4.4491 - categorical_accuracy: 0.28 - ETA: 3s - loss: 4.5510 - categorical_accuracy: 0.28 - ETA: 3s - loss: 4.5529 - categorical_accuracy: 0.29 - ETA: 3s - loss: 4.6193 - categorical_accuracy: 0.28 - ETA: 3s - loss: 4.7283 - categorical_accuracy: 0.28 - ETA: 3s - loss: 4.7216 - categorical_accuracy: 0.28 - ETA: 3s - loss: 4.6985 - categorical_accuracy: 0.28 - ETA: 3s - loss: 4.6573 - categorical_accuracy: 0.29 - ETA: 3s - loss: 4.6266 - categorical_accuracy: 0.29 - ETA: 3s - loss: 4.6380 - categorical_accuracy: 0.29 - ETA: 2s - loss: 4.6264 - categorical_accuracy: 0.29 - ETA: 2s - loss: 4.6478 - categorical_accuracy: 0.28 - ETA: 2s - loss: 4.5880 - categorical_accuracy: 0.29 - ETA: 2s - loss: 4.5599 - categorical_accuracy: 0.29 - ETA: 2s - loss: 4.5524 - categorical_accuracy: 0.29 - ETA: 2s - loss: 4.5954 - categorical_accuracy: 0.29 - ETA: 2s - loss: 4.5607 - categorical_accuracy: 0.29 - ETA: 2s - loss: 4.5695 - categorical_accuracy: 0.29 - ETA: 2s - loss: 4.5794 - categorical_accuracy: 0.29 - ETA: 2s - loss: 4.5678 - categorical_accuracy: 0.29 - ETA: 2s - loss: 4.5529 - categorical_accuracy: 0.29 - ETA: 2s - loss: 4.5464 - categorical_accuracy: 0.29 - ETA: 2s - loss: 4.5619 - categorical_accuracy: 0.29 - ETA: 2s - loss: 4.5664 - categorical_accuracy: 0.29 - ETA: 2s - loss: 4.5649 - categorical_accuracy: 0.29 - ETA: 1s - loss: 4.5700 - categorical_accuracy: 0.29 - ETA: 1s - loss: 4.5970 - categorical_accuracy: 0.29 - ETA: 1s - loss: 4.5858 - categorical_accuracy: 0.29 - ETA: 1s - loss: 4.5937 - categorical_accuracy: 0.29 - ETA: 1s - loss: 4.5788 - categorical_accuracy: 0.29 - ETA: 1s - loss: 4.5904 - categorical_accuracy: 0.28 - ETA: 1s - loss: 4.5783 - categorical_accuracy: 0.28 - ETA: 1s - loss: 4.5794 - categorical_accuracy: 0.28 - ETA: 1s - loss: 4.5837 - categorical_accuracy: 0.28 - ETA: 1s - loss: 4.6018 - categorical_accuracy: 0.28 - ETA: 1s - loss: 4.5972 - categorical_accuracy: 0.29 - ETA: 1s - loss: 4.6129 - categorical_accuracy: 0.28 - ETA: 1s - loss: 4.6007 - categorical_accuracy: 0.28 - ETA: 0s - loss: 4.6040 - categorical_accuracy: 0.28 - ETA: 0s - loss: 4.5955 - categorical_accuracy: 0.28 - ETA: 0s - loss: 4.6023 - categorical_accuracy: 0.29 - ETA: 0s - loss: 4.6098 - categorical_accuracy: 0.28 - ETA: 0s - loss: 4.6108 - categorical_accuracy: 0.28 - ETA: 0s - loss: 4.6087 - categorical_accuracy: 0.29 - ETA: 0s - loss: 4.5982 - categorical_accuracy: 0.29 - ETA: 0s - loss: 4.6064 - categorical_accuracy: 0.29 - ETA: 0s - loss: 4.5966 - categorical_accuracy: 0.29 - ETA: 0s - loss: 4.6142 - categorical_accuracy: 0.29 - ETA: 0s - loss: 4.6253 - categorical_accuracy: 0.29 - ETA: 0s - loss: 4.6279 - categorical_accuracy: 0.29 - ETA: 0s - loss: 4.6248 - categorical_accuracy: 0.29 - 5s 81ms/step - loss: 4.6321 - categorical_accuracy: 0.2940 - val_loss: 8.7573 - val_categorical_accuracy: 0.0654\n",
      "Epoch 41/42\n"
     ]
    },
    {
     "name": "stdout",
     "output_type": "stream",
     "text": [
      "64/64 [==============================] - ETA: 4s - loss: 4.9977 - categorical_accuracy: 0.33 - ETA: 4s - loss: 5.0458 - categorical_accuracy: 0.31 - ETA: 4s - loss: 4.8800 - categorical_accuracy: 0.30 - ETA: 4s - loss: 4.8938 - categorical_accuracy: 0.31 - ETA: 4s - loss: 4.9644 - categorical_accuracy: 0.29 - ETA: 4s - loss: 4.8032 - categorical_accuracy: 0.29 - ETA: 4s - loss: 4.8456 - categorical_accuracy: 0.29 - ETA: 4s - loss: 4.6974 - categorical_accuracy: 0.29 - ETA: 4s - loss: 4.7487 - categorical_accuracy: 0.29 - ETA: 4s - loss: 4.6822 - categorical_accuracy: 0.29 - ETA: 4s - loss: 4.6221 - categorical_accuracy: 0.28 - ETA: 4s - loss: 4.6034 - categorical_accuracy: 0.29 - ETA: 3s - loss: 4.6073 - categorical_accuracy: 0.28 - ETA: 3s - loss: 4.6029 - categorical_accuracy: 0.28 - ETA: 3s - loss: 4.7060 - categorical_accuracy: 0.28 - ETA: 3s - loss: 4.6936 - categorical_accuracy: 0.28 - ETA: 3s - loss: 4.7294 - categorical_accuracy: 0.27 - ETA: 3s - loss: 4.6629 - categorical_accuracy: 0.28 - ETA: 3s - loss: 4.6394 - categorical_accuracy: 0.28 - ETA: 3s - loss: 4.6246 - categorical_accuracy: 0.28 - ETA: 3s - loss: 4.6190 - categorical_accuracy: 0.28 - ETA: 3s - loss: 4.6202 - categorical_accuracy: 0.27 - ETA: 3s - loss: 4.6422 - categorical_accuracy: 0.28 - ETA: 3s - loss: 4.6928 - categorical_accuracy: 0.27 - ETA: 3s - loss: 4.6457 - categorical_accuracy: 0.28 - ETA: 3s - loss: 4.6230 - categorical_accuracy: 0.28 - ETA: 2s - loss: 4.6216 - categorical_accuracy: 0.28 - ETA: 2s - loss: 4.6412 - categorical_accuracy: 0.28 - ETA: 2s - loss: 4.6051 - categorical_accuracy: 0.28 - ETA: 2s - loss: 4.6196 - categorical_accuracy: 0.28 - ETA: 2s - loss: 4.6678 - categorical_accuracy: 0.28 - ETA: 2s - loss: 4.6600 - categorical_accuracy: 0.27 - ETA: 2s - loss: 4.6421 - categorical_accuracy: 0.27 - ETA: 2s - loss: 4.6553 - categorical_accuracy: 0.27 - ETA: 2s - loss: 4.6493 - categorical_accuracy: 0.27 - ETA: 2s - loss: 4.6431 - categorical_accuracy: 0.27 - ETA: 2s - loss: 4.6248 - categorical_accuracy: 0.27 - ETA: 2s - loss: 4.5987 - categorical_accuracy: 0.27 - ETA: 2s - loss: 4.6174 - categorical_accuracy: 0.27 - ETA: 1s - loss: 4.6032 - categorical_accuracy: 0.28 - ETA: 1s - loss: 4.6029 - categorical_accuracy: 0.28 - ETA: 1s - loss: 4.6024 - categorical_accuracy: 0.27 - ETA: 1s - loss: 4.6228 - categorical_accuracy: 0.27 - ETA: 1s - loss: 4.6185 - categorical_accuracy: 0.27 - ETA: 1s - loss: 4.6093 - categorical_accuracy: 0.27 - ETA: 1s - loss: 4.5985 - categorical_accuracy: 0.27 - ETA: 1s - loss: 4.6147 - categorical_accuracy: 0.27 - ETA: 1s - loss: 4.6074 - categorical_accuracy: 0.27 - ETA: 1s - loss: 4.5909 - categorical_accuracy: 0.27 - ETA: 1s - loss: 4.5794 - categorical_accuracy: 0.27 - ETA: 1s - loss: 4.5700 - categorical_accuracy: 0.27 - ETA: 0s - loss: 4.5710 - categorical_accuracy: 0.27 - ETA: 0s - loss: 4.5721 - categorical_accuracy: 0.27 - ETA: 0s - loss: 4.5724 - categorical_accuracy: 0.28 - ETA: 0s - loss: 4.5512 - categorical_accuracy: 0.28 - ETA: 0s - loss: 4.5556 - categorical_accuracy: 0.28 - ETA: 0s - loss: 4.5467 - categorical_accuracy: 0.28 - ETA: 0s - loss: 4.5479 - categorical_accuracy: 0.28 - ETA: 0s - loss: 4.5463 - categorical_accuracy: 0.28 - ETA: 0s - loss: 4.5592 - categorical_accuracy: 0.28 - ETA: 0s - loss: 4.5715 - categorical_accuracy: 0.28 - ETA: 0s - loss: 4.5627 - categorical_accuracy: 0.28 - ETA: 0s - loss: 4.5727 - categorical_accuracy: 0.28 - 5s 82ms/step - loss: 4.5603 - categorical_accuracy: 0.2839 - val_loss: 9.4616 - val_categorical_accuracy: 0.1028\n",
      "Epoch 42/42\n",
      "64/64 [==============================] - ETA: 4s - loss: 4.1611 - categorical_accuracy: 0.35 - ETA: 4s - loss: 4.3008 - categorical_accuracy: 0.29 - ETA: 4s - loss: 4.1713 - categorical_accuracy: 0.29 - ETA: 4s - loss: 4.2028 - categorical_accuracy: 0.30 - ETA: 4s - loss: 4.2774 - categorical_accuracy: 0.30 - ETA: 4s - loss: 4.0678 - categorical_accuracy: 0.30 - ETA: 4s - loss: 4.2242 - categorical_accuracy: 0.29 - ETA: 4s - loss: 4.2696 - categorical_accuracy: 0.28 - ETA: 4s - loss: 4.2832 - categorical_accuracy: 0.29 - ETA: 4s - loss: 4.2722 - categorical_accuracy: 0.30 - ETA: 4s - loss: 4.2449 - categorical_accuracy: 0.30 - ETA: 4s - loss: 4.2763 - categorical_accuracy: 0.30 - ETA: 3s - loss: 4.2967 - categorical_accuracy: 0.30 - ETA: 3s - loss: 4.3956 - categorical_accuracy: 0.30 - ETA: 3s - loss: 4.3652 - categorical_accuracy: 0.30 - ETA: 3s - loss: 4.3566 - categorical_accuracy: 0.30 - ETA: 3s - loss: 4.4725 - categorical_accuracy: 0.30 - ETA: 3s - loss: 4.4035 - categorical_accuracy: 0.30 - ETA: 3s - loss: 4.3550 - categorical_accuracy: 0.30 - ETA: 3s - loss: 4.3980 - categorical_accuracy: 0.31 - ETA: 3s - loss: 4.3611 - categorical_accuracy: 0.31 - ETA: 3s - loss: 4.3499 - categorical_accuracy: 0.30 - ETA: 3s - loss: 4.3524 - categorical_accuracy: 0.30 - ETA: 3s - loss: 4.3782 - categorical_accuracy: 0.30 - ETA: 3s - loss: 4.3694 - categorical_accuracy: 0.30 - ETA: 3s - loss: 4.3343 - categorical_accuracy: 0.30 - ETA: 3s - loss: 4.3173 - categorical_accuracy: 0.30 - ETA: 3s - loss: 4.3216 - categorical_accuracy: 0.30 - ETA: 3s - loss: 4.3097 - categorical_accuracy: 0.30 - ETA: 3s - loss: 4.3254 - categorical_accuracy: 0.30 - ETA: 3s - loss: 4.3323 - categorical_accuracy: 0.30 - ETA: 3s - loss: 4.3280 - categorical_accuracy: 0.30 - ETA: 3s - loss: 4.3119 - categorical_accuracy: 0.30 - ETA: 3s - loss: 4.3034 - categorical_accuracy: 0.31 - ETA: 2s - loss: 4.3236 - categorical_accuracy: 0.30 - ETA: 2s - loss: 4.3403 - categorical_accuracy: 0.30 - ETA: 2s - loss: 4.3241 - categorical_accuracy: 0.30 - ETA: 2s - loss: 4.3279 - categorical_accuracy: 0.30 - ETA: 2s - loss: 4.3439 - categorical_accuracy: 0.30 - ETA: 2s - loss: 4.3465 - categorical_accuracy: 0.30 - ETA: 2s - loss: 4.3512 - categorical_accuracy: 0.30 - ETA: 2s - loss: 4.3491 - categorical_accuracy: 0.30 - ETA: 2s - loss: 4.3490 - categorical_accuracy: 0.30 - ETA: 2s - loss: 4.3415 - categorical_accuracy: 0.30 - ETA: 1s - loss: 4.3387 - categorical_accuracy: 0.30 - ETA: 1s - loss: 4.3483 - categorical_accuracy: 0.30 - ETA: 1s - loss: 4.3555 - categorical_accuracy: 0.29 - ETA: 1s - loss: 4.3583 - categorical_accuracy: 0.29 - ETA: 1s - loss: 4.3360 - categorical_accuracy: 0.30 - ETA: 1s - loss: 4.3219 - categorical_accuracy: 0.30 - ETA: 1s - loss: 4.3009 - categorical_accuracy: 0.30 - ETA: 1s - loss: 4.3111 - categorical_accuracy: 0.30 - ETA: 1s - loss: 4.3204 - categorical_accuracy: 0.30 - ETA: 0s - loss: 4.3437 - categorical_accuracy: 0.29 - ETA: 0s - loss: 4.3389 - categorical_accuracy: 0.29 - ETA: 0s - loss: 4.3369 - categorical_accuracy: 0.30 - ETA: 0s - loss: 4.3244 - categorical_accuracy: 0.30 - ETA: 0s - loss: 4.3322 - categorical_accuracy: 0.29 - ETA: 0s - loss: 4.3314 - categorical_accuracy: 0.30 - ETA: 0s - loss: 4.3311 - categorical_accuracy: 0.30 - ETA: 0s - loss: 4.3316 - categorical_accuracy: 0.30 - ETA: 0s - loss: 4.3406 - categorical_accuracy: 0.30 - ETA: 0s - loss: 4.3446 - categorical_accuracy: 0.29 - 6s 96ms/step - loss: 4.3508 - categorical_accuracy: 0.2992 - val_loss: 8.8809 - val_categorical_accuracy: 0.0841\n"
     ]
    }
   ],
   "source": [
    "history = model.fit_generator(r.batch_iterator(r.train_recipes, batch_size=batch_size), \n",
    "                              epochs=epochs, \n",
    "                              steps_per_epoch=r.get_batch_count(r.train_recipes, batch_size), \n",
    "                              validation_data=r.batch_iterator(r.test_recipes, batch_size=valid_batch_size), \n",
    "                              validation_steps=r.get_batch_count(r.test_recipes, valid_batch_size),\n",
    "                              #callbacks=[tensorboard_callback]\n",
    "                             )"
   ]
  },
  {
   "cell_type": "code",
   "execution_count": 564,
   "metadata": {},
   "outputs": [
    {
     "data": {
      "text/plain": [
       "['น้ำ', 'น้ำตาล']"
      ]
     },
     "execution_count": 564,
     "metadata": {},
     "output_type": "execute_result"
    }
   ],
   "source": [
    "# r.match_ingr('น้ำตาลทราย')"
   ]
  },
  {
   "cell_type": "code",
   "execution_count": 33,
   "metadata": {},
   "outputs": [],
   "source": [
    "def no_overlap(item, s):\n",
    "    for k in s:\n",
    "        if item in k or k in item:\n",
    "            return False\n",
    "    return True"
   ]
  },
  {
   "cell_type": "code",
   "execution_count": 44,
   "metadata": {
    "scrolled": true
   },
   "outputs": [
    {
     "name": "stdout",
     "output_type": "stream",
     "text": [
      "['ซีอิ้วขาว', 'ผงปรุงรส', 'หมูสับ', 'น้ำตาล'] -->\n",
      "\n",
      "น้ำมันหอย | 0.567 | .\n",
      "พริกแกงใต้ | 0.274 | .\n",
      "ซีอิ้วดำ | 0.266 | .\n",
      "ผักชี | 0.194 | .\n",
      "กระเทียม | 0.169 | .\n",
      "เต้าหู้ไข่ | 0.157 | .\n",
      "ต้นหอม | 0.082 | .\n",
      "ซี่โครงหมู | 0.079 | .\n",
      "ซอสหอยนางรม | 0.067 | .\n",
      "มะระ | 0.066 | .\n",
      "ผักกาดดอง | 0.064 | .\n",
      "เห็ดออรินจิสับ | 0.034 | .\n",
      "น้ำมัน | 0.034 | .\n",
      "พริกไทยบดหยาบ | 0.030 | .\n",
      "พริกไทยป่น | 0.029 | .\n",
      "เห็ดหอม | 0.028 | .\n"
     ]
    }
   ],
   "source": [
    "# i = r.labels_to_batch(['หมูสับ', 'ไข่ไก่', 'เกลือ'])\n",
    "# i = r.labels_to_batch(['น้ำมัน', 'ผงปรุงรส', 'คะน้าฮ่องกง'])\n",
    "\n",
    "i = r.labels_to_batch(['ซีอิ้วขาว', 'ผงปรุงรส', 'หมูสับ', 'น้ำตาล'])\n",
    "# i = r.labels_to_batch(['ซีอิ้วขาว', 'ผงปรุงรส', 'หมูสับ', 'น้ำตาล', 'เต้าหู้ไข่'])\n",
    "# i = r.labels_to_batch(['ซีอิ้วขาว', 'ผงปรุงรส', 'หมูสับ', 'น้ำตาล', 'เต้าหู้ไข่', 'ต้นหอมซอย'])\n",
    "p = model.predict_on_batch(i)\n",
    "_, hr = r.onehot_to_hr_recipe(i[0]) \n",
    "\n",
    "print(hr, '-->\\n')\n",
    "\n",
    "n = 16\n",
    "added_ingr = list(reversed(r.ingredients[np.argsort(p[0])[-n:]]))\n",
    "added_ingr_p = list(reversed(p[0].numpy()[np.argsort(p[0])[-n:]]))\n",
    "\n",
    "n_c = 0\n",
    "for ingr, p in zip(added_ingr, added_ingr_p):\n",
    "    no_overlap_ = no_overlap(ingr, set(hr))\n",
    "    print(('' if no_overlap_ else '(')+ingr+('' if no_overlap_ else ')'), '|', str(p)[:5], '|', '.')\n",
    "    #if no_overlap_: n_c += 1\n",
    "    #if n_c > 6: break"
   ]
  },
  {
   "cell_type": "code",
   "execution_count": 35,
   "metadata": {},
   "outputs": [
    {
     "name": "stdout",
     "output_type": "stream",
     "text": [
      "(6, ['ซีอิ้วขาว', 'ผงปรุงรส', 'หมูสับ', 'น้ำตาล', 'เต้าหู้ไข่', 'ต้นหอมซอย'])\n",
      "(1, ['พริกไทย'])\n"
     ]
    }
   ],
   "source": [
    "g = r.batch_iterator(r.train_recipes, 1)\n",
    "x, y = g.__next__()\n",
    "# print(x)\n",
    "# print(y)\n",
    "# i = random.randint(0, 199)\n",
    "print(r.onehot_to_hr_recipe(x[0]))\n",
    "# # print()\n",
    "print(r.onehot_to_hr_recipe(y[0]))"
   ]
  },
  {
   "cell_type": "code",
   "execution_count": 53,
   "metadata": {},
   "outputs": [
    {
     "name": "stdout",
     "output_type": "stream",
     "text": [
      "(9, ['มะนาว', 'ไข่เยี่ยวม้า', 'น้ำตาล', 'น้ำปลา', 'หอมใหญ่', 'มะเขือเทส', 'พริกขี้หนูซอย', 'ตั้งโอ๋', 'แตงกวา'])\n",
      "(1, ['เนื้อเชียง'])\n",
      "กระเทียม | 0.829 | .\n",
      "หมูสับ | 0.256 | .\n",
      "ผักชี | 0.179 | .\n",
      "ไก่สับ | 0.174 | .\n",
      "ซีอิ้วดำ | 0.167 | .\n",
      "(ตั้งโอ๋) | 0.162 | .\n",
      "น้ำมัน | 0.116 | .\n",
      "เต้าหู้ไข่ | 0.099 | .\n",
      "ผักกาดขาว | 0.088 | .\n",
      "ซี่โครงหมู | 0.082 | .\n",
      "ไข่ไก่ | 0.073 | .\n",
      "เห็ดหอม | 0.072 | .\n",
      "ต้นหอม | 0.065 | .\n",
      "ข้าวต้ม | 0.046 | .\n",
      "(ไข่) | 0.043 | .\n",
      "ผักบุ้ง | 0.042 | .\n"
     ]
    }
   ],
   "source": [
    "g = r.batch_iterator(r.train_recipes, 200)\n",
    "x, y = g.__next__()\n",
    "i = random.randint(0, 199)\n",
    "print(r.onehot_to_hr_recipe(x[i]))\n",
    "print(r.onehot_to_hr_recipe(y[i]))\n",
    "p = model.predict_on_batch(x)\n",
    "_, hr = r.onehot_to_hr_recipe(x[i])\n",
    "n = 16\n",
    "added_ingr = list(reversed(r.ingredients[np.argsort(p[0])[-n:]]))\n",
    "added_ingr_p = list(reversed(p[0].numpy()[np.argsort(p[0])[-n:]]))\n",
    "\n",
    "n_c = 0\n",
    "for ingr, p in zip(added_ingr, added_ingr_p):\n",
    "    no_overlap_ = no_overlap(ingr, set(hr))\n",
    "    print(('' if no_overlap_ else '(')+ingr+('' if no_overlap_ else ')'), '|', str(p)[:5], '|', '.')"
   ]
  },
  {
   "cell_type": "code",
   "execution_count": 54,
   "metadata": {},
   "outputs": [
    {
     "name": "stdout",
     "output_type": "stream",
     "text": [
      "(5, ['เกลือ', 'ขนมเข่งหั่นบาง', 'ไข่', 'น้ำมันสำหรับทอด', 'แป้งทอดกรอบ'])\n",
      "(1, ['น้ำสะอาด'])\n",
      "กระเทียม | 0.864 | .\n",
      "ซีอิ้วดำ | 0.345 | .\n",
      "ผักชี | 0.318 | .\n",
      "ซอสหอยนางรม | 0.297 | .\n",
      "(เกลือ) | 0.239 | .\n",
      "ต้นหอม | 0.196 | .\n",
      "(น้ำมัน) | 0.163 | .\n",
      "(เต้าหู้ไข่) | 0.115 | .\n",
      "ไชเท้า | 0.092 | .\n",
      "น้ำมันหอย | 0.080 | .\n",
      "ซี่โครงหมู | 0.079 | .\n",
      "แครอท | 0.072 | .\n",
      "ผักกาดหอม | 0.057 | .\n",
      "เห็ดหอม | 0.056 | .\n",
      "คนอร์ซอส | 0.050 | .\n",
      "น้ำปลา | 0.048 | .\n"
     ]
    }
   ],
   "source": [
    "g = r.batch_iterator(r.train_recipes, 200)\n",
    "x, y = g.__next__()\n",
    "i = random.randint(0, 199)\n",
    "print(r.onehot_to_hr_recipe(x[i]))\n",
    "print(r.onehot_to_hr_recipe(y[i]))\n",
    "p = model.predict_on_batch(x)\n",
    "_, hr = r.onehot_to_hr_recipe(x[i])\n",
    "n = 16\n",
    "added_ingr = list(reversed(r.ingredients[np.argsort(p[0])[-n:]]))\n",
    "added_ingr_p = list(reversed(p[0].numpy()[np.argsort(p[0])[-n:]]))\n",
    "\n",
    "n_c = 0\n",
    "for ingr, p in zip(added_ingr, added_ingr_p):\n",
    "    no_overlap_ = no_overlap(ingr, set(hr))\n",
    "    print(('' if no_overlap_ else '(')+ingr+('' if no_overlap_ else ')'), '|', str(p)[:5], '|', '.')"
   ]
  },
  {
   "cell_type": "code",
   "execution_count": 55,
   "metadata": {},
   "outputs": [
    {
     "name": "stdout",
     "output_type": "stream",
     "text": [
      "-----------\n",
      "(14, ['ชุดต้มตุ๋น', 'เกลือ', 'ซอสปรุงรส', 'กระเทียม', 'น้ำสะอาด', 'ผงปรุงรส', 'มะนาว', 'น้ำตาล', 'ซีอิ้วดำ', 'น้ำปลา', 'ผักชี', 'พริกขี้หนูตำ', 'พริกไทยป่น', 'ตีนไก่'])\n",
      "(1, ['ผักชี'])\n",
      "(กระเทียม) | 0.864 | .\n",
      "(ซีอิ้วดำ) | 0.345 | .\n",
      "(ผักชี) | 0.318 | .\n",
      "ซอสหอยนางรม | 0.297 | .\n",
      "(เกลือ) | 0.239 | .\n",
      "ต้นหอม | 0.196 | .\n",
      "น้ำมัน | 0.163 | .\n",
      "เต้าหู้ไข่ | 0.115 | .\n",
      "ไชเท้า | 0.092 | .\n",
      "น้ำมันหอย | 0.080 | .\n",
      "ซี่โครงหมู | 0.079 | .\n",
      "แครอท | 0.072 | .\n",
      "ผักกาดหอม | 0.057 | .\n",
      "เห็ดหอม | 0.056 | .\n",
      "คนอร์ซอส | 0.050 | .\n",
      "(น้ำปลา) | 0.048 | .\n",
      "-----------\n",
      "(12, ['ต้นหอม', 'น้ำพริกเผา', 'กุ้ง', 'น้ำเปล่า', 'กระเทียม', 'ไข่เค็ม', 'นมสดรสจืด หรือ คาเนชั่น', 'พริกชี้ฟ้าแดง', 'น้ำมันหอย', 'น้ำตาล', 'น้ำปลา', 'ขึ้นฉ่าย'])\n",
      "(2, ['หอมใหญ่', 'ปลาหมึก'])\n",
      "(กระเทียม) | 0.401 | .\n",
      "เต้าหู้ไข่ | 0.214 | .\n",
      "ซี่โครงหมู | 0.192 | .\n",
      "ผักชี | 0.182 | .\n",
      "ซีอิ้วดำ | 0.168 | .\n",
      "(น้ำมันหอย) | 0.158 | .\n",
      "ซอสหอยนางรม | 0.134 | .\n",
      "(ต้นหอม) | 0.113 | .\n",
      "ผักจิงจูไฉ่ | 0.097 | .\n",
      "พริกแกงใต้ | 0.055 | .\n",
      "ผักกาดดอง | 0.054 | .\n",
      "เกลือ | 0.054 | .\n",
      "(ต้นหอมซอย) | 0.054 | .\n",
      "มะระ | 0.052 | .\n",
      "(น้ำมัน) | 0.052 | .\n",
      "พริกไทยบดหยาบ | 0.047 | .\n",
      "-----------\n",
      "(6, ['หนำเลี๊ยบ', 'กระเทียม', 'ข้าวสวย', 'หมูสับ', 'พริกไทย', 'ต้นหอมซอย'])\n",
      "(1, ['น้ำปลา'])\n",
      "(กระเทียม) | 0.892 | .\n",
      "ซอสหอยนางรม | 0.458 | .\n",
      "คนอร์ซอส | 0.287 | .\n",
      "ผักชี | 0.268 | .\n",
      "ซีอิ้วดำ | 0.243 | .\n",
      "(ต้นหอม) | 0.206 | .\n",
      "ผักกาดขาว | 0.128 | .\n",
      "เกลอ | 0.101 | .\n",
      "สลัดครีม | 0.090 | .\n",
      "ไข่ไก่ | 0.081 | .\n",
      "น้ำปลา | 0.068 | .\n",
      "เกลือ | 0.060 | .\n",
      "น้ำมันปาล์ม | 0.054 | .\n",
      "ไข่เจียว | 0.054 | .\n",
      "เต้าหู้ไข่ | 0.052 | .\n",
      "คนอร์หมู | 0.051 | .\n",
      "-----------\n",
      "(10, ['กระดูกอ่อน', 'ข้าวโพดอ่อน', 'กระเทียม', 'ผักกาดขาว', 'ไข่ไก่', 'คื่นไช้', 'เห็ด', 'ผักชี', 'ผักบุ้ง', 'พริกเขียว'])\n",
      "(1, ['วุ้นเส้น'])\n",
      "น้ำปลา | 0.700 | .\n",
      "ซีอิ้วขาว | 0.580 | .\n",
      "(กระเทียม) | 0.281 | .\n",
      "เกลือ | 0.215 | .\n",
      "ซอสปรุงรส | 0.205 | .\n",
      "น้ำมัน | 0.198 | .\n",
      "คนอร์ซอส | 0.147 | .\n",
      "(ผักกาดขาว) | 0.134 | .\n",
      "ไชเท้า | 0.114 | .\n",
      "(ผักชี) | 0.088 | .\n",
      "แครอท | 0.076 | .\n",
      "หมูสับ | 0.073 | .\n",
      "ต้นหอม | 0.071 | .\n",
      "ซีอิ้วดำ | 0.069 | .\n",
      "ซอสหอยนางรม | 0.058 | .\n",
      "น้ำมันงา | 0.046 | .\n",
      "-----------\n",
      "(6, ['กระเพรา', 'กระเทียม', 'กระชาย', 'ใบมะกรูด', 'ปลาหมึก', 'พริกไทอ่อน'])\n",
      "(2, ['พริกชี้ฟ้า', 'พริกขี้หนู'])\n",
      "(กระเทียม) | 0.401 | .\n",
      "เต้าหู้ไข่ | 0.214 | .\n",
      "ซี่โครงหมู | 0.192 | .\n",
      "ผักชี | 0.182 | .\n",
      "ซีอิ้วดำ | 0.168 | .\n",
      "น้ำมันหอย | 0.158 | .\n",
      "ซอสหอยนางรม | 0.134 | .\n",
      "ต้นหอม | 0.113 | .\n",
      "ผักจิงจูไฉ่ | 0.097 | .\n",
      "พริกแกงใต้ | 0.055 | .\n",
      "ผักกาดดอง | 0.054 | .\n",
      "เกลือ | 0.054 | .\n",
      "ต้นหอมซอย | 0.054 | .\n",
      "มะระ | 0.052 | .\n",
      "น้ำมัน | 0.052 | .\n",
      "พริกไทยบดหยาบ | 0.047 | .\n"
     ]
    }
   ],
   "source": [
    "for _ in range(5):\n",
    "    print('-----------')\n",
    "    g = r.batch_iterator(r.train_recipes, 200)\n",
    "    x, y = g.__next__()\n",
    "    i = random.randint(0, 199)\n",
    "    print(r.onehot_to_hr_recipe(x[i]))\n",
    "    print(r.onehot_to_hr_recipe(y[i]))\n",
    "    p = model.predict_on_batch(x)\n",
    "    _, hr = r.onehot_to_hr_recipe(x[i])\n",
    "    n = 16\n",
    "    added_ingr = list(reversed(r.ingredients[np.argsort(p[0])[-n:]]))\n",
    "    added_ingr_p = list(reversed(p[0].numpy()[np.argsort(p[0])[-n:]]))\n",
    "\n",
    "    n_c = 0\n",
    "    for ingr, p in zip(added_ingr, added_ingr_p):\n",
    "        no_overlap_ = no_overlap(ingr, set(hr))\n",
    "        print(('' if no_overlap_ else '(')+ingr+('' if no_overlap_ else ')'), '|', str(p)[:5], '|', '.')"
   ]
  },
  {
   "cell_type": "code",
   "execution_count": 49,
   "metadata": {},
   "outputs": [],
   "source": [
    "p = model.predict_on_batch(x)\n",
    "# p"
   ]
  },
  {
   "cell_type": "code",
   "execution_count": 50,
   "metadata": {},
   "outputs": [],
   "source": [
    "_, hr = r.onehot_to_hr_recipe(x[0])"
   ]
  },
  {
   "cell_type": "code",
   "execution_count": 51,
   "metadata": {},
   "outputs": [
    {
     "name": "stdout",
     "output_type": "stream",
     "text": [
      "กระเทียม | 0.864 | .\n",
      "ซีอิ้วดำ | 0.345 | .\n",
      "ผักชี | 0.318 | .\n",
      "ซอสหอยนางรม | 0.297 | .\n",
      "เกลือ | 0.239 | .\n",
      "ต้นหอม | 0.196 | .\n",
      "น้ำมัน | 0.163 | .\n",
      "(เต้าหู้ไข่) | 0.115 | .\n",
      "ไชเท้า | 0.092 | .\n",
      "น้ำมันหอย | 0.080 | .\n",
      "ซี่โครงหมู | 0.079 | .\n",
      "แครอท | 0.072 | .\n",
      "ผักกาดหอม | 0.057 | .\n",
      "เห็ดหอม | 0.056 | .\n",
      "คนอร์ซอส | 0.050 | .\n",
      "น้ำปลา | 0.048 | .\n"
     ]
    }
   ],
   "source": [
    "n = 16\n",
    "added_ingr = list(reversed(r.ingredients[np.argsort(p[0])[-n:]]))\n",
    "added_ingr_p = list(reversed(p[0].numpy()[np.argsort(p[0])[-n:]]))\n",
    "\n",
    "n_c = 0\n",
    "for ingr, p in zip(added_ingr, added_ingr_p):\n",
    "    no_overlap_ = no_overlap(ingr, set(hr))\n",
    "    print(('' if no_overlap_ else '(')+ingr+('' if no_overlap_ else ')'), '|', str(p)[:5], '|', '.')"
   ]
  },
  {
   "cell_type": "code",
   "execution_count": null,
   "metadata": {},
   "outputs": [],
   "source": []
  }
 ],
 "metadata": {
  "kernelspec": {
   "display_name": "Python 3",
   "language": "python",
   "name": "python3"
  },
  "language_info": {
   "codemirror_mode": {
    "name": "ipython",
    "version": 3
   },
   "file_extension": ".py",
   "mimetype": "text/x-python",
   "name": "python",
   "nbconvert_exporter": "python",
   "pygments_lexer": "ipython3",
   "version": "3.7.3"
  }
 },
 "nbformat": 4,
 "nbformat_minor": 2
}
